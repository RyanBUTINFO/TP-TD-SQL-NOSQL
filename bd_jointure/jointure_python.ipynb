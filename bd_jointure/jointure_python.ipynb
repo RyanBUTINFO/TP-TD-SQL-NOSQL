{
 "cells": [
  {
   "cell_type": "markdown",
   "metadata": {},
   "source": [
    "algorithmes pour la jointure : \n",
    "\n",
    "- Jointure par une bouble imbriquée\n",
    "\n",
    "- Jointure par tri puis fusion\n",
    "\n",
    "- Jointure par hachage"
   ]
  },
  {
   "cell_type": "markdown",
   "metadata": {},
   "source": [
    "Utilisations de le base de donnée bddPilotes : https://gitlab.com/gguibon/nouvelles_bd/"
   ]
  },
  {
   "cell_type": "markdown",
   "metadata": {},
   "source": [
    "Jointure par une boucle imbriquée"
   ]
  },
  {
   "cell_type": "code",
   "execution_count": null,
   "metadata": {},
   "outputs": [],
   "source": [
    "import os\n",
    "\n",
    "# Fonction de lecture\n",
    "def lire_table(nom_fichier):\n",
    "    chemin = os.path.join(\"bddPilotes\", nom_fichier)  # ajouter le dossier\n",
    "    with open(chemin, \"r\", encoding=\"utf-8\") as f:\n",
    "        lignes = f.readlines()[1:]  # sauter l'en-tête\n",
    "    table = [l.strip().split() for l in lignes if l.strip()]\n",
    "    return table\n",
    "\n",
    "\n",
    "vols = lire_table(\"VOLS.txt\")\n",
    "pilotes = lire_table(\"PILOTES.txt\")\n",
    "\n",
    "# Indices de jointure\n",
    "idx_vol_num_pil = 7\n",
    "idx_pil_num_pil = 0\n",
    "\n",
    "\n",
    "jointure = []\n",
    "for vol in vols:\n",
    "    for pilote in pilotes:\n",
    "        if vol[idx_vol_num_pil] == pilote[idx_pil_num_pil]:\n",
    "            jointure.append((vol[0], vol[1], vol[2], vol[idx_vol_num_pil], pilote[1], pilote[3]))\n",
    "\n",
    "\n",
    "for ligne in jointure[:10]:\n",
    "    print(ligne)\n"
   ]
  },
  {
   "cell_type": "markdown",
   "metadata": {},
   "source": [
    "Jointure par tri puis fusion (diviser pour mieux régner)"
   ]
  },
  {
   "cell_type": "code",
   "execution_count": null,
   "metadata": {},
   "outputs": [],
   "source": [
    "import os\n",
    "\n",
    "def lire_table(nom_fichier):\n",
    "    chemin = os.path.join('bddPilotes', nom_fichier)\n",
    "    with open(chemin, 'r', encoding='utf-8') as f:\n",
    "        lignes = f.readlines()[1:]\n",
    "    table = [l.strip().split() for l in lignes if l.strip()]\n",
    "    return table\n",
    "\n",
    "# Lecture des données\n",
    "vols = lire_table('VOLS.txt')\n",
    "pilotes = lire_table('PILOTES.txt')\n",
    "\n",
    "idx_vol_num_pil = 7\n",
    "idx_pil_num_pil = 0\n",
    "\n",
    "# Diviser : tri des deux tables\n",
    "vols_sorted = sorted(vols, key=lambda x: x[idx_vol_num_pil])\n",
    "pilotes_sorted = sorted(pilotes, key=lambda x: x[idx_pil_num_pil])\n",
    "\n",
    "# Régner et Combiner : fusion linéaire\n",
    "jointure = []\n",
    "i = 0\n",
    "j = 0\n",
    "while i < len(vols_sorted) and j < len(pilotes_sorted):\n",
    "    vol_num_pil = vols_sorted[i][idx_vol_num_pil]\n",
    "    pilote_num_pil = pilotes_sorted[j][idx_pil_num_pil]\n",
    "    if vol_num_pil == pilote_num_pil:\n",
    "        k = j\n",
    "        while k < len(pilotes_sorted) and pilotes_sorted[k][idx_pil_num_pil] == vol_num_pil:\n",
    "            jointure.append((vols_sorted[i][0], vols_sorted[i][1], vols_sorted[i][2], vol_num_pil, pilotes_sorted[k][1], pilotes_sorted[k][3]))\n",
    "            k += 1\n",
    "        i += 1\n",
    "    elif vol_num_pil < pilote_num_pil:\n",
    "        i += 1\n",
    "    else:\n",
    "        j += 1\n",
    "\n",
    "for ligne in jointure[:10]:\n",
    "    print(ligne)\n"
   ]
  },
  {
   "cell_type": "markdown",
   "metadata": {},
   "source": [
    "et enfin Jointure par hachage"
   ]
  },
  {
   "cell_type": "code",
   "execution_count": 5,
   "metadata": {},
   "outputs": [
    {
     "name": "stdout",
     "output_type": "stream",
     "text": [
      "('V101', 'Marseille', 'Amsterdam', '5050', 'Leblanc', 'Marseille')\n",
      "('V102', 'Marseille', 'Amsterdam', '5050', 'Leblanc', 'Marseille')\n",
      "('V103', 'Marseille', 'Amsterdam', '5050', 'Leblanc', 'Marseille')\n",
      "('V104', 'Marseille', 'Amsterdam', '5050', 'Leblanc', 'Marseille')\n",
      "('V105', 'Marseille', 'Amsterdam', '5050', 'Leblanc', 'Marseille')\n",
      "('V106', 'Marseille', 'Amsterdam', '5050', 'Leblanc', 'Marseille')\n",
      "('V107', 'Marseille', 'Amsterdam', '5050', 'Leblanc', 'Marseille')\n",
      "('V108', 'Marseille', 'Amsterdam', '5050', 'Leblanc', 'Marseille')\n",
      "('V109', 'Marseille', 'Amsterdam', '5050', 'Leblanc', 'Marseille')\n",
      "('V110', 'Marseille', 'Amsterdam', '5050', 'Leblanc', 'Marseille')\n"
     ]
    }
   ],
   "source": [
    "import os\n",
    "\n",
    "def lire_table(nom_fichier):\n",
    "    chemin = os.path.join('bddPilotes', nom_fichier)\n",
    "    with open(chemin, 'r', encoding='utf-8') as f:\n",
    "        lignes = f.readlines()[1:]\n",
    "    table = [l.strip().split() for l in lignes if l.strip()]\n",
    "    return table\n",
    "\n",
    "# Lecture des données\n",
    "table_petite = lire_table('PILOTES.txt')  # plus petite table\n",
    "table_grande = lire_table('VOLS.txt')     # plus grande table\n",
    "idx_pil_num_pil = 0\n",
    "idx_vol_num_pil = 7\n",
    "\n",
    "# 1. Construction de la table de hachage\n",
    "hash_table = {}\n",
    "for pilote in table_petite:\n",
    "    cle = pilote[idx_pil_num_pil]\n",
    "    if cle not in hash_table:\n",
    "        hash_table[cle] = []\n",
    "    hash_table[cle].append(pilote)\n",
    "\n",
    "# 2. Parcours de la grande table et jointure\n",
    "jointure = []\n",
    "for vol in table_grande:\n",
    "    cle = vol[idx_vol_num_pil]\n",
    "    if cle in hash_table:\n",
    "        for pilote in hash_table[cle]:\n",
    "            jointure.append((vol[0], vol[1], vol[2], cle, pilote[1], pilote[3]))\n",
    "\n",
    "# Affichage des premiers résultats\n",
    "for ligne in jointure[:10]:\n",
    "    print(ligne)\n"
   ]
  },
  {
   "cell_type": "code",
   "execution_count": null,
   "metadata": {},
   "outputs": [],
   "source": []
  }
 ],
 "metadata": {
  "kernelspec": {
   "display_name": "Python 3",
   "language": "python",
   "name": "python3"
  },
  "language_info": {
   "codemirror_mode": {
    "name": "ipython",
    "version": 3
   },
   "file_extension": ".py",
   "mimetype": "text/x-python",
   "name": "python",
   "nbconvert_exporter": "python",
   "pygments_lexer": "ipython3",
   "version": "3.12.3"
  }
 },
 "nbformat": 4,
 "nbformat_minor": 2
}
