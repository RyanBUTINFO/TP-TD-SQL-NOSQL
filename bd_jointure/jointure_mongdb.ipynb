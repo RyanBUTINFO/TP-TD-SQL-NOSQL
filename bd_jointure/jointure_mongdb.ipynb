{
 "cells": [
  {
   "cell_type": "markdown",
   "metadata": {},
   "source": [
    "algorithmes pour la jointure : \n",
    "\n",
    "- Jointure par une bouble imbriquée\n",
    "\n",
    "- Jointure par tri puis fusion\n",
    "\n",
    "- Jointure par hachage\n",
    "\n",
    "Avec cette fois-ci MongoDB"
   ]
  },
  {
   "cell_type": "markdown",
   "metadata": {},
   "source": []
  }
 ],
 "metadata": {
  "language_info": {
   "name": "python"
  }
 },
 "nbformat": 4,
 "nbformat_minor": 2
}
