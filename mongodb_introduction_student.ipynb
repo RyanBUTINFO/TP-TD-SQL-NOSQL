{
 "cells": [
  {
   "cell_type": "markdown",
   "metadata": {},
   "source": [
    "<center>\n",
    "\n",
    "<img src=\"data:image/png;base64,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\" />\n",
    "\n",
    "</center>"
   ]
  },
  {
   "cell_type": "markdown",
   "metadata": {},
   "source": [
    "<h1><center><strong style=\"color: #293358\">NoSQL<br/> BUT 3 - IUT Villetaneuse <br/> Introduction à MongoDB</strong></center></h1>\n",
    "\n",
    "<center>\n",
    "<h3 style=\"color: #8b7d6d\"><a href=\"https://gguibon.github.io/\">Gaël Guibon</a></h3>\n",
    "<email>gael.guibon@sorbonne-paris-nord.fr</email>\n",
    "<br/>\n",
    "Year 2025-2026\n",
    "\n",
    "Original Content\n",
    "\n",
    "Licenced under Affero GNU3\n",
    "</center>"
   ]
  },
  {
   "cell_type": "markdown",
   "metadata": {},
   "source": [
    "## <strong style=\"color: #8b7d6d\">Usage de la machine virtuelle</strong>"
   ]
  },
  {
   "cell_type": "markdown",
   "metadata": {},
   "source": [
    "1. Téléchargez la VM ici : https://e.pcloud.link/publink/show?code=XZ3dvxZh0fEzIaCmqF9HHRP346u0S0MY4lk\n",
    "2. Importez la dans Virtual Box\n",
    "3. Connectez-vous avec l'id `uspn`et le mot de passe `uspn`\n",
    "4. Enjoy !\n",
    "\n",
    "\n",
    "Cette machine virtuelle est déjà configurée pour Redis et il vous suffit de lancer les quelques commandes de la section suivante pour y installer MongoDB."
   ]
  },
  {
   "cell_type": "markdown",
   "metadata": {},
   "source": [
    "## <strong style=\"color: #8b7d6d\">Installation de mongodb</strong>"
   ]
  },
  {
   "cell_type": "markdown",
   "metadata": {},
   "source": [
    "### Installer MongoDB par docker \n",
    "1. Télécharger Docker Desktop et l'installer: https://docs.docker.com/desktop/\n",
    "2. Lancer Docker Desktop (cela lance le deamon docker en service de fond - background service)\n",
    "3. Ouvrir le terminal\n",
    "4. Taper cette commande dans le terminal\n",
    "```\n",
    "docker run --name mongodb -d -p 27017:27017 mongodb/mongodb-community-server:latest\n",
    "```\n",
    "Cela télécharge l'image docker de mongdb et crée un container au nom de `mongodb`. Le serveur mongodb écoutera le port 27017\n",
    "5. Vérifier les containers docker en cours d'exécution en tapant la commande suivante dans le terminal\n",
    "```\n",
    "docker ps\n",
    "```\n",
    "6. Vérifier les containers dockers disponibles en tapant la commande suivante dans le terminal\n",
    "```\n",
    "docker ps -a\n",
    "```\n",
    "`-a` signifie `all`\n",
    "7. Si le container `mongodb` n'est pas en cours d'exécution, vous pouvez le lancer en tapant dans le terminal\n",
    "```\n",
    "docker start mongodb\n",
    "```\n",
    "8. Vous pouvez arrêter le container en tapant dans le terminal\n",
    "```\n",
    "docker stop mongodb\n",
    "```\n",
    "9. Si vous souhaitez supprimer le container, tapez dans le terminal\n",
    "```\n",
    "docker stop mongodb && docker rm mongodb\n",
    "```\n",
    "10. Installez l'interface graphique de MongoDB, nommée Mongo Compass : https://www.mongodb.com/products/tools/compass \n",
    "\n",
    "### Utiliser MongoDB via docker\n",
    "\n",
    "#### Par terminal Mongo Shell (mongosh)\n",
    "Comme la commande `mongosh`est diponible que dans le container nous pouvons la lancer comme ceci :\n",
    "```\n",
    "docker exec -it mongodb mongosh\n",
    "```\n",
    "Ce qui signgifie `exec`(executer) `-it` (interactive terminal) `mongodb` (le nom du container pour lancer le terminal interactif) `mongosh` (dans ce terminal interactif je lance la commande `mongosh`)"
   ]
  },
  {
   "cell_type": "markdown",
   "metadata": {},
   "source": [
    "### Ubuntu 24.04 LTS et installation native"
   ]
  },
  {
   "cell_type": "markdown",
   "metadata": {},
   "source": [
    "L'installation de mongodb, de pymongo et de mongo compass est déjà faite dans la VM 😉\n",
    "\n",
    "À toute fin utile, voici les commandes pour l'installation sous Ubuntu :"
   ]
  },
  {
   "cell_type": "code",
   "execution_count": null,
   "metadata": {},
   "outputs": [],
   "source": [
    "! sudo apt update ; sudo apt-get install gnupg curl\n",
    "! curl -fsSL https://www.mongodb.org/static/pgp/server-8.0.asc | sudo gpg -o /usr/share/keyrings/mongodb-server-8.0.gpg --dearmor\n",
    "! echo \"deb [ arch=amd64,arm64 signed-by=/usr/share/keyrings/mongodb-server-8.0.gpg ] https://repo.mongodb.org/apt/ubuntu noble/mongodb-org/8.0 multiverse\" | sudo tee /etc/apt/sources.list.d/mongodb-org-8.0.list\n",
    "! sudo apt update ; sudo apt-get install -y mongodb-org wget"
   ]
  },
  {
   "cell_type": "code",
   "execution_count": null,
   "metadata": {},
   "outputs": [],
   "source": [
    "! pip install pymongo pandas --break-system-packages"
   ]
  },
  {
   "cell_type": "code",
   "execution_count": null,
   "metadata": {},
   "outputs": [],
   "source": [
    "! wget https://downloads.mongodb.com/compass/mongodb-compass_1.44.4_amd64.deb\n",
    "! sudo apt install ./mongodb-compass_1.44.4_amd64.deb"
   ]
  },
  {
   "cell_type": "code",
   "execution_count": null,
   "metadata": {},
   "outputs": [],
   "source": [
    "! wget https://gitlab.com/gguibon/uspn-storage/-/raw/main/pokemons.json"
   ]
  },
  {
   "cell_type": "markdown",
   "metadata": {},
   "source": [
    "### Windows / MacOS"
   ]
  },
  {
   "cell_type": "markdown",
   "metadata": {},
   "source": [
    "1. Téléchargez MongoDB Community Edition : https://www.mongodb.com/try/download/community\n",
    "2. Installez le en mettant tout par défaut\n",
    "3. Téléchargez Mongo Compass : https://www.mongodb.com/products/tools/compass \n",
    "4. Installez le.\n",
    "5. Installez `pandas`, `pymongo` et `wget` : "
   ]
  },
  {
   "cell_type": "code",
   "execution_count": null,
   "metadata": {},
   "outputs": [],
   "source": [
    "! pip install pymongo pandas wget"
   ]
  },
  {
   "cell_type": "markdown",
   "metadata": {},
   "source": [
    "6. Téléchargez la base des pokemons : "
   ]
  },
  {
   "cell_type": "code",
   "execution_count": 7,
   "metadata": {},
   "outputs": [
    {
     "ename": "ModuleNotFoundError",
     "evalue": "No module named 'wget'",
     "output_type": "error",
     "traceback": [
      "\u001b[0;31m---------------------------------------------------------------------------\u001b[0m",
      "\u001b[0;31mModuleNotFoundError\u001b[0m                       Traceback (most recent call last)",
      "Cell \u001b[0;32mIn[7], line 1\u001b[0m\n\u001b[0;32m----> 1\u001b[0m \u001b[38;5;28;01mimport\u001b[39;00m \u001b[38;5;21;01mwget\u001b[39;00m\n\u001b[1;32m      2\u001b[0m url \u001b[38;5;241m=\u001b[39m \u001b[38;5;124m\"\u001b[39m\u001b[38;5;124mhttps://gitlab.com/gguibon/uspn-storage/-/raw/main/pokemons.json\u001b[39m\u001b[38;5;124m\"\u001b[39m\n\u001b[1;32m      3\u001b[0m wget\u001b[38;5;241m.\u001b[39mdownload(url)\n",
      "\u001b[0;31mModuleNotFoundError\u001b[0m: No module named 'wget'"
     ]
    }
   ],
   "source": [
    "import wget\n",
    "url = \"https://gitlab.com/gguibon/uspn-storage/-/raw/main/pokemons.json\"\n",
    "wget.download(url)"
   ]
  },
  {
   "cell_type": "markdown",
   "metadata": {},
   "source": [
    "## <strong style=\"color: #8b7d6d\">Lancement du service Mongodb (`mongod` pour installation native)</strong>"
   ]
  },
  {
   "cell_type": "markdown",
   "metadata": {},
   "source": [
    "### Ubuntu 24.04 LTS"
   ]
  },
  {
   "cell_type": "code",
   "execution_count": null,
   "metadata": {},
   "outputs": [],
   "source": [
    "! sudo service mongod start\n",
    "! sudo service mongod status"
   ]
  },
  {
   "cell_type": "markdown",
   "metadata": {},
   "source": [
    "### Windows 10 / 11\n",
    "\n",
    "Lancez une invite de commande (ou un Windows Terminal) en administrateur, puis exécutez :\n",
    "\n",
    "```sh\n",
    "net start MongoDB\n",
    "```"
   ]
  },
  {
   "cell_type": "markdown",
   "metadata": {},
   "source": [
    "# <strong style=\"color: #8b7d6d\">CRUD (Create Read Update Delete) en MongoDB</strong>"
   ]
  },
  {
   "cell_type": "code",
   "execution_count": 10,
   "metadata": {},
   "outputs": [],
   "source": [
    "import pymongo, json\n",
    "import pandas as pd"
   ]
  },
  {
   "cell_type": "markdown",
   "metadata": {},
   "source": [
    "#### ![programming(3).png](data:image/png;base64,iVBORw0KGgoAAAANSUhEUgAAACAAAAAgCAYAAABzenr0AAAABHNCSVQICAgIfAhkiAAAAAlwSFlzAAAA3QAAAN0BcFOiBwAAABl0RVh0U29mdHdhcmUAd3d3Lmlua3NjYXBlLm9yZ5vuPBoAAAR7SURBVFiFtZdvaFVlHMc/z3PPuefuz825XWV3m5mWU1MLSVEyRoqKk2iLWBCT2uyFpTSIoCCHL0SDXkgUavhKCU3EpGmlorYSShtWig6M1M25gVPb3da2e6/3z3l6cf9u996d42pfOC/O8+/3+f2e5/f8EUopbKnplEHEtwpFDYj5gDf+AdyNfeo6guNoxa18Xv3QzrDCEmDTQS8OuQ1FPeC2R8sQgkNEze3s23B3YgCNB1y49GYQ7wH5Ng2PlR/UpwTDO9jfELQPsOVoKSrUghLLJmh4rJU2hLOWPXW91gCbDi1CipNAxf9iPKUeTLWeffXXcgNsOVqKGb40CcZTEFJfmh4JmaxqPOBChVom0ThABSrUQuMBV6JAS1a59Ob0OQ8J+MsYP0MUMDgwOL5JE5ZINy6XI95JLIstbpohMQWbDnqR8iZpq/1vB3xYalq6dPHXS5Ztzv4xl/K1UyBPJIr8mOZT7NtwNzYFDrmNCabawvmV6Jo2fqMBBd8GIJCMaH7cJpKmU0Z8k7GlaUVu1ixdAIBT19n6/mZ0Xefl6tWUTvfk7ugzR0Mo6mk6ZUgivlXY3OGmFblpqluDkLFQTvNM5f6DPvyBAFIKtn3wrjXEiSSEm4hvlYzt7faN/3LtBmfa2gGY7imho6sbgJbvz3Lu/AVriP40CEWNjB8slsp3OTGcGgPD/mTZdE8xnXEAgP7+QQzDoKDAYjklIIZ5VpI60cZVV28fu7/+gVeqnmP5wieTAB23YwArX1hO/Ws17Ny1l1udd6wH7Dfhu8Bi2wAAd+71sfvYOcpKitA1jalTHqOzqweAGeVePt61l47bNown9I9pWORPprrv+ei+50PXNc6cv8iIPzYlXx755lGHAimUJHaZeGSFwxH+vNExka4puYhocYA5Y+sK8gxerywHp4YyNNA1lFMDZ+r4UAqenjMr1UmBDEaQIxFkIIz0R3CMhHG3DUAgnAlgyIAG6jqIqgw4p8bzLy23dMI7u9La0cOHgSwABaJHIjhuOcJkyS2OaGjFrYT7hxi7GwYjaMduQDDzRAzNcBOa6SZUWsBgTz+uwQiFD4IU3s9660KOZPFeEwpX4Wex03DzV1+geDujUXcUTgcgOrq48/B6hlbGrg1tV28CUPGbj+qPrthwO65ZjnY63loUW1FRczvgz2g0wwHr8iB+lEdXlhP8qRbPkmJmmmEeJ8LiMi+Ly7x4187j5slahqvKrY1rQJHYAOlXsncO7QCxNWuHeCSUJx/zmZJksdIEgYejpyivvQ/tfqYvozRbu8CtjSsSLDEFwzvI01dnvQnHIyFO+3GcHT243YdCUiVyGC/rEr+ppN7fEEQ4a4GerB3HTMeE5BImFc4qft44lAkAsKeuF1OtnxSIAhFlnnyVK29cTi+e2MMkR3bkVJHw84S+gssNGWkis7VnT10vgfCLoHZiIztySgPm6q0scJRmMw7/9XGaKxKGUJQ52il0NHL1zd/HG94aIKFcz/M7UQc/BnUK5TCFohunOIFHfZK+0MbTvx9ltLez/h/sAAAAAElFTkSuQmCC) **TODO!**"
   ]
  },
  {
   "cell_type": "markdown",
   "metadata": {},
   "source": [
    "Ouvrez le fichier JSON dans Pandas et affichez le en format String.\n",
    "\n",
    "💡Astuce :\n",
    "- Voici une introduction officielle de 10 minutes pour Pandas : https://pandas.pydata.org/docs/user_guide/10min.html "
   ]
  },
  {
   "cell_type": "code",
   "execution_count": 11,
   "metadata": {},
   "outputs": [],
   "source": [
    "df = pd.read_json(\"pokemons.json\")\n"
   ]
  },
  {
   "cell_type": "markdown",
   "metadata": {},
   "source": [
    "#### ![programming(3).png](data:image/png;base64,iVBORw0KGgoAAAANSUhEUgAAACAAAAAgCAYAAABzenr0AAAABHNCSVQICAgIfAhkiAAAAAlwSFlzAAAA3QAAAN0BcFOiBwAAABl0RVh0U29mdHdhcmUAd3d3Lmlua3NjYXBlLm9yZ5vuPBoAAAR7SURBVFiFtZdvaFVlHMc/z3PPuefuz825XWV3m5mWU1MLSVEyRoqKk2iLWBCT2uyFpTSIoCCHL0SDXkgUavhKCU3EpGmlorYSShtWig6M1M25gVPb3da2e6/3z3l6cf9u996d42pfOC/O8+/3+f2e5/f8EUopbKnplEHEtwpFDYj5gDf+AdyNfeo6guNoxa18Xv3QzrDCEmDTQS8OuQ1FPeC2R8sQgkNEze3s23B3YgCNB1y49GYQ7wH5Ng2PlR/UpwTDO9jfELQPsOVoKSrUghLLJmh4rJU2hLOWPXW91gCbDi1CipNAxf9iPKUeTLWeffXXcgNsOVqKGb40CcZTEFJfmh4JmaxqPOBChVom0ThABSrUQuMBV6JAS1a59Ob0OQ8J+MsYP0MUMDgwOL5JE5ZINy6XI95JLIstbpohMQWbDnqR8iZpq/1vB3xYalq6dPHXS5Ztzv4xl/K1UyBPJIr8mOZT7NtwNzYFDrmNCabawvmV6Jo2fqMBBd8GIJCMaH7cJpKmU0Z8k7GlaUVu1ixdAIBT19n6/mZ0Xefl6tWUTvfk7ugzR0Mo6mk6ZUgivlXY3OGmFblpqluDkLFQTvNM5f6DPvyBAFIKtn3wrjXEiSSEm4hvlYzt7faN/3LtBmfa2gGY7imho6sbgJbvz3Lu/AVriP40CEWNjB8slsp3OTGcGgPD/mTZdE8xnXEAgP7+QQzDoKDAYjklIIZ5VpI60cZVV28fu7/+gVeqnmP5wieTAB23YwArX1hO/Ws17Ny1l1udd6wH7Dfhu8Bi2wAAd+71sfvYOcpKitA1jalTHqOzqweAGeVePt61l47bNown9I9pWORPprrv+ei+50PXNc6cv8iIPzYlXx755lGHAimUJHaZeGSFwxH+vNExka4puYhocYA5Y+sK8gxerywHp4YyNNA1lFMDZ+r4UAqenjMr1UmBDEaQIxFkIIz0R3CMhHG3DUAgnAlgyIAG6jqIqgw4p8bzLy23dMI7u9La0cOHgSwABaJHIjhuOcJkyS2OaGjFrYT7hxi7GwYjaMduQDDzRAzNcBOa6SZUWsBgTz+uwQiFD4IU3s9660KOZPFeEwpX4Wex03DzV1+geDujUXcUTgcgOrq48/B6hlbGrg1tV28CUPGbj+qPrthwO65ZjnY63loUW1FRczvgz2g0wwHr8iB+lEdXlhP8qRbPkmJmmmEeJ8LiMi+Ly7x4187j5slahqvKrY1rQJHYAOlXsncO7QCxNWuHeCSUJx/zmZJksdIEgYejpyivvQ/tfqYvozRbu8CtjSsSLDEFwzvI01dnvQnHIyFO+3GcHT243YdCUiVyGC/rEr+ppN7fEEQ4a4GerB3HTMeE5BImFc4qft44lAkAsKeuF1OtnxSIAhFlnnyVK29cTi+e2MMkR3bkVJHw84S+gssNGWkis7VnT10vgfCLoHZiIztySgPm6q0scJRmMw7/9XGaKxKGUJQ52il0NHL1zd/HG94aIKFcz/M7UQc/BnUK5TCFohunOIFHfZK+0MbTvx9ltLez/h/sAAAAAElFTkSuQmCC) **TODO!**"
   ]
  },
  {
   "cell_type": "markdown",
   "metadata": {},
   "source": [
    "Affichez le dataframe réorienté en \"records\", donc avec une orientation par rangées de la table"
   ]
  },
  {
   "cell_type": "code",
   "execution_count": 12,
   "metadata": {},
   "outputs": [
    {
     "name": "stdout",
     "output_type": "stream",
     "text": [
      "{'Number': 487, 'Name': 'Giratina', 'Type_1': 'Ghost', 'Type_2': 'Dragon', 'Total': 680, 'HP': 150, 'Attack': 120, 'Defense': 100, 'Sp_Atk': 120, 'Sp_Def': 100, 'Speed': 90, 'Generation': 4, 'isLegendary': True, 'Color': 'Black', 'hasGender': False, 'Pr_Male': nan, 'Egg_Group_1': 'Undiscovered', 'Egg_Group_2': None, 'hasMegaEvolution': False, 'Height_m': 6.91, 'Weight_kg': 650.0, 'Catch_Rate': 3, 'Body_Style': 'serpentine_body'}\n"
     ]
    }
   ],
   "source": [
    "records = df.to_dict(orient=\"records\")\n",
    "\n",
    "print(records[486])"
   ]
  },
  {
   "cell_type": "markdown",
   "metadata": {},
   "source": [
    "#### ![programming(3).png](data:image/png;base64,iVBORw0KGgoAAAANSUhEUgAAACAAAAAgCAYAAABzenr0AAAABHNCSVQICAgIfAhkiAAAAAlwSFlzAAAA3QAAAN0BcFOiBwAAABl0RVh0U29mdHdhcmUAd3d3Lmlua3NjYXBlLm9yZ5vuPBoAAAR7SURBVFiFtZdvaFVlHMc/z3PPuefuz825XWV3m5mWU1MLSVEyRoqKk2iLWBCT2uyFpTSIoCCHL0SDXkgUavhKCU3EpGmlorYSShtWig6M1M25gVPb3da2e6/3z3l6cf9u996d42pfOC/O8+/3+f2e5/f8EUopbKnplEHEtwpFDYj5gDf+AdyNfeo6guNoxa18Xv3QzrDCEmDTQS8OuQ1FPeC2R8sQgkNEze3s23B3YgCNB1y49GYQ7wH5Ng2PlR/UpwTDO9jfELQPsOVoKSrUghLLJmh4rJU2hLOWPXW91gCbDi1CipNAxf9iPKUeTLWeffXXcgNsOVqKGb40CcZTEFJfmh4JmaxqPOBChVom0ThABSrUQuMBV6JAS1a59Ob0OQ8J+MsYP0MUMDgwOL5JE5ZINy6XI95JLIstbpohMQWbDnqR8iZpq/1vB3xYalq6dPHXS5Ztzv4xl/K1UyBPJIr8mOZT7NtwNzYFDrmNCabawvmV6Jo2fqMBBd8GIJCMaH7cJpKmU0Z8k7GlaUVu1ixdAIBT19n6/mZ0Xefl6tWUTvfk7ugzR0Mo6mk6ZUgivlXY3OGmFblpqluDkLFQTvNM5f6DPvyBAFIKtn3wrjXEiSSEm4hvlYzt7faN/3LtBmfa2gGY7imho6sbgJbvz3Lu/AVriP40CEWNjB8slsp3OTGcGgPD/mTZdE8xnXEAgP7+QQzDoKDAYjklIIZ5VpI60cZVV28fu7/+gVeqnmP5wieTAB23YwArX1hO/Ws17Ny1l1udd6wH7Dfhu8Bi2wAAd+71sfvYOcpKitA1jalTHqOzqweAGeVePt61l47bNown9I9pWORPprrv+ei+50PXNc6cv8iIPzYlXx755lGHAimUJHaZeGSFwxH+vNExka4puYhocYA5Y+sK8gxerywHp4YyNNA1lFMDZ+r4UAqenjMr1UmBDEaQIxFkIIz0R3CMhHG3DUAgnAlgyIAG6jqIqgw4p8bzLy23dMI7u9La0cOHgSwABaJHIjhuOcJkyS2OaGjFrYT7hxi7GwYjaMduQDDzRAzNcBOa6SZUWsBgTz+uwQiFD4IU3s9660KOZPFeEwpX4Wex03DzV1+geDujUXcUTgcgOrq48/B6hlbGrg1tV28CUPGbj+qPrthwO65ZjnY63loUW1FRczvgz2g0wwHr8iB+lEdXlhP8qRbPkmJmmmEeJ8LiMi+Ly7x4187j5slahqvKrY1rQJHYAOlXsncO7QCxNWuHeCSUJx/zmZJksdIEgYejpyivvQ/tfqYvozRbu8CtjSsSLDEFwzvI01dnvQnHIyFO+3GcHT243YdCUiVyGC/rEr+ppN7fEEQ4a4GerB3HTMeE5BImFc4qft44lAkAsKeuF1OtnxSIAhFlnnyVK29cTi+e2MMkR3bkVJHw84S+gssNGWkis7VnT10vgfCLoHZiIztySgPm6q0scJRmMw7/9XGaKxKGUJQ52il0NHL1zd/HG94aIKFcz/M7UQc/BnUK5TCFohunOIFHfZK+0MbTvx9ltLez/h/sAAAAAElFTkSuQmCC) **TODO!**"
   ]
  },
  {
   "cell_type": "markdown",
   "metadata": {},
   "source": [
    "Connectez votre client mongodb à votre service mongodb en localhost. Puis créez la base de données `but3` et sa collection `pokemons`.\n",
    "\n",
    "💡 Astuces :\n",
    "- La documentation de pymongo : https://pymongo.readthedocs.io/en/stable/genindex.html"
   ]
  },
  {
   "cell_type": "code",
   "execution_count": 36,
   "metadata": {},
   "outputs": [],
   "source": [
    "from pymongo import MongoClient\n",
    "\n",
    "client = MongoClient(\"mongodb://localhost:27017/\")\n",
    "\n",
    "db = client[\"but3\"]\n",
    "\n",
    "collection = db[\"pokemons\"]\n"
   ]
  },
  {
   "cell_type": "markdown",
   "metadata": {},
   "source": [
    "#### ![programming(3).png](data:image/png;base64,iVBORw0KGgoAAAANSUhEUgAAACAAAAAgCAYAAABzenr0AAAABHNCSVQICAgIfAhkiAAAAAlwSFlzAAAA3QAAAN0BcFOiBwAAABl0RVh0U29mdHdhcmUAd3d3Lmlua3NjYXBlLm9yZ5vuPBoAAAR7SURBVFiFtZdvaFVlHMc/z3PPuefuz825XWV3m5mWU1MLSVEyRoqKk2iLWBCT2uyFpTSIoCCHL0SDXkgUavhKCU3EpGmlorYSShtWig6M1M25gVPb3da2e6/3z3l6cf9u996d42pfOC/O8+/3+f2e5/f8EUopbKnplEHEtwpFDYj5gDf+AdyNfeo6guNoxa18Xv3QzrDCEmDTQS8OuQ1FPeC2R8sQgkNEze3s23B3YgCNB1y49GYQ7wH5Ng2PlR/UpwTDO9jfELQPsOVoKSrUghLLJmh4rJU2hLOWPXW91gCbDi1CipNAxf9iPKUeTLWeffXXcgNsOVqKGb40CcZTEFJfmh4JmaxqPOBChVom0ThABSrUQuMBV6JAS1a59Ob0OQ8J+MsYP0MUMDgwOL5JE5ZINy6XI95JLIstbpohMQWbDnqR8iZpq/1vB3xYalq6dPHXS5Ztzv4xl/K1UyBPJIr8mOZT7NtwNzYFDrmNCabawvmV6Jo2fqMBBd8GIJCMaH7cJpKmU0Z8k7GlaUVu1ixdAIBT19n6/mZ0Xefl6tWUTvfk7ugzR0Mo6mk6ZUgivlXY3OGmFblpqluDkLFQTvNM5f6DPvyBAFIKtn3wrjXEiSSEm4hvlYzt7faN/3LtBmfa2gGY7imho6sbgJbvz3Lu/AVriP40CEWNjB8slsp3OTGcGgPD/mTZdE8xnXEAgP7+QQzDoKDAYjklIIZ5VpI60cZVV28fu7/+gVeqnmP5wieTAB23YwArX1hO/Ws17Ny1l1udd6wH7Dfhu8Bi2wAAd+71sfvYOcpKitA1jalTHqOzqweAGeVePt61l47bNown9I9pWORPprrv+ei+50PXNc6cv8iIPzYlXx755lGHAimUJHaZeGSFwxH+vNExka4puYhocYA5Y+sK8gxerywHp4YyNNA1lFMDZ+r4UAqenjMr1UmBDEaQIxFkIIz0R3CMhHG3DUAgnAlgyIAG6jqIqgw4p8bzLy23dMI7u9La0cOHgSwABaJHIjhuOcJkyS2OaGjFrYT7hxi7GwYjaMduQDDzRAzNcBOa6SZUWsBgTz+uwQiFD4IU3s9660KOZPFeEwpX4Wex03DzV1+geDujUXcUTgcgOrq48/B6hlbGrg1tV28CUPGbj+qPrthwO65ZjnY63loUW1FRczvgz2g0wwHr8iB+lEdXlhP8qRbPkmJmmmEeJ8LiMi+Ly7x4187j5slahqvKrY1rQJHYAOlXsncO7QCxNWuHeCSUJx/zmZJksdIEgYejpyivvQ/tfqYvozRbu8CtjSsSLDEFwzvI01dnvQnHIyFO+3GcHT243YdCUiVyGC/rEr+ppN7fEEQ4a4GerB3HTMeE5BImFc4qft44lAkAsKeuF1OtnxSIAhFlnnyVK29cTi+e2MMkR3bkVJHw84S+gssNGWkis7VnT10vgfCLoHZiIztySgPm6q0scJRmMw7/9XGaKxKGUJQ52il0NHL1zd/HG94aIKFcz/M7UQc/BnUK5TCFohunOIFHfZK+0MbTvx9ltLez/h/sAAAAAElFTkSuQmCC) **TODO!**"
   ]
  },
  {
   "cell_type": "markdown",
   "metadata": {},
   "source": [
    "Insérez-y directement la liste des pokemons (représentés chacun par un dictionnaire -- l'orientation `records`).\n",
    "\n",
    "💡 Astuces :\n",
    "- n'oubliez pas de récupérer le résultat de l'insertion\n"
   ]
  },
  {
   "cell_type": "code",
   "execution_count": 31,
   "metadata": {},
   "outputs": [
    {
     "ename": "BulkWriteError",
     "evalue": "batch op errors occurred, full error: {'writeErrors': [{'index': 0, 'code': 11000, 'errmsg': \"E11000 duplicate key error collection: but3.pokemons index: _id_ dup key: { _id: ObjectId('68df88aaf2d74a8e2503ea36') }\", 'keyPattern': {'_id': 1}, 'keyValue': {'_id': ObjectId('68df88aaf2d74a8e2503ea36')}, 'op': {'Number': 1, 'Name': 'Bulbasaur', 'Type_1': 'Grass', 'Type_2': 'Poison', 'Total': 318, 'HP': 45, 'Attack': 49, 'Defense': 49, 'Sp_Atk': 65, 'Sp_Def': 65, 'Speed': 45, 'Generation': 1, 'isLegendary': False, 'Color': 'Green', 'hasGender': True, 'Pr_Male': 0.875, 'Egg_Group_1': 'Monster', 'Egg_Group_2': 'Grass', 'hasMegaEvolution': False, 'Height_m': 0.71, 'Weight_kg': 6.9, 'Catch_Rate': 45, 'Body_Style': 'quadruped', '_id': ObjectId('68df88aaf2d74a8e2503ea36')}}], 'writeConcernErrors': [], 'nInserted': 0, 'nUpserted': 0, 'nMatched': 0, 'nModified': 0, 'nRemoved': 0, 'upserted': []}",
     "output_type": "error",
     "traceback": [
      "\u001b[0;31m---------------------------------------------------------------------------\u001b[0m",
      "\u001b[0;31mBulkWriteError\u001b[0m                            Traceback (most recent call last)",
      "Cell \u001b[0;32mIn[31], line 1\u001b[0m\n\u001b[0;32m----> 1\u001b[0m result \u001b[38;5;241m=\u001b[39m \u001b[43mcollection\u001b[49m\u001b[38;5;241;43m.\u001b[39;49m\u001b[43minsert_many\u001b[49m\u001b[43m(\u001b[49m\u001b[43mrecords\u001b[49m\u001b[43m)\u001b[49m\n\u001b[1;32m      3\u001b[0m \u001b[38;5;28mprint\u001b[39m(result)\n",
      "File \u001b[0;32m/usr/local/lib/python3.12/dist-packages/pymongo/_csot.py:119\u001b[0m, in \u001b[0;36mapply.<locals>.csot_wrapper\u001b[0;34m(self, *args, **kwargs)\u001b[0m\n\u001b[1;32m    117\u001b[0m         \u001b[38;5;28;01mwith\u001b[39;00m _TimeoutContext(timeout):\n\u001b[1;32m    118\u001b[0m             \u001b[38;5;28;01mreturn\u001b[39;00m func(\u001b[38;5;28mself\u001b[39m, \u001b[38;5;241m*\u001b[39margs, \u001b[38;5;241m*\u001b[39m\u001b[38;5;241m*\u001b[39mkwargs)\n\u001b[0;32m--> 119\u001b[0m \u001b[38;5;28;01mreturn\u001b[39;00m \u001b[43mfunc\u001b[49m\u001b[43m(\u001b[49m\u001b[38;5;28;43mself\u001b[39;49m\u001b[43m,\u001b[49m\u001b[43m \u001b[49m\u001b[38;5;241;43m*\u001b[39;49m\u001b[43margs\u001b[49m\u001b[43m,\u001b[49m\u001b[43m \u001b[49m\u001b[38;5;241;43m*\u001b[39;49m\u001b[38;5;241;43m*\u001b[39;49m\u001b[43mkwargs\u001b[49m\u001b[43m)\u001b[49m\n",
      "File \u001b[0;32m/usr/local/lib/python3.12/dist-packages/pymongo/synchronous/collection.py:975\u001b[0m, in \u001b[0;36mCollection.insert_many\u001b[0;34m(self, documents, ordered, bypass_document_validation, session, comment)\u001b[0m\n\u001b[1;32m    973\u001b[0m blk \u001b[38;5;241m=\u001b[39m _Bulk(\u001b[38;5;28mself\u001b[39m, ordered, bypass_document_validation, comment\u001b[38;5;241m=\u001b[39mcomment)\n\u001b[1;32m    974\u001b[0m blk\u001b[38;5;241m.\u001b[39mops \u001b[38;5;241m=\u001b[39m \u001b[38;5;28mlist\u001b[39m(gen())\n\u001b[0;32m--> 975\u001b[0m \u001b[43mblk\u001b[49m\u001b[38;5;241;43m.\u001b[39;49m\u001b[43mexecute\u001b[49m\u001b[43m(\u001b[49m\u001b[43mwrite_concern\u001b[49m\u001b[43m,\u001b[49m\u001b[43m \u001b[49m\u001b[43msession\u001b[49m\u001b[43m,\u001b[49m\u001b[43m \u001b[49m\u001b[43m_Op\u001b[49m\u001b[38;5;241;43m.\u001b[39;49m\u001b[43mINSERT\u001b[49m\u001b[43m)\u001b[49m\n\u001b[1;32m    976\u001b[0m \u001b[38;5;28;01mreturn\u001b[39;00m InsertManyResult(inserted_ids, write_concern\u001b[38;5;241m.\u001b[39macknowledged)\n",
      "File \u001b[0;32m/usr/local/lib/python3.12/dist-packages/pymongo/synchronous/bulk.py:736\u001b[0m, in \u001b[0;36m_Bulk.execute\u001b[0;34m(self, write_concern, session, operation)\u001b[0m\n\u001b[1;32m    734\u001b[0m         \u001b[38;5;28;01mreturn\u001b[39;00m \u001b[38;5;28;01mNone\u001b[39;00m\n\u001b[1;32m    735\u001b[0m \u001b[38;5;28;01melse\u001b[39;00m:\n\u001b[0;32m--> 736\u001b[0m     \u001b[38;5;28;01mreturn\u001b[39;00m \u001b[38;5;28;43mself\u001b[39;49m\u001b[38;5;241;43m.\u001b[39;49m\u001b[43mexecute_command\u001b[49m\u001b[43m(\u001b[49m\u001b[43mgenerator\u001b[49m\u001b[43m,\u001b[49m\u001b[43m \u001b[49m\u001b[43mwrite_concern\u001b[49m\u001b[43m,\u001b[49m\u001b[43m \u001b[49m\u001b[43msession\u001b[49m\u001b[43m,\u001b[49m\u001b[43m \u001b[49m\u001b[43moperation\u001b[49m\u001b[43m)\u001b[49m\n",
      "File \u001b[0;32m/usr/local/lib/python3.12/dist-packages/pymongo/synchronous/bulk.py:603\u001b[0m, in \u001b[0;36m_Bulk.execute_command\u001b[0;34m(self, generator, write_concern, session, operation)\u001b[0m\n\u001b[1;32m    593\u001b[0m _ \u001b[38;5;241m=\u001b[39m client\u001b[38;5;241m.\u001b[39m_retryable_write(\n\u001b[1;32m    594\u001b[0m     \u001b[38;5;28mself\u001b[39m\u001b[38;5;241m.\u001b[39mis_retryable,\n\u001b[1;32m    595\u001b[0m     retryable_bulk,\n\u001b[0;32m   (...)\u001b[0m\n\u001b[1;32m    599\u001b[0m     operation_id\u001b[38;5;241m=\u001b[39mop_id,\n\u001b[1;32m    600\u001b[0m )\n\u001b[1;32m    602\u001b[0m \u001b[38;5;28;01mif\u001b[39;00m full_result[\u001b[38;5;124m\"\u001b[39m\u001b[38;5;124mwriteErrors\u001b[39m\u001b[38;5;124m\"\u001b[39m] \u001b[38;5;129;01mor\u001b[39;00m full_result[\u001b[38;5;124m\"\u001b[39m\u001b[38;5;124mwriteConcernErrors\u001b[39m\u001b[38;5;124m\"\u001b[39m]:\n\u001b[0;32m--> 603\u001b[0m     \u001b[43m_raise_bulk_write_error\u001b[49m\u001b[43m(\u001b[49m\u001b[43mfull_result\u001b[49m\u001b[43m)\u001b[49m\n\u001b[1;32m    604\u001b[0m \u001b[38;5;28;01mreturn\u001b[39;00m full_result\n",
      "File \u001b[0;32m/usr/local/lib/python3.12/dist-packages/pymongo/bulk_shared.py:131\u001b[0m, in \u001b[0;36m_raise_bulk_write_error\u001b[0;34m(full_result)\u001b[0m\n\u001b[1;32m    125\u001b[0m         errmsg \u001b[38;5;241m=\u001b[39m (\n\u001b[1;32m    126\u001b[0m             \u001b[38;5;124m\"\u001b[39m\u001b[38;5;124mThis MongoDB deployment does not support \u001b[39m\u001b[38;5;124m\"\u001b[39m\n\u001b[1;32m    127\u001b[0m             \u001b[38;5;124m\"\u001b[39m\u001b[38;5;124mretryable writes. Please add retryWrites=false \u001b[39m\u001b[38;5;124m\"\u001b[39m\n\u001b[1;32m    128\u001b[0m             \u001b[38;5;124m\"\u001b[39m\u001b[38;5;124mto your connection string.\u001b[39m\u001b[38;5;124m\"\u001b[39m\n\u001b[1;32m    129\u001b[0m         )\n\u001b[1;32m    130\u001b[0m         \u001b[38;5;28;01mraise\u001b[39;00m OperationFailure(errmsg, code, full_result)\n\u001b[0;32m--> 131\u001b[0m \u001b[38;5;28;01mraise\u001b[39;00m BulkWriteError(full_result)\n",
      "\u001b[0;31mBulkWriteError\u001b[0m: batch op errors occurred, full error: {'writeErrors': [{'index': 0, 'code': 11000, 'errmsg': \"E11000 duplicate key error collection: but3.pokemons index: _id_ dup key: { _id: ObjectId('68df88aaf2d74a8e2503ea36') }\", 'keyPattern': {'_id': 1}, 'keyValue': {'_id': ObjectId('68df88aaf2d74a8e2503ea36')}, 'op': {'Number': 1, 'Name': 'Bulbasaur', 'Type_1': 'Grass', 'Type_2': 'Poison', 'Total': 318, 'HP': 45, 'Attack': 49, 'Defense': 49, 'Sp_Atk': 65, 'Sp_Def': 65, 'Speed': 45, 'Generation': 1, 'isLegendary': False, 'Color': 'Green', 'hasGender': True, 'Pr_Male': 0.875, 'Egg_Group_1': 'Monster', 'Egg_Group_2': 'Grass', 'hasMegaEvolution': False, 'Height_m': 0.71, 'Weight_kg': 6.9, 'Catch_Rate': 45, 'Body_Style': 'quadruped', '_id': ObjectId('68df88aaf2d74a8e2503ea36')}}], 'writeConcernErrors': [], 'nInserted': 0, 'nUpserted': 0, 'nMatched': 0, 'nModified': 0, 'nRemoved': 0, 'upserted': []}"
     ]
    }
   ],
   "source": [
    "result = collection.insert_many(records)\n",
    "\n",
    "print(result)"
   ]
  },
  {
   "cell_type": "code",
   "execution_count": 32,
   "metadata": {},
   "outputs": [
    {
     "name": "stdout",
     "output_type": "stream",
     "text": [
      "<pymongo.synchronous.cursor.Cursor object at 0x7644773f7710>\n"
     ]
    }
   ],
   "source": [
    "# la récupération d'un élément dans une collection donne un cursor (un itérable)\n",
    "print(collection.find())"
   ]
  },
  {
   "cell_type": "markdown",
   "metadata": {},
   "source": [
    "#### ![programming(3).png](data:image/png;base64,iVBORw0KGgoAAAANSUhEUgAAACAAAAAgCAYAAABzenr0AAAABHNCSVQICAgIfAhkiAAAAAlwSFlzAAAA3QAAAN0BcFOiBwAAABl0RVh0U29mdHdhcmUAd3d3Lmlua3NjYXBlLm9yZ5vuPBoAAAR7SURBVFiFtZdvaFVlHMc/z3PPuefuz825XWV3m5mWU1MLSVEyRoqKk2iLWBCT2uyFpTSIoCCHL0SDXkgUavhKCU3EpGmlorYSShtWig6M1M25gVPb3da2e6/3z3l6cf9u996d42pfOC/O8+/3+f2e5/f8EUopbKnplEHEtwpFDYj5gDf+AdyNfeo6guNoxa18Xv3QzrDCEmDTQS8OuQ1FPeC2R8sQgkNEze3s23B3YgCNB1y49GYQ7wH5Ng2PlR/UpwTDO9jfELQPsOVoKSrUghLLJmh4rJU2hLOWPXW91gCbDi1CipNAxf9iPKUeTLWeffXXcgNsOVqKGb40CcZTEFJfmh4JmaxqPOBChVom0ThABSrUQuMBV6JAS1a59Ob0OQ8J+MsYP0MUMDgwOL5JE5ZINy6XI95JLIstbpohMQWbDnqR8iZpq/1vB3xYalq6dPHXS5Ztzv4xl/K1UyBPJIr8mOZT7NtwNzYFDrmNCabawvmV6Jo2fqMBBd8GIJCMaH7cJpKmU0Z8k7GlaUVu1ixdAIBT19n6/mZ0Xefl6tWUTvfk7ugzR0Mo6mk6ZUgivlXY3OGmFblpqluDkLFQTvNM5f6DPvyBAFIKtn3wrjXEiSSEm4hvlYzt7faN/3LtBmfa2gGY7imho6sbgJbvz3Lu/AVriP40CEWNjB8slsp3OTGcGgPD/mTZdE8xnXEAgP7+QQzDoKDAYjklIIZ5VpI60cZVV28fu7/+gVeqnmP5wieTAB23YwArX1hO/Ws17Ny1l1udd6wH7Dfhu8Bi2wAAd+71sfvYOcpKitA1jalTHqOzqweAGeVePt61l47bNown9I9pWORPprrv+ei+50PXNc6cv8iIPzYlXx755lGHAimUJHaZeGSFwxH+vNExka4puYhocYA5Y+sK8gxerywHp4YyNNA1lFMDZ+r4UAqenjMr1UmBDEaQIxFkIIz0R3CMhHG3DUAgnAlgyIAG6jqIqgw4p8bzLy23dMI7u9La0cOHgSwABaJHIjhuOcJkyS2OaGjFrYT7hxi7GwYjaMduQDDzRAzNcBOa6SZUWsBgTz+uwQiFD4IU3s9660KOZPFeEwpX4Wex03DzV1+geDujUXcUTgcgOrq48/B6hlbGrg1tV28CUPGbj+qPrthwO65ZjnY63loUW1FRczvgz2g0wwHr8iB+lEdXlhP8qRbPkmJmmmEeJ8LiMi+Ly7x4187j5slahqvKrY1rQJHYAOlXsncO7QCxNWuHeCSUJx/zmZJksdIEgYejpyivvQ/tfqYvozRbu8CtjSsSLDEFwzvI01dnvQnHIyFO+3GcHT243YdCUiVyGC/rEr+ppN7fEEQ4a4GerB3HTMeE5BImFc4qft44lAkAsKeuF1OtnxSIAhFlnnyVK29cTi+e2MMkR3bkVJHw84S+gssNGWkis7VnT10vgfCLoHZiIztySgPm6q0scJRmMw7/9XGaKxKGUJQ52il0NHL1zd/HG94aIKFcz/M7UQc/BnUK5TCFohunOIFHfZK+0MbTvx9ltLez/h/sAAAAAElFTkSuQmCC) **TODO!**"
   ]
  },
  {
   "cell_type": "markdown",
   "metadata": {},
   "source": [
    "Affichons le cursor sous forme de liste issue de la collection. Désormais, les éléments ont un _id qui est un objet instancié (qui peut être mis mauellement lors de l'insertion), donc pas serializable dans un JSON normal 😉\n",
    "\n",
    "💡 Astuces :\n",
    "- la méthode `.to_list()` peut être pratique"
   ]
  },
  {
   "cell_type": "code",
   "execution_count": 37,
   "metadata": {},
   "outputs": [
    {
     "name": "stdout",
     "output_type": "stream",
     "text": [
      "{'_id': ObjectId('68df88aaf2d74a8e2503ec1c'), 'Number': 487, 'Name': 'Giratina', 'Type_1': 'Ghost', 'Type_2': 'Dragon', 'Total': 680, 'HP': 150, 'Attack': 120, 'Defense': 100, 'Sp_Atk': 120, 'Sp_Def': 100, 'Speed': 90, 'Generation': 4, 'isLegendary': True, 'Color': 'Black', 'hasGender': False, 'Pr_Male': nan, 'Egg_Group_1': 'Undiscovered', 'Egg_Group_2': None, 'hasMegaEvolution': False, 'Height_m': 6.91, 'Weight_kg': 650.0, 'Catch_Rate': 3, 'Body_Style': 'serpentine_body'}\n"
     ]
    }
   ],
   "source": [
    "pokemons = list(collection.find())\n",
    "print(pokemons[486])"
   ]
  },
  {
   "cell_type": "markdown",
   "metadata": {},
   "source": [
    "#### ![programming(3).png](data:image/png;base64,iVBORw0KGgoAAAANSUhEUgAAACAAAAAgCAYAAABzenr0AAAABHNCSVQICAgIfAhkiAAAAAlwSFlzAAAA3QAAAN0BcFOiBwAAABl0RVh0U29mdHdhcmUAd3d3Lmlua3NjYXBlLm9yZ5vuPBoAAAR7SURBVFiFtZdvaFVlHMc/z3PPuefuz825XWV3m5mWU1MLSVEyRoqKk2iLWBCT2uyFpTSIoCCHL0SDXkgUavhKCU3EpGmlorYSShtWig6M1M25gVPb3da2e6/3z3l6cf9u996d42pfOC/O8+/3+f2e5/f8EUopbKnplEHEtwpFDYj5gDf+AdyNfeo6guNoxa18Xv3QzrDCEmDTQS8OuQ1FPeC2R8sQgkNEze3s23B3YgCNB1y49GYQ7wH5Ng2PlR/UpwTDO9jfELQPsOVoKSrUghLLJmh4rJU2hLOWPXW91gCbDi1CipNAxf9iPKUeTLWeffXXcgNsOVqKGb40CcZTEFJfmh4JmaxqPOBChVom0ThABSrUQuMBV6JAS1a59Ob0OQ8J+MsYP0MUMDgwOL5JE5ZINy6XI95JLIstbpohMQWbDnqR8iZpq/1vB3xYalq6dPHXS5Ztzv4xl/K1UyBPJIr8mOZT7NtwNzYFDrmNCabawvmV6Jo2fqMBBd8GIJCMaH7cJpKmU0Z8k7GlaUVu1ixdAIBT19n6/mZ0Xefl6tWUTvfk7ugzR0Mo6mk6ZUgivlXY3OGmFblpqluDkLFQTvNM5f6DPvyBAFIKtn3wrjXEiSSEm4hvlYzt7faN/3LtBmfa2gGY7imho6sbgJbvz3Lu/AVriP40CEWNjB8slsp3OTGcGgPD/mTZdE8xnXEAgP7+QQzDoKDAYjklIIZ5VpI60cZVV28fu7/+gVeqnmP5wieTAB23YwArX1hO/Ws17Ny1l1udd6wH7Dfhu8Bi2wAAd+71sfvYOcpKitA1jalTHqOzqweAGeVePt61l47bNown9I9pWORPprrv+ei+50PXNc6cv8iIPzYlXx755lGHAimUJHaZeGSFwxH+vNExka4puYhocYA5Y+sK8gxerywHp4YyNNA1lFMDZ+r4UAqenjMr1UmBDEaQIxFkIIz0R3CMhHG3DUAgnAlgyIAG6jqIqgw4p8bzLy23dMI7u9La0cOHgSwABaJHIjhuOcJkyS2OaGjFrYT7hxi7GwYjaMduQDDzRAzNcBOa6SZUWsBgTz+uwQiFD4IU3s9660KOZPFeEwpX4Wex03DzV1+geDujUXcUTgcgOrq48/B6hlbGrg1tV28CUPGbj+qPrthwO65ZjnY63loUW1FRczvgz2g0wwHr8iB+lEdXlhP8qRbPkmJmmmEeJ8LiMi+Ly7x4187j5slahqvKrY1rQJHYAOlXsncO7QCxNWuHeCSUJx/zmZJksdIEgYejpyivvQ/tfqYvozRbu8CtjSsSLDEFwzvI01dnvQnHIyFO+3GcHT243YdCUiVyGC/rEr+ppN7fEEQ4a4GerB3HTMeE5BImFc4qft44lAkAsKeuF1OtnxSIAhFlnnyVK29cTi+e2MMkR3bkVJHw84S+gssNGWkis7VnT10vgfCLoHZiIztySgPm6q0scJRmMw7/9XGaKxKGUJQ52il0NHL1zd/HG94aIKFcz/M7UQc/BnUK5TCFohunOIFHfZK+0MbTvx9ltLez/h/sAAAAAElFTkSuQmCC) **TODO!**"
   ]
  },
  {
   "cell_type": "markdown",
   "metadata": {},
   "source": [
    "Affichez le premier élément"
   ]
  },
  {
   "cell_type": "code",
   "execution_count": 38,
   "metadata": {},
   "outputs": [
    {
     "name": "stdout",
     "output_type": "stream",
     "text": [
      "{'_id': ObjectId('68df88aaf2d74a8e2503ea36'), 'Number': 1, 'Name': 'Bulbasaur', 'Type_1': 'Grass', 'Type_2': 'Poison', 'Total': 318, 'HP': 45, 'Attack': 49, 'Defense': 49, 'Sp_Atk': 65, 'Sp_Def': 65, 'Speed': 45, 'Generation': 1, 'isLegendary': False, 'Color': 'Green', 'hasGender': True, 'Pr_Male': 0.875, 'Egg_Group_1': 'Monster', 'Egg_Group_2': 'Grass', 'hasMegaEvolution': False, 'Height_m': 0.71, 'Weight_kg': 6.9, 'Catch_Rate': 45, 'Body_Style': 'quadruped'}\n"
     ]
    }
   ],
   "source": [
    "premier_elem = collection.find_one()\n",
    "print(premier_elem)"
   ]
  },
  {
   "cell_type": "markdown",
   "metadata": {},
   "source": [
    "#### ![programming(3).png](data:image/png;base64,iVBORw0KGgoAAAANSUhEUgAAACAAAAAgCAYAAABzenr0AAAABHNCSVQICAgIfAhkiAAAAAlwSFlzAAAA3QAAAN0BcFOiBwAAABl0RVh0U29mdHdhcmUAd3d3Lmlua3NjYXBlLm9yZ5vuPBoAAAR7SURBVFiFtZdvaFVlHMc/z3PPuefuz825XWV3m5mWU1MLSVEyRoqKk2iLWBCT2uyFpTSIoCCHL0SDXkgUavhKCU3EpGmlorYSShtWig6M1M25gVPb3da2e6/3z3l6cf9u996d42pfOC/O8+/3+f2e5/f8EUopbKnplEHEtwpFDYj5gDf+AdyNfeo6guNoxa18Xv3QzrDCEmDTQS8OuQ1FPeC2R8sQgkNEze3s23B3YgCNB1y49GYQ7wH5Ng2PlR/UpwTDO9jfELQPsOVoKSrUghLLJmh4rJU2hLOWPXW91gCbDi1CipNAxf9iPKUeTLWeffXXcgNsOVqKGb40CcZTEFJfmh4JmaxqPOBChVom0ThABSrUQuMBV6JAS1a59Ob0OQ8J+MsYP0MUMDgwOL5JE5ZINy6XI95JLIstbpohMQWbDnqR8iZpq/1vB3xYalq6dPHXS5Ztzv4xl/K1UyBPJIr8mOZT7NtwNzYFDrmNCabawvmV6Jo2fqMBBd8GIJCMaH7cJpKmU0Z8k7GlaUVu1ixdAIBT19n6/mZ0Xefl6tWUTvfk7ugzR0Mo6mk6ZUgivlXY3OGmFblpqluDkLFQTvNM5f6DPvyBAFIKtn3wrjXEiSSEm4hvlYzt7faN/3LtBmfa2gGY7imho6sbgJbvz3Lu/AVriP40CEWNjB8slsp3OTGcGgPD/mTZdE8xnXEAgP7+QQzDoKDAYjklIIZ5VpI60cZVV28fu7/+gVeqnmP5wieTAB23YwArX1hO/Ws17Ny1l1udd6wH7Dfhu8Bi2wAAd+71sfvYOcpKitA1jalTHqOzqweAGeVePt61l47bNown9I9pWORPprrv+ei+50PXNc6cv8iIPzYlXx755lGHAimUJHaZeGSFwxH+vNExka4puYhocYA5Y+sK8gxerywHp4YyNNA1lFMDZ+r4UAqenjMr1UmBDEaQIxFkIIz0R3CMhHG3DUAgnAlgyIAG6jqIqgw4p8bzLy23dMI7u9La0cOHgSwABaJHIjhuOcJkyS2OaGjFrYT7hxi7GwYjaMduQDDzRAzNcBOa6SZUWsBgTz+uwQiFD4IU3s9660KOZPFeEwpX4Wex03DzV1+geDujUXcUTgcgOrq48/B6hlbGrg1tV28CUPGbj+qPrthwO65ZjnY63loUW1FRczvgz2g0wwHr8iB+lEdXlhP8qRbPkmJmmmEeJ8LiMi+Ly7x4187j5slahqvKrY1rQJHYAOlXsncO7QCxNWuHeCSUJx/zmZJksdIEgYejpyivvQ/tfqYvozRbu8CtjSsSLDEFwzvI01dnvQnHIyFO+3GcHT243YdCUiVyGC/rEr+ppN7fEEQ4a4GerB3HTMeE5BImFc4qft44lAkAsKeuF1OtnxSIAhFlnnyVK29cTi+e2MMkR3bkVJHw84S+gssNGWkis7VnT10vgfCLoHZiIztySgPm6q0scJRmMw7/9XGaKxKGUJQ52il0NHL1zd/HG94aIKFcz/M7UQc/BnUK5TCFohunOIFHfZK+0MbTvx9ltLez/h/sAAAAAElFTkSuQmCC) **TODO!**"
   ]
  },
  {
   "cell_type": "markdown",
   "metadata": {},
   "source": [
    "Affichez l'identifiant du premier élément de la collection.\n",
    "\n",
    "Qu'est-ce que cet identifiant ? De quel type est-il ?"
   ]
  },
  {
   "cell_type": "code",
   "execution_count": 46,
   "metadata": {},
   "outputs": [
    {
     "name": "stdout",
     "output_type": "stream",
     "text": [
      "voici l'id du pokemon 68df88aaf2d74a8e2503ea36\n",
      "voici son type principal Grass\n",
      "voici son type secondaire Poison\n"
     ]
    }
   ],
   "source": [
    "doc = collection.find_one()\n",
    "\n",
    "print(\"voici l'id du pokemon\", doc[\"_id\"])\n",
    "print(\"voici son type principal\", doc[\"Type_1\"])\n",
    "print(\"voici son type secondaire\", doc[\"Type_2\"])    "
   ]
  },
  {
   "cell_type": "markdown",
   "metadata": {},
   "source": [
    "#### ![programming(3).png](data:image/png;base64,iVBORw0KGgoAAAANSUhEUgAAACAAAAAgCAYAAABzenr0AAAABHNCSVQICAgIfAhkiAAAAAlwSFlzAAAA3QAAAN0BcFOiBwAAABl0RVh0U29mdHdhcmUAd3d3Lmlua3NjYXBlLm9yZ5vuPBoAAAR7SURBVFiFtZdvaFVlHMc/z3PPuefuz825XWV3m5mWU1MLSVEyRoqKk2iLWBCT2uyFpTSIoCCHL0SDXkgUavhKCU3EpGmlorYSShtWig6M1M25gVPb3da2e6/3z3l6cf9u996d42pfOC/O8+/3+f2e5/f8EUopbKnplEHEtwpFDYj5gDf+AdyNfeo6guNoxa18Xv3QzrDCEmDTQS8OuQ1FPeC2R8sQgkNEze3s23B3YgCNB1y49GYQ7wH5Ng2PlR/UpwTDO9jfELQPsOVoKSrUghLLJmh4rJU2hLOWPXW91gCbDi1CipNAxf9iPKUeTLWeffXXcgNsOVqKGb40CcZTEFJfmh4JmaxqPOBChVom0ThABSrUQuMBV6JAS1a59Ob0OQ8J+MsYP0MUMDgwOL5JE5ZINy6XI95JLIstbpohMQWbDnqR8iZpq/1vB3xYalq6dPHXS5Ztzv4xl/K1UyBPJIr8mOZT7NtwNzYFDrmNCabawvmV6Jo2fqMBBd8GIJCMaH7cJpKmU0Z8k7GlaUVu1ixdAIBT19n6/mZ0Xefl6tWUTvfk7ugzR0Mo6mk6ZUgivlXY3OGmFblpqluDkLFQTvNM5f6DPvyBAFIKtn3wrjXEiSSEm4hvlYzt7faN/3LtBmfa2gGY7imho6sbgJbvz3Lu/AVriP40CEWNjB8slsp3OTGcGgPD/mTZdE8xnXEAgP7+QQzDoKDAYjklIIZ5VpI60cZVV28fu7/+gVeqnmP5wieTAB23YwArX1hO/Ws17Ny1l1udd6wH7Dfhu8Bi2wAAd+71sfvYOcpKitA1jalTHqOzqweAGeVePt61l47bNown9I9pWORPprrv+ei+50PXNc6cv8iIPzYlXx755lGHAimUJHaZeGSFwxH+vNExka4puYhocYA5Y+sK8gxerywHp4YyNNA1lFMDZ+r4UAqenjMr1UmBDEaQIxFkIIz0R3CMhHG3DUAgnAlgyIAG6jqIqgw4p8bzLy23dMI7u9La0cOHgSwABaJHIjhuOcJkyS2OaGjFrYT7hxi7GwYjaMduQDDzRAzNcBOa6SZUWsBgTz+uwQiFD4IU3s9660KOZPFeEwpX4Wex03DzV1+geDujUXcUTgcgOrq48/B6hlbGrg1tV28CUPGbj+qPrthwO65ZjnY63loUW1FRczvgz2g0wwHr8iB+lEdXlhP8qRbPkmJmmmEeJ8LiMi+Ly7x4187j5slahqvKrY1rQJHYAOlXsncO7QCxNWuHeCSUJx/zmZJksdIEgYejpyivvQ/tfqYvozRbu8CtjSsSLDEFwzvI01dnvQnHIyFO+3GcHT243YdCUiVyGC/rEr+ppN7fEEQ4a4GerB3HTMeE5BImFc4qft44lAkAsKeuF1OtnxSIAhFlnnyVK29cTi+e2MMkR3bkVJHw84S+gssNGWkis7VnT10vgfCLoHZiIztySgPm6q0scJRmMw7/9XGaKxKGUJQ52il0NHL1zd/HG94aIKFcz/M7UQc/BnUK5TCFohunOIFHfZK+0MbTvx9ltLez/h/sAAAAAElFTkSuQmCC) **TODO!**"
   ]
  },
  {
   "cell_type": "markdown",
   "metadata": {},
   "source": [
    "Affichez le numéro du pokémon le plus mignon de l'univers.... carapuce !\n",
    "\n",
    "<img height=\"100px\" src=\"https://www.pokepedia.fr/images/thumb/c/cc/Carapuce-RFVF.png/800px-Carapuce-RFVF.png\">\n",
    "\n",
    "💡Astuce :\n",
    "- `find_one()` et `find()` acceptent des arguments 😉"
   ]
  },
  {
   "cell_type": "code",
   "execution_count": 54,
   "metadata": {},
   "outputs": [
    {
     "name": "stdout",
     "output_type": "stream",
     "text": [
      "7\n"
     ]
    }
   ],
   "source": [
    "num1 = collection.find_one({\"Name\": \"Squirtle\"})\n",
    "\n",
    "print(num1[\"Number\"])"
   ]
  },
  {
   "cell_type": "markdown",
   "metadata": {},
   "source": [
    "#### ![programming(3).png](data:image/png;base64,iVBORw0KGgoAAAANSUhEUgAAACAAAAAgCAYAAABzenr0AAAABHNCSVQICAgIfAhkiAAAAAlwSFlzAAAA3QAAAN0BcFOiBwAAABl0RVh0U29mdHdhcmUAd3d3Lmlua3NjYXBlLm9yZ5vuPBoAAAR7SURBVFiFtZdvaFVlHMc/z3PPuefuz825XWV3m5mWU1MLSVEyRoqKk2iLWBCT2uyFpTSIoCCHL0SDXkgUavhKCU3EpGmlorYSShtWig6M1M25gVPb3da2e6/3z3l6cf9u996d42pfOC/O8+/3+f2e5/f8EUopbKnplEHEtwpFDYj5gDf+AdyNfeo6guNoxa18Xv3QzrDCEmDTQS8OuQ1FPeC2R8sQgkNEze3s23B3YgCNB1y49GYQ7wH5Ng2PlR/UpwTDO9jfELQPsOVoKSrUghLLJmh4rJU2hLOWPXW91gCbDi1CipNAxf9iPKUeTLWeffXXcgNsOVqKGb40CcZTEFJfmh4JmaxqPOBChVom0ThABSrUQuMBV6JAS1a59Ob0OQ8J+MsYP0MUMDgwOL5JE5ZINy6XI95JLIstbpohMQWbDnqR8iZpq/1vB3xYalq6dPHXS5Ztzv4xl/K1UyBPJIr8mOZT7NtwNzYFDrmNCabawvmV6Jo2fqMBBd8GIJCMaH7cJpKmU0Z8k7GlaUVu1ixdAIBT19n6/mZ0Xefl6tWUTvfk7ugzR0Mo6mk6ZUgivlXY3OGmFblpqluDkLFQTvNM5f6DPvyBAFIKtn3wrjXEiSSEm4hvlYzt7faN/3LtBmfa2gGY7imho6sbgJbvz3Lu/AVriP40CEWNjB8slsp3OTGcGgPD/mTZdE8xnXEAgP7+QQzDoKDAYjklIIZ5VpI60cZVV28fu7/+gVeqnmP5wieTAB23YwArX1hO/Ws17Ny1l1udd6wH7Dfhu8Bi2wAAd+71sfvYOcpKitA1jalTHqOzqweAGeVePt61l47bNown9I9pWORPprrv+ei+50PXNc6cv8iIPzYlXx755lGHAimUJHaZeGSFwxH+vNExka4puYhocYA5Y+sK8gxerywHp4YyNNA1lFMDZ+r4UAqenjMr1UmBDEaQIxFkIIz0R3CMhHG3DUAgnAlgyIAG6jqIqgw4p8bzLy23dMI7u9La0cOHgSwABaJHIjhuOcJkyS2OaGjFrYT7hxi7GwYjaMduQDDzRAzNcBOa6SZUWsBgTz+uwQiFD4IU3s9660KOZPFeEwpX4Wex03DzV1+geDujUXcUTgcgOrq48/B6hlbGrg1tV28CUPGbj+qPrthwO65ZjnY63loUW1FRczvgz2g0wwHr8iB+lEdXlhP8qRbPkmJmmmEeJ8LiMi+Ly7x4187j5slahqvKrY1rQJHYAOlXsncO7QCxNWuHeCSUJx/zmZJksdIEgYejpyivvQ/tfqYvozRbu8CtjSsSLDEFwzvI01dnvQnHIyFO+3GcHT243YdCUiVyGC/rEr+ppN7fEEQ4a4GerB3HTMeE5BImFc4qft44lAkAsKeuF1OtnxSIAhFlnnyVK29cTi+e2MMkR3bkVJHw84S+gssNGWkis7VnT10vgfCLoHZiIztySgPm6q0scJRmMw7/9XGaKxKGUJQ52il0NHL1zd/HG94aIKFcz/M7UQc/BnUK5TCFohunOIFHfZK+0MbTvx9ltLez/h/sAAAAAElFTkSuQmCC) **TODO!**"
   ]
  },
  {
   "cell_type": "markdown",
   "metadata": {},
   "source": [
    "Affichez désormais uniquement les noms des pokemons avec leur premier type, un par ligne, en excluant l'id"
   ]
  },
  {
   "cell_type": "code",
   "execution_count": 72,
   "metadata": {},
   "outputs": [
    {
     "name": "stdout",
     "output_type": "stream",
     "text": [
      "Bulbasaur - Grass\n",
      "Ivysaur - Grass\n",
      "Venusaur - Grass\n",
      "Charmander - Fire\n",
      "Charmeleon - Fire\n",
      "Charizard - Fire\n",
      "Squirtle - Water\n",
      "Wartortle - Water\n",
      "Blastoise - Water\n",
      "Caterpie - Bug\n",
      "Metapod - Bug\n",
      "Butterfree - Bug\n",
      "Weedle - Bug\n",
      "Kakuna - Bug\n",
      "Beedrill - Bug\n",
      "Pidgey - Normal\n",
      "Pidgeotto - Normal\n",
      "Pidgeot - Normal\n",
      "Rattata - Normal\n",
      "Raticate - Normal\n",
      "Spearow - Normal\n",
      "Fearow - Normal\n",
      "Ekans - Poison\n",
      "Arbok - Poison\n",
      "Pikachu - Electric\n",
      "Raichu - Electric\n",
      "Sandshrew - Ground\n",
      "Sandslash - Ground\n",
      "Nidoran♀ - Poison\n",
      "Nidorina - Poison\n",
      "Nidoqueen - Poison\n",
      "Nidoran♂ - Poison\n",
      "Nidorino - Poison\n",
      "Nidoking - Poison\n",
      "Clefairy - Fairy\n",
      "Clefable - Fairy\n",
      "Vulpix - Fire\n",
      "Ninetales - Fire\n",
      "Jigglypuff - Normal\n",
      "Wigglytuff - Normal\n",
      "Zubat - Poison\n",
      "Golbat - Poison\n",
      "Oddish - Grass\n",
      "Gloom - Grass\n",
      "Vileplume - Grass\n",
      "Paras - Bug\n",
      "Parasect - Bug\n",
      "Venonat - Bug\n",
      "Venomoth - Bug\n",
      "Diglett - Ground\n",
      "Dugtrio - Ground\n",
      "Meowth - Normal\n",
      "Persian - Normal\n",
      "Psyduck - Water\n",
      "Golduck - Water\n",
      "Mankey - Fighting\n",
      "Primeape - Fighting\n",
      "Growlithe - Fire\n",
      "Arcanine - Fire\n",
      "Poliwag - Water\n",
      "Poliwhirl - Water\n",
      "Poliwrath - Water\n",
      "Abra - Psychic\n",
      "Kadabra - Psychic\n",
      "Alakazam - Psychic\n",
      "Machop - Fighting\n",
      "Machoke - Fighting\n",
      "Machamp - Fighting\n",
      "Bellsprout - Grass\n",
      "Weepinbell - Grass\n",
      "Victreebel - Grass\n",
      "Tentacool - Water\n",
      "Tentacruel - Water\n",
      "Geodude - Rock\n",
      "Graveler - Rock\n",
      "Golem - Rock\n",
      "Ponyta - Fire\n",
      "Rapidash - Fire\n",
      "Slowpoke - Water\n",
      "Slowbro - Water\n",
      "Magnemite - Electric\n",
      "Magneton - Electric\n",
      "Farfetch'd - Normal\n",
      "Doduo - Normal\n",
      "Dodrio - Normal\n",
      "Seel - Water\n",
      "Dewgong - Water\n",
      "Grimer - Poison\n",
      "Muk - Poison\n",
      "Shellder - Water\n",
      "Cloyster - Water\n",
      "Gastly - Ghost\n",
      "Haunter - Ghost\n",
      "Gengar - Ghost\n",
      "Onix - Rock\n",
      "Drowzee - Psychic\n",
      "Hypno - Psychic\n",
      "Krabby - Water\n",
      "Kingler - Water\n",
      "Voltorb - Electric\n",
      "Electrode - Electric\n",
      "Exeggcute - Grass\n",
      "Exeggutor - Grass\n",
      "Cubone - Ground\n",
      "Marowak - Ground\n",
      "Hitmonlee - Fighting\n",
      "Hitmonchan - Fighting\n",
      "Lickitung - Normal\n",
      "Koffing - Poison\n",
      "Weezing - Poison\n",
      "Rhyhorn - Ground\n",
      "Rhydon - Ground\n",
      "Chansey - Normal\n",
      "Tangela - Grass\n",
      "Kangaskhan - Normal\n",
      "Horsea - Water\n",
      "Seadra - Water\n",
      "Goldeen - Water\n",
      "Seaking - Water\n",
      "Staryu - Water\n",
      "Starmie - Water\n",
      "Mr._Mime - Psychic\n",
      "Scyther - Bug\n",
      "Jynx - Ice\n",
      "Electabuzz - Electric\n",
      "Magmar - Fire\n",
      "Pinsir - Bug\n",
      "Tauros - Normal\n",
      "Magikarp - Water\n",
      "Gyarados - Water\n",
      "Lapras - Water\n",
      "Ditto - Normal\n",
      "Eevee - Normal\n",
      "Vaporeon - Water\n",
      "Jolteon - Electric\n",
      "Flareon - Fire\n",
      "Porygon - Normal\n",
      "Omanyte - Rock\n",
      "Omastar - Rock\n",
      "Kabuto - Rock\n",
      "Kabutops - Rock\n",
      "Aerodactyl - Rock\n",
      "Snorlax - Normal\n",
      "Articuno - Ice\n",
      "Zapdos - Electric\n",
      "Moltres - Fire\n",
      "Dratini - Dragon\n",
      "Dragonair - Dragon\n",
      "Dragonite - Dragon\n",
      "Mewtwo - Psychic\n",
      "Mew - Psychic\n",
      "Chikorita - Grass\n",
      "Bayleef - Grass\n",
      "Meganium - Grass\n",
      "Cyndaquil - Fire\n",
      "Quilava - Fire\n",
      "Typhlosion - Fire\n",
      "Totodile - Water\n",
      "Croconaw - Water\n",
      "Feraligatr - Water\n",
      "Sentret - Normal\n",
      "Furret - Normal\n",
      "Hoothoot - Normal\n",
      "Noctowl - Normal\n",
      "Ledyba - Bug\n",
      "Ledian - Bug\n",
      "Spinarak - Bug\n",
      "Ariados - Bug\n",
      "Crobat - Poison\n",
      "Chinchou - Water\n",
      "Lanturn - Water\n",
      "Pichu - Electric\n",
      "Cleffa - Fairy\n",
      "Igglybuff - Normal\n",
      "Togepi - Fairy\n",
      "Togetic - Fairy\n",
      "Natu - Psychic\n",
      "Xatu - Psychic\n",
      "Mareep - Electric\n",
      "Flaaffy - Electric\n",
      "Ampharos - Electric\n",
      "Bellossom - Grass\n",
      "Marill - Water\n",
      "Azumarill - Water\n",
      "Sudowoodo - Rock\n",
      "Politoed - Water\n",
      "Hoppip - Grass\n",
      "Skiploom - Grass\n",
      "Jumpluff - Grass\n",
      "Aipom - Normal\n",
      "Sunkern - Grass\n",
      "Sunflora - Grass\n",
      "Yanma - Bug\n",
      "Wooper - Water\n",
      "Quagsire - Water\n",
      "Espeon - Psychic\n",
      "Umbreon - Dark\n",
      "Murkrow - Dark\n",
      "Slowking - Water\n",
      "Misdreavus - Ghost\n",
      "Unown - Psychic\n",
      "Wobbuffet - Psychic\n",
      "Girafarig - Normal\n",
      "Pineco - Bug\n",
      "Forretress - Bug\n",
      "Dunsparce - Normal\n",
      "Gligar - Ground\n",
      "Steelix - Steel\n",
      "Snubbull - Fairy\n",
      "Granbull - Fairy\n",
      "Qwilfish - Water\n",
      "Scizor - Bug\n",
      "Shuckle - Bug\n",
      "Heracross - Bug\n",
      "Sneasel - Dark\n",
      "Teddiursa - Normal\n",
      "Ursaring - Normal\n",
      "Slugma - Fire\n",
      "Magcargo - Fire\n",
      "Swinub - Ice\n",
      "Piloswine - Ice\n",
      "Corsola - Water\n",
      "Remoraid - Water\n",
      "Octillery - Water\n",
      "Delibird - Ice\n",
      "Mantine - Water\n",
      "Skarmory - Steel\n",
      "Houndour - Dark\n",
      "Houndoom - Dark\n",
      "Kingdra - Water\n",
      "Phanpy - Ground\n",
      "Donphan - Ground\n",
      "Porygon2 - Normal\n",
      "Stantler - Normal\n",
      "Smeargle - Normal\n",
      "Tyrogue - Fighting\n",
      "Hitmontop - Fighting\n",
      "Smoochum - Ice\n",
      "Elekid - Electric\n",
      "Magby - Fire\n",
      "Miltank - Normal\n",
      "Blissey - Normal\n",
      "Raikou - Electric\n",
      "Entei - Fire\n",
      "Suicune - Water\n",
      "Larvitar - Rock\n",
      "Pupitar - Rock\n",
      "Tyranitar - Rock\n",
      "Lugia - Psychic\n",
      "Ho-Oh - Fire\n",
      "Celebi - Psychic\n",
      "Treecko - Grass\n",
      "Grovyle - Grass\n",
      "Sceptile - Grass\n",
      "Torchic - Fire\n",
      "Combusken - Fire\n",
      "Blaziken - Fire\n",
      "Mudkip - Water\n",
      "Marshtomp - Water\n",
      "Swampert - Water\n",
      "Poochyena - Dark\n",
      "Mightyena - Dark\n",
      "Zigzagoon - Normal\n",
      "Linoone - Normal\n",
      "Wurmple - Bug\n",
      "Silcoon - Bug\n",
      "Beautifly - Bug\n",
      "Cascoon - Bug\n",
      "Dustox - Bug\n",
      "Lotad - Water\n",
      "Lombre - Water\n",
      "Ludicolo - Water\n",
      "Seedot - Grass\n",
      "Nuzleaf - Grass\n",
      "Shiftry - Grass\n",
      "Taillow - Normal\n",
      "Swellow - Normal\n",
      "Wingull - Water\n",
      "Pelipper - Water\n",
      "Ralts - Psychic\n",
      "Kirlia - Psychic\n",
      "Gardevoir - Psychic\n",
      "Surskit - Bug\n",
      "Masquerain - Bug\n",
      "Shroomish - Grass\n",
      "Breloom - Grass\n",
      "Slakoth - Normal\n",
      "Vigoroth - Normal\n",
      "Slaking - Normal\n",
      "Nincada - Bug\n",
      "Ninjask - Bug\n",
      "Shedinja - Bug\n",
      "Whismur - Normal\n",
      "Loudred - Normal\n",
      "Exploud - Normal\n",
      "Makuhita - Fighting\n",
      "Hariyama - Fighting\n",
      "Azurill - Normal\n",
      "Nosepass - Rock\n",
      "Skitty - Normal\n",
      "Delcatty - Normal\n",
      "Sableye - Dark\n",
      "Mawile - Steel\n",
      "Aron - Steel\n",
      "Lairon - Steel\n",
      "Aggron - Steel\n",
      "Meditite - Fighting\n",
      "Medicham - Fighting\n",
      "Electrike - Electric\n",
      "Manectric - Electric\n",
      "Plusle - Electric\n",
      "Minun - Electric\n",
      "Volbeat - Bug\n",
      "Illumise - Bug\n",
      "Roselia - Grass\n",
      "Gulpin - Poison\n",
      "Swalot - Poison\n",
      "Carvanha - Water\n",
      "Sharpedo - Water\n",
      "Wailmer - Water\n",
      "Wailord - Water\n",
      "Numel - Fire\n",
      "Camerupt - Fire\n",
      "Torkoal - Fire\n",
      "Spoink - Psychic\n",
      "Grumpig - Psychic\n",
      "Spinda - Normal\n",
      "Trapinch - Ground\n",
      "Vibrava - Ground\n",
      "Flygon - Ground\n",
      "Cacnea - Grass\n",
      "Cacturne - Grass\n",
      "Swablu - Normal\n",
      "Altaria - Dragon\n",
      "Zangoose - Normal\n",
      "Seviper - Poison\n",
      "Lunatone - Rock\n",
      "Solrock - Rock\n",
      "Barboach - Water\n",
      "Whiscash - Water\n",
      "Corphish - Water\n",
      "Crawdaunt - Water\n",
      "Baltoy - Ground\n",
      "Claydol - Ground\n",
      "Lileep - Rock\n",
      "Cradily - Rock\n",
      "Anorith - Rock\n",
      "Armaldo - Rock\n",
      "Feebas - Water\n",
      "Milotic - Water\n",
      "Castform - Normal\n",
      "Kecleon - Normal\n",
      "Shuppet - Ghost\n",
      "Banette - Ghost\n",
      "Duskull - Ghost\n",
      "Dusclops - Ghost\n",
      "Tropius - Grass\n",
      "Chimecho - Psychic\n",
      "Absol - Dark\n",
      "Wynaut - Psychic\n",
      "Snorunt - Ice\n",
      "Glalie - Ice\n",
      "Spheal - Ice\n",
      "Sealeo - Ice\n",
      "Walrein - Ice\n",
      "Clamperl - Water\n",
      "Huntail - Water\n",
      "Gorebyss - Water\n",
      "Relicanth - Water\n",
      "Luvdisc - Water\n",
      "Bagon - Dragon\n",
      "Shelgon - Dragon\n",
      "Salamence - Dragon\n",
      "Beldum - Steel\n",
      "Metang - Steel\n",
      "Metagross - Steel\n",
      "Regirock - Rock\n",
      "Regice - Ice\n",
      "Registeel - Steel\n",
      "Latias - Dragon\n",
      "Latios - Dragon\n",
      "Kyogre - Water\n",
      "Groudon - Ground\n",
      "Rayquaza - Dragon\n",
      "Jirachi - Steel\n",
      "Deoxys - Psychic\n",
      "Turtwig - Grass\n",
      "Grotle - Grass\n",
      "Torterra - Grass\n",
      "Chimchar - Fire\n",
      "Monferno - Fire\n",
      "Infernape - Fire\n",
      "Piplup - Water\n",
      "Prinplup - Water\n",
      "Empoleon - Water\n",
      "Starly - Normal\n",
      "Staravia - Normal\n",
      "Staraptor - Normal\n",
      "Bidoof - Normal\n",
      "Bibarel - Normal\n",
      "Kricketot - Bug\n",
      "Kricketune - Bug\n",
      "Shinx - Electric\n",
      "Luxio - Electric\n",
      "Luxray - Electric\n",
      "Budew - Grass\n",
      "Roserade - Grass\n",
      "Cranidos - Rock\n",
      "Rampardos - Rock\n",
      "Shieldon - Rock\n",
      "Bastiodon - Rock\n",
      "Burmy - Bug\n",
      "Wormadam - Bug\n",
      "Mothim - Bug\n",
      "Combee - Bug\n",
      "Vespiquen - Bug\n",
      "Pachirisu - Electric\n",
      "Buizel - Water\n",
      "Floatzel - Water\n",
      "Cherubi - Grass\n",
      "Cherrim - Grass\n",
      "Shellos - Water\n",
      "Gastrodon - Water\n",
      "Ambipom - Normal\n",
      "Drifloon - Ghost\n",
      "Drifblim - Ghost\n",
      "Buneary - Normal\n",
      "Lopunny - Normal\n",
      "Mismagius - Ghost\n",
      "Honchkrow - Dark\n",
      "Glameow - Normal\n",
      "Purugly - Normal\n",
      "Chingling - Psychic\n",
      "Stunky - Poison\n",
      "Skuntank - Poison\n",
      "Bronzor - Steel\n",
      "Bronzong - Steel\n",
      "Bonsly - Rock\n",
      "Mime_Jr. - Psychic\n",
      "Happiny - Normal\n",
      "Chatot - Normal\n",
      "Spiritomb - Ghost\n",
      "Gible - Dragon\n",
      "Gabite - Dragon\n",
      "Garchomp - Dragon\n",
      "Munchlax - Normal\n",
      "Riolu - Fighting\n",
      "Lucario - Fighting\n",
      "Hippopotas - Ground\n",
      "Hippowdon - Ground\n",
      "Skorupi - Poison\n",
      "Drapion - Poison\n",
      "Croagunk - Poison\n",
      "Toxicroak - Poison\n",
      "Carnivine - Grass\n",
      "Finneon - Water\n",
      "Lumineon - Water\n",
      "Mantyke - Water\n",
      "Snover - Grass\n",
      "Abomasnow - Grass\n",
      "Weavile - Dark\n",
      "Magnezone - Electric\n",
      "Lickilicky - Normal\n",
      "Rhyperior - Ground\n",
      "Tangrowth - Grass\n",
      "Electivire - Electric\n",
      "Magmortar - Fire\n",
      "Togekiss - Fairy\n",
      "Yanmega - Bug\n",
      "Leafeon - Grass\n",
      "Glaceon - Ice\n",
      "Gliscor - Ground\n",
      "Mamoswine - Ice\n",
      "Porygon-Z - Normal\n",
      "Gallade - Psychic\n",
      "Probopass - Rock\n",
      "Dusknoir - Ghost\n",
      "Froslass - Ice\n",
      "Rotom - Electric\n",
      "Uxie - Psychic\n",
      "Mesprit - Psychic\n",
      "Azelf - Psychic\n",
      "Dialga - Steel\n",
      "Palkia - Water\n",
      "Heatran - Fire\n",
      "Regigigas - Normal\n",
      "Giratina - Ghost\n",
      "Cresselia - Psychic\n",
      "Phione - Water\n",
      "Manaphy - Water\n",
      "Darkrai - Dark\n",
      "Shaymin - Grass\n",
      "Arceus - Normal\n",
      "Victini - Psychic\n",
      "Snivy - Grass\n",
      "Servine - Grass\n",
      "Serperior - Grass\n",
      "Tepig - Fire\n",
      "Pignite - Fire\n",
      "Emboar - Fire\n",
      "Oshawott - Water\n",
      "Dewott - Water\n",
      "Samurott - Water\n",
      "Patrat - Normal\n",
      "Watchog - Normal\n",
      "Lillipup - Normal\n",
      "Herdier - Normal\n",
      "Stoutland - Normal\n",
      "Purrloin - Dark\n",
      "Liepard - Dark\n",
      "Pansage - Grass\n",
      "Simisage - Grass\n",
      "Pansear - Fire\n",
      "Simisear - Fire\n",
      "Panpour - Water\n",
      "Simipour - Water\n",
      "Munna - Psychic\n",
      "Musharna - Psychic\n",
      "Pidove - Normal\n",
      "Tranquill - Normal\n",
      "Unfezant - Normal\n",
      "Blitzle - Electric\n",
      "Zebstrika - Electric\n",
      "Roggenrola - Rock\n",
      "Boldore - Rock\n",
      "Gigalith - Rock\n",
      "Woobat - Psychic\n",
      "Swoobat - Psychic\n",
      "Drilbur - Ground\n",
      "Excadrill - Ground\n",
      "Audino - Normal\n",
      "Timburr - Fighting\n",
      "Gurdurr - Fighting\n",
      "Conkeldurr - Fighting\n",
      "Tympole - Water\n",
      "Palpitoad - Water\n",
      "Seismitoad - Water\n",
      "Throh - Fighting\n",
      "Sawk - Fighting\n",
      "Sewaddle - Bug\n",
      "Swadloon - Bug\n",
      "Leavanny - Bug\n",
      "Venipede - Bug\n",
      "Whirlipede - Bug\n",
      "Scolipede - Bug\n",
      "Cottonee - Grass\n",
      "Whimsicott - Grass\n",
      "Petilil - Grass\n",
      "Lilligant - Grass\n",
      "Basculin - Water\n",
      "Sandile - Ground\n",
      "Krokorok - Ground\n",
      "Krookodile - Ground\n",
      "Darumaka - Fire\n",
      "Darmanitan - Fire\n",
      "Maractus - Grass\n",
      "Dwebble - Bug\n",
      "Crustle - Bug\n",
      "Scraggy - Dark\n",
      "Scrafty - Dark\n",
      "Sigilyph - Psychic\n",
      "Yamask - Ghost\n",
      "Cofagrigus - Ghost\n",
      "Tirtouga - Water\n",
      "Carracosta - Water\n",
      "Archen - Rock\n",
      "Archeops - Rock\n",
      "Trubbish - Poison\n",
      "Garbodor - Poison\n",
      "Zorua - Dark\n",
      "Zoroark - Dark\n",
      "Minccino - Normal\n",
      "Cinccino - Normal\n",
      "Gothita - Psychic\n",
      "Gothorita - Psychic\n",
      "Gothitelle - Psychic\n",
      "Solosis - Psychic\n",
      "Duosion - Psychic\n",
      "Reuniclus - Psychic\n",
      "Ducklett - Water\n",
      "Swanna - Water\n",
      "Vanillite - Ice\n",
      "Vanillish - Ice\n",
      "Vanilluxe - Ice\n",
      "Deerling - Normal\n",
      "Sawsbuck - Normal\n",
      "Emolga - Electric\n",
      "Karrablast - Bug\n",
      "Escavalier - Bug\n",
      "Foongus - Grass\n",
      "Amoonguss - Grass\n",
      "Frillish - Water\n",
      "Jellicent - Water\n",
      "Alomomola - Water\n",
      "Joltik - Bug\n",
      "Galvantula - Bug\n",
      "Ferroseed - Grass\n",
      "Ferrothorn - Grass\n",
      "Klink - Steel\n",
      "Klang - Steel\n",
      "Klinklang - Steel\n",
      "Tynamo - Electric\n",
      "Eelektrik - Electric\n",
      "Eelektross - Electric\n",
      "Elgyem - Psychic\n",
      "Beheeyem - Psychic\n",
      "Litwick - Ghost\n",
      "Lampent - Ghost\n",
      "Chandelure - Ghost\n",
      "Axew - Dragon\n",
      "Fraxure - Dragon\n",
      "Haxorus - Dragon\n",
      "Cubchoo - Ice\n",
      "Beartic - Ice\n",
      "Cryogonal - Ice\n",
      "Shelmet - Bug\n",
      "Accelgor - Bug\n",
      "Stunfisk - Ground\n",
      "Mienfoo - Fighting\n",
      "Mienshao - Fighting\n",
      "Druddigon - Dragon\n",
      "Golett - Ground\n",
      "Golurk - Ground\n",
      "Pawniard - Dark\n",
      "Bisharp - Dark\n",
      "Bouffalant - Normal\n",
      "Rufflet - Normal\n",
      "Braviary - Normal\n",
      "Vullaby - Dark\n",
      "Mandibuzz - Dark\n",
      "Heatmor - Fire\n",
      "Durant - Bug\n",
      "Deino - Dark\n",
      "Zweilous - Dark\n",
      "Hydreigon - Dark\n",
      "Larvesta - Bug\n",
      "Volcarona - Bug\n",
      "Cobalion - Steel\n",
      "Terrakion - Rock\n",
      "Virizion - Grass\n",
      "Tornadus - Flying\n",
      "Thundurus - Electric\n",
      "Reshiram - Dragon\n",
      "Zekrom - Dragon\n",
      "Landorus - Ground\n",
      "Kyurem - Dragon\n",
      "Keldeo - Water\n",
      "Meloetta - Normal\n",
      "Genesect - Bug\n",
      "Chespin - Grass\n",
      "Quilladin - Grass\n",
      "Chesnaught - Grass\n",
      "Fennekin - Fire\n",
      "Braixen - Fire\n",
      "Delphox - Fire\n",
      "Froakie - Water\n",
      "Frogadier - Water\n",
      "Greninja - Water\n",
      "Bunnelby - Normal\n",
      "Diggersby - Normal\n",
      "Fletchling - Normal\n",
      "Fletchinder - Fire\n",
      "Talonflame - Fire\n",
      "Scatterbug - Bug\n",
      "Spewpa - Bug\n",
      "Vivillon - Bug\n",
      "Litleo - Fire\n",
      "Pyroar - Fire\n",
      "Flabébé - Fairy\n",
      "Floette - Fairy\n",
      "Florges - Fairy\n",
      "Skiddo - Grass\n",
      "Gogoat - Grass\n",
      "Pancham - Fighting\n",
      "Pangoro - Fighting\n",
      "Furfrou - Normal\n",
      "Espurr - Psychic\n",
      "Meowstic - Psychic\n",
      "Honedge - Steel\n",
      "Doublade - Steel\n",
      "Aegislash - Steel\n",
      "Spritzee - Fairy\n",
      "Aromatisse - Fairy\n",
      "Swirlix - Fairy\n",
      "Slurpuff - Fairy\n",
      "Inkay - Dark\n",
      "Malamar - Dark\n",
      "Binacle - Rock\n",
      "Barbaracle - Rock\n",
      "Skrelp - Poison\n",
      "Dragalge - Poison\n",
      "Clauncher - Water\n",
      "Clawitzer - Water\n",
      "Helioptile - Electric\n",
      "Heliolisk - Electric\n",
      "Tyrunt - Rock\n",
      "Tyrantrum - Rock\n",
      "Amaura - Rock\n",
      "Aurorus - Rock\n",
      "Sylveon - Fairy\n",
      "Hawlucha - Fighting\n",
      "Dedenne - Electric\n",
      "Carbink - Rock\n",
      "Goomy - Dragon\n",
      "Sliggoo - Dragon\n",
      "Goodra - Dragon\n",
      "Klefki - Steel\n",
      "Phantump - Ghost\n",
      "Trevenant - Ghost\n",
      "Pumpkaboo - Ghost\n",
      "Gourgeist - Ghost\n",
      "Bergmite - Ice\n",
      "Avalugg - Ice\n",
      "Noibat - Flying\n",
      "Noivern - Flying\n",
      "Xerneas - Fairy\n",
      "Yveltal - Dark\n",
      "Zygarde - Dragon\n",
      "Diancie - Rock\n",
      "Hoopa - Psychic\n",
      "Volcanion - Fire\n"
     ]
    },
    {
     "ename": "KeyError",
     "evalue": "'Name'",
     "output_type": "error",
     "traceback": [
      "\u001b[0;31m---------------------------------------------------------------------------\u001b[0m",
      "\u001b[0;31mKeyError\u001b[0m                                  Traceback (most recent call last)",
      "Cell \u001b[0;32mIn[72], line 4\u001b[0m\n\u001b[1;32m      1\u001b[0m collection\u001b[38;5;241m.\u001b[39mfind({}, {\u001b[38;5;124m\"\u001b[39m\u001b[38;5;124m_id\u001b[39m\u001b[38;5;124m\"\u001b[39m: \u001b[38;5;241m0\u001b[39m, \u001b[38;5;124m\"\u001b[39m\u001b[38;5;124mName\u001b[39m\u001b[38;5;124m\"\u001b[39m: \u001b[38;5;241m1\u001b[39m, \u001b[38;5;124m\"\u001b[39m\u001b[38;5;124mType_1\u001b[39m\u001b[38;5;124m\"\u001b[39m: \u001b[38;5;241m1\u001b[39m})\n\u001b[1;32m      3\u001b[0m \u001b[38;5;28;01mfor\u001b[39;00m doc \u001b[38;5;129;01min\u001b[39;00m pokemons:\n\u001b[0;32m----> 4\u001b[0m     \u001b[38;5;28mprint\u001b[39m(\u001b[43mdoc\u001b[49m\u001b[43m[\u001b[49m\u001b[38;5;124;43m\"\u001b[39;49m\u001b[38;5;124;43mName\u001b[39;49m\u001b[38;5;124;43m\"\u001b[39;49m\u001b[43m]\u001b[49m, \u001b[38;5;124m\"\u001b[39m\u001b[38;5;124m-\u001b[39m\u001b[38;5;124m\"\u001b[39m, doc[\u001b[38;5;124m\"\u001b[39m\u001b[38;5;124mType_1\u001b[39m\u001b[38;5;124m\"\u001b[39m])\n",
      "\u001b[0;31mKeyError\u001b[0m: 'Name'"
     ]
    }
   ],
   "source": [
    "collection.find({}, {\"_id\": 0, \"Name\": 1, \"Type_1\": 1})\n",
    "\n",
    "for doc in pokemons:\n",
    "    print(doc[\"Name\"], \"-\", doc[\"Type_1\"])"
   ]
  },
  {
   "cell_type": "markdown",
   "metadata": {},
   "source": [
    "#### ![programming(3).png](data:image/png;base64,iVBORw0KGgoAAAANSUhEUgAAACAAAAAgCAYAAABzenr0AAAABHNCSVQICAgIfAhkiAAAAAlwSFlzAAAA3QAAAN0BcFOiBwAAABl0RVh0U29mdHdhcmUAd3d3Lmlua3NjYXBlLm9yZ5vuPBoAAAR7SURBVFiFtZdvaFVlHMc/z3PPuefuz825XWV3m5mWU1MLSVEyRoqKk2iLWBCT2uyFpTSIoCCHL0SDXkgUavhKCU3EpGmlorYSShtWig6M1M25gVPb3da2e6/3z3l6cf9u996d42pfOC/O8+/3+f2e5/f8EUopbKnplEHEtwpFDYj5gDf+AdyNfeo6guNoxa18Xv3QzrDCEmDTQS8OuQ1FPeC2R8sQgkNEze3s23B3YgCNB1y49GYQ7wH5Ng2PlR/UpwTDO9jfELQPsOVoKSrUghLLJmh4rJU2hLOWPXW91gCbDi1CipNAxf9iPKUeTLWeffXXcgNsOVqKGb40CcZTEFJfmh4JmaxqPOBChVom0ThABSrUQuMBV6JAS1a59Ob0OQ8J+MsYP0MUMDgwOL5JE5ZINy6XI95JLIstbpohMQWbDnqR8iZpq/1vB3xYalq6dPHXS5Ztzv4xl/K1UyBPJIr8mOZT7NtwNzYFDrmNCabawvmV6Jo2fqMBBd8GIJCMaH7cJpKmU0Z8k7GlaUVu1ixdAIBT19n6/mZ0Xefl6tWUTvfk7ugzR0Mo6mk6ZUgivlXY3OGmFblpqluDkLFQTvNM5f6DPvyBAFIKtn3wrjXEiSSEm4hvlYzt7faN/3LtBmfa2gGY7imho6sbgJbvz3Lu/AVriP40CEWNjB8slsp3OTGcGgPD/mTZdE8xnXEAgP7+QQzDoKDAYjklIIZ5VpI60cZVV28fu7/+gVeqnmP5wieTAB23YwArX1hO/Ws17Ny1l1udd6wH7Dfhu8Bi2wAAd+71sfvYOcpKitA1jalTHqOzqweAGeVePt61l47bNown9I9pWORPprrv+ei+50PXNc6cv8iIPzYlXx755lGHAimUJHaZeGSFwxH+vNExka4puYhocYA5Y+sK8gxerywHp4YyNNA1lFMDZ+r4UAqenjMr1UmBDEaQIxFkIIz0R3CMhHG3DUAgnAlgyIAG6jqIqgw4p8bzLy23dMI7u9La0cOHgSwABaJHIjhuOcJkyS2OaGjFrYT7hxi7GwYjaMduQDDzRAzNcBOa6SZUWsBgTz+uwQiFD4IU3s9660KOZPFeEwpX4Wex03DzV1+geDujUXcUTgcgOrq48/B6hlbGrg1tV28CUPGbj+qPrthwO65ZjnY63loUW1FRczvgz2g0wwHr8iB+lEdXlhP8qRbPkmJmmmEeJ8LiMi+Ly7x4187j5slahqvKrY1rQJHYAOlXsncO7QCxNWuHeCSUJx/zmZJksdIEgYejpyivvQ/tfqYvozRbu8CtjSsSLDEFwzvI01dnvQnHIyFO+3GcHT243YdCUiVyGC/rEr+ppN7fEEQ4a4GerB3HTMeE5BImFc4qft44lAkAsKeuF1OtnxSIAhFlnnyVK29cTi+e2MMkR3bkVJHw84S+gssNGWkis7VnT10vgfCLoHZiIztySgPm6q0scJRmMw7/9XGaKxKGUJQ52il0NHL1zd/HG94aIKFcz/M7UQc/BnUK5TCFohunOIFHfZK+0MbTvx9ltLez/h/sAAAAAElFTkSuQmCC) **TODO!**"
   ]
  },
  {
   "cell_type": "markdown",
   "metadata": {},
   "source": [
    "Combien de pokemons ont un nom commençant par A ?\n",
    "\n",
    "💡 Astuces :\n",
    "- vive les expressions régulières"
   ]
  },
  {
   "cell_type": "code",
   "execution_count": 70,
   "metadata": {},
   "outputs": [
    {
     "name": "stdout",
     "output_type": "stream",
     "text": [
      "Nombre de pokémons dont le nom commence par A : 33\n"
     ]
    }
   ],
   "source": [
    "count = collection.count_documents({\"Name\": {\"$regex\": \"^A\"}})\n",
    "print(\"Nombre de pokémons dont le nom commence par A :\", count)"
   ]
  },
  {
   "cell_type": "markdown",
   "metadata": {},
   "source": [
    "#### ![programming(3).png](data:image/png;base64,iVBORw0KGgoAAAANSUhEUgAAACAAAAAgCAYAAABzenr0AAAABHNCSVQICAgIfAhkiAAAAAlwSFlzAAAA3QAAAN0BcFOiBwAAABl0RVh0U29mdHdhcmUAd3d3Lmlua3NjYXBlLm9yZ5vuPBoAAAR7SURBVFiFtZdvaFVlHMc/z3PPuefuz825XWV3m5mWU1MLSVEyRoqKk2iLWBCT2uyFpTSIoCCHL0SDXkgUavhKCU3EpGmlorYSShtWig6M1M25gVPb3da2e6/3z3l6cf9u996d42pfOC/O8+/3+f2e5/f8EUopbKnplEHEtwpFDYj5gDf+AdyNfeo6guNoxa18Xv3QzrDCEmDTQS8OuQ1FPeC2R8sQgkNEze3s23B3YgCNB1y49GYQ7wH5Ng2PlR/UpwTDO9jfELQPsOVoKSrUghLLJmh4rJU2hLOWPXW91gCbDi1CipNAxf9iPKUeTLWeffXXcgNsOVqKGb40CcZTEFJfmh4JmaxqPOBChVom0ThABSrUQuMBV6JAS1a59Ob0OQ8J+MsYP0MUMDgwOL5JE5ZINy6XI95JLIstbpohMQWbDnqR8iZpq/1vB3xYalq6dPHXS5Ztzv4xl/K1UyBPJIr8mOZT7NtwNzYFDrmNCabawvmV6Jo2fqMBBd8GIJCMaH7cJpKmU0Z8k7GlaUVu1ixdAIBT19n6/mZ0Xefl6tWUTvfk7ugzR0Mo6mk6ZUgivlXY3OGmFblpqluDkLFQTvNM5f6DPvyBAFIKtn3wrjXEiSSEm4hvlYzt7faN/3LtBmfa2gGY7imho6sbgJbvz3Lu/AVriP40CEWNjB8slsp3OTGcGgPD/mTZdE8xnXEAgP7+QQzDoKDAYjklIIZ5VpI60cZVV28fu7/+gVeqnmP5wieTAB23YwArX1hO/Ws17Ny1l1udd6wH7Dfhu8Bi2wAAd+71sfvYOcpKitA1jalTHqOzqweAGeVePt61l47bNown9I9pWORPprrv+ei+50PXNc6cv8iIPzYlXx755lGHAimUJHaZeGSFwxH+vNExka4puYhocYA5Y+sK8gxerywHp4YyNNA1lFMDZ+r4UAqenjMr1UmBDEaQIxFkIIz0R3CMhHG3DUAgnAlgyIAG6jqIqgw4p8bzLy23dMI7u9La0cOHgSwABaJHIjhuOcJkyS2OaGjFrYT7hxi7GwYjaMduQDDzRAzNcBOa6SZUWsBgTz+uwQiFD4IU3s9660KOZPFeEwpX4Wex03DzV1+geDujUXcUTgcgOrq48/B6hlbGrg1tV28CUPGbj+qPrthwO65ZjnY63loUW1FRczvgz2g0wwHr8iB+lEdXlhP8qRbPkmJmmmEeJ8LiMi+Ly7x4187j5slahqvKrY1rQJHYAOlXsncO7QCxNWuHeCSUJx/zmZJksdIEgYejpyivvQ/tfqYvozRbu8CtjSsSLDEFwzvI01dnvQnHIyFO+3GcHT243YdCUiVyGC/rEr+ppN7fEEQ4a4GerB3HTMeE5BImFc4qft44lAkAsKeuF1OtnxSIAhFlnnyVK29cTi+e2MMkR3bkVJHw84S+gssNGWkis7VnT10vgfCLoHZiIztySgPm6q0scJRmMw7/9XGaKxKGUJQ52il0NHL1zd/HG94aIKFcz/M7UQc/BnUK5TCFohunOIFHfZK+0MbTvx9ltLez/h/sAAAAAElFTkSuQmCC) **TODO!**"
   ]
  },
  {
   "cell_type": "markdown",
   "metadata": {},
   "source": [
    "Afficher le nom des pokemons ayant un nom commençant par A et affichez les séparés par une barre verticale. \n",
    "\n",
    "Puis, triez les par ordre alphabétique avec python et affichez-les.\n",
    "\n",
    "Enfin, triez les par ordre alphabétique de nouveau mais à l'aide de mongodb (donc directement lors de la requête).\n",
    "\n",
    "💡 Astuces :\n",
    "- vous pourriez avoir besoin de `list comprehension` et autres astuces pratiques de python"
   ]
  },
  {
   "cell_type": "code",
   "execution_count": 71,
   "metadata": {},
   "outputs": [
    {
     "name": "stdout",
     "output_type": "stream",
     "text": [
      "Pokémons commençant par A :\n",
      "Arbok | Arcanine | Abra | Alakazam | Aerodactyl | Articuno | Ariados | Ampharos | Azumarill | Aipom | Azurill | Aron | Aggron | Altaria | Anorith | Armaldo | Absol | Ambipom | Abomasnow | Azelf | Arceus | Audino | Archen | Archeops | Amoonguss | Alomomola | Axew | Accelgor | Aegislash | Aromatisse | Amaura | Aurorus | Avalugg\n",
      "\n",
      "Tri alphabétique avec Python :\n",
      "Abomasnow | Abra | Absol | Accelgor | Aegislash | Aerodactyl | Aggron | Aipom | Alakazam | Alomomola | Altaria | Amaura | Ambipom | Amoonguss | Ampharos | Anorith | Arbok | Arcanine | Arceus | Archen | Archeops | Ariados | Armaldo | Aromatisse | Aron | Articuno | Audino | Aurorus | Avalugg | Axew | Azelf | Azumarill | Azurill\n",
      "\n",
      "Tri alphabétique avec MongoDB :\n",
      "Abomasnow | Abra | Absol | Accelgor | Aegislash | Aerodactyl | Aggron | Aipom | Alakazam | Alomomola | Altaria | Amaura | Ambipom | Amoonguss | Ampharos | Anorith | Arbok | Arcanine | Arceus | Archen | Archeops | Ariados | Armaldo | Aromatisse | Aron | Articuno | Audino | Aurorus | Avalugg | Axew | Azelf | Azumarill | Azurill\n"
     ]
    }
   ],
   "source": [
    "# afficher le nom des pokemons ayant un nom commençant par A\n",
    "pokemons_cursor = collection.find(\n",
    "    {\"Name\": {\"$regex\": \"^A\"}},  # noms commençant par A\n",
    "    {\"_id\": 0, \"Name\": 1}        # inclure seulement Name\n",
    ")\n",
    "\n",
    "pokemons_names = [doc[\"Name\"] for doc in pokemons_cursor]\n",
    "print(\"Pokémons commençant par A :\")\n",
    "print(\" | \".join(pokemons_names))\n",
    "\n",
    "# les trier par ordre alphabétique avec python et les afficher\n",
    "\n",
    "pokemons_names_sorted = sorted(pokemons_names)\n",
    "print(\"\\nTri alphabétique avec Python :\")\n",
    "print(\" | \".join(pokemons_names_sorted))\n",
    "\n",
    "# les trier par ordre alphabétique avec mongodb (donc directement lors de la requête)\n",
    "pokemons_cursor_sorted = collection.find(\n",
    "    {\"Name\": {\"$regex\": \"^A\"}},\n",
    "    {\"_id\": 0, \"Name\": 1}\n",
    ").sort(\"Name\", 1)  # 1 = ordre croissant\n",
    "\n",
    "pokemons_names_mongo = [doc[\"Name\"] for doc in pokemons_cursor_sorted]\n",
    "print(\"\\nTri alphabétique avec MongoDB :\")\n",
    "print(\" | \".join(pokemons_names_mongo))"
   ]
  },
  {
   "cell_type": "markdown",
   "metadata": {},
   "source": [
    "#### ![programming(3).png](data:image/png;base64,iVBORw0KGgoAAAANSUhEUgAAACAAAAAgCAYAAABzenr0AAAABHNCSVQICAgIfAhkiAAAAAlwSFlzAAAA3QAAAN0BcFOiBwAAABl0RVh0U29mdHdhcmUAd3d3Lmlua3NjYXBlLm9yZ5vuPBoAAAR7SURBVFiFtZdvaFVlHMc/z3PPuefuz825XWV3m5mWU1MLSVEyRoqKk2iLWBCT2uyFpTSIoCCHL0SDXkgUavhKCU3EpGmlorYSShtWig6M1M25gVPb3da2e6/3z3l6cf9u996d42pfOC/O8+/3+f2e5/f8EUopbKnplEHEtwpFDYj5gDf+AdyNfeo6guNoxa18Xv3QzrDCEmDTQS8OuQ1FPeC2R8sQgkNEze3s23B3YgCNB1y49GYQ7wH5Ng2PlR/UpwTDO9jfELQPsOVoKSrUghLLJmh4rJU2hLOWPXW91gCbDi1CipNAxf9iPKUeTLWeffXXcgNsOVqKGb40CcZTEFJfmh4JmaxqPOBChVom0ThABSrUQuMBV6JAS1a59Ob0OQ8J+MsYP0MUMDgwOL5JE5ZINy6XI95JLIstbpohMQWbDnqR8iZpq/1vB3xYalq6dPHXS5Ztzv4xl/K1UyBPJIr8mOZT7NtwNzYFDrmNCabawvmV6Jo2fqMBBd8GIJCMaH7cJpKmU0Z8k7GlaUVu1ixdAIBT19n6/mZ0Xefl6tWUTvfk7ugzR0Mo6mk6ZUgivlXY3OGmFblpqluDkLFQTvNM5f6DPvyBAFIKtn3wrjXEiSSEm4hvlYzt7faN/3LtBmfa2gGY7imho6sbgJbvz3Lu/AVriP40CEWNjB8slsp3OTGcGgPD/mTZdE8xnXEAgP7+QQzDoKDAYjklIIZ5VpI60cZVV28fu7/+gVeqnmP5wieTAB23YwArX1hO/Ws17Ny1l1udd6wH7Dfhu8Bi2wAAd+71sfvYOcpKitA1jalTHqOzqweAGeVePt61l47bNown9I9pWORPprrv+ei+50PXNc6cv8iIPzYlXx755lGHAimUJHaZeGSFwxH+vNExka4puYhocYA5Y+sK8gxerywHp4YyNNA1lFMDZ+r4UAqenjMr1UmBDEaQIxFkIIz0R3CMhHG3DUAgnAlgyIAG6jqIqgw4p8bzLy23dMI7u9La0cOHgSwABaJHIjhuOcJkyS2OaGjFrYT7hxi7GwYjaMduQDDzRAzNcBOa6SZUWsBgTz+uwQiFD4IU3s9660KOZPFeEwpX4Wex03DzV1+geDujUXcUTgcgOrq48/B6hlbGrg1tV28CUPGbj+qPrthwO65ZjnY63loUW1FRczvgz2g0wwHr8iB+lEdXlhP8qRbPkmJmmmEeJ8LiMi+Ly7x4187j5slahqvKrY1rQJHYAOlXsncO7QCxNWuHeCSUJx/zmZJksdIEgYejpyivvQ/tfqYvozRbu8CtjSsSLDEFwzvI01dnvQnHIyFO+3GcHT243YdCUiVyGC/rEr+ppN7fEEQ4a4GerB3HTMeE5BImFc4qft44lAkAsKeuF1OtnxSIAhFlnnyVK29cTi+e2MMkR3bkVJHw84S+gssNGWkis7VnT10vgfCLoHZiIztySgPm6q0scJRmMw7/9XGaKxKGUJQ52il0NHL1zd/HG94aIKFcz/M7UQc/BnUK5TCFohunOIFHfZK+0MbTvx9ltLez/h/sAAAAAElFTkSuQmCC) **TODO!**"
   ]
  },
  {
   "cell_type": "markdown",
   "metadata": {},
   "source": [
    "Affichez un dict pour représenter les données par type principal du pokemon, puis créez une collection par type"
   ]
  },
  {
   "cell_type": "code",
   "execution_count": 78,
   "metadata": {},
   "outputs": [
    {
     "name": "stdout",
     "output_type": "stream",
     "text": [
      "Grass : ['Bulbasaur', 'Ivysaur', 'Venusaur', 'Oddish', 'Gloom', 'Vileplume', 'Bellsprout', 'Weepinbell', 'Victreebel', 'Exeggcute', 'Exeggutor', 'Tangela', 'Chikorita', 'Bayleef', 'Meganium', 'Bellossom', 'Hoppip', 'Skiploom', 'Jumpluff', 'Sunkern', 'Sunflora', 'Treecko', 'Grovyle', 'Sceptile', 'Seedot', 'Nuzleaf', 'Shiftry', 'Shroomish', 'Breloom', 'Roselia', 'Cacnea', 'Cacturne', 'Tropius', 'Turtwig', 'Grotle', 'Torterra', 'Budew', 'Roserade', 'Cherubi', 'Cherrim', 'Carnivine', 'Snover', 'Abomasnow', 'Tangrowth', 'Leafeon', 'Shaymin', 'Snivy', 'Servine', 'Serperior', 'Pansage', 'Simisage', 'Cottonee', 'Whimsicott', 'Petilil', 'Lilligant', 'Maractus', 'Foongus', 'Amoonguss', 'Ferroseed', 'Ferrothorn', 'Virizion', 'Chespin', 'Quilladin', 'Chesnaught', 'Skiddo', 'Gogoat', 'Bulbasaur', 'Ivysaur', 'Venusaur', 'Oddish', 'Gloom', 'Vileplume', 'Bellsprout', 'Weepinbell', 'Victreebel', 'Exeggcute', 'Exeggutor', 'Tangela', 'Chikorita', 'Bayleef', 'Meganium', 'Bellossom', 'Hoppip', 'Skiploom', 'Jumpluff', 'Sunkern', 'Sunflora', 'Treecko', 'Grovyle', 'Sceptile', 'Seedot', 'Nuzleaf', 'Shiftry', 'Shroomish', 'Breloom', 'Roselia', 'Cacnea', 'Cacturne', 'Tropius', 'Turtwig', 'Grotle', 'Torterra', 'Budew', 'Roserade', 'Cherubi', 'Cherrim', 'Carnivine', 'Snover', 'Abomasnow', 'Tangrowth', 'Leafeon', 'Shaymin', 'Snivy', 'Servine', 'Serperior', 'Pansage', 'Simisage', 'Cottonee', 'Whimsicott', 'Petilil', 'Lilligant', 'Maractus', 'Foongus', 'Amoonguss', 'Ferroseed', 'Ferrothorn', 'Virizion', 'Chespin', 'Quilladin', 'Chesnaught', 'Skiddo', 'Gogoat', 'Bulbasaur', 'Ivysaur', 'Venusaur', 'Oddish', 'Gloom', 'Vileplume', 'Bellsprout', 'Weepinbell', 'Victreebel', 'Exeggcute', 'Exeggutor', 'Tangela', 'Chikorita', 'Bayleef', 'Meganium', 'Bellossom', 'Hoppip', 'Skiploom', 'Jumpluff', 'Sunkern', 'Sunflora', 'Treecko', 'Grovyle', 'Sceptile', 'Seedot', 'Nuzleaf', 'Shiftry', 'Shroomish', 'Breloom', 'Roselia', 'Cacnea', 'Cacturne', 'Tropius', 'Turtwig', 'Grotle', 'Torterra', 'Budew', 'Roserade', 'Cherubi', 'Cherrim', 'Carnivine', 'Snover', 'Abomasnow', 'Tangrowth', 'Leafeon', 'Shaymin', 'Snivy', 'Servine', 'Serperior', 'Pansage', 'Simisage', 'Cottonee', 'Whimsicott', 'Petilil', 'Lilligant', 'Maractus', 'Foongus', 'Amoonguss', 'Ferroseed', 'Ferrothorn', 'Virizion', 'Chespin', 'Quilladin', 'Chesnaught', 'Skiddo', 'Gogoat', 'Bulbasaur', 'Ivysaur', 'Venusaur', 'Oddish', 'Gloom', 'Vileplume', 'Bellsprout', 'Weepinbell', 'Victreebel', 'Exeggcute', 'Exeggutor', 'Tangela', 'Chikorita', 'Bayleef', 'Meganium', 'Bellossom', 'Hoppip', 'Skiploom', 'Jumpluff', 'Sunkern', 'Sunflora', 'Treecko', 'Grovyle', 'Sceptile', 'Seedot', 'Nuzleaf', 'Shiftry', 'Shroomish', 'Breloom', 'Roselia', 'Cacnea', 'Cacturne', 'Tropius', 'Turtwig', 'Grotle', 'Torterra', 'Budew', 'Roserade', 'Cherubi', 'Cherrim', 'Carnivine', 'Snover', 'Abomasnow', 'Tangrowth', 'Leafeon', 'Shaymin', 'Snivy', 'Servine', 'Serperior', 'Pansage', 'Simisage', 'Cottonee', 'Whimsicott', 'Petilil', 'Lilligant', 'Maractus', 'Foongus', 'Amoonguss', 'Ferroseed', 'Ferrothorn', 'Virizion', 'Chespin', 'Quilladin', 'Chesnaught', 'Skiddo', 'Gogoat']\n",
      "Fire : ['Charmander', 'Charmeleon', 'Charizard', 'Vulpix', 'Ninetales', 'Growlithe', 'Arcanine', 'Ponyta', 'Rapidash', 'Magmar', 'Flareon', 'Moltres', 'Cyndaquil', 'Quilava', 'Typhlosion', 'Slugma', 'Magcargo', 'Magby', 'Entei', 'Ho-Oh', 'Torchic', 'Combusken', 'Blaziken', 'Numel', 'Camerupt', 'Torkoal', 'Chimchar', 'Monferno', 'Infernape', 'Magmortar', 'Heatran', 'Tepig', 'Pignite', 'Emboar', 'Pansear', 'Simisear', 'Darumaka', 'Darmanitan', 'Heatmor', 'Fennekin', 'Braixen', 'Delphox', 'Fletchinder', 'Talonflame', 'Litleo', 'Pyroar', 'Volcanion', 'Charmander', 'Charmeleon', 'Charizard', 'Vulpix', 'Ninetales', 'Growlithe', 'Arcanine', 'Ponyta', 'Rapidash', 'Magmar', 'Flareon', 'Moltres', 'Cyndaquil', 'Quilava', 'Typhlosion', 'Slugma', 'Magcargo', 'Magby', 'Entei', 'Ho-Oh', 'Torchic', 'Combusken', 'Blaziken', 'Numel', 'Camerupt', 'Torkoal', 'Chimchar', 'Monferno', 'Infernape', 'Magmortar', 'Heatran', 'Tepig', 'Pignite', 'Emboar', 'Pansear', 'Simisear', 'Darumaka', 'Darmanitan', 'Heatmor', 'Fennekin', 'Braixen', 'Delphox', 'Fletchinder', 'Talonflame', 'Litleo', 'Pyroar', 'Volcanion', 'Charmander', 'Charmeleon', 'Charizard', 'Vulpix', 'Ninetales', 'Growlithe', 'Arcanine', 'Ponyta', 'Rapidash', 'Magmar', 'Flareon', 'Moltres', 'Cyndaquil', 'Quilava', 'Typhlosion', 'Slugma', 'Magcargo', 'Magby', 'Entei', 'Ho-Oh', 'Torchic', 'Combusken', 'Blaziken', 'Numel', 'Camerupt', 'Torkoal', 'Chimchar', 'Monferno', 'Infernape', 'Magmortar', 'Heatran', 'Tepig', 'Pignite', 'Emboar', 'Pansear', 'Simisear', 'Darumaka', 'Darmanitan', 'Heatmor', 'Fennekin', 'Braixen', 'Delphox', 'Fletchinder', 'Talonflame', 'Litleo', 'Pyroar', 'Volcanion', 'Charmander', 'Charmeleon', 'Charizard', 'Vulpix', 'Ninetales', 'Growlithe', 'Arcanine', 'Ponyta', 'Rapidash', 'Magmar', 'Flareon', 'Moltres', 'Cyndaquil', 'Quilava', 'Typhlosion', 'Slugma', 'Magcargo', 'Magby', 'Entei', 'Ho-Oh', 'Torchic', 'Combusken', 'Blaziken', 'Numel', 'Camerupt', 'Torkoal', 'Chimchar', 'Monferno', 'Infernape', 'Magmortar', 'Heatran', 'Tepig', 'Pignite', 'Emboar', 'Pansear', 'Simisear', 'Darumaka', 'Darmanitan', 'Heatmor', 'Fennekin', 'Braixen', 'Delphox', 'Fletchinder', 'Talonflame', 'Litleo', 'Pyroar', 'Volcanion']\n",
      "Water : ['Squirtle', 'Wartortle', 'Blastoise', 'Psyduck', 'Golduck', 'Poliwag', 'Poliwhirl', 'Poliwrath', 'Tentacool', 'Tentacruel', 'Slowpoke', 'Slowbro', 'Seel', 'Dewgong', 'Shellder', 'Cloyster', 'Krabby', 'Kingler', 'Horsea', 'Seadra', 'Goldeen', 'Seaking', 'Staryu', 'Starmie', 'Magikarp', 'Gyarados', 'Lapras', 'Vaporeon', 'Totodile', 'Croconaw', 'Feraligatr', 'Chinchou', 'Lanturn', 'Marill', 'Azumarill', 'Politoed', 'Wooper', 'Quagsire', 'Slowking', 'Qwilfish', 'Corsola', 'Remoraid', 'Octillery', 'Mantine', 'Kingdra', 'Suicune', 'Mudkip', 'Marshtomp', 'Swampert', 'Lotad', 'Lombre', 'Ludicolo', 'Wingull', 'Pelipper', 'Carvanha', 'Sharpedo', 'Wailmer', 'Wailord', 'Barboach', 'Whiscash', 'Corphish', 'Crawdaunt', 'Feebas', 'Milotic', 'Clamperl', 'Huntail', 'Gorebyss', 'Relicanth', 'Luvdisc', 'Kyogre', 'Piplup', 'Prinplup', 'Empoleon', 'Buizel', 'Floatzel', 'Shellos', 'Gastrodon', 'Finneon', 'Lumineon', 'Mantyke', 'Palkia', 'Phione', 'Manaphy', 'Oshawott', 'Dewott', 'Samurott', 'Panpour', 'Simipour', 'Tympole', 'Palpitoad', 'Seismitoad', 'Basculin', 'Tirtouga', 'Carracosta', 'Ducklett', 'Swanna', 'Frillish', 'Jellicent', 'Alomomola', 'Keldeo', 'Froakie', 'Frogadier', 'Greninja', 'Clauncher', 'Clawitzer', 'Squirtle', 'Wartortle', 'Blastoise', 'Psyduck', 'Golduck', 'Poliwag', 'Poliwhirl', 'Poliwrath', 'Tentacool', 'Tentacruel', 'Slowpoke', 'Slowbro', 'Seel', 'Dewgong', 'Shellder', 'Cloyster', 'Krabby', 'Kingler', 'Horsea', 'Seadra', 'Goldeen', 'Seaking', 'Staryu', 'Starmie', 'Magikarp', 'Gyarados', 'Lapras', 'Vaporeon', 'Totodile', 'Croconaw', 'Feraligatr', 'Chinchou', 'Lanturn', 'Marill', 'Azumarill', 'Politoed', 'Wooper', 'Quagsire', 'Slowking', 'Qwilfish', 'Corsola', 'Remoraid', 'Octillery', 'Mantine', 'Kingdra', 'Suicune', 'Mudkip', 'Marshtomp', 'Swampert', 'Lotad', 'Lombre', 'Ludicolo', 'Wingull', 'Pelipper', 'Carvanha', 'Sharpedo', 'Wailmer', 'Wailord', 'Barboach', 'Whiscash', 'Corphish', 'Crawdaunt', 'Feebas', 'Milotic', 'Clamperl', 'Huntail', 'Gorebyss', 'Relicanth', 'Luvdisc', 'Kyogre', 'Piplup', 'Prinplup', 'Empoleon', 'Buizel', 'Floatzel', 'Shellos', 'Gastrodon', 'Finneon', 'Lumineon', 'Mantyke', 'Palkia', 'Phione', 'Manaphy', 'Oshawott', 'Dewott', 'Samurott', 'Panpour', 'Simipour', 'Tympole', 'Palpitoad', 'Seismitoad', 'Basculin', 'Tirtouga', 'Carracosta', 'Ducklett', 'Swanna', 'Frillish', 'Jellicent', 'Alomomola', 'Keldeo', 'Froakie', 'Frogadier', 'Greninja', 'Clauncher', 'Clawitzer', 'Squirtle', 'Wartortle', 'Blastoise', 'Psyduck', 'Golduck', 'Poliwag', 'Poliwhirl', 'Poliwrath', 'Tentacool', 'Tentacruel', 'Slowpoke', 'Slowbro', 'Seel', 'Dewgong', 'Shellder', 'Cloyster', 'Krabby', 'Kingler', 'Horsea', 'Seadra', 'Goldeen', 'Seaking', 'Staryu', 'Starmie', 'Magikarp', 'Gyarados', 'Lapras', 'Vaporeon', 'Totodile', 'Croconaw', 'Feraligatr', 'Chinchou', 'Lanturn', 'Marill', 'Azumarill', 'Politoed', 'Wooper', 'Quagsire', 'Slowking', 'Qwilfish', 'Corsola', 'Remoraid', 'Octillery', 'Mantine', 'Kingdra', 'Suicune', 'Mudkip', 'Marshtomp', 'Swampert', 'Lotad', 'Lombre', 'Ludicolo', 'Wingull', 'Pelipper', 'Carvanha', 'Sharpedo', 'Wailmer', 'Wailord', 'Barboach', 'Whiscash', 'Corphish', 'Crawdaunt', 'Feebas', 'Milotic', 'Clamperl', 'Huntail', 'Gorebyss', 'Relicanth', 'Luvdisc', 'Kyogre', 'Piplup', 'Prinplup', 'Empoleon', 'Buizel', 'Floatzel', 'Shellos', 'Gastrodon', 'Finneon', 'Lumineon', 'Mantyke', 'Palkia', 'Phione', 'Manaphy', 'Oshawott', 'Dewott', 'Samurott', 'Panpour', 'Simipour', 'Tympole', 'Palpitoad', 'Seismitoad', 'Basculin', 'Tirtouga', 'Carracosta', 'Ducklett', 'Swanna', 'Frillish', 'Jellicent', 'Alomomola', 'Keldeo', 'Froakie', 'Frogadier', 'Greninja', 'Clauncher', 'Clawitzer', 'Squirtle', 'Wartortle', 'Blastoise', 'Psyduck', 'Golduck', 'Poliwag', 'Poliwhirl', 'Poliwrath', 'Tentacool', 'Tentacruel', 'Slowpoke', 'Slowbro', 'Seel', 'Dewgong', 'Shellder', 'Cloyster', 'Krabby', 'Kingler', 'Horsea', 'Seadra', 'Goldeen', 'Seaking', 'Staryu', 'Starmie', 'Magikarp', 'Gyarados', 'Lapras', 'Vaporeon', 'Totodile', 'Croconaw', 'Feraligatr', 'Chinchou', 'Lanturn', 'Marill', 'Azumarill', 'Politoed', 'Wooper', 'Quagsire', 'Slowking', 'Qwilfish', 'Corsola', 'Remoraid', 'Octillery', 'Mantine', 'Kingdra', 'Suicune', 'Mudkip', 'Marshtomp', 'Swampert', 'Lotad', 'Lombre', 'Ludicolo', 'Wingull', 'Pelipper', 'Carvanha', 'Sharpedo', 'Wailmer', 'Wailord', 'Barboach', 'Whiscash', 'Corphish', 'Crawdaunt', 'Feebas', 'Milotic', 'Clamperl', 'Huntail', 'Gorebyss', 'Relicanth', 'Luvdisc', 'Kyogre', 'Piplup', 'Prinplup', 'Empoleon', 'Buizel', 'Floatzel', 'Shellos', 'Gastrodon', 'Finneon', 'Lumineon', 'Mantyke', 'Palkia', 'Phione', 'Manaphy', 'Oshawott', 'Dewott', 'Samurott', 'Panpour', 'Simipour', 'Tympole', 'Palpitoad', 'Seismitoad', 'Basculin', 'Tirtouga', 'Carracosta', 'Ducklett', 'Swanna', 'Frillish', 'Jellicent', 'Alomomola', 'Keldeo', 'Froakie', 'Frogadier', 'Greninja', 'Clauncher', 'Clawitzer']\n",
      "Bug : ['Caterpie', 'Metapod', 'Butterfree', 'Weedle', 'Kakuna', 'Beedrill', 'Paras', 'Parasect', 'Venonat', 'Venomoth', 'Scyther', 'Pinsir', 'Ledyba', 'Ledian', 'Spinarak', 'Ariados', 'Yanma', 'Pineco', 'Forretress', 'Scizor', 'Shuckle', 'Heracross', 'Wurmple', 'Silcoon', 'Beautifly', 'Cascoon', 'Dustox', 'Surskit', 'Masquerain', 'Nincada', 'Ninjask', 'Shedinja', 'Volbeat', 'Illumise', 'Kricketot', 'Kricketune', 'Burmy', 'Wormadam', 'Mothim', 'Combee', 'Vespiquen', 'Yanmega', 'Sewaddle', 'Swadloon', 'Leavanny', 'Venipede', 'Whirlipede', 'Scolipede', 'Dwebble', 'Crustle', 'Karrablast', 'Escavalier', 'Joltik', 'Galvantula', 'Shelmet', 'Accelgor', 'Durant', 'Larvesta', 'Volcarona', 'Genesect', 'Scatterbug', 'Spewpa', 'Vivillon', 'Caterpie', 'Metapod', 'Butterfree', 'Weedle', 'Kakuna', 'Beedrill', 'Paras', 'Parasect', 'Venonat', 'Venomoth', 'Scyther', 'Pinsir', 'Ledyba', 'Ledian', 'Spinarak', 'Ariados', 'Yanma', 'Pineco', 'Forretress', 'Scizor', 'Shuckle', 'Heracross', 'Wurmple', 'Silcoon', 'Beautifly', 'Cascoon', 'Dustox', 'Surskit', 'Masquerain', 'Nincada', 'Ninjask', 'Shedinja', 'Volbeat', 'Illumise', 'Kricketot', 'Kricketune', 'Burmy', 'Wormadam', 'Mothim', 'Combee', 'Vespiquen', 'Yanmega', 'Sewaddle', 'Swadloon', 'Leavanny', 'Venipede', 'Whirlipede', 'Scolipede', 'Dwebble', 'Crustle', 'Karrablast', 'Escavalier', 'Joltik', 'Galvantula', 'Shelmet', 'Accelgor', 'Durant', 'Larvesta', 'Volcarona', 'Genesect', 'Scatterbug', 'Spewpa', 'Vivillon', 'Caterpie', 'Metapod', 'Butterfree', 'Weedle', 'Kakuna', 'Beedrill', 'Paras', 'Parasect', 'Venonat', 'Venomoth', 'Scyther', 'Pinsir', 'Ledyba', 'Ledian', 'Spinarak', 'Ariados', 'Yanma', 'Pineco', 'Forretress', 'Scizor', 'Shuckle', 'Heracross', 'Wurmple', 'Silcoon', 'Beautifly', 'Cascoon', 'Dustox', 'Surskit', 'Masquerain', 'Nincada', 'Ninjask', 'Shedinja', 'Volbeat', 'Illumise', 'Kricketot', 'Kricketune', 'Burmy', 'Wormadam', 'Mothim', 'Combee', 'Vespiquen', 'Yanmega', 'Sewaddle', 'Swadloon', 'Leavanny', 'Venipede', 'Whirlipede', 'Scolipede', 'Dwebble', 'Crustle', 'Karrablast', 'Escavalier', 'Joltik', 'Galvantula', 'Shelmet', 'Accelgor', 'Durant', 'Larvesta', 'Volcarona', 'Genesect', 'Scatterbug', 'Spewpa', 'Vivillon', 'Caterpie', 'Metapod', 'Butterfree', 'Weedle', 'Kakuna', 'Beedrill', 'Paras', 'Parasect', 'Venonat', 'Venomoth', 'Scyther', 'Pinsir', 'Ledyba', 'Ledian', 'Spinarak', 'Ariados', 'Yanma', 'Pineco', 'Forretress', 'Scizor', 'Shuckle', 'Heracross', 'Wurmple', 'Silcoon', 'Beautifly', 'Cascoon', 'Dustox', 'Surskit', 'Masquerain', 'Nincada', 'Ninjask', 'Shedinja', 'Volbeat', 'Illumise', 'Kricketot', 'Kricketune', 'Burmy', 'Wormadam', 'Mothim', 'Combee', 'Vespiquen', 'Yanmega', 'Sewaddle', 'Swadloon', 'Leavanny', 'Venipede', 'Whirlipede', 'Scolipede', 'Dwebble', 'Crustle', 'Karrablast', 'Escavalier', 'Joltik', 'Galvantula', 'Shelmet', 'Accelgor', 'Durant', 'Larvesta', 'Volcarona', 'Genesect', 'Scatterbug', 'Spewpa', 'Vivillon']\n",
      "Normal : ['Pidgey', 'Pidgeotto', 'Pidgeot', 'Rattata', 'Raticate', 'Spearow', 'Fearow', 'Jigglypuff', 'Wigglytuff', 'Meowth', 'Persian', \"Farfetch'd\", 'Doduo', 'Dodrio', 'Lickitung', 'Chansey', 'Kangaskhan', 'Tauros', 'Ditto', 'Eevee', 'Porygon', 'Snorlax', 'Sentret', 'Furret', 'Hoothoot', 'Noctowl', 'Igglybuff', 'Aipom', 'Girafarig', 'Dunsparce', 'Teddiursa', 'Ursaring', 'Porygon2', 'Stantler', 'Smeargle', 'Miltank', 'Blissey', 'Zigzagoon', 'Linoone', 'Taillow', 'Swellow', 'Slakoth', 'Vigoroth', 'Slaking', 'Whismur', 'Loudred', 'Exploud', 'Azurill', 'Skitty', 'Delcatty', 'Spinda', 'Swablu', 'Zangoose', 'Castform', 'Kecleon', 'Starly', 'Staravia', 'Staraptor', 'Bidoof', 'Bibarel', 'Ambipom', 'Buneary', 'Lopunny', 'Glameow', 'Purugly', 'Happiny', 'Chatot', 'Munchlax', 'Lickilicky', 'Porygon-Z', 'Regigigas', 'Arceus', 'Patrat', 'Watchog', 'Lillipup', 'Herdier', 'Stoutland', 'Pidove', 'Tranquill', 'Unfezant', 'Audino', 'Minccino', 'Cinccino', 'Deerling', 'Sawsbuck', 'Bouffalant', 'Rufflet', 'Braviary', 'Meloetta', 'Bunnelby', 'Diggersby', 'Fletchling', 'Furfrou', 'Pidgey', 'Pidgeotto', 'Pidgeot', 'Rattata', 'Raticate', 'Spearow', 'Fearow', 'Jigglypuff', 'Wigglytuff', 'Meowth', 'Persian', \"Farfetch'd\", 'Doduo', 'Dodrio', 'Lickitung', 'Chansey', 'Kangaskhan', 'Tauros', 'Ditto', 'Eevee', 'Porygon', 'Snorlax', 'Sentret', 'Furret', 'Hoothoot', 'Noctowl', 'Igglybuff', 'Aipom', 'Girafarig', 'Dunsparce', 'Teddiursa', 'Ursaring', 'Porygon2', 'Stantler', 'Smeargle', 'Miltank', 'Blissey', 'Zigzagoon', 'Linoone', 'Taillow', 'Swellow', 'Slakoth', 'Vigoroth', 'Slaking', 'Whismur', 'Loudred', 'Exploud', 'Azurill', 'Skitty', 'Delcatty', 'Spinda', 'Swablu', 'Zangoose', 'Castform', 'Kecleon', 'Starly', 'Staravia', 'Staraptor', 'Bidoof', 'Bibarel', 'Ambipom', 'Buneary', 'Lopunny', 'Glameow', 'Purugly', 'Happiny', 'Chatot', 'Munchlax', 'Lickilicky', 'Porygon-Z', 'Regigigas', 'Arceus', 'Patrat', 'Watchog', 'Lillipup', 'Herdier', 'Stoutland', 'Pidove', 'Tranquill', 'Unfezant', 'Audino', 'Minccino', 'Cinccino', 'Deerling', 'Sawsbuck', 'Bouffalant', 'Rufflet', 'Braviary', 'Meloetta', 'Bunnelby', 'Diggersby', 'Fletchling', 'Furfrou', 'Pidgey', 'Pidgeotto', 'Pidgeot', 'Rattata', 'Raticate', 'Spearow', 'Fearow', 'Jigglypuff', 'Wigglytuff', 'Meowth', 'Persian', \"Farfetch'd\", 'Doduo', 'Dodrio', 'Lickitung', 'Chansey', 'Kangaskhan', 'Tauros', 'Ditto', 'Eevee', 'Porygon', 'Snorlax', 'Sentret', 'Furret', 'Hoothoot', 'Noctowl', 'Igglybuff', 'Aipom', 'Girafarig', 'Dunsparce', 'Teddiursa', 'Ursaring', 'Porygon2', 'Stantler', 'Smeargle', 'Miltank', 'Blissey', 'Zigzagoon', 'Linoone', 'Taillow', 'Swellow', 'Slakoth', 'Vigoroth', 'Slaking', 'Whismur', 'Loudred', 'Exploud', 'Azurill', 'Skitty', 'Delcatty', 'Spinda', 'Swablu', 'Zangoose', 'Castform', 'Kecleon', 'Starly', 'Staravia', 'Staraptor', 'Bidoof', 'Bibarel', 'Ambipom', 'Buneary', 'Lopunny', 'Glameow', 'Purugly', 'Happiny', 'Chatot', 'Munchlax', 'Lickilicky', 'Porygon-Z', 'Regigigas', 'Arceus', 'Patrat', 'Watchog', 'Lillipup', 'Herdier', 'Stoutland', 'Pidove', 'Tranquill', 'Unfezant', 'Audino', 'Minccino', 'Cinccino', 'Deerling', 'Sawsbuck', 'Bouffalant', 'Rufflet', 'Braviary', 'Meloetta', 'Bunnelby', 'Diggersby', 'Fletchling', 'Furfrou', 'Pidgey', 'Pidgeotto', 'Pidgeot', 'Rattata', 'Raticate', 'Spearow', 'Fearow', 'Jigglypuff', 'Wigglytuff', 'Meowth', 'Persian', \"Farfetch'd\", 'Doduo', 'Dodrio', 'Lickitung', 'Chansey', 'Kangaskhan', 'Tauros', 'Ditto', 'Eevee', 'Porygon', 'Snorlax', 'Sentret', 'Furret', 'Hoothoot', 'Noctowl', 'Igglybuff', 'Aipom', 'Girafarig', 'Dunsparce', 'Teddiursa', 'Ursaring', 'Porygon2', 'Stantler', 'Smeargle', 'Miltank', 'Blissey', 'Zigzagoon', 'Linoone', 'Taillow', 'Swellow', 'Slakoth', 'Vigoroth', 'Slaking', 'Whismur', 'Loudred', 'Exploud', 'Azurill', 'Skitty', 'Delcatty', 'Spinda', 'Swablu', 'Zangoose', 'Castform', 'Kecleon', 'Starly', 'Staravia', 'Staraptor', 'Bidoof', 'Bibarel', 'Ambipom', 'Buneary', 'Lopunny', 'Glameow', 'Purugly', 'Happiny', 'Chatot', 'Munchlax', 'Lickilicky', 'Porygon-Z', 'Regigigas', 'Arceus', 'Patrat', 'Watchog', 'Lillipup', 'Herdier', 'Stoutland', 'Pidove', 'Tranquill', 'Unfezant', 'Audino', 'Minccino', 'Cinccino', 'Deerling', 'Sawsbuck', 'Bouffalant', 'Rufflet', 'Braviary', 'Meloetta', 'Bunnelby', 'Diggersby', 'Fletchling', 'Furfrou']\n",
      "Poison : ['Ekans', 'Arbok', 'Nidoran♀', 'Nidorina', 'Nidoqueen', 'Nidoran♂', 'Nidorino', 'Nidoking', 'Zubat', 'Golbat', 'Grimer', 'Muk', 'Koffing', 'Weezing', 'Crobat', 'Gulpin', 'Swalot', 'Seviper', 'Stunky', 'Skuntank', 'Skorupi', 'Drapion', 'Croagunk', 'Toxicroak', 'Trubbish', 'Garbodor', 'Skrelp', 'Dragalge', 'Ekans', 'Arbok', 'Nidoran♀', 'Nidorina', 'Nidoqueen', 'Nidoran♂', 'Nidorino', 'Nidoking', 'Zubat', 'Golbat', 'Grimer', 'Muk', 'Koffing', 'Weezing', 'Crobat', 'Gulpin', 'Swalot', 'Seviper', 'Stunky', 'Skuntank', 'Skorupi', 'Drapion', 'Croagunk', 'Toxicroak', 'Trubbish', 'Garbodor', 'Skrelp', 'Dragalge', 'Ekans', 'Arbok', 'Nidoran♀', 'Nidorina', 'Nidoqueen', 'Nidoran♂', 'Nidorino', 'Nidoking', 'Zubat', 'Golbat', 'Grimer', 'Muk', 'Koffing', 'Weezing', 'Crobat', 'Gulpin', 'Swalot', 'Seviper', 'Stunky', 'Skuntank', 'Skorupi', 'Drapion', 'Croagunk', 'Toxicroak', 'Trubbish', 'Garbodor', 'Skrelp', 'Dragalge', 'Ekans', 'Arbok', 'Nidoran♀', 'Nidorina', 'Nidoqueen', 'Nidoran♂', 'Nidorino', 'Nidoking', 'Zubat', 'Golbat', 'Grimer', 'Muk', 'Koffing', 'Weezing', 'Crobat', 'Gulpin', 'Swalot', 'Seviper', 'Stunky', 'Skuntank', 'Skorupi', 'Drapion', 'Croagunk', 'Toxicroak', 'Trubbish', 'Garbodor', 'Skrelp', 'Dragalge']\n",
      "Electric : ['Pikachu', 'Raichu', 'Magnemite', 'Magneton', 'Voltorb', 'Electrode', 'Electabuzz', 'Jolteon', 'Zapdos', 'Pichu', 'Mareep', 'Flaaffy', 'Ampharos', 'Elekid', 'Raikou', 'Electrike', 'Manectric', 'Plusle', 'Minun', 'Shinx', 'Luxio', 'Luxray', 'Pachirisu', 'Magnezone', 'Electivire', 'Rotom', 'Blitzle', 'Zebstrika', 'Emolga', 'Tynamo', 'Eelektrik', 'Eelektross', 'Thundurus', 'Helioptile', 'Heliolisk', 'Dedenne', 'Pikachu', 'Raichu', 'Magnemite', 'Magneton', 'Voltorb', 'Electrode', 'Electabuzz', 'Jolteon', 'Zapdos', 'Pichu', 'Mareep', 'Flaaffy', 'Ampharos', 'Elekid', 'Raikou', 'Electrike', 'Manectric', 'Plusle', 'Minun', 'Shinx', 'Luxio', 'Luxray', 'Pachirisu', 'Magnezone', 'Electivire', 'Rotom', 'Blitzle', 'Zebstrika', 'Emolga', 'Tynamo', 'Eelektrik', 'Eelektross', 'Thundurus', 'Helioptile', 'Heliolisk', 'Dedenne', 'Pikachu', 'Raichu', 'Magnemite', 'Magneton', 'Voltorb', 'Electrode', 'Electabuzz', 'Jolteon', 'Zapdos', 'Pichu', 'Mareep', 'Flaaffy', 'Ampharos', 'Elekid', 'Raikou', 'Electrike', 'Manectric', 'Plusle', 'Minun', 'Shinx', 'Luxio', 'Luxray', 'Pachirisu', 'Magnezone', 'Electivire', 'Rotom', 'Blitzle', 'Zebstrika', 'Emolga', 'Tynamo', 'Eelektrik', 'Eelektross', 'Thundurus', 'Helioptile', 'Heliolisk', 'Dedenne', 'Pikachu', 'Raichu', 'Magnemite', 'Magneton', 'Voltorb', 'Electrode', 'Electabuzz', 'Jolteon', 'Zapdos', 'Pichu', 'Mareep', 'Flaaffy', 'Ampharos', 'Elekid', 'Raikou', 'Electrike', 'Manectric', 'Plusle', 'Minun', 'Shinx', 'Luxio', 'Luxray', 'Pachirisu', 'Magnezone', 'Electivire', 'Rotom', 'Blitzle', 'Zebstrika', 'Emolga', 'Tynamo', 'Eelektrik', 'Eelektross', 'Thundurus', 'Helioptile', 'Heliolisk', 'Dedenne']\n",
      "Ground : ['Sandshrew', 'Sandslash', 'Diglett', 'Dugtrio', 'Cubone', 'Marowak', 'Rhyhorn', 'Rhydon', 'Gligar', 'Phanpy', 'Donphan', 'Trapinch', 'Vibrava', 'Flygon', 'Baltoy', 'Claydol', 'Groudon', 'Hippopotas', 'Hippowdon', 'Rhyperior', 'Gliscor', 'Drilbur', 'Excadrill', 'Sandile', 'Krokorok', 'Krookodile', 'Stunfisk', 'Golett', 'Golurk', 'Landorus', 'Sandshrew', 'Sandslash', 'Diglett', 'Dugtrio', 'Cubone', 'Marowak', 'Rhyhorn', 'Rhydon', 'Gligar', 'Phanpy', 'Donphan', 'Trapinch', 'Vibrava', 'Flygon', 'Baltoy', 'Claydol', 'Groudon', 'Hippopotas', 'Hippowdon', 'Rhyperior', 'Gliscor', 'Drilbur', 'Excadrill', 'Sandile', 'Krokorok', 'Krookodile', 'Stunfisk', 'Golett', 'Golurk', 'Landorus', 'Sandshrew', 'Sandslash', 'Diglett', 'Dugtrio', 'Cubone', 'Marowak', 'Rhyhorn', 'Rhydon', 'Gligar', 'Phanpy', 'Donphan', 'Trapinch', 'Vibrava', 'Flygon', 'Baltoy', 'Claydol', 'Groudon', 'Hippopotas', 'Hippowdon', 'Rhyperior', 'Gliscor', 'Drilbur', 'Excadrill', 'Sandile', 'Krokorok', 'Krookodile', 'Stunfisk', 'Golett', 'Golurk', 'Landorus', 'Sandshrew', 'Sandslash', 'Diglett', 'Dugtrio', 'Cubone', 'Marowak', 'Rhyhorn', 'Rhydon', 'Gligar', 'Phanpy', 'Donphan', 'Trapinch', 'Vibrava', 'Flygon', 'Baltoy', 'Claydol', 'Groudon', 'Hippopotas', 'Hippowdon', 'Rhyperior', 'Gliscor', 'Drilbur', 'Excadrill', 'Sandile', 'Krokorok', 'Krookodile', 'Stunfisk', 'Golett', 'Golurk', 'Landorus']\n",
      "Fairy : ['Clefairy', 'Clefable', 'Cleffa', 'Togepi', 'Togetic', 'Snubbull', 'Granbull', 'Togekiss', 'Flabébé', 'Floette', 'Florges', 'Spritzee', 'Aromatisse', 'Swirlix', 'Slurpuff', 'Sylveon', 'Xerneas', 'Clefairy', 'Clefable', 'Cleffa', 'Togepi', 'Togetic', 'Snubbull', 'Granbull', 'Togekiss', 'Flabébé', 'Floette', 'Florges', 'Spritzee', 'Aromatisse', 'Swirlix', 'Slurpuff', 'Sylveon', 'Xerneas', 'Clefairy', 'Clefable', 'Cleffa', 'Togepi', 'Togetic', 'Snubbull', 'Granbull', 'Togekiss', 'Flabébé', 'Floette', 'Florges', 'Spritzee', 'Aromatisse', 'Swirlix', 'Slurpuff', 'Sylveon', 'Xerneas', 'Clefairy', 'Clefable', 'Cleffa', 'Togepi', 'Togetic', 'Snubbull', 'Granbull', 'Togekiss', 'Flabébé', 'Floette', 'Florges', 'Spritzee', 'Aromatisse', 'Swirlix', 'Slurpuff', 'Sylveon', 'Xerneas']\n",
      "Fighting : ['Mankey', 'Primeape', 'Machop', 'Machoke', 'Machamp', 'Hitmonlee', 'Hitmonchan', 'Tyrogue', 'Hitmontop', 'Makuhita', 'Hariyama', 'Meditite', 'Medicham', 'Riolu', 'Lucario', 'Timburr', 'Gurdurr', 'Conkeldurr', 'Throh', 'Sawk', 'Mienfoo', 'Mienshao', 'Pancham', 'Pangoro', 'Hawlucha', 'Mankey', 'Primeape', 'Machop', 'Machoke', 'Machamp', 'Hitmonlee', 'Hitmonchan', 'Tyrogue', 'Hitmontop', 'Makuhita', 'Hariyama', 'Meditite', 'Medicham', 'Riolu', 'Lucario', 'Timburr', 'Gurdurr', 'Conkeldurr', 'Throh', 'Sawk', 'Mienfoo', 'Mienshao', 'Pancham', 'Pangoro', 'Hawlucha', 'Mankey', 'Primeape', 'Machop', 'Machoke', 'Machamp', 'Hitmonlee', 'Hitmonchan', 'Tyrogue', 'Hitmontop', 'Makuhita', 'Hariyama', 'Meditite', 'Medicham', 'Riolu', 'Lucario', 'Timburr', 'Gurdurr', 'Conkeldurr', 'Throh', 'Sawk', 'Mienfoo', 'Mienshao', 'Pancham', 'Pangoro', 'Hawlucha', 'Mankey', 'Primeape', 'Machop', 'Machoke', 'Machamp', 'Hitmonlee', 'Hitmonchan', 'Tyrogue', 'Hitmontop', 'Makuhita', 'Hariyama', 'Meditite', 'Medicham', 'Riolu', 'Lucario', 'Timburr', 'Gurdurr', 'Conkeldurr', 'Throh', 'Sawk', 'Mienfoo', 'Mienshao', 'Pancham', 'Pangoro', 'Hawlucha']\n",
      "Psychic : ['Abra', 'Kadabra', 'Alakazam', 'Drowzee', 'Hypno', 'Mr._Mime', 'Mewtwo', 'Mew', 'Natu', 'Xatu', 'Espeon', 'Unown', 'Wobbuffet', 'Lugia', 'Celebi', 'Ralts', 'Kirlia', 'Gardevoir', 'Spoink', 'Grumpig', 'Chimecho', 'Wynaut', 'Deoxys', 'Chingling', 'Mime_Jr.', 'Gallade', 'Uxie', 'Mesprit', 'Azelf', 'Cresselia', 'Victini', 'Munna', 'Musharna', 'Woobat', 'Swoobat', 'Sigilyph', 'Gothita', 'Gothorita', 'Gothitelle', 'Solosis', 'Duosion', 'Reuniclus', 'Elgyem', 'Beheeyem', 'Espurr', 'Meowstic', 'Hoopa', 'Abra', 'Kadabra', 'Alakazam', 'Drowzee', 'Hypno', 'Mr._Mime', 'Mewtwo', 'Mew', 'Natu', 'Xatu', 'Espeon', 'Unown', 'Wobbuffet', 'Lugia', 'Celebi', 'Ralts', 'Kirlia', 'Gardevoir', 'Spoink', 'Grumpig', 'Chimecho', 'Wynaut', 'Deoxys', 'Chingling', 'Mime_Jr.', 'Gallade', 'Uxie', 'Mesprit', 'Azelf', 'Cresselia', 'Victini', 'Munna', 'Musharna', 'Woobat', 'Swoobat', 'Sigilyph', 'Gothita', 'Gothorita', 'Gothitelle', 'Solosis', 'Duosion', 'Reuniclus', 'Elgyem', 'Beheeyem', 'Espurr', 'Meowstic', 'Hoopa', 'Abra', 'Kadabra', 'Alakazam', 'Drowzee', 'Hypno', 'Mr._Mime', 'Mewtwo', 'Mew', 'Natu', 'Xatu', 'Espeon', 'Unown', 'Wobbuffet', 'Lugia', 'Celebi', 'Ralts', 'Kirlia', 'Gardevoir', 'Spoink', 'Grumpig', 'Chimecho', 'Wynaut', 'Deoxys', 'Chingling', 'Mime_Jr.', 'Gallade', 'Uxie', 'Mesprit', 'Azelf', 'Cresselia', 'Victini', 'Munna', 'Musharna', 'Woobat', 'Swoobat', 'Sigilyph', 'Gothita', 'Gothorita', 'Gothitelle', 'Solosis', 'Duosion', 'Reuniclus', 'Elgyem', 'Beheeyem', 'Espurr', 'Meowstic', 'Hoopa', 'Abra', 'Kadabra', 'Alakazam', 'Drowzee', 'Hypno', 'Mr._Mime', 'Mewtwo', 'Mew', 'Natu', 'Xatu', 'Espeon', 'Unown', 'Wobbuffet', 'Lugia', 'Celebi', 'Ralts', 'Kirlia', 'Gardevoir', 'Spoink', 'Grumpig', 'Chimecho', 'Wynaut', 'Deoxys', 'Chingling', 'Mime_Jr.', 'Gallade', 'Uxie', 'Mesprit', 'Azelf', 'Cresselia', 'Victini', 'Munna', 'Musharna', 'Woobat', 'Swoobat', 'Sigilyph', 'Gothita', 'Gothorita', 'Gothitelle', 'Solosis', 'Duosion', 'Reuniclus', 'Elgyem', 'Beheeyem', 'Espurr', 'Meowstic', 'Hoopa']\n",
      "Rock : ['Geodude', 'Graveler', 'Golem', 'Onix', 'Omanyte', 'Omastar', 'Kabuto', 'Kabutops', 'Aerodactyl', 'Sudowoodo', 'Larvitar', 'Pupitar', 'Tyranitar', 'Nosepass', 'Lunatone', 'Solrock', 'Lileep', 'Cradily', 'Anorith', 'Armaldo', 'Regirock', 'Cranidos', 'Rampardos', 'Shieldon', 'Bastiodon', 'Bonsly', 'Probopass', 'Roggenrola', 'Boldore', 'Gigalith', 'Archen', 'Archeops', 'Terrakion', 'Binacle', 'Barbaracle', 'Tyrunt', 'Tyrantrum', 'Amaura', 'Aurorus', 'Carbink', 'Diancie', 'Geodude', 'Graveler', 'Golem', 'Onix', 'Omanyte', 'Omastar', 'Kabuto', 'Kabutops', 'Aerodactyl', 'Sudowoodo', 'Larvitar', 'Pupitar', 'Tyranitar', 'Nosepass', 'Lunatone', 'Solrock', 'Lileep', 'Cradily', 'Anorith', 'Armaldo', 'Regirock', 'Cranidos', 'Rampardos', 'Shieldon', 'Bastiodon', 'Bonsly', 'Probopass', 'Roggenrola', 'Boldore', 'Gigalith', 'Archen', 'Archeops', 'Terrakion', 'Binacle', 'Barbaracle', 'Tyrunt', 'Tyrantrum', 'Amaura', 'Aurorus', 'Carbink', 'Diancie', 'Geodude', 'Graveler', 'Golem', 'Onix', 'Omanyte', 'Omastar', 'Kabuto', 'Kabutops', 'Aerodactyl', 'Sudowoodo', 'Larvitar', 'Pupitar', 'Tyranitar', 'Nosepass', 'Lunatone', 'Solrock', 'Lileep', 'Cradily', 'Anorith', 'Armaldo', 'Regirock', 'Cranidos', 'Rampardos', 'Shieldon', 'Bastiodon', 'Bonsly', 'Probopass', 'Roggenrola', 'Boldore', 'Gigalith', 'Archen', 'Archeops', 'Terrakion', 'Binacle', 'Barbaracle', 'Tyrunt', 'Tyrantrum', 'Amaura', 'Aurorus', 'Carbink', 'Diancie', 'Geodude', 'Graveler', 'Golem', 'Onix', 'Omanyte', 'Omastar', 'Kabuto', 'Kabutops', 'Aerodactyl', 'Sudowoodo', 'Larvitar', 'Pupitar', 'Tyranitar', 'Nosepass', 'Lunatone', 'Solrock', 'Lileep', 'Cradily', 'Anorith', 'Armaldo', 'Regirock', 'Cranidos', 'Rampardos', 'Shieldon', 'Bastiodon', 'Bonsly', 'Probopass', 'Roggenrola', 'Boldore', 'Gigalith', 'Archen', 'Archeops', 'Terrakion', 'Binacle', 'Barbaracle', 'Tyrunt', 'Tyrantrum', 'Amaura', 'Aurorus', 'Carbink', 'Diancie']\n",
      "Ghost : ['Gastly', 'Haunter', 'Gengar', 'Misdreavus', 'Shuppet', 'Banette', 'Duskull', 'Dusclops', 'Drifloon', 'Drifblim', 'Mismagius', 'Spiritomb', 'Dusknoir', 'Giratina', 'Yamask', 'Cofagrigus', 'Litwick', 'Lampent', 'Chandelure', 'Phantump', 'Trevenant', 'Pumpkaboo', 'Gourgeist', 'Gastly', 'Haunter', 'Gengar', 'Misdreavus', 'Shuppet', 'Banette', 'Duskull', 'Dusclops', 'Drifloon', 'Drifblim', 'Mismagius', 'Spiritomb', 'Dusknoir', 'Giratina', 'Yamask', 'Cofagrigus', 'Litwick', 'Lampent', 'Chandelure', 'Phantump', 'Trevenant', 'Pumpkaboo', 'Gourgeist', 'Gastly', 'Haunter', 'Gengar', 'Misdreavus', 'Shuppet', 'Banette', 'Duskull', 'Dusclops', 'Drifloon', 'Drifblim', 'Mismagius', 'Spiritomb', 'Dusknoir', 'Giratina', 'Yamask', 'Cofagrigus', 'Litwick', 'Lampent', 'Chandelure', 'Phantump', 'Trevenant', 'Pumpkaboo', 'Gourgeist', 'Gastly', 'Haunter', 'Gengar', 'Misdreavus', 'Shuppet', 'Banette', 'Duskull', 'Dusclops', 'Drifloon', 'Drifblim', 'Mismagius', 'Spiritomb', 'Dusknoir', 'Giratina', 'Yamask', 'Cofagrigus', 'Litwick', 'Lampent', 'Chandelure', 'Phantump', 'Trevenant', 'Pumpkaboo', 'Gourgeist']\n",
      "Ice : ['Jynx', 'Articuno', 'Swinub', 'Piloswine', 'Delibird', 'Smoochum', 'Snorunt', 'Glalie', 'Spheal', 'Sealeo', 'Walrein', 'Regice', 'Glaceon', 'Mamoswine', 'Froslass', 'Vanillite', 'Vanillish', 'Vanilluxe', 'Cubchoo', 'Beartic', 'Cryogonal', 'Bergmite', 'Avalugg', 'Jynx', 'Articuno', 'Swinub', 'Piloswine', 'Delibird', 'Smoochum', 'Snorunt', 'Glalie', 'Spheal', 'Sealeo', 'Walrein', 'Regice', 'Glaceon', 'Mamoswine', 'Froslass', 'Vanillite', 'Vanillish', 'Vanilluxe', 'Cubchoo', 'Beartic', 'Cryogonal', 'Bergmite', 'Avalugg', 'Jynx', 'Articuno', 'Swinub', 'Piloswine', 'Delibird', 'Smoochum', 'Snorunt', 'Glalie', 'Spheal', 'Sealeo', 'Walrein', 'Regice', 'Glaceon', 'Mamoswine', 'Froslass', 'Vanillite', 'Vanillish', 'Vanilluxe', 'Cubchoo', 'Beartic', 'Cryogonal', 'Bergmite', 'Avalugg', 'Jynx', 'Articuno', 'Swinub', 'Piloswine', 'Delibird', 'Smoochum', 'Snorunt', 'Glalie', 'Spheal', 'Sealeo', 'Walrein', 'Regice', 'Glaceon', 'Mamoswine', 'Froslass', 'Vanillite', 'Vanillish', 'Vanilluxe', 'Cubchoo', 'Beartic', 'Cryogonal', 'Bergmite', 'Avalugg']\n",
      "Dragon : ['Dratini', 'Dragonair', 'Dragonite', 'Altaria', 'Bagon', 'Shelgon', 'Salamence', 'Latias', 'Latios', 'Rayquaza', 'Gible', 'Gabite', 'Garchomp', 'Axew', 'Fraxure', 'Haxorus', 'Druddigon', 'Reshiram', 'Zekrom', 'Kyurem', 'Goomy', 'Sliggoo', 'Goodra', 'Zygarde', 'Dratini', 'Dragonair', 'Dragonite', 'Altaria', 'Bagon', 'Shelgon', 'Salamence', 'Latias', 'Latios', 'Rayquaza', 'Gible', 'Gabite', 'Garchomp', 'Axew', 'Fraxure', 'Haxorus', 'Druddigon', 'Reshiram', 'Zekrom', 'Kyurem', 'Goomy', 'Sliggoo', 'Goodra', 'Zygarde', 'Dratini', 'Dragonair', 'Dragonite', 'Altaria', 'Bagon', 'Shelgon', 'Salamence', 'Latias', 'Latios', 'Rayquaza', 'Gible', 'Gabite', 'Garchomp', 'Axew', 'Fraxure', 'Haxorus', 'Druddigon', 'Reshiram', 'Zekrom', 'Kyurem', 'Goomy', 'Sliggoo', 'Goodra', 'Zygarde', 'Dratini', 'Dragonair', 'Dragonite', 'Altaria', 'Bagon', 'Shelgon', 'Salamence', 'Latias', 'Latios', 'Rayquaza', 'Gible', 'Gabite', 'Garchomp', 'Axew', 'Fraxure', 'Haxorus', 'Druddigon', 'Reshiram', 'Zekrom', 'Kyurem', 'Goomy', 'Sliggoo', 'Goodra', 'Zygarde']\n",
      "Dark : ['Umbreon', 'Murkrow', 'Sneasel', 'Houndour', 'Houndoom', 'Poochyena', 'Mightyena', 'Sableye', 'Absol', 'Honchkrow', 'Weavile', 'Darkrai', 'Purrloin', 'Liepard', 'Scraggy', 'Scrafty', 'Zorua', 'Zoroark', 'Pawniard', 'Bisharp', 'Vullaby', 'Mandibuzz', 'Deino', 'Zweilous', 'Hydreigon', 'Inkay', 'Malamar', 'Yveltal', 'Umbreon', 'Murkrow', 'Sneasel', 'Houndour', 'Houndoom', 'Poochyena', 'Mightyena', 'Sableye', 'Absol', 'Honchkrow', 'Weavile', 'Darkrai', 'Purrloin', 'Liepard', 'Scraggy', 'Scrafty', 'Zorua', 'Zoroark', 'Pawniard', 'Bisharp', 'Vullaby', 'Mandibuzz', 'Deino', 'Zweilous', 'Hydreigon', 'Inkay', 'Malamar', 'Yveltal', 'Umbreon', 'Murkrow', 'Sneasel', 'Houndour', 'Houndoom', 'Poochyena', 'Mightyena', 'Sableye', 'Absol', 'Honchkrow', 'Weavile', 'Darkrai', 'Purrloin', 'Liepard', 'Scraggy', 'Scrafty', 'Zorua', 'Zoroark', 'Pawniard', 'Bisharp', 'Vullaby', 'Mandibuzz', 'Deino', 'Zweilous', 'Hydreigon', 'Inkay', 'Malamar', 'Yveltal', 'Umbreon', 'Murkrow', 'Sneasel', 'Houndour', 'Houndoom', 'Poochyena', 'Mightyena', 'Sableye', 'Absol', 'Honchkrow', 'Weavile', 'Darkrai', 'Purrloin', 'Liepard', 'Scraggy', 'Scrafty', 'Zorua', 'Zoroark', 'Pawniard', 'Bisharp', 'Vullaby', 'Mandibuzz', 'Deino', 'Zweilous', 'Hydreigon', 'Inkay', 'Malamar', 'Yveltal']\n",
      "Steel : ['Steelix', 'Skarmory', 'Mawile', 'Aron', 'Lairon', 'Aggron', 'Beldum', 'Metang', 'Metagross', 'Registeel', 'Jirachi', 'Bronzor', 'Bronzong', 'Dialga', 'Klink', 'Klang', 'Klinklang', 'Cobalion', 'Honedge', 'Doublade', 'Aegislash', 'Klefki', 'Steelix', 'Skarmory', 'Mawile', 'Aron', 'Lairon', 'Aggron', 'Beldum', 'Metang', 'Metagross', 'Registeel', 'Jirachi', 'Bronzor', 'Bronzong', 'Dialga', 'Klink', 'Klang', 'Klinklang', 'Cobalion', 'Honedge', 'Doublade', 'Aegislash', 'Klefki', 'Steelix', 'Skarmory', 'Mawile', 'Aron', 'Lairon', 'Aggron', 'Beldum', 'Metang', 'Metagross', 'Registeel', 'Jirachi', 'Bronzor', 'Bronzong', 'Dialga', 'Klink', 'Klang', 'Klinklang', 'Cobalion', 'Honedge', 'Doublade', 'Aegislash', 'Klefki', 'Steelix', 'Skarmory', 'Mawile', 'Aron', 'Lairon', 'Aggron', 'Beldum', 'Metang', 'Metagross', 'Registeel', 'Jirachi', 'Bronzor', 'Bronzong', 'Dialga', 'Klink', 'Klang', 'Klinklang', 'Cobalion', 'Honedge', 'Doublade', 'Aegislash', 'Klefki']\n",
      "Flying : ['Tornadus', 'Noibat', 'Noivern', 'Tornadus', 'Noibat', 'Noivern', 'Tornadus', 'Noibat', 'Noivern', 'Tornadus', 'Noibat', 'Noivern']\n",
      "Collection 'Grass' créée avec 264 pokémons\n",
      "Collection 'Fire' créée avec 188 pokémons\n",
      "Collection 'Water' créée avec 420 pokémons\n",
      "Collection 'Bug' créée avec 252 pokémons\n",
      "Collection 'Normal' créée avec 372 pokémons\n",
      "Collection 'Poison' créée avec 112 pokémons\n",
      "Collection 'Electric' créée avec 144 pokémons\n",
      "Collection 'Ground' créée avec 120 pokémons\n",
      "Collection 'Fairy' créée avec 68 pokémons\n",
      "Collection 'Fighting' créée avec 100 pokémons\n",
      "Collection 'Psychic' créée avec 188 pokémons\n",
      "Collection 'Rock' créée avec 164 pokémons\n",
      "Collection 'Ghost' créée avec 92 pokémons\n",
      "Collection 'Ice' créée avec 92 pokémons\n",
      "Collection 'Dragon' créée avec 96 pokémons\n",
      "Collection 'Dark' créée avec 112 pokémons\n",
      "Collection 'Steel' créée avec 88 pokémons\n",
      "Collection 'Flying' créée avec 12 pokémons\n"
     ]
    }
   ],
   "source": [
    "for doc in collection.find({}, {\"_id\": 0, \"Name\": 1, \"Type_1\": 1}):\n",
    "    type_principal = doc.get(\"Type_1\")  # .get() renvoie None si le champ n'existe pas\n",
    "    name = doc.get(\"Name\")\n",
    "    if type_principal and name:  # on ignore les documents sans Type_1 ou Name\n",
    "        if type_principal not in pokemons_by_type:\n",
    "            pokemons_by_type[type_principal] = []\n",
    "        pokemons_by_type[type_principal].append(name)\n",
    "\n",
    "# Affichage\n",
    "for type_p, names in pokemons_by_type.items():\n",
    "    print(type_p, \":\", names)\n",
    "\n",
    "#créez une collection par type\n",
    "for type_p, names in pokemons_by_type.items():\n",
    "    type_collection = db[type_p]  # la collection est créée automatiquement\n",
    "    # Préparer les documents à insérer\n",
    "    docs = [{\"Name\": name} for name in names]\n",
    "    # Insérer les documents\n",
    "    if docs:  # éviter d'insérer une liste vide\n",
    "        type_collection.insert_many(docs)\n",
    "    print(f\"Collection '{type_p}' créée avec {len(docs)} pokémons\")"
   ]
  },
  {
   "cell_type": "markdown",
   "metadata": {},
   "source": [
    "#### ![programming(3).png](data:image/png;base64,iVBORw0KGgoAAAANSUhEUgAAACAAAAAgCAYAAABzenr0AAAABHNCSVQICAgIfAhkiAAAAAlwSFlzAAAA3QAAAN0BcFOiBwAAABl0RVh0U29mdHdhcmUAd3d3Lmlua3NjYXBlLm9yZ5vuPBoAAAR7SURBVFiFtZdvaFVlHMc/z3PPuefuz825XWV3m5mWU1MLSVEyRoqKk2iLWBCT2uyFpTSIoCCHL0SDXkgUavhKCU3EpGmlorYSShtWig6M1M25gVPb3da2e6/3z3l6cf9u996d42pfOC/O8+/3+f2e5/f8EUopbKnplEHEtwpFDYj5gDf+AdyNfeo6guNoxa18Xv3QzrDCEmDTQS8OuQ1FPeC2R8sQgkNEze3s23B3YgCNB1y49GYQ7wH5Ng2PlR/UpwTDO9jfELQPsOVoKSrUghLLJmh4rJU2hLOWPXW91gCbDi1CipNAxf9iPKUeTLWeffXXcgNsOVqKGb40CcZTEFJfmh4JmaxqPOBChVom0ThABSrUQuMBV6JAS1a59Ob0OQ8J+MsYP0MUMDgwOL5JE5ZINy6XI95JLIstbpohMQWbDnqR8iZpq/1vB3xYalq6dPHXS5Ztzv4xl/K1UyBPJIr8mOZT7NtwNzYFDrmNCabawvmV6Jo2fqMBBd8GIJCMaH7cJpKmU0Z8k7GlaUVu1ixdAIBT19n6/mZ0Xefl6tWUTvfk7ugzR0Mo6mk6ZUgivlXY3OGmFblpqluDkLFQTvNM5f6DPvyBAFIKtn3wrjXEiSSEm4hvlYzt7faN/3LtBmfa2gGY7imho6sbgJbvz3Lu/AVriP40CEWNjB8slsp3OTGcGgPD/mTZdE8xnXEAgP7+QQzDoKDAYjklIIZ5VpI60cZVV28fu7/+gVeqnmP5wieTAB23YwArX1hO/Ws17Ny1l1udd6wH7Dfhu8Bi2wAAd+71sfvYOcpKitA1jalTHqOzqweAGeVePt61l47bNown9I9pWORPprrv+ei+50PXNc6cv8iIPzYlXx755lGHAimUJHaZeGSFwxH+vNExka4puYhocYA5Y+sK8gxerywHp4YyNNA1lFMDZ+r4UAqenjMr1UmBDEaQIxFkIIz0R3CMhHG3DUAgnAlgyIAG6jqIqgw4p8bzLy23dMI7u9La0cOHgSwABaJHIjhuOcJkyS2OaGjFrYT7hxi7GwYjaMduQDDzRAzNcBOa6SZUWsBgTz+uwQiFD4IU3s9660KOZPFeEwpX4Wex03DzV1+geDujUXcUTgcgOrq48/B6hlbGrg1tV28CUPGbj+qPrthwO65ZjnY63loUW1FRczvgz2g0wwHr8iB+lEdXlhP8qRbPkmJmmmEeJ8LiMi+Ly7x4187j5slahqvKrY1rQJHYAOlXsncO7QCxNWuHeCSUJx/zmZJksdIEgYejpyivvQ/tfqYvozRbu8CtjSsSLDEFwzvI01dnvQnHIyFO+3GcHT243YdCUiVyGC/rEr+ppN7fEEQ4a4GerB3HTMeE5BImFc4qft44lAkAsKeuF1OtnxSIAhFlnnyVK29cTi+e2MMkR3bkVJHw84S+gssNGWkis7VnT10vgfCLoHZiIztySgPm6q0scJRmMw7/9XGaKxKGUJQ52il0NHL1zd/HG94aIKFcz/M7UQc/BnUK5TCFohunOIFHfZK+0MbTvx9ltLez/h/sAAAAAElFTkSuQmCC) **TODO!**"
   ]
  },
  {
   "cell_type": "markdown",
   "metadata": {},
   "source": [
    "Supprimez les informations du pokemon de votre choix, puis supprimez un pokemon au hasard"
   ]
  },
  {
   "cell_type": "code",
   "execution_count": 81,
   "metadata": {},
   "outputs": [
    {
     "name": "stdout",
     "output_type": "stream",
     "text": [
      "0 document(s) supprimé(s)\n"
     ]
    }
   ],
   "source": [
    "# Supprimer Pikachu\n",
    "result = collection.delete_one({\"Name\": \"Pikachu\"})\n",
    "print(f\"{result.deleted_count} document(s) supprimé(s)\")\n"
   ]
  },
  {
   "cell_type": "markdown",
   "metadata": {},
   "source": [
    "Supprimez un pokemon au hasard"
   ]
  },
  {
   "cell_type": "code",
   "execution_count": 83,
   "metadata": {},
   "outputs": [
    {
     "name": "stdout",
     "output_type": "stream",
     "text": [
      "Pokémon aléatoire supprimé : Gengar (1 document)\n"
     ]
    }
   ],
   "source": [
    "random_pokemon = collection.aggregate([{\"$sample\": {\"size\": 1}}])\n",
    "for doc in random_pokemon:\n",
    "    name = doc[\"Name\"]\n",
    "    # Supprimer ce document\n",
    "    result = collection.delete_one({\"Name\": name})\n",
    "    print(f\"Pokémon aléatoire supprimé : {name} ({result.deleted_count} document)\")"
   ]
  },
  {
   "cell_type": "markdown",
   "metadata": {},
   "source": [
    "#### ![programming(3).png](data:image/png;base64,iVBORw0KGgoAAAANSUhEUgAAACAAAAAgCAYAAABzenr0AAAABHNCSVQICAgIfAhkiAAAAAlwSFlzAAAA3QAAAN0BcFOiBwAAABl0RVh0U29mdHdhcmUAd3d3Lmlua3NjYXBlLm9yZ5vuPBoAAAR7SURBVFiFtZdvaFVlHMc/z3PPuefuz825XWV3m5mWU1MLSVEyRoqKk2iLWBCT2uyFpTSIoCCHL0SDXkgUavhKCU3EpGmlorYSShtWig6M1M25gVPb3da2e6/3z3l6cf9u996d42pfOC/O8+/3+f2e5/f8EUopbKnplEHEtwpFDYj5gDf+AdyNfeo6guNoxa18Xv3QzrDCEmDTQS8OuQ1FPeC2R8sQgkNEze3s23B3YgCNB1y49GYQ7wH5Ng2PlR/UpwTDO9jfELQPsOVoKSrUghLLJmh4rJU2hLOWPXW91gCbDi1CipNAxf9iPKUeTLWeffXXcgNsOVqKGb40CcZTEFJfmh4JmaxqPOBChVom0ThABSrUQuMBV6JAS1a59Ob0OQ8J+MsYP0MUMDgwOL5JE5ZINy6XI95JLIstbpohMQWbDnqR8iZpq/1vB3xYalq6dPHXS5Ztzv4xl/K1UyBPJIr8mOZT7NtwNzYFDrmNCabawvmV6Jo2fqMBBd8GIJCMaH7cJpKmU0Z8k7GlaUVu1ixdAIBT19n6/mZ0Xefl6tWUTvfk7ugzR0Mo6mk6ZUgivlXY3OGmFblpqluDkLFQTvNM5f6DPvyBAFIKtn3wrjXEiSSEm4hvlYzt7faN/3LtBmfa2gGY7imho6sbgJbvz3Lu/AVriP40CEWNjB8slsp3OTGcGgPD/mTZdE8xnXEAgP7+QQzDoKDAYjklIIZ5VpI60cZVV28fu7/+gVeqnmP5wieTAB23YwArX1hO/Ws17Ny1l1udd6wH7Dfhu8Bi2wAAd+71sfvYOcpKitA1jalTHqOzqweAGeVePt61l47bNown9I9pWORPprrv+ei+50PXNc6cv8iIPzYlXx755lGHAimUJHaZeGSFwxH+vNExka4puYhocYA5Y+sK8gxerywHp4YyNNA1lFMDZ+r4UAqenjMr1UmBDEaQIxFkIIz0R3CMhHG3DUAgnAlgyIAG6jqIqgw4p8bzLy23dMI7u9La0cOHgSwABaJHIjhuOcJkyS2OaGjFrYT7hxi7GwYjaMduQDDzRAzNcBOa6SZUWsBgTz+uwQiFD4IU3s9660KOZPFeEwpX4Wex03DzV1+geDujUXcUTgcgOrq48/B6hlbGrg1tV28CUPGbj+qPrthwO65ZjnY63loUW1FRczvgz2g0wwHr8iB+lEdXlhP8qRbPkmJmmmEeJ8LiMi+Ly7x4187j5slahqvKrY1rQJHYAOlXsncO7QCxNWuHeCSUJx/zmZJksdIEgYejpyivvQ/tfqYvozRbu8CtjSsSLDEFwzvI01dnvQnHIyFO+3GcHT243YdCUiVyGC/rEr+ppN7fEEQ4a4GerB3HTMeE5BImFc4qft44lAkAsKeuF1OtnxSIAhFlnnyVK29cTi+e2MMkR3bkVJHw84S+gssNGWkis7VnT10vgfCLoHZiIztySgPm6q0scJRmMw7/9XGaKxKGUJQ52il0NHL1zd/HG94aIKFcz/M7UQc/BnUK5TCFohunOIFHfZK+0MbTvx9ltLez/h/sAAAAAElFTkSuQmCC) **TODO!**"
   ]
  },
  {
   "cell_type": "markdown",
   "metadata": {},
   "source": [
    "Affichez les noms de chaque type1, séparés par un espace, à partir des collections de type1"
   ]
  },
  {
   "cell_type": "code",
   "execution_count": 87,
   "metadata": {},
   "outputs": [
    {
     "name": "stdout",
     "output_type": "stream",
     "text": [
      "Normal : Pidgey Pidgeotto Pidgeot Rattata Raticate Spearow Fearow Jigglypuff Wigglytuff Meowth Persian Farfetch'd Doduo Dodrio Lickitung Chansey Kangaskhan Tauros Ditto Eevee Porygon Snorlax Sentret Furret Hoothoot Noctowl Igglybuff Aipom Girafarig Dunsparce Teddiursa Ursaring Porygon2 Stantler Smeargle Miltank Blissey Zigzagoon Linoone Taillow Swellow Slakoth Vigoroth Slaking Whismur Loudred Exploud Azurill Skitty Delcatty Spinda Swablu Zangoose Castform Kecleon Starly Staravia Staraptor Bidoof Bibarel Ambipom Buneary Lopunny Glameow Purugly Happiny Chatot Munchlax Lickilicky Porygon-Z Regigigas Arceus Patrat Watchog Lillipup Herdier Stoutland Pidove Tranquill Unfezant Audino Minccino Cinccino Deerling Sawsbuck Bouffalant Rufflet Braviary Meloetta Bunnelby Diggersby Fletchling Furfrou Pidgey Pidgeotto Pidgeot Rattata Raticate Spearow Fearow Jigglypuff Wigglytuff Meowth Persian Farfetch'd Doduo Dodrio Lickitung Chansey Kangaskhan Tauros Ditto Eevee Porygon Snorlax Sentret Furret Hoothoot Noctowl Igglybuff Aipom Girafarig Dunsparce Teddiursa Ursaring Porygon2 Stantler Smeargle Miltank Blissey Zigzagoon Linoone Taillow Swellow Slakoth Vigoroth Slaking Whismur Loudred Exploud Azurill Skitty Delcatty Spinda Swablu Zangoose Castform Kecleon Starly Staravia Staraptor Bidoof Bibarel Ambipom Buneary Lopunny Glameow Purugly Happiny Chatot Munchlax Lickilicky Porygon-Z Regigigas Arceus Patrat Watchog Lillipup Herdier Stoutland Pidove Tranquill Unfezant Audino Minccino Cinccino Deerling Sawsbuck Bouffalant Rufflet Braviary Meloetta Bunnelby Diggersby Fletchling Furfrou Pidgey Pidgeotto Pidgeot Rattata Raticate Spearow Fearow Jigglypuff Wigglytuff Meowth Persian Farfetch'd Doduo Dodrio Lickitung Chansey Kangaskhan Tauros Ditto Eevee Porygon Snorlax Sentret Furret Hoothoot Noctowl Igglybuff Aipom Girafarig Dunsparce Teddiursa Ursaring Porygon2 Stantler Smeargle Miltank Blissey Zigzagoon Linoone Taillow Swellow Slakoth Vigoroth Slaking Whismur Loudred Exploud Azurill Skitty Delcatty Spinda Swablu Zangoose Castform Kecleon Starly Staravia Staraptor Bidoof Bibarel Ambipom Buneary Lopunny Glameow Purugly Happiny Chatot Munchlax Lickilicky Porygon-Z Regigigas Arceus Patrat Watchog Lillipup Herdier Stoutland Pidove Tranquill Unfezant Audino Minccino Cinccino Deerling Sawsbuck Bouffalant Rufflet Braviary Meloetta Bunnelby Diggersby Fletchling Furfrou Pidgey Pidgeotto Pidgeot Rattata Raticate Spearow Fearow Jigglypuff Wigglytuff Meowth Persian Farfetch'd Doduo Dodrio Lickitung Chansey Kangaskhan Tauros Ditto Eevee Porygon Snorlax Sentret Furret Hoothoot Noctowl Igglybuff Aipom Girafarig Dunsparce Teddiursa Ursaring Porygon2 Stantler Smeargle Miltank Blissey Zigzagoon Linoone Taillow Swellow Slakoth Vigoroth Slaking Whismur Loudred Exploud Azurill Skitty Delcatty Spinda Swablu Zangoose Castform Kecleon Starly Staravia Staraptor Bidoof Bibarel Ambipom Buneary Lopunny Glameow Purugly Happiny Chatot Munchlax Lickilicky Porygon-Z Regigigas Arceus Patrat Watchog Lillipup Herdier Stoutland Pidove Tranquill Unfezant Audino Minccino Cinccino Deerling Sawsbuck Bouffalant Rufflet Braviary Meloetta Bunnelby Diggersby Fletchling Furfrou Pidgey Pidgeotto Pidgeot Rattata Raticate Spearow Fearow Jigglypuff Wigglytuff Meowth Persian Farfetch'd Doduo Dodrio Lickitung Chansey Kangaskhan Tauros Ditto Eevee Porygon Snorlax Sentret Furret Hoothoot Noctowl Igglybuff Aipom Girafarig Dunsparce Teddiursa Ursaring Porygon2 Stantler Smeargle Miltank Blissey Zigzagoon Linoone Taillow Swellow Slakoth Vigoroth Slaking Whismur Loudred Exploud Azurill Skitty Delcatty Spinda Swablu Zangoose Castform Kecleon Starly Staravia Staraptor Bidoof Bibarel Ambipom Buneary Lopunny Glameow Purugly Happiny Chatot Munchlax Lickilicky Porygon-Z Regigigas Arceus Patrat Watchog Lillipup Herdier Stoutland Pidove Tranquill Unfezant Audino Minccino Cinccino Deerling Sawsbuck Bouffalant Rufflet Braviary Meloetta Bunnelby Diggersby Fletchling Furfrou Pidgey Pidgeotto Pidgeot Rattata Raticate Spearow Fearow Jigglypuff Wigglytuff Meowth Persian Farfetch'd Doduo Dodrio Lickitung Chansey Kangaskhan Tauros Ditto Eevee Porygon Snorlax Sentret Furret Hoothoot Noctowl Igglybuff Aipom Girafarig Dunsparce Teddiursa Ursaring Porygon2 Stantler Smeargle Miltank Blissey Zigzagoon Linoone Taillow Swellow Slakoth Vigoroth Slaking Whismur Loudred Exploud Azurill Skitty Delcatty Spinda Swablu Zangoose Castform Kecleon Starly Staravia Staraptor Bidoof Bibarel Ambipom Buneary Lopunny Glameow Purugly Happiny Chatot Munchlax Lickilicky Porygon-Z Regigigas Arceus Patrat Watchog Lillipup Herdier Stoutland Pidove Tranquill Unfezant Audino Minccino Cinccino Deerling Sawsbuck Bouffalant Rufflet Braviary Meloetta Bunnelby Diggersby Fletchling Furfrou Pidgey Pidgeotto Pidgeot Rattata Raticate Spearow Fearow Jigglypuff Wigglytuff Meowth Persian Farfetch'd Doduo Dodrio Lickitung Chansey Kangaskhan Tauros Ditto Eevee Porygon Snorlax Sentret Furret Hoothoot Noctowl Igglybuff Aipom Girafarig Dunsparce Teddiursa Ursaring Porygon2 Stantler Smeargle Miltank Blissey Zigzagoon Linoone Taillow Swellow Slakoth Vigoroth Slaking Whismur Loudred Exploud Azurill Skitty Delcatty Spinda Swablu Zangoose Castform Kecleon Starly Staravia Staraptor Bidoof Bibarel Ambipom Buneary Lopunny Glameow Purugly Happiny Chatot Munchlax Lickilicky Porygon-Z Regigigas Arceus Patrat Watchog Lillipup Herdier Stoutland Pidove Tranquill Unfezant Audino Minccino Cinccino Deerling Sawsbuck Bouffalant Rufflet Braviary Meloetta Bunnelby Diggersby Fletchling Furfrou\n",
      "Dark : Umbreon Murkrow Sneasel Houndour Houndoom Poochyena Mightyena Sableye Absol Honchkrow Weavile Darkrai Purrloin Liepard Scraggy Scrafty Zorua Zoroark Pawniard Bisharp Vullaby Mandibuzz Deino Zweilous Hydreigon Inkay Malamar Yveltal Umbreon Murkrow Sneasel Houndour Houndoom Poochyena Mightyena Sableye Absol Honchkrow Weavile Darkrai Purrloin Liepard Scraggy Scrafty Zorua Zoroark Pawniard Bisharp Vullaby Mandibuzz Deino Zweilous Hydreigon Inkay Malamar Yveltal Umbreon Murkrow Sneasel Houndour Houndoom Poochyena Mightyena Sableye Absol Honchkrow Weavile Darkrai Purrloin Liepard Scraggy Scrafty Zorua Zoroark Pawniard Bisharp Vullaby Mandibuzz Deino Zweilous Hydreigon Inkay Malamar Yveltal Umbreon Murkrow Sneasel Houndour Houndoom Poochyena Mightyena Sableye Absol Honchkrow Weavile Darkrai Purrloin Liepard Scraggy Scrafty Zorua Zoroark Pawniard Bisharp Vullaby Mandibuzz Deino Zweilous Hydreigon Inkay Malamar Yveltal Umbreon Murkrow Sneasel Houndour Houndoom Poochyena Mightyena Sableye Absol Honchkrow Weavile Darkrai Purrloin Liepard Scraggy Scrafty Zorua Zoroark Pawniard Bisharp Vullaby Mandibuzz Deino Zweilous Hydreigon Inkay Malamar Yveltal Umbreon Murkrow Sneasel Houndour Houndoom Poochyena Mightyena Sableye Absol Honchkrow Weavile Darkrai Purrloin Liepard Scraggy Scrafty Zorua Zoroark Pawniard Bisharp Vullaby Mandibuzz Deino Zweilous Hydreigon Inkay Malamar Yveltal Umbreon Murkrow Sneasel Houndour Houndoom Poochyena Mightyena Sableye Absol Honchkrow Weavile Darkrai Purrloin Liepard Scraggy Scrafty Zorua Zoroark Pawniard Bisharp Vullaby Mandibuzz Deino Zweilous Hydreigon Inkay Malamar Yveltal\n",
      "Bug : Caterpie Metapod Butterfree Weedle Kakuna Beedrill Paras Parasect Venonat Venomoth Scyther Pinsir Ledyba Ledian Spinarak Ariados Yanma Pineco Forretress Scizor Shuckle Heracross Wurmple Silcoon Beautifly Cascoon Dustox Surskit Masquerain Nincada Ninjask Shedinja Volbeat Illumise Kricketot Kricketune Burmy Wormadam Mothim Combee Vespiquen Yanmega Sewaddle Swadloon Leavanny Venipede Whirlipede Scolipede Dwebble Crustle Karrablast Escavalier Joltik Galvantula Shelmet Accelgor Durant Larvesta Volcarona Genesect Scatterbug Spewpa Vivillon Caterpie Metapod Butterfree Weedle Kakuna Beedrill Paras Parasect Venonat Venomoth Scyther Pinsir Ledyba Ledian Spinarak Ariados Yanma Pineco Forretress Scizor Shuckle Heracross Wurmple Silcoon Beautifly Cascoon Dustox Surskit Masquerain Nincada Ninjask Shedinja Volbeat Illumise Kricketot Kricketune Burmy Wormadam Mothim Combee Vespiquen Yanmega Sewaddle Swadloon Leavanny Venipede Whirlipede Scolipede Dwebble Crustle Karrablast Escavalier Joltik Galvantula Shelmet Accelgor Durant Larvesta Volcarona Genesect Scatterbug Spewpa Vivillon Caterpie Metapod Butterfree Weedle Kakuna Beedrill Paras Parasect Venonat Venomoth Scyther Pinsir Ledyba Ledian Spinarak Ariados Yanma Pineco Forretress Scizor Shuckle Heracross Wurmple Silcoon Beautifly Cascoon Dustox Surskit Masquerain Nincada Ninjask Shedinja Volbeat Illumise Kricketot Kricketune Burmy Wormadam Mothim Combee Vespiquen Yanmega Sewaddle Swadloon Leavanny Venipede Whirlipede Scolipede Dwebble Crustle Karrablast Escavalier Joltik Galvantula Shelmet Accelgor Durant Larvesta Volcarona Genesect Scatterbug Spewpa Vivillon Caterpie Metapod Butterfree Weedle Kakuna Beedrill Paras Parasect Venonat Venomoth Scyther Pinsir Ledyba Ledian Spinarak Ariados Yanma Pineco Forretress Scizor Shuckle Heracross Wurmple Silcoon Beautifly Cascoon Dustox Surskit Masquerain Nincada Ninjask Shedinja Volbeat Illumise Kricketot Kricketune Burmy Wormadam Mothim Combee Vespiquen Yanmega Sewaddle Swadloon Leavanny Venipede Whirlipede Scolipede Dwebble Crustle Karrablast Escavalier Joltik Galvantula Shelmet Accelgor Durant Larvesta Volcarona Genesect Scatterbug Spewpa Vivillon Caterpie Metapod Butterfree Weedle Kakuna Beedrill Paras Parasect Venonat Venomoth Scyther Pinsir Ledyba Ledian Spinarak Ariados Yanma Pineco Forretress Scizor Shuckle Heracross Wurmple Silcoon Beautifly Cascoon Dustox Surskit Masquerain Nincada Ninjask Shedinja Volbeat Illumise Kricketot Kricketune Burmy Wormadam Mothim Combee Vespiquen Yanmega Sewaddle Swadloon Leavanny Venipede Whirlipede Scolipede Dwebble Crustle Karrablast Escavalier Joltik Galvantula Shelmet Accelgor Durant Larvesta Volcarona Genesect Scatterbug Spewpa Vivillon Caterpie Metapod Butterfree Weedle Kakuna Beedrill Paras Parasect Venonat Venomoth Scyther Pinsir Ledyba Ledian Spinarak Ariados Yanma Pineco Forretress Scizor Shuckle Heracross Wurmple Silcoon Beautifly Cascoon Dustox Surskit Masquerain Nincada Ninjask Shedinja Volbeat Illumise Kricketot Kricketune Burmy Wormadam Mothim Combee Vespiquen Yanmega Sewaddle Swadloon Leavanny Venipede Whirlipede Scolipede Dwebble Crustle Karrablast Escavalier Joltik Galvantula Shelmet Accelgor Durant Larvesta Volcarona Genesect Scatterbug Spewpa Vivillon Caterpie Metapod Butterfree Weedle Kakuna Beedrill Paras Parasect Venonat Venomoth Scyther Pinsir Ledyba Ledian Spinarak Ariados Yanma Pineco Forretress Scizor Shuckle Heracross Wurmple Silcoon Beautifly Cascoon Dustox Surskit Masquerain Nincada Ninjask Shedinja Volbeat Illumise Kricketot Kricketune Burmy Wormadam Mothim Combee Vespiquen Yanmega Sewaddle Swadloon Leavanny Venipede Whirlipede Scolipede Dwebble Crustle Karrablast Escavalier Joltik Galvantula Shelmet Accelgor Durant Larvesta Volcarona Genesect Scatterbug Spewpa Vivillon\n",
      "Water : Squirtle Wartortle Blastoise Psyduck Golduck Poliwag Poliwhirl Poliwrath Tentacool Tentacruel Slowpoke Slowbro Seel Dewgong Shellder Cloyster Krabby Kingler Horsea Seadra Goldeen Seaking Staryu Starmie Magikarp Gyarados Lapras Vaporeon Totodile Croconaw Feraligatr Chinchou Lanturn Marill Azumarill Politoed Wooper Quagsire Slowking Qwilfish Corsola Remoraid Octillery Mantine Kingdra Suicune Mudkip Marshtomp Swampert Lotad Lombre Ludicolo Wingull Pelipper Carvanha Sharpedo Wailmer Wailord Barboach Whiscash Corphish Crawdaunt Feebas Milotic Clamperl Huntail Gorebyss Relicanth Luvdisc Kyogre Piplup Prinplup Empoleon Buizel Floatzel Shellos Gastrodon Finneon Lumineon Mantyke Palkia Phione Manaphy Oshawott Dewott Samurott Panpour Simipour Tympole Palpitoad Seismitoad Basculin Tirtouga Carracosta Ducklett Swanna Frillish Jellicent Alomomola Keldeo Froakie Frogadier Greninja Clauncher Clawitzer Squirtle Wartortle Blastoise Psyduck Golduck Poliwag Poliwhirl Poliwrath Tentacool Tentacruel Slowpoke Slowbro Seel Dewgong Shellder Cloyster Krabby Kingler Horsea Seadra Goldeen Seaking Staryu Starmie Magikarp Gyarados Lapras Vaporeon Totodile Croconaw Feraligatr Chinchou Lanturn Marill Azumarill Politoed Wooper Quagsire Slowking Qwilfish Corsola Remoraid Octillery Mantine Kingdra Suicune Mudkip Marshtomp Swampert Lotad Lombre Ludicolo Wingull Pelipper Carvanha Sharpedo Wailmer Wailord Barboach Whiscash Corphish Crawdaunt Feebas Milotic Clamperl Huntail Gorebyss Relicanth Luvdisc Kyogre Piplup Prinplup Empoleon Buizel Floatzel Shellos Gastrodon Finneon Lumineon Mantyke Palkia Phione Manaphy Oshawott Dewott Samurott Panpour Simipour Tympole Palpitoad Seismitoad Basculin Tirtouga Carracosta Ducklett Swanna Frillish Jellicent Alomomola Keldeo Froakie Frogadier Greninja Clauncher Clawitzer Squirtle Wartortle Blastoise Psyduck Golduck Poliwag Poliwhirl Poliwrath Tentacool Tentacruel Slowpoke Slowbro Seel Dewgong Shellder Cloyster Krabby Kingler Horsea Seadra Goldeen Seaking Staryu Starmie Magikarp Gyarados Lapras Vaporeon Totodile Croconaw Feraligatr Chinchou Lanturn Marill Azumarill Politoed Wooper Quagsire Slowking Qwilfish Corsola Remoraid Octillery Mantine Kingdra Suicune Mudkip Marshtomp Swampert Lotad Lombre Ludicolo Wingull Pelipper Carvanha Sharpedo Wailmer Wailord Barboach Whiscash Corphish Crawdaunt Feebas Milotic Clamperl Huntail Gorebyss Relicanth Luvdisc Kyogre Piplup Prinplup Empoleon Buizel Floatzel Shellos Gastrodon Finneon Lumineon Mantyke Palkia Phione Manaphy Oshawott Dewott Samurott Panpour Simipour Tympole Palpitoad Seismitoad Basculin Tirtouga Carracosta Ducklett Swanna Frillish Jellicent Alomomola Keldeo Froakie Frogadier Greninja Clauncher Clawitzer Squirtle Wartortle Blastoise Psyduck Golduck Poliwag Poliwhirl Poliwrath Tentacool Tentacruel Slowpoke Slowbro Seel Dewgong Shellder Cloyster Krabby Kingler Horsea Seadra Goldeen Seaking Staryu Starmie Magikarp Gyarados Lapras Vaporeon Totodile Croconaw Feraligatr Chinchou Lanturn Marill Azumarill Politoed Wooper Quagsire Slowking Qwilfish Corsola Remoraid Octillery Mantine Kingdra Suicune Mudkip Marshtomp Swampert Lotad Lombre Ludicolo Wingull Pelipper Carvanha Sharpedo Wailmer Wailord Barboach Whiscash Corphish Crawdaunt Feebas Milotic Clamperl Huntail Gorebyss Relicanth Luvdisc Kyogre Piplup Prinplup Empoleon Buizel Floatzel Shellos Gastrodon Finneon Lumineon Mantyke Palkia Phione Manaphy Oshawott Dewott Samurott Panpour Simipour Tympole Palpitoad Seismitoad Basculin Tirtouga Carracosta Ducklett Swanna Frillish Jellicent Alomomola Keldeo Froakie Frogadier Greninja Clauncher Clawitzer Squirtle Wartortle Blastoise Psyduck Golduck Poliwag Poliwhirl Poliwrath Tentacool Tentacruel Slowpoke Slowbro Seel Dewgong Shellder Cloyster Krabby Kingler Horsea Seadra Goldeen Seaking Staryu Starmie Magikarp Gyarados Lapras Vaporeon Totodile Croconaw Feraligatr Chinchou Lanturn Marill Azumarill Politoed Wooper Quagsire Slowking Qwilfish Corsola Remoraid Octillery Mantine Kingdra Suicune Mudkip Marshtomp Swampert Lotad Lombre Ludicolo Wingull Pelipper Carvanha Sharpedo Wailmer Wailord Barboach Whiscash Corphish Crawdaunt Feebas Milotic Clamperl Huntail Gorebyss Relicanth Luvdisc Kyogre Piplup Prinplup Empoleon Buizel Floatzel Shellos Gastrodon Finneon Lumineon Mantyke Palkia Phione Manaphy Oshawott Dewott Samurott Panpour Simipour Tympole Palpitoad Seismitoad Basculin Tirtouga Carracosta Ducklett Swanna Frillish Jellicent Alomomola Keldeo Froakie Frogadier Greninja Clauncher Clawitzer Squirtle Wartortle Blastoise Psyduck Golduck Poliwag Poliwhirl Poliwrath Tentacool Tentacruel Slowpoke Slowbro Seel Dewgong Shellder Cloyster Krabby Kingler Horsea Seadra Goldeen Seaking Staryu Starmie Magikarp Gyarados Lapras Vaporeon Totodile Croconaw Feraligatr Chinchou Lanturn Marill Azumarill Politoed Wooper Quagsire Slowking Qwilfish Corsola Remoraid Octillery Mantine Kingdra Suicune Mudkip Marshtomp Swampert Lotad Lombre Ludicolo Wingull Pelipper Carvanha Sharpedo Wailmer Wailord Barboach Whiscash Corphish Crawdaunt Feebas Milotic Clamperl Huntail Gorebyss Relicanth Luvdisc Kyogre Piplup Prinplup Empoleon Buizel Floatzel Shellos Gastrodon Finneon Lumineon Mantyke Palkia Phione Manaphy Oshawott Dewott Samurott Panpour Simipour Tympole Palpitoad Seismitoad Basculin Tirtouga Carracosta Ducklett Swanna Frillish Jellicent Alomomola Keldeo Froakie Frogadier Greninja Clauncher Clawitzer Squirtle Wartortle Blastoise Psyduck Golduck Poliwag Poliwhirl Poliwrath Tentacool Tentacruel Slowpoke Slowbro Seel Dewgong Shellder Cloyster Krabby Kingler Horsea Seadra Goldeen Seaking Staryu Starmie Magikarp Gyarados Lapras Vaporeon Totodile Croconaw Feraligatr Chinchou Lanturn Marill Azumarill Politoed Wooper Quagsire Slowking Qwilfish Corsola Remoraid Octillery Mantine Kingdra Suicune Mudkip Marshtomp Swampert Lotad Lombre Ludicolo Wingull Pelipper Carvanha Sharpedo Wailmer Wailord Barboach Whiscash Corphish Crawdaunt Feebas Milotic Clamperl Huntail Gorebyss Relicanth Luvdisc Kyogre Piplup Prinplup Empoleon Buizel Floatzel Shellos Gastrodon Finneon Lumineon Mantyke Palkia Phione Manaphy Oshawott Dewott Samurott Panpour Simipour Tympole Palpitoad Seismitoad Basculin Tirtouga Carracosta Ducklett Swanna Frillish Jellicent Alomomola Keldeo Froakie Frogadier Greninja Clauncher Clawitzer\n",
      "Ice : Jynx Articuno Swinub Piloswine Delibird Smoochum Snorunt Glalie Spheal Sealeo Walrein Regice Glaceon Mamoswine Froslass Vanillite Vanillish Vanilluxe Cubchoo Beartic Cryogonal Bergmite Avalugg Jynx Articuno Swinub Piloswine Delibird Smoochum Snorunt Glalie Spheal Sealeo Walrein Regice Glaceon Mamoswine Froslass Vanillite Vanillish Vanilluxe Cubchoo Beartic Cryogonal Bergmite Avalugg Jynx Articuno Swinub Piloswine Delibird Smoochum Snorunt Glalie Spheal Sealeo Walrein Regice Glaceon Mamoswine Froslass Vanillite Vanillish Vanilluxe Cubchoo Beartic Cryogonal Bergmite Avalugg Jynx Articuno Swinub Piloswine Delibird Smoochum Snorunt Glalie Spheal Sealeo Walrein Regice Glaceon Mamoswine Froslass Vanillite Vanillish Vanilluxe Cubchoo Beartic Cryogonal Bergmite Avalugg Jynx Articuno Swinub Piloswine Delibird Smoochum Snorunt Glalie Spheal Sealeo Walrein Regice Glaceon Mamoswine Froslass Vanillite Vanillish Vanilluxe Cubchoo Beartic Cryogonal Bergmite Avalugg Jynx Articuno Swinub Piloswine Delibird Smoochum Snorunt Glalie Spheal Sealeo Walrein Regice Glaceon Mamoswine Froslass Vanillite Vanillish Vanilluxe Cubchoo Beartic Cryogonal Bergmite Avalugg Jynx Articuno Swinub Piloswine Delibird Smoochum Snorunt Glalie Spheal Sealeo Walrein Regice Glaceon Mamoswine Froslass Vanillite Vanillish Vanilluxe Cubchoo Beartic Cryogonal Bergmite Avalugg\n",
      "Rock : Geodude Graveler Golem Onix Omanyte Omastar Kabuto Kabutops Aerodactyl Sudowoodo Larvitar Pupitar Tyranitar Nosepass Lunatone Solrock Lileep Cradily Anorith Armaldo Regirock Cranidos Rampardos Shieldon Bastiodon Bonsly Probopass Roggenrola Boldore Gigalith Archen Archeops Terrakion Binacle Barbaracle Tyrunt Tyrantrum Amaura Aurorus Carbink Diancie Geodude Graveler Golem Onix Omanyte Omastar Kabuto Kabutops Aerodactyl Sudowoodo Larvitar Pupitar Tyranitar Nosepass Lunatone Solrock Lileep Cradily Anorith Armaldo Regirock Cranidos Rampardos Shieldon Bastiodon Bonsly Probopass Roggenrola Boldore Gigalith Archen Archeops Terrakion Binacle Barbaracle Tyrunt Tyrantrum Amaura Aurorus Carbink Diancie Geodude Graveler Golem Onix Omanyte Omastar Kabuto Kabutops Aerodactyl Sudowoodo Larvitar Pupitar Tyranitar Nosepass Lunatone Solrock Lileep Cradily Anorith Armaldo Regirock Cranidos Rampardos Shieldon Bastiodon Bonsly Probopass Roggenrola Boldore Gigalith Archen Archeops Terrakion Binacle Barbaracle Tyrunt Tyrantrum Amaura Aurorus Carbink Diancie Geodude Graveler Golem Onix Omanyte Omastar Kabuto Kabutops Aerodactyl Sudowoodo Larvitar Pupitar Tyranitar Nosepass Lunatone Solrock Lileep Cradily Anorith Armaldo Regirock Cranidos Rampardos Shieldon Bastiodon Bonsly Probopass Roggenrola Boldore Gigalith Archen Archeops Terrakion Binacle Barbaracle Tyrunt Tyrantrum Amaura Aurorus Carbink Diancie Geodude Graveler Golem Onix Omanyte Omastar Kabuto Kabutops Aerodactyl Sudowoodo Larvitar Pupitar Tyranitar Nosepass Lunatone Solrock Lileep Cradily Anorith Armaldo Regirock Cranidos Rampardos Shieldon Bastiodon Bonsly Probopass Roggenrola Boldore Gigalith Archen Archeops Terrakion Binacle Barbaracle Tyrunt Tyrantrum Amaura Aurorus Carbink Diancie Geodude Graveler Golem Onix Omanyte Omastar Kabuto Kabutops Aerodactyl Sudowoodo Larvitar Pupitar Tyranitar Nosepass Lunatone Solrock Lileep Cradily Anorith Armaldo Regirock Cranidos Rampardos Shieldon Bastiodon Bonsly Probopass Roggenrola Boldore Gigalith Archen Archeops Terrakion Binacle Barbaracle Tyrunt Tyrantrum Amaura Aurorus Carbink Diancie Geodude Graveler Golem Onix Omanyte Omastar Kabuto Kabutops Aerodactyl Sudowoodo Larvitar Pupitar Tyranitar Nosepass Lunatone Solrock Lileep Cradily Anorith Armaldo Regirock Cranidos Rampardos Shieldon Bastiodon Bonsly Probopass Roggenrola Boldore Gigalith Archen Archeops Terrakion Binacle Barbaracle Tyrunt Tyrantrum Amaura Aurorus Carbink Diancie\n",
      "Psychic : Abra Kadabra Alakazam Drowzee Hypno Mr._Mime Mewtwo Mew Natu Xatu Espeon Unown Wobbuffet Lugia Celebi Ralts Kirlia Gardevoir Spoink Grumpig Chimecho Wynaut Deoxys Chingling Mime_Jr. Gallade Uxie Mesprit Azelf Cresselia Victini Munna Musharna Woobat Swoobat Sigilyph Gothita Gothorita Gothitelle Solosis Duosion Reuniclus Elgyem Beheeyem Espurr Meowstic Hoopa Abra Kadabra Alakazam Drowzee Hypno Mr._Mime Mewtwo Mew Natu Xatu Espeon Unown Wobbuffet Lugia Celebi Ralts Kirlia Gardevoir Spoink Grumpig Chimecho Wynaut Deoxys Chingling Mime_Jr. Gallade Uxie Mesprit Azelf Cresselia Victini Munna Musharna Woobat Swoobat Sigilyph Gothita Gothorita Gothitelle Solosis Duosion Reuniclus Elgyem Beheeyem Espurr Meowstic Hoopa Abra Kadabra Alakazam Drowzee Hypno Mr._Mime Mewtwo Mew Natu Xatu Espeon Unown Wobbuffet Lugia Celebi Ralts Kirlia Gardevoir Spoink Grumpig Chimecho Wynaut Deoxys Chingling Mime_Jr. Gallade Uxie Mesprit Azelf Cresselia Victini Munna Musharna Woobat Swoobat Sigilyph Gothita Gothorita Gothitelle Solosis Duosion Reuniclus Elgyem Beheeyem Espurr Meowstic Hoopa Abra Kadabra Alakazam Drowzee Hypno Mr._Mime Mewtwo Mew Natu Xatu Espeon Unown Wobbuffet Lugia Celebi Ralts Kirlia Gardevoir Spoink Grumpig Chimecho Wynaut Deoxys Chingling Mime_Jr. Gallade Uxie Mesprit Azelf Cresselia Victini Munna Musharna Woobat Swoobat Sigilyph Gothita Gothorita Gothitelle Solosis Duosion Reuniclus Elgyem Beheeyem Espurr Meowstic Hoopa Abra Kadabra Alakazam Drowzee Hypno Mr._Mime Mewtwo Mew Natu Xatu Espeon Unown Wobbuffet Lugia Celebi Ralts Kirlia Gardevoir Spoink Grumpig Chimecho Wynaut Deoxys Chingling Mime_Jr. Gallade Uxie Mesprit Azelf Cresselia Victini Munna Musharna Woobat Swoobat Sigilyph Gothita Gothorita Gothitelle Solosis Duosion Reuniclus Elgyem Beheeyem Espurr Meowstic Hoopa Abra Kadabra Alakazam Drowzee Hypno Mr._Mime Mewtwo Mew Natu Xatu Espeon Unown Wobbuffet Lugia Celebi Ralts Kirlia Gardevoir Spoink Grumpig Chimecho Wynaut Deoxys Chingling Mime_Jr. Gallade Uxie Mesprit Azelf Cresselia Victini Munna Musharna Woobat Swoobat Sigilyph Gothita Gothorita Gothitelle Solosis Duosion Reuniclus Elgyem Beheeyem Espurr Meowstic Hoopa Abra Kadabra Alakazam Drowzee Hypno Mr._Mime Mewtwo Mew Natu Xatu Espeon Unown Wobbuffet Lugia Celebi Ralts Kirlia Gardevoir Spoink Grumpig Chimecho Wynaut Deoxys Chingling Mime_Jr. Gallade Uxie Mesprit Azelf Cresselia Victini Munna Musharna Woobat Swoobat Sigilyph Gothita Gothorita Gothitelle Solosis Duosion Reuniclus Elgyem Beheeyem Espurr Meowstic Hoopa\n",
      "Flying : Tornadus Noibat Noivern Tornadus Noibat Noivern Tornadus Noibat Noivern Tornadus Noibat Noivern Tornadus Noibat Noivern Tornadus Noibat Noivern Tornadus Noibat Noivern\n",
      "Poison : Ekans Arbok Nidoran♀ Nidorina Nidoqueen Nidoran♂ Nidorino Nidoking Zubat Golbat Grimer Muk Koffing Weezing Crobat Gulpin Swalot Seviper Stunky Skuntank Skorupi Drapion Croagunk Toxicroak Trubbish Garbodor Skrelp Dragalge Ekans Arbok Nidoran♀ Nidorina Nidoqueen Nidoran♂ Nidorino Nidoking Zubat Golbat Grimer Muk Koffing Weezing Crobat Gulpin Swalot Seviper Stunky Skuntank Skorupi Drapion Croagunk Toxicroak Trubbish Garbodor Skrelp Dragalge Ekans Arbok Nidoran♀ Nidorina Nidoqueen Nidoran♂ Nidorino Nidoking Zubat Golbat Grimer Muk Koffing Weezing Crobat Gulpin Swalot Seviper Stunky Skuntank Skorupi Drapion Croagunk Toxicroak Trubbish Garbodor Skrelp Dragalge Ekans Arbok Nidoran♀ Nidorina Nidoqueen Nidoran♂ Nidorino Nidoking Zubat Golbat Grimer Muk Koffing Weezing Crobat Gulpin Swalot Seviper Stunky Skuntank Skorupi Drapion Croagunk Toxicroak Trubbish Garbodor Skrelp Dragalge Ekans Arbok Nidoran♀ Nidorina Nidoqueen Nidoran♂ Nidorino Nidoking Zubat Golbat Grimer Muk Koffing Weezing Crobat Gulpin Swalot Seviper Stunky Skuntank Skorupi Drapion Croagunk Toxicroak Trubbish Garbodor Skrelp Dragalge Ekans Arbok Nidoran♀ Nidorina Nidoqueen Nidoran♂ Nidorino Nidoking Zubat Golbat Grimer Muk Koffing Weezing Crobat Gulpin Swalot Seviper Stunky Skuntank Skorupi Drapion Croagunk Toxicroak Trubbish Garbodor Skrelp Dragalge Ekans Arbok Nidoran♀ Nidorina Nidoqueen Nidoran♂ Nidorino Nidoking Zubat Golbat Grimer Muk Koffing Weezing Crobat Gulpin Swalot Seviper Stunky Skuntank Skorupi Drapion Croagunk Toxicroak Trubbish Garbodor Skrelp Dragalge\n",
      "Fighting : Mankey Primeape Machop Machoke Machamp Hitmonlee Hitmonchan Tyrogue Hitmontop Makuhita Hariyama Meditite Medicham Riolu Lucario Timburr Gurdurr Conkeldurr Throh Sawk Mienfoo Mienshao Pancham Pangoro Hawlucha Mankey Primeape Machop Machoke Machamp Hitmonlee Hitmonchan Tyrogue Hitmontop Makuhita Hariyama Meditite Medicham Riolu Lucario Timburr Gurdurr Conkeldurr Throh Sawk Mienfoo Mienshao Pancham Pangoro Hawlucha Mankey Primeape Machop Machoke Machamp Hitmonlee Hitmonchan Tyrogue Hitmontop Makuhita Hariyama Meditite Medicham Riolu Lucario Timburr Gurdurr Conkeldurr Throh Sawk Mienfoo Mienshao Pancham Pangoro Hawlucha Mankey Primeape Machop Machoke Machamp Hitmonlee Hitmonchan Tyrogue Hitmontop Makuhita Hariyama Meditite Medicham Riolu Lucario Timburr Gurdurr Conkeldurr Throh Sawk Mienfoo Mienshao Pancham Pangoro Hawlucha Mankey Primeape Machop Machoke Machamp Hitmonlee Hitmonchan Tyrogue Hitmontop Makuhita Hariyama Meditite Medicham Riolu Lucario Timburr Gurdurr Conkeldurr Throh Sawk Mienfoo Mienshao Pancham Pangoro Hawlucha Mankey Primeape Machop Machoke Machamp Hitmonlee Hitmonchan Tyrogue Hitmontop Makuhita Hariyama Meditite Medicham Riolu Lucario Timburr Gurdurr Conkeldurr Throh Sawk Mienfoo Mienshao Pancham Pangoro Hawlucha Mankey Primeape Machop Machoke Machamp Hitmonlee Hitmonchan Tyrogue Hitmontop Makuhita Hariyama Meditite Medicham Riolu Lucario Timburr Gurdurr Conkeldurr Throh Sawk Mienfoo Mienshao Pancham Pangoro Hawlucha\n",
      "Dragon : Dratini Dragonair Dragonite Altaria Bagon Shelgon Salamence Latias Latios Rayquaza Gible Gabite Garchomp Axew Fraxure Haxorus Druddigon Reshiram Zekrom Kyurem Goomy Sliggoo Goodra Zygarde Dratini Dragonair Dragonite Altaria Bagon Shelgon Salamence Latias Latios Rayquaza Gible Gabite Garchomp Axew Fraxure Haxorus Druddigon Reshiram Zekrom Kyurem Goomy Sliggoo Goodra Zygarde Dratini Dragonair Dragonite Altaria Bagon Shelgon Salamence Latias Latios Rayquaza Gible Gabite Garchomp Axew Fraxure Haxorus Druddigon Reshiram Zekrom Kyurem Goomy Sliggoo Goodra Zygarde Dratini Dragonair Dragonite Altaria Bagon Shelgon Salamence Latias Latios Rayquaza Gible Gabite Garchomp Axew Fraxure Haxorus Druddigon Reshiram Zekrom Kyurem Goomy Sliggoo Goodra Zygarde Dratini Dragonair Dragonite Altaria Bagon Shelgon Salamence Latias Latios Rayquaza Gible Gabite Garchomp Axew Fraxure Haxorus Druddigon Reshiram Zekrom Kyurem Goomy Sliggoo Goodra Zygarde Dratini Dragonair Dragonite Altaria Bagon Shelgon Salamence Latias Latios Rayquaza Gible Gabite Garchomp Axew Fraxure Haxorus Druddigon Reshiram Zekrom Kyurem Goomy Sliggoo Goodra Zygarde Dratini Dragonair Dragonite Altaria Bagon Shelgon Salamence Latias Latios Rayquaza Gible Gabite Garchomp Axew Fraxure Haxorus Druddigon Reshiram Zekrom Kyurem Goomy Sliggoo Goodra Zygarde\n",
      "Steel : Steelix Skarmory Mawile Aron Lairon Aggron Beldum Metang Metagross Registeel Jirachi Bronzor Bronzong Dialga Klink Klang Klinklang Cobalion Honedge Doublade Aegislash Klefki Steelix Skarmory Mawile Aron Lairon Aggron Beldum Metang Metagross Registeel Jirachi Bronzor Bronzong Dialga Klink Klang Klinklang Cobalion Honedge Doublade Aegislash Klefki Steelix Skarmory Mawile Aron Lairon Aggron Beldum Metang Metagross Registeel Jirachi Bronzor Bronzong Dialga Klink Klang Klinklang Cobalion Honedge Doublade Aegislash Klefki Steelix Skarmory Mawile Aron Lairon Aggron Beldum Metang Metagross Registeel Jirachi Bronzor Bronzong Dialga Klink Klang Klinklang Cobalion Honedge Doublade Aegislash Klefki Steelix Skarmory Mawile Aron Lairon Aggron Beldum Metang Metagross Registeel Jirachi Bronzor Bronzong Dialga Klink Klang Klinklang Cobalion Honedge Doublade Aegislash Klefki Steelix Skarmory Mawile Aron Lairon Aggron Beldum Metang Metagross Registeel Jirachi Bronzor Bronzong Dialga Klink Klang Klinklang Cobalion Honedge Doublade Aegislash Klefki Steelix Skarmory Mawile Aron Lairon Aggron Beldum Metang Metagross Registeel Jirachi Bronzor Bronzong Dialga Klink Klang Klinklang Cobalion Honedge Doublade Aegislash Klefki\n",
      "Fairy : Clefairy Clefable Cleffa Togepi Togetic Snubbull Granbull Togekiss Flabébé Floette Florges Spritzee Aromatisse Swirlix Slurpuff Sylveon Xerneas Clefairy Clefable Cleffa Togepi Togetic Snubbull Granbull Togekiss Flabébé Floette Florges Spritzee Aromatisse Swirlix Slurpuff Sylveon Xerneas Clefairy Clefable Cleffa Togepi Togetic Snubbull Granbull Togekiss Flabébé Floette Florges Spritzee Aromatisse Swirlix Slurpuff Sylveon Xerneas Clefairy Clefable Cleffa Togepi Togetic Snubbull Granbull Togekiss Flabébé Floette Florges Spritzee Aromatisse Swirlix Slurpuff Sylveon Xerneas Clefairy Clefable Cleffa Togepi Togetic Snubbull Granbull Togekiss Flabébé Floette Florges Spritzee Aromatisse Swirlix Slurpuff Sylveon Xerneas Clefairy Clefable Cleffa Togepi Togetic Snubbull Granbull Togekiss Flabébé Floette Florges Spritzee Aromatisse Swirlix Slurpuff Sylveon Xerneas Clefairy Clefable Cleffa Togepi Togetic Snubbull Granbull Togekiss Flabébé Floette Florges Spritzee Aromatisse Swirlix Slurpuff Sylveon Xerneas\n",
      "Ground : Sandshrew Sandslash Diglett Dugtrio Cubone Marowak Rhyhorn Rhydon Gligar Phanpy Donphan Trapinch Vibrava Flygon Baltoy Claydol Groudon Hippopotas Hippowdon Rhyperior Gliscor Drilbur Excadrill Sandile Krokorok Krookodile Stunfisk Golett Golurk Landorus Sandshrew Sandslash Diglett Dugtrio Cubone Marowak Rhyhorn Rhydon Gligar Phanpy Donphan Trapinch Vibrava Flygon Baltoy Claydol Groudon Hippopotas Hippowdon Rhyperior Gliscor Drilbur Excadrill Sandile Krokorok Krookodile Stunfisk Golett Golurk Landorus Sandshrew Sandslash Diglett Dugtrio Cubone Marowak Rhyhorn Rhydon Gligar Phanpy Donphan Trapinch Vibrava Flygon Baltoy Claydol Groudon Hippopotas Hippowdon Rhyperior Gliscor Drilbur Excadrill Sandile Krokorok Krookodile Stunfisk Golett Golurk Landorus Sandshrew Sandslash Diglett Dugtrio Cubone Marowak Rhyhorn Rhydon Gligar Phanpy Donphan Trapinch Vibrava Flygon Baltoy Claydol Groudon Hippopotas Hippowdon Rhyperior Gliscor Drilbur Excadrill Sandile Krokorok Krookodile Stunfisk Golett Golurk Landorus Sandshrew Sandslash Diglett Dugtrio Cubone Marowak Rhyhorn Rhydon Gligar Phanpy Donphan Trapinch Vibrava Flygon Baltoy Claydol Groudon Hippopotas Hippowdon Rhyperior Gliscor Drilbur Excadrill Sandile Krokorok Krookodile Stunfisk Golett Golurk Landorus Sandshrew Sandslash Diglett Dugtrio Cubone Marowak Rhyhorn Rhydon Gligar Phanpy Donphan Trapinch Vibrava Flygon Baltoy Claydol Groudon Hippopotas Hippowdon Rhyperior Gliscor Drilbur Excadrill Sandile Krokorok Krookodile Stunfisk Golett Golurk Landorus Sandshrew Sandslash Diglett Dugtrio Cubone Marowak Rhyhorn Rhydon Gligar Phanpy Donphan Trapinch Vibrava Flygon Baltoy Claydol Groudon Hippopotas Hippowdon Rhyperior Gliscor Drilbur Excadrill Sandile Krokorok Krookodile Stunfisk Golett Golurk Landorus\n"
     ]
    },
    {
     "ename": "KeyError",
     "evalue": "'Name'",
     "output_type": "error",
     "traceback": [
      "\u001b[0;31m---------------------------------------------------------------------------\u001b[0m",
      "\u001b[0;31mKeyError\u001b[0m                                  Traceback (most recent call last)",
      "Cell \u001b[0;32mIn[87], line 8\u001b[0m\n\u001b[1;32m      6\u001b[0m collection \u001b[38;5;241m=\u001b[39m db[coll_name]\n\u001b[1;32m      7\u001b[0m \u001b[38;5;66;03m# Récupérer tous les documents et extraire les noms\u001b[39;00m\n\u001b[0;32m----> 8\u001b[0m names \u001b[38;5;241m=\u001b[39m [\u001b[43mdoc\u001b[49m\u001b[43m[\u001b[49m\u001b[38;5;124;43m\"\u001b[39;49m\u001b[38;5;124;43mName\u001b[39;49m\u001b[38;5;124;43m\"\u001b[39;49m\u001b[43m]\u001b[49m \u001b[38;5;28;01mfor\u001b[39;00m doc \u001b[38;5;129;01min\u001b[39;00m collection\u001b[38;5;241m.\u001b[39mfind({}, {\u001b[38;5;124m\"\u001b[39m\u001b[38;5;124m_id\u001b[39m\u001b[38;5;124m\"\u001b[39m: \u001b[38;5;241m0\u001b[39m, \u001b[38;5;124m\"\u001b[39m\u001b[38;5;124mName\u001b[39m\u001b[38;5;124m\"\u001b[39m: \u001b[38;5;241m1\u001b[39m})]\n\u001b[1;32m      9\u001b[0m \u001b[38;5;66;03m# Affichage séparé par un espace\u001b[39;00m\n\u001b[1;32m     10\u001b[0m \u001b[38;5;28mprint\u001b[39m(\u001b[38;5;124mf\u001b[39m\u001b[38;5;124m\"\u001b[39m\u001b[38;5;132;01m{\u001b[39;00mcoll_name\u001b[38;5;132;01m}\u001b[39;00m\u001b[38;5;124m :\u001b[39m\u001b[38;5;124m\"\u001b[39m, \u001b[38;5;124m\"\u001b[39m\u001b[38;5;124m \u001b[39m\u001b[38;5;124m\"\u001b[39m\u001b[38;5;241m.\u001b[39mjoin(names))\n",
      "\u001b[0;31mKeyError\u001b[0m: 'Name'"
     ]
    }
   ],
   "source": [
    "collections = db.list_collection_names()\n",
    "\n",
    "# Parcourir chaque collection correspondant à un type\n",
    "for coll_name in collections:\n",
    "    # On suppose que les collections de type sont celles présentes dans pokemons_by_type\n",
    "    collection = db[coll_name]\n",
    "    # Récupérer tous les documents et extraire les noms\n",
    "    names = [doc[\"Name\"] for doc in collection.find({}, {\"_id\": 0, \"Name\": 1})]\n",
    "    # Affichage séparé par un espace\n",
    "    print(f\"{coll_name} :\", \" \".join(names))\n",
    "\n"
   ]
  },
  {
   "cell_type": "markdown",
   "metadata": {},
   "source": [
    "Et voilà~ ! Vous avez appris à utiliser MongoDB pour les opérations basiques :\n",
    "- Create\n",
    "- Read\n",
    "- Update\n",
    "- Delete\n",
    "\n",
    "donc le CRUD 😃"
   ]
  }
 ],
 "metadata": {
  "kernelspec": {
   "display_name": "Python 3",
   "language": "python",
   "name": "python3"
  },
  "language_info": {
   "codemirror_mode": {
    "name": "ipython",
    "version": 3
   },
   "file_extension": ".py",
   "mimetype": "text/x-python",
   "name": "python",
   "nbconvert_exporter": "python",
   "pygments_lexer": "ipython3",
   "version": "3.12.3"
  }
 },
 "nbformat": 4,
 "nbformat_minor": 2
}
