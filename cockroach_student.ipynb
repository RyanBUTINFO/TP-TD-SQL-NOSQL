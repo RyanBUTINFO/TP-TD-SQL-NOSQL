{
 "cells": [
  {
   "cell_type": "markdown",
   "metadata": {},
   "source": [
    "<center>\n",
    "\n",
    "<img src=\"data:image/png;base64,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\" />\n",
    "\n",
    "</center>"
   ]
  },
  {
   "cell_type": "markdown",
   "metadata": {},
   "source": [
    "<h1><center><strong style=\"color: #293358\">Nouvelles Bases de données<br/> BUT 3 - IUT Villetaneuse <br/> CockroachDB</strong></center></h1>\n",
    "\n",
    "<center>\n",
    "<h3 style=\"color: #8b7d6d\"><a href=\"https://gguibon.github.io/\">Gaël Guibon</a></h3>\n",
    "<email>gael.guibon@sorbonne-paris-nord.fr</email>\n",
    "<br/>\n",
    "Year 2025-2026\n",
    "\n",
    "Original Content\n",
    "\n",
    "Licenced under Affero GNU3\n",
    "</center>"
   ]
  },
  {
   "cell_type": "markdown",
   "metadata": {},
   "source": [
    "# <strong style=\"color: #8b7d6d\">Installation</strong>"
   ]
  },
  {
   "cell_type": "code",
   "execution_count": null,
   "metadata": {},
   "outputs": [],
   "source": [
    "! wget https://binaries.cockroachdb.com/cockroach-v24.2.3.linux-amd64.tgz\n",
    "! tar -xvzf cockroach-v24.2.3.linux-amd64.tgz \n",
    "! mkdir -p /usr/local/lib/cockroach\n",
    "! cp -i cockroach-v24.2.3.linux-amd64/lib/libgeos.so /usr/local/lib/cockroach/\n",
    "! cp -i cockroach-v24.2.3.linux-amd64/lib/libgeos_c.so /usr/local/lib/cockroach/"
   ]
  },
  {
   "cell_type": "markdown",
   "metadata": {},
   "source": [
    "micro est une alternative à nano"
   ]
  },
  {
   "cell_type": "code",
   "execution_count": null,
   "metadata": {},
   "outputs": [],
   "source": [
    "# sudo apt install micro ; apt update\n",
    "! sudo micro /etc/profile \n",
    "# ajouter la ligne suivante en fin de fichier (adapter le chemin du dossier)\n",
    "export PATH=\"/home/gael/Documents/cockroach-v24.2.3.linux-amd64:$PATH\""
   ]
  },
  {
   "cell_type": "markdown",
   "metadata": {},
   "source": [
    "Vérifier que la commande `cockroach` est bien trouvée et où elle est prise en compte.\n",
    "\n",
    "Vous verrez une vision d'ensemble de cette commande ici : https://www.cockroachlabs.com/docs/stable/cockroach-commands"
   ]
  },
  {
   "cell_type": "code",
   "execution_count": null,
   "metadata": {},
   "outputs": [],
   "source": [
    "! which cockroach"
   ]
  },
  {
   "cell_type": "markdown",
   "metadata": {},
   "source": [
    "Lancer cockroach DB en node unique, en localhost et en mode insecure (pas besoin de login etc.)"
   ]
  },
  {
   "cell_type": "code",
   "execution_count": null,
   "metadata": {},
   "outputs": [],
   "source": [
    "! cockroach start-single-node --advertise-addr 'localhost' --insecure"
   ]
  },
  {
   "cell_type": "markdown",
   "metadata": {},
   "source": [
    "Ouvrir le navigateur au localhost avec le port 8080 pour voir la joooolie interface graphique !"
   ]
  },
  {
   "cell_type": "code",
   "execution_count": null,
   "metadata": {},
   "outputs": [],
   "source": [
    "! firefox http://localhost:8080"
   ]
  },
  {
   "cell_type": "markdown",
   "metadata": {},
   "source": [
    "# <strong style=\"color: #8b7d6d\">Cockroach SQL en terminal</strong>"
   ]
  },
  {
   "cell_type": "markdown",
   "metadata": {},
   "source": [
    "#### ![programming(3).png](data:image/png;base64,iVBORw0KGgoAAAANSUhEUgAAACAAAAAgCAYAAABzenr0AAAABHNCSVQICAgIfAhkiAAAAAlwSFlzAAAA3QAAAN0BcFOiBwAAABl0RVh0U29mdHdhcmUAd3d3Lmlua3NjYXBlLm9yZ5vuPBoAAAR7SURBVFiFtZdvaFVlHMc/z3PPuefuz825XWV3m5mWU1MLSVEyRoqKk2iLWBCT2uyFpTSIoCCHL0SDXkgUavhKCU3EpGmlorYSShtWig6M1M25gVPb3da2e6/3z3l6cf9u996d42pfOC/O8+/3+f2e5/f8EUopbKnplEHEtwpFDYj5gDf+AdyNfeo6guNoxa18Xv3QzrDCEmDTQS8OuQ1FPeC2R8sQgkNEze3s23B3YgCNB1y49GYQ7wH5Ng2PlR/UpwTDO9jfELQPsOVoKSrUghLLJmh4rJU2hLOWPXW91gCbDi1CipNAxf9iPKUeTLWeffXXcgNsOVqKGb40CcZTEFJfmh4JmaxqPOBChVom0ThABSrUQuMBV6JAS1a59Ob0OQ8J+MsYP0MUMDgwOL5JE5ZINy6XI95JLIstbpohMQWbDnqR8iZpq/1vB3xYalq6dPHXS5Ztzv4xl/K1UyBPJIr8mOZT7NtwNzYFDrmNCabawvmV6Jo2fqMBBd8GIJCMaH7cJpKmU0Z8k7GlaUVu1ixdAIBT19n6/mZ0Xefl6tWUTvfk7ugzR0Mo6mk6ZUgivlXY3OGmFblpqluDkLFQTvNM5f6DPvyBAFIKtn3wrjXEiSSEm4hvlYzt7faN/3LtBmfa2gGY7imho6sbgJbvz3Lu/AVriP40CEWNjB8slsp3OTGcGgPD/mTZdE8xnXEAgP7+QQzDoKDAYjklIIZ5VpI60cZVV28fu7/+gVeqnmP5wieTAB23YwArX1hO/Ws17Ny1l1udd6wH7Dfhu8Bi2wAAd+71sfvYOcpKitA1jalTHqOzqweAGeVePt61l47bNown9I9pWORPprrv+ei+50PXNc6cv8iIPzYlXx755lGHAimUJHaZeGSFwxH+vNExka4puYhocYA5Y+sK8gxerywHp4YyNNA1lFMDZ+r4UAqenjMr1UmBDEaQIxFkIIz0R3CMhHG3DUAgnAlgyIAG6jqIqgw4p8bzLy23dMI7u9La0cOHgSwABaJHIjhuOcJkyS2OaGjFrYT7hxi7GwYjaMduQDDzRAzNcBOa6SZUWsBgTz+uwQiFD4IU3s9660KOZPFeEwpX4Wex03DzV1+geDujUXcUTgcgOrq48/B6hlbGrg1tV28CUPGbj+qPrthwO65ZjnY63loUW1FRczvgz2g0wwHr8iB+lEdXlhP8qRbPkmJmmmEeJ8LiMi+Ly7x4187j5slahqvKrY1rQJHYAOlXsncO7QCxNWuHeCSUJx/zmZJksdIEgYejpyivvQ/tfqYvozRbu8CtjSsSLDEFwzvI01dnvQnHIyFO+3GcHT243YdCUiVyGC/rEr+ppN7fEEQ4a4GerB3HTMeE5BImFc4qft44lAkAsKeuF1OtnxSIAhFlnnyVK29cTi+e2MMkR3bkVJHw84S+gssNGWkis7VnT10vgfCLoHZiIztySgPm6q0scJRmMw7/9XGaKxKGUJQ52il0NHL1zd/HG94aIKFcz/M7UQc/BnUK5TCFohunOIFHfZK+0MbTvx9ltLez/h/sAAAAAElFTkSuQmCC) **TODO!**"
   ]
  },
  {
   "cell_type": "markdown",
   "metadata": {},
   "source": [
    "Suivez le tutoriel disponible ici : https://www.cockroachlabs.com/docs/cockroachcloud/learn-cockroachdb-sql\n",
    "\n",
    "Regardez les différences de CockroachDB résumées ici :\n",
    "https://www.cockroachlabs.com/docs/stable/cockroachdb-in-comparison"
   ]
  },
  {
   "cell_type": "code",
   "execution_count": null,
   "metadata": {},
   "outputs": [],
   "source": [
    "# pour lancer l'invite de commande cockroach dans le terminal : https://www.cockroachlabs.com/docs/stable/cockroach-sql\n",
    "! cockroach sql --insecure"
   ]
  },
  {
   "cell_type": "markdown",
   "metadata": {},
   "source": [
    "# <strong style=\"color: #8b7d6d\">CRUD (Create Read Update Delete) en CockroachDB</strong>"
   ]
  },
  {
   "cell_type": "markdown",
   "metadata": {},
   "source": [
    "Récupérer l'exemple officiel de cockroach en Python. Utilisez git et installez psycopg3 avec ses dépendances avec les commandes suivantes.\n",
    "\n",
    "Psycopg (https://www.psycopg.org/) est un driver postgreSQL en python"
   ]
  },
  {
   "cell_type": "code",
   "execution_count": null,
   "metadata": {},
   "outputs": [],
   "source": [
    "! git clone https://github.com/cockroachdb/example-app-python-psycopg3\n",
    "! pip install --upgrade pip --break-system-packages\n",
    "! pip install \"psycopg[binary,pool]\" --break-system-packages"
   ]
  },
  {
   "cell_type": "markdown",
   "metadata": {},
   "source": [
    "Ici on met l'URL de la base de données dans la variable d'environnement. L'exemple officiel utilise cette valeur String pour se connecter au cluster et exécuter le code."
   ]
  },
  {
   "cell_type": "code",
   "execution_count": null,
   "metadata": {},
   "outputs": [],
   "source": [
    "! export DATABASE_URL=\"postgresql://root@localhost:26257/defaultdb?sslmode=disable\""
   ]
  },
  {
   "cell_type": "code",
   "execution_count": null,
   "metadata": {},
   "outputs": [],
   "source": [
    "! cd example-app-python-psycopg3"
   ]
  },
  {
   "cell_type": "markdown",
   "metadata": {},
   "source": [
    "#### ![programming(3).png](data:image/png;base64,iVBORw0KGgoAAAANSUhEUgAAACAAAAAgCAYAAABzenr0AAAABHNCSVQICAgIfAhkiAAAAAlwSFlzAAAA3QAAAN0BcFOiBwAAABl0RVh0U29mdHdhcmUAd3d3Lmlua3NjYXBlLm9yZ5vuPBoAAAR7SURBVFiFtZdvaFVlHMc/z3PPuefuz825XWV3m5mWU1MLSVEyRoqKk2iLWBCT2uyFpTSIoCCHL0SDXkgUavhKCU3EpGmlorYSShtWig6M1M25gVPb3da2e6/3z3l6cf9u996d42pfOC/O8+/3+f2e5/f8EUopbKnplEHEtwpFDYj5gDf+AdyNfeo6guNoxa18Xv3QzrDCEmDTQS8OuQ1FPeC2R8sQgkNEze3s23B3YgCNB1y49GYQ7wH5Ng2PlR/UpwTDO9jfELQPsOVoKSrUghLLJmh4rJU2hLOWPXW91gCbDi1CipNAxf9iPKUeTLWeffXXcgNsOVqKGb40CcZTEFJfmh4JmaxqPOBChVom0ThABSrUQuMBV6JAS1a59Ob0OQ8J+MsYP0MUMDgwOL5JE5ZINy6XI95JLIstbpohMQWbDnqR8iZpq/1vB3xYalq6dPHXS5Ztzv4xl/K1UyBPJIr8mOZT7NtwNzYFDrmNCabawvmV6Jo2fqMBBd8GIJCMaH7cJpKmU0Z8k7GlaUVu1ixdAIBT19n6/mZ0Xefl6tWUTvfk7ugzR0Mo6mk6ZUgivlXY3OGmFblpqluDkLFQTvNM5f6DPvyBAFIKtn3wrjXEiSSEm4hvlYzt7faN/3LtBmfa2gGY7imho6sbgJbvz3Lu/AVriP40CEWNjB8slsp3OTGcGgPD/mTZdE8xnXEAgP7+QQzDoKDAYjklIIZ5VpI60cZVV28fu7/+gVeqnmP5wieTAB23YwArX1hO/Ws17Ny1l1udd6wH7Dfhu8Bi2wAAd+71sfvYOcpKitA1jalTHqOzqweAGeVePt61l47bNown9I9pWORPprrv+ei+50PXNc6cv8iIPzYlXx755lGHAimUJHaZeGSFwxH+vNExka4puYhocYA5Y+sK8gxerywHp4YyNNA1lFMDZ+r4UAqenjMr1UmBDEaQIxFkIIz0R3CMhHG3DUAgnAlgyIAG6jqIqgw4p8bzLy23dMI7u9La0cOHgSwABaJHIjhuOcJkyS2OaGjFrYT7hxi7GwYjaMduQDDzRAzNcBOa6SZUWsBgTz+uwQiFD4IU3s9660KOZPFeEwpX4Wex03DzV1+geDujUXcUTgcgOrq48/B6hlbGrg1tV28CUPGbj+qPrthwO65ZjnY63loUW1FRczvgz2g0wwHr8iB+lEdXlhP8qRbPkmJmmmEeJ8LiMi+Ly7x4187j5slahqvKrY1rQJHYAOlXsncO7QCxNWuHeCSUJx/zmZJksdIEgYejpyivvQ/tfqYvozRbu8CtjSsSLDEFwzvI01dnvQnHIyFO+3GcHT243YdCUiVyGC/rEr+ppN7fEEQ4a4GerB3HTMeE5BImFc4qft44lAkAsKeuF1OtnxSIAhFlnnyVK29cTi+e2MMkR3bkVJHw84S+gssNGWkis7VnT10vgfCLoHZiIztySgPm6q0scJRmMw7/9XGaKxKGUJQ52il0NHL1zd/HG94aIKFcz/M7UQc/BnUK5TCFohunOIFHfZK+0MbTvx9ltLez/h/sAAAAAElFTkSuQmCC) **TODO!**"
   ]
  },
  {
   "cell_type": "markdown",
   "metadata": {},
   "source": [
    "Lancez le code et examinez le."
   ]
  },
  {
   "cell_type": "code",
   "execution_count": null,
   "metadata": {},
   "outputs": [],
   "source": [
    "! python3 example.py"
   ]
  },
  {
   "cell_type": "markdown",
   "metadata": {},
   "source": [
    "#### ![programming(3).png](data:image/png;base64,iVBORw0KGgoAAAANSUhEUgAAACAAAAAgCAYAAABzenr0AAAABHNCSVQICAgIfAhkiAAAAAlwSFlzAAAA3QAAAN0BcFOiBwAAABl0RVh0U29mdHdhcmUAd3d3Lmlua3NjYXBlLm9yZ5vuPBoAAAR7SURBVFiFtZdvaFVlHMc/z3PPuefuz825XWV3m5mWU1MLSVEyRoqKk2iLWBCT2uyFpTSIoCCHL0SDXkgUavhKCU3EpGmlorYSShtWig6M1M25gVPb3da2e6/3z3l6cf9u996d42pfOC/O8+/3+f2e5/f8EUopbKnplEHEtwpFDYj5gDf+AdyNfeo6guNoxa18Xv3QzrDCEmDTQS8OuQ1FPeC2R8sQgkNEze3s23B3YgCNB1y49GYQ7wH5Ng2PlR/UpwTDO9jfELQPsOVoKSrUghLLJmh4rJU2hLOWPXW91gCbDi1CipNAxf9iPKUeTLWeffXXcgNsOVqKGb40CcZTEFJfmh4JmaxqPOBChVom0ThABSrUQuMBV6JAS1a59Ob0OQ8J+MsYP0MUMDgwOL5JE5ZINy6XI95JLIstbpohMQWbDnqR8iZpq/1vB3xYalq6dPHXS5Ztzv4xl/K1UyBPJIr8mOZT7NtwNzYFDrmNCabawvmV6Jo2fqMBBd8GIJCMaH7cJpKmU0Z8k7GlaUVu1ixdAIBT19n6/mZ0Xefl6tWUTvfk7ugzR0Mo6mk6ZUgivlXY3OGmFblpqluDkLFQTvNM5f6DPvyBAFIKtn3wrjXEiSSEm4hvlYzt7faN/3LtBmfa2gGY7imho6sbgJbvz3Lu/AVriP40CEWNjB8slsp3OTGcGgPD/mTZdE8xnXEAgP7+QQzDoKDAYjklIIZ5VpI60cZVV28fu7/+gVeqnmP5wieTAB23YwArX1hO/Ws17Ny1l1udd6wH7Dfhu8Bi2wAAd+71sfvYOcpKitA1jalTHqOzqweAGeVePt61l47bNown9I9pWORPprrv+ei+50PXNc6cv8iIPzYlXx755lGHAimUJHaZeGSFwxH+vNExka4puYhocYA5Y+sK8gxerywHp4YyNNA1lFMDZ+r4UAqenjMr1UmBDEaQIxFkIIz0R3CMhHG3DUAgnAlgyIAG6jqIqgw4p8bzLy23dMI7u9La0cOHgSwABaJHIjhuOcJkyS2OaGjFrYT7hxi7GwYjaMduQDDzRAzNcBOa6SZUWsBgTz+uwQiFD4IU3s9660KOZPFeEwpX4Wex03DzV1+geDujUXcUTgcgOrq48/B6hlbGrg1tV28CUPGbj+qPrthwO65ZjnY63loUW1FRczvgz2g0wwHr8iB+lEdXlhP8qRbPkmJmmmEeJ8LiMi+Ly7x4187j5slahqvKrY1rQJHYAOlXsncO7QCxNWuHeCSUJx/zmZJksdIEgYejpyivvQ/tfqYvozRbu8CtjSsSLDEFwzvI01dnvQnHIyFO+3GcHT243YdCUiVyGC/rEr+ppN7fEEQ4a4GerB3HTMeE5BImFc4qft44lAkAsKeuF1OtnxSIAhFlnnyVK29cTi+e2MMkR3bkVJHw84S+gssNGWkis7VnT10vgfCLoHZiIztySgPm6q0scJRmMw7/9XGaKxKGUJQ52il0NHL1zd/HG94aIKFcz/M7UQc/BnUK5TCFohunOIFHfZK+0MbTvx9ltLez/h/sAAAAAElFTkSuQmCC) **TODO!**"
   ]
  },
  {
   "cell_type": "markdown",
   "metadata": {},
   "source": [
    "Regardez ~/cockroach-data, qu'y voyez-vous ?"
   ]
  },
  {
   "cell_type": "markdown",
   "metadata": {},
   "source": [
    "#### ![programming(3).png](data:image/png;base64,iVBORw0KGgoAAAANSUhEUgAAACAAAAAgCAYAAABzenr0AAAABHNCSVQICAgIfAhkiAAAAAlwSFlzAAAA3QAAAN0BcFOiBwAAABl0RVh0U29mdHdhcmUAd3d3Lmlua3NjYXBlLm9yZ5vuPBoAAAR7SURBVFiFtZdvaFVlHMc/z3PPuefuz825XWV3m5mWU1MLSVEyRoqKk2iLWBCT2uyFpTSIoCCHL0SDXkgUavhKCU3EpGmlorYSShtWig6M1M25gVPb3da2e6/3z3l6cf9u996d42pfOC/O8+/3+f2e5/f8EUopbKnplEHEtwpFDYj5gDf+AdyNfeo6guNoxa18Xv3QzrDCEmDTQS8OuQ1FPeC2R8sQgkNEze3s23B3YgCNB1y49GYQ7wH5Ng2PlR/UpwTDO9jfELQPsOVoKSrUghLLJmh4rJU2hLOWPXW91gCbDi1CipNAxf9iPKUeTLWeffXXcgNsOVqKGb40CcZTEFJfmh4JmaxqPOBChVom0ThABSrUQuMBV6JAS1a59Ob0OQ8J+MsYP0MUMDgwOL5JE5ZINy6XI95JLIstbpohMQWbDnqR8iZpq/1vB3xYalq6dPHXS5Ztzv4xl/K1UyBPJIr8mOZT7NtwNzYFDrmNCabawvmV6Jo2fqMBBd8GIJCMaH7cJpKmU0Z8k7GlaUVu1ixdAIBT19n6/mZ0Xefl6tWUTvfk7ugzR0Mo6mk6ZUgivlXY3OGmFblpqluDkLFQTvNM5f6DPvyBAFIKtn3wrjXEiSSEm4hvlYzt7faN/3LtBmfa2gGY7imho6sbgJbvz3Lu/AVriP40CEWNjB8slsp3OTGcGgPD/mTZdE8xnXEAgP7+QQzDoKDAYjklIIZ5VpI60cZVV28fu7/+gVeqnmP5wieTAB23YwArX1hO/Ws17Ny1l1udd6wH7Dfhu8Bi2wAAd+71sfvYOcpKitA1jalTHqOzqweAGeVePt61l47bNown9I9pWORPprrv+ei+50PXNc6cv8iIPzYlXx755lGHAimUJHaZeGSFwxH+vNExka4puYhocYA5Y+sK8gxerywHp4YyNNA1lFMDZ+r4UAqenjMr1UmBDEaQIxFkIIz0R3CMhHG3DUAgnAlgyIAG6jqIqgw4p8bzLy23dMI7u9La0cOHgSwABaJHIjhuOcJkyS2OaGjFrYT7hxi7GwYjaMduQDDzRAzNcBOa6SZUWsBgTz+uwQiFD4IU3s9660KOZPFeEwpX4Wex03DzV1+geDujUXcUTgcgOrq48/B6hlbGrg1tV28CUPGbj+qPrthwO65ZjnY63loUW1FRczvgz2g0wwHr8iB+lEdXlhP8qRbPkmJmmmEeJ8LiMi+Ly7x4187j5slahqvKrY1rQJHYAOlXsncO7QCxNWuHeCSUJx/zmZJksdIEgYejpyivvQ/tfqYvozRbu8CtjSsSLDEFwzvI01dnvQnHIyFO+3GcHT243YdCUiVyGC/rEr+ppN7fEEQ4a4GerB3HTMeE5BImFc4qft44lAkAsKeuF1OtnxSIAhFlnnyVK29cTi+e2MMkR3bkVJHw84S+gssNGWkis7VnT10vgfCLoHZiIztySgPm6q0scJRmMw7/9XGaKxKGUJQ52il0NHL1zd/HG94aIKFcz/M7UQc/BnUK5TCFohunOIFHfZK+0MbTvx9ltLez/h/sAAAAAElFTkSuQmCC) **TODO!**"
   ]
  },
  {
   "cell_type": "markdown",
   "metadata": {},
   "source": [
    "Regardez la web interface, qu'y voyez-vous ?"
   ]
  },
  {
   "cell_type": "markdown",
   "metadata": {},
   "source": [
    "Quelques liens utiles :\n",
    "\n",
    "Support de SQL dans CockroachDB : https://www.cockroachlabs.com/docs/stable/sql-feature-support\n",
    "\n",
    "LE lien de référence pour Psycopg 3 : https://www.psycopg.org/psycopg3/docs/basic/index.html\n",
    "\n",
    "Documentation synthétique de POSTGRESQL : https://www.w3schools.com/postgresql/index.php"
   ]
  },
  {
   "cell_type": "code",
   "execution_count": 2,
   "metadata": {},
   "outputs": [],
   "source": [
    "import uuid, psycopg, json\n",
    "import pandas as pd\n",
    "from psycopg.errors import SerializationFailure, Error\n",
    "from psycopg.rows import namedtuple_row"
   ]
  },
  {
   "cell_type": "markdown",
   "metadata": {},
   "source": [
    "#### ![programming(3).png](data:image/png;base64,iVBORw0KGgoAAAANSUhEUgAAACAAAAAgCAYAAABzenr0AAAABHNCSVQICAgIfAhkiAAAAAlwSFlzAAAA3QAAAN0BcFOiBwAAABl0RVh0U29mdHdhcmUAd3d3Lmlua3NjYXBlLm9yZ5vuPBoAAAR7SURBVFiFtZdvaFVlHMc/z3PPuefuz825XWV3m5mWU1MLSVEyRoqKk2iLWBCT2uyFpTSIoCCHL0SDXkgUavhKCU3EpGmlorYSShtWig6M1M25gVPb3da2e6/3z3l6cf9u996d42pfOC/O8+/3+f2e5/f8EUopbKnplEHEtwpFDYj5gDf+AdyNfeo6guNoxa18Xv3QzrDCEmDTQS8OuQ1FPeC2R8sQgkNEze3s23B3YgCNB1y49GYQ7wH5Ng2PlR/UpwTDO9jfELQPsOVoKSrUghLLJmh4rJU2hLOWPXW91gCbDi1CipNAxf9iPKUeTLWeffXXcgNsOVqKGb40CcZTEFJfmh4JmaxqPOBChVom0ThABSrUQuMBV6JAS1a59Ob0OQ8J+MsYP0MUMDgwOL5JE5ZINy6XI95JLIstbpohMQWbDnqR8iZpq/1vB3xYalq6dPHXS5Ztzv4xl/K1UyBPJIr8mOZT7NtwNzYFDrmNCabawvmV6Jo2fqMBBd8GIJCMaH7cJpKmU0Z8k7GlaUVu1ixdAIBT19n6/mZ0Xefl6tWUTvfk7ugzR0Mo6mk6ZUgivlXY3OGmFblpqluDkLFQTvNM5f6DPvyBAFIKtn3wrjXEiSSEm4hvlYzt7faN/3LtBmfa2gGY7imho6sbgJbvz3Lu/AVriP40CEWNjB8slsp3OTGcGgPD/mTZdE8xnXEAgP7+QQzDoKDAYjklIIZ5VpI60cZVV28fu7/+gVeqnmP5wieTAB23YwArX1hO/Ws17Ny1l1udd6wH7Dfhu8Bi2wAAd+71sfvYOcpKitA1jalTHqOzqweAGeVePt61l47bNown9I9pWORPprrv+ei+50PXNc6cv8iIPzYlXx755lGHAimUJHaZeGSFwxH+vNExka4puYhocYA5Y+sK8gxerywHp4YyNNA1lFMDZ+r4UAqenjMr1UmBDEaQIxFkIIz0R3CMhHG3DUAgnAlgyIAG6jqIqgw4p8bzLy23dMI7u9La0cOHgSwABaJHIjhuOcJkyS2OaGjFrYT7hxi7GwYjaMduQDDzRAzNcBOa6SZUWsBgTz+uwQiFD4IU3s9660KOZPFeEwpX4Wex03DzV1+geDujUXcUTgcgOrq48/B6hlbGrg1tV28CUPGbj+qPrthwO65ZjnY63loUW1FRczvgz2g0wwHr8iB+lEdXlhP8qRbPkmJmmmEeJ8LiMi+Ly7x4187j5slahqvKrY1rQJHYAOlXsncO7QCxNWuHeCSUJx/zmZJksdIEgYejpyivvQ/tfqYvozRbu8CtjSsSLDEFwzvI01dnvQnHIyFO+3GcHT243YdCUiVyGC/rEr+ppN7fEEQ4a4GerB3HTMeE5BImFc4qft44lAkAsKeuF1OtnxSIAhFlnnyVK29cTi+e2MMkR3bkVJHw84S+gssNGWkis7VnT10vgfCLoHZiIztySgPm6q0scJRmMw7/9XGaKxKGUJQ52il0NHL1zd/HG94aIKFcz/M7UQc/BnUK5TCFohunOIFHfZK+0MbTvx9ltLez/h/sAAAAAElFTkSuQmCC) **TODO!**"
   ]
  },
  {
   "cell_type": "markdown",
   "metadata": {},
   "source": [
    "Ouvrez le fichier JSON dans pandas et affichez le en format String."
   ]
  },
  {
   "cell_type": "code",
   "execution_count": 4,
   "metadata": {},
   "outputs": [
    {
     "name": "stdout",
     "output_type": "stream",
     "text": [
      "     Number         Name    Type_1    Type_2  Total   HP  Attack  Defense  Sp_Atk  Sp_Def  Speed  Generation  isLegendary   Color  hasGender  Pr_Male   Egg_Group_1 Egg_Group_2  hasMegaEvolution  Height_m  Weight_kg  Catch_Rate        Body_Style\n",
      "0         1    Bulbasaur     Grass    Poison    318   45      49       49      65      65     45           1        False   Green       True    0.875       Monster       Grass             False      0.71        6.9          45         quadruped\n",
      "1         2      Ivysaur     Grass    Poison    405   60      62       63      80      80     60           1        False   Green       True    0.875       Monster       Grass             False      0.99       13.0          45         quadruped\n",
      "2         3     Venusaur     Grass    Poison    525   80      82       83     100     100     80           1        False   Green       True    0.875       Monster       Grass              True      2.01      100.0          45         quadruped\n",
      "3         4   Charmander      Fire      None    309   39      52       43      60      50     65           1        False     Red       True    0.875       Monster      Dragon             False      0.61        8.5          45    bipedal_tailed\n",
      "4         5   Charmeleon      Fire      None    405   58      64       58      80      65     80           1        False     Red       True    0.875       Monster      Dragon             False      1.09       19.0          45    bipedal_tailed\n",
      "5         6    Charizard      Fire    Flying    534   78      84       78     109      85    100           1        False     Red       True    0.875       Monster      Dragon              True      1.70       90.5          45    bipedal_tailed\n",
      "6         7     Squirtle     Water      None    314   44      48       65      50      64     43           1        False    Blue       True    0.875       Monster     Water_1             False      0.51        9.0          45    bipedal_tailed\n",
      "7         8    Wartortle     Water      None    405   59      63       80      65      80     58           1        False    Blue       True    0.875       Monster     Water_1             False      0.99       22.5          45    bipedal_tailed\n",
      "8         9    Blastoise     Water      None    530   79      83      100      85     105     78           1        False    Blue       True    0.875       Monster     Water_1              True      1.60       85.5          45    bipedal_tailed\n",
      "9        10     Caterpie       Bug      None    195   45      30       35      20      20     45           1        False   Green       True    0.500           Bug        None             False      0.30        2.9         255         insectoid\n",
      "10       11      Metapod       Bug      None    205   50      20       55      25      25     30           1        False   Green       True    0.500           Bug        None             False      0.71        9.9         120   serpentine_body\n",
      "11       12   Butterfree       Bug    Flying    395   60      45       50      90      80     70           1        False   White       True    0.500           Bug        None             False      1.09       32.0          45        four_wings\n",
      "12       13       Weedle       Bug    Poison    195   40      35       30      20      20     50           1        False   Brown       True    0.500           Bug        None             False      0.30        3.2         255   serpentine_body\n",
      "13       14       Kakuna       Bug    Poison    205   45      25       50      25      25     35           1        False  Yellow       True    0.500           Bug        None             False      0.61       10.0         120   serpentine_body\n",
      "14       15     Beedrill       Bug    Poison    395   65      90       40      45      80     75           1        False  Yellow       True    0.500           Bug        None              True      0.99       29.5          45        four_wings\n",
      "15       16       Pidgey    Normal    Flying    251   40      45       40      35      35     56           1        False   Brown       True    0.500        Flying        None             False      0.30        1.8         255         two_wings\n",
      "16       17    Pidgeotto    Normal    Flying    349   63      60       55      50      50     71           1        False   Brown       True    0.500        Flying        None             False      1.09       30.0         120         two_wings\n",
      "17       18      Pidgeot    Normal    Flying    479   83      80       75      70      70    101           1        False   Brown       True    0.500        Flying        None              True      1.50       39.5          45         two_wings\n",
      "18       19      Rattata    Normal      None    253   30      56       35      25      35     72           1        False  Purple       True    0.500         Field        None             False      0.30        3.5         255         quadruped\n",
      "19       20     Raticate    Normal      None    413   55      81       60      50      70     97           1        False   Brown       True    0.500         Field        None             False      0.71       18.5         127         quadruped\n",
      "20       21      Spearow    Normal    Flying    262   40      60       30      31      31     70           1        False   Brown       True    0.500        Flying        None             False      0.30        2.0         255         two_wings\n",
      "21       22       Fearow    Normal    Flying    442   65      90       65      61      61    100           1        False   Brown       True    0.500        Flying        None             False      1.19       38.0          90         two_wings\n",
      "22       23        Ekans    Poison      None    288   35      60       44      40      54     55           1        False  Purple       True    0.500         Field      Dragon             False      2.01        6.9         255   serpentine_body\n",
      "23       24        Arbok    Poison      None    438   60      85       69      65      79     80           1        False  Purple       True    0.500         Field      Dragon             False      3.51       65.0          90   serpentine_body\n",
      "24       25      Pikachu  Electric      None    320   35      55       40      50      50     90           1        False  Yellow       True    0.500         Field       Fairy             False      0.41        6.0         190         quadruped\n",
      "25       26       Raichu  Electric      None    485   60      90       55      90      80    110           1        False  Yellow       True    0.500         Field       Fairy             False      0.79       30.0          75    bipedal_tailed\n",
      "26       27    Sandshrew    Ground      None    300   50      75       85      20      30     40           1        False  Yellow       True    0.500         Field        None             False      0.61       12.0         255    bipedal_tailed\n",
      "27       28    Sandslash    Ground      None    450   75     100      110      45      55     65           1        False  Yellow       True    0.500         Field        None             False      0.99       29.5          90    bipedal_tailed\n",
      "28       29     Nidoran♀    Poison      None    275   55      47       52      40      40     41           1        False    Blue       True    0.000       Monster       Field             False      0.41        7.0         235         quadruped\n",
      "29       30     Nidorina    Poison      None    365   70      62       67      55      55     56           1        False    Blue       True    0.000  Undiscovered        None             False      0.79       20.0         120         quadruped\n",
      "30       31    Nidoqueen    Poison    Ground    505   90      92       87      75      85     76           1        False    Blue       True    0.000  Undiscovered        None             False      1.30       60.0          45    bipedal_tailed\n",
      "31       32     Nidoran♂    Poison      None    273   46      57       40      40      40     50           1        False  Purple       True    1.000       Monster       Field             False      0.51        9.0         235         quadruped\n",
      "32       33     Nidorino    Poison      None    365   61      72       57      55      55     65           1        False  Purple       True    1.000       Monster       Field             False      0.89       19.5         120         quadruped\n",
      "33       34     Nidoking    Poison    Ground    505   81     102       77      85      75     85           1        False  Purple       True    1.000       Monster       Field             False      1.40       62.0          45    bipedal_tailed\n",
      "34       35     Clefairy     Fairy      None    323   70      45       48      60      65     35           1        False    Pink       True    0.250         Fairy        None             False      0.61        7.5         150    bipedal_tailed\n",
      "35       36     Clefable     Fairy      None    483   95      70       73      95      90     60           1        False    Pink       True    0.250         Fairy        None             False      1.30       40.0          25    bipedal_tailed\n",
      "36       37       Vulpix      Fire      None    299   38      41       40      50      65     65           1        False   Brown       True    0.250         Field        None             False      0.61        9.9         190         quadruped\n",
      "37       38    Ninetales      Fire      None    505   73      76       75      81     100    100           1        False  Yellow       True    0.250         Field        None             False      1.09       19.9          75         quadruped\n",
      "38       39   Jigglypuff    Normal     Fairy    270  115      45       20      45      25     20           1        False    Pink       True    0.250         Fairy        None             False      0.51        5.5         170  bipedal_tailless\n",
      "39       40   Wigglytuff    Normal     Fairy    435  140      70       45      85      50     45           1        False    Pink       True    0.250         Fairy        None             False      0.99       12.0          50  bipedal_tailless\n",
      "40       41        Zubat    Poison    Flying    245   40      45       35      30      40     55           1        False  Purple       True    0.500        Flying        None             False      0.79        7.5         255         two_wings\n",
      "41       42       Golbat    Poison    Flying    455   75      80       70      65      75     90           1        False  Purple       True    0.500        Flying        None             False      1.60       55.0          90         two_wings\n",
      "42       43       Oddish     Grass    Poison    320   45      50       55      75      65     30           1        False    Blue       True    0.500         Grass        None             False      0.51        5.4         255         head_legs\n",
      "43       44        Gloom     Grass    Poison    395   60      65       70      85      75     40           1        False    Blue       True    0.500         Grass        None             False      0.79        8.6         120  bipedal_tailless\n",
      "44       45    Vileplume     Grass    Poison    490   75      80       85     110      90     50           1        False     Red       True    0.500         Grass        None             False      1.19       18.6          45  bipedal_tailless\n",
      "45       46        Paras       Bug     Grass    285   35      70       55      45      55     25           1        False     Red       True    0.500           Bug       Grass             False      0.30        5.4         190         insectoid\n",
      "46       47     Parasect       Bug     Grass    405   60      95       80      60      80     30           1        False     Red       True    0.500           Bug       Grass             False      0.99       29.5          75         insectoid\n",
      "47       48      Venonat       Bug    Poison    305   60      55       50      40      55     45           1        False  Purple       True    0.500           Bug        None             False      0.99       30.0         190  bipedal_tailless\n",
      "48       49     Venomoth       Bug    Poison    450   70      65       60      90      75     90           1        False  Purple       True    0.500           Bug        None             False      1.50       12.5          75        four_wings\n",
      "49       50      Diglett    Ground      None    265   10      55       25      35      45     95           1        False   Brown       True    0.500         Field        None             False      0.20        0.8         255         head_base\n",
      "50       51      Dugtrio    Ground      None    405   35      80       50      50      70    120           1        False   Brown       True    0.500         Field        None             False      0.71       33.3          50   multiple_bodies\n",
      "51       52       Meowth    Normal      None    290   40      45       35      40      40     90           1        False  Yellow       True    0.500         Field        None             False      0.41        4.2         255         quadruped\n",
      "52       53      Persian    Normal      None    440   65      70       60      65      65    115           1        False  Yellow       True    0.500         Field        None             False      0.99       32.0          90         quadruped\n",
      "53       54      Psyduck     Water      None    320   50      52       48      65      50     55           1        False  Yellow       True    0.500       Water_1       Field             False      0.79       19.6         190    bipedal_tailed\n",
      "54       55      Golduck     Water      None    500   80      82       78      95      80     85           1        False    Blue       True    0.500       Water_1       Field             False      1.70       76.6          75    bipedal_tailed\n",
      "55       56       Mankey  Fighting      None    305   40      80       35      35      45     70           1        False   Brown       True    0.500         Field        None             False      0.51       28.0         190    bipedal_tailed\n",
      "56       57     Primeape  Fighting      None    455   65     105       60      60      70     95           1        False   Brown       True    0.500         Field        None             False      0.99       32.0          75    bipedal_tailed\n",
      "57       58    Growlithe      Fire      None    350   55      70       45      70      50     60           1        False   Brown       True    0.750         Field        None             False      0.71       19.0         190         quadruped\n",
      "58       59     Arcanine      Fire      None    555   90     110       80     100      80     95           1        False   Brown       True    0.750         Field        None             False      1.91      155.0          75         quadruped\n",
      "59       60      Poliwag     Water      None    300   40      50       40      40      40     90           1        False    Blue       True    0.500       Water_1        None             False      0.61       12.4         255         head_legs\n",
      "60       61    Poliwhirl     Water      None    385   65      65       65      50      50     90           1        False    Blue       True    0.500       Water_1        None             False      0.99       20.0         120  bipedal_tailless\n",
      "61       62    Poliwrath     Water  Fighting    510   90      95       95      70      90     70           1        False    Blue       True    0.500       Water_1        None             False      1.30       54.0          45  bipedal_tailless\n",
      "62       63         Abra   Psychic      None    310   25      20       15     105      55     90           1        False   Brown       True    0.750    Human-Like        None             False      0.89       19.5         200    bipedal_tailed\n",
      "63       64      Kadabra   Psychic      None    400   40      35       30     120      70    105           1        False   Brown       True    0.750    Human-Like        None             False      1.30       56.5         100    bipedal_tailed\n",
      "64       65     Alakazam   Psychic      None    500   55      50       45     135      95    120           1        False   Brown       True    0.750    Human-Like        None              True      1.50       48.0          50  bipedal_tailless\n",
      "65       66       Machop  Fighting      None    305   70      80       50      35      35     35           1        False    Grey       True    0.750    Human-Like        None             False      0.79       19.5         180    bipedal_tailed\n",
      "66       67      Machoke  Fighting      None    405   80     100       70      50      60     45           1        False    Grey       True    0.750    Human-Like        None             False      1.50       70.5          90  bipedal_tailless\n",
      "67       68      Machamp  Fighting      None    505   90     130       80      65      85     55           1        False    Grey       True    0.750    Human-Like        None             False      1.60      130.0          45  bipedal_tailless\n",
      "68       69   Bellsprout     Grass    Poison    300   50      75       35      70      30     40           1        False   Green       True    0.500         Grass        None             False      0.71        4.0         255  bipedal_tailless\n",
      "69       70   Weepinbell     Grass    Poison    390   65      90       50      85      45     55           1        False   Green       True    0.500         Grass        None             False      0.99        6.4         120         head_base\n",
      "70       71   Victreebel     Grass    Poison    490   80     105       65     100      70     70           1        False   Green       True    0.500         Grass        None             False      1.70       15.5          45         head_base\n",
      "71       72    Tentacool     Water    Poison    335   40      40       35      50     100     70           1        False    Blue       True    0.500       Water_3        None             False      0.89       45.5         190     several_limbs\n",
      "72       73   Tentacruel     Water    Poison    515   80      70       65      80     120    100           1        False    Blue       True    0.500       Water_3        None             False      1.60       55.0          60     several_limbs\n",
      "73       74      Geodude      Rock    Ground    300   40      80      100      30      30     20           1        False   Brown       True    0.500       Mineral        None             False      0.41       20.0         255         head_arms\n",
      "74       75     Graveler      Rock    Ground    390   55      95      115      45      45     35           1        False   Brown       True    0.500       Mineral        None             False      0.99      105.0         120  bipedal_tailless\n",
      "75       76        Golem      Rock    Ground    495   80     120      130      55      65     45           1        False   Brown       True    0.500       Mineral        None             False      1.40      300.0          45  bipedal_tailless\n",
      "76       77       Ponyta      Fire      None    410   50      85       55      65      65     90           1        False  Yellow       True    0.500         Field        None             False      0.99       30.0         190         quadruped\n",
      "77       78     Rapidash      Fire      None    500   65     100       70      80      80    105           1        False  Yellow       True    0.500         Field        None             False      1.70       95.0          60         quadruped\n",
      "78       79     Slowpoke     Water   Psychic    315   90      65       65      40      40     15           1        False    Pink       True    0.500       Monster     Water_1             False      1.19       36.0         190         quadruped\n",
      "79       80      Slowbro     Water   Psychic    490   95      75      110     100      80     30           1        False    Pink       True    0.500       Monster     Water_1              True      1.60       78.5          75    bipedal_tailed\n",
      "80       81    Magnemite  Electric     Steel    325   25      35       70      95      55     45           1        False    Grey      False      NaN       Mineral        None             False      0.30        6.0         190         head_arms\n",
      "81       82     Magneton  Electric     Steel    465   50      60       95     120      70     70           1        False    Grey      False      NaN       Mineral        None             False      0.99       60.0          60   multiple_bodies\n",
      "82       83   Farfetch'd    Normal    Flying    352   52      65       55      58      62     60           1        False   Brown       True    0.500        Flying       Field             False      0.79       15.0          45         two_wings\n",
      "83       84        Doduo    Normal    Flying    310   35      85       45      35      35     75           1        False   Brown       True    0.500        Flying        None             False      1.40       39.2         190         head_legs\n",
      "84       85       Dodrio    Normal    Flying    460   60     110       70      60      60    100           1        False   Brown       True    0.500        Flying        None             False      1.80       85.2          45         head_legs\n",
      "85       86         Seel     Water      None    325   65      45       55      45      70     45           1        False   White       True    0.500       Water_1       Field             False      1.09       90.0         190         with_fins\n",
      "86       87      Dewgong     Water       Ice    475   90      70       80      70      95     70           1        False   White       True    0.500       Water_1       Field             False      1.70      120.0          75         with_fins\n",
      "87       88       Grimer    Poison      None    325   80      80       50      40      50     25           1        False  Purple       True    0.500     Amorphous        None             False      0.89       30.0         190         head_arms\n",
      "88       89          Muk    Poison      None    500  105     105       75      65     100     50           1        False  Purple       True    0.500     Amorphous        None             False      1.19       30.0          75         head_arms\n",
      "89       90     Shellder     Water      None    305   30      65      100      45      25     40           1        False  Purple       True    0.500       Water_3        None             False      0.30        4.0         190         head_only\n",
      "90       91     Cloyster     Water       Ice    525   50      95      180      85      45     70           1        False  Purple       True    0.500       Water_3        None             False      1.50      132.5          60         head_only\n",
      "91       92       Gastly     Ghost    Poison    310   30      35       30     100      35     80           1        False  Purple       True    0.500     Amorphous        None             False      1.30        0.1         190         head_only\n",
      "92       93      Haunter     Ghost    Poison    405   45      50       45     115      55     95           1        False  Purple       True    0.500     Amorphous        None             False      1.60        0.1          90         head_arms\n",
      "93       94       Gengar     Ghost    Poison    500   60      65       60     130      75    110           1        False  Purple       True    0.500     Amorphous        None              True      1.50       40.5          45    bipedal_tailed\n",
      "94       95         Onix      Rock    Ground    385   35      45      160      30      45     70           1        False    Grey       True    0.500       Mineral        None             False      8.79      210.0          45   serpentine_body\n",
      "95       96      Drowzee   Psychic      None    328   60      48       45      43      90     42           1        False  Yellow       True    0.500    Human-Like        None             False      0.99       32.4         190  bipedal_tailless\n",
      "96       97        Hypno   Psychic      None    483   85      73       70      73     115     67           1        False  Yellow       True    0.500    Human-Like        None             False      1.60       75.6          75  bipedal_tailless\n",
      "97       98       Krabby     Water      None    325   30     105       90      25      25     50           1        False     Red       True    0.500       Water_3        None             False      0.41        6.5         225         insectoid\n",
      "98       99      Kingler     Water      None    475   55     130      115      50      50     75           1        False     Red       True    0.500       Water_3        None             False      1.30       60.0          60         insectoid\n",
      "99      100      Voltorb  Electric      None    330   40      30       50      55      55    100           1        False     Red      False      NaN       Mineral        None             False      0.51       10.4         190         head_only\n",
      "100     101    Electrode  Electric      None    480   60      50       70      80      80    140           1        False     Red      False      NaN       Mineral        None             False      1.19       66.6          60         head_only\n",
      "101     102    Exeggcute     Grass   Psychic    325   60      40       80      60      45     40           1        False    Pink       True    0.500         Grass        None             False      0.41        2.5          90   multiple_bodies\n",
      "102     103    Exeggutor     Grass   Psychic    520   95      95       85     125      65     55           1        False  Yellow       True    0.500         Grass        None             False      2.01      120.0          45         head_legs\n",
      "103     104       Cubone    Ground      None    320   50      50       95      40      50     35           1        False   Brown       True    0.500       Monster        None             False      0.41        6.5         190    bipedal_tailed\n",
      "104     105      Marowak    Ground      None    425   60      80      110      50      80     45           1        False   Brown       True    0.500       Monster        None             False      0.99       45.0          75    bipedal_tailed\n",
      "105     106    Hitmonlee  Fighting      None    455   50     120       53      35     110     87           1        False   Brown       True    1.000    Human-Like        None             False      1.50       49.8          45  bipedal_tailless\n",
      "106     107   Hitmonchan  Fighting      None    455   50     105       79      35     110     76           1        False   Brown       True    1.000    Human-Like        None             False      1.40       50.2          45  bipedal_tailless\n",
      "107     108    Lickitung    Normal      None    385   90      55       75      60      75     30           1        False    Pink       True    0.500       Monster        None             False      1.19       65.5          45    bipedal_tailed\n",
      "108     109      Koffing    Poison      None    340   40      65       95      60      45     35           1        False  Purple       True    0.500     Amorphous        None             False      0.61        1.0         190         head_only\n",
      "109     110      Weezing    Poison      None    490   65      90      120      85      70     60           1        False  Purple       True    0.500     Amorphous        None             False      1.19        9.5          60   multiple_bodies\n",
      "110     111      Rhyhorn    Ground      Rock    345   80      85       95      30      30     25           1        False    Grey       True    0.500       Monster       Field             False      0.99      115.0         120         quadruped\n",
      "111     112       Rhydon    Ground      Rock    485  105     130      120      45      45     40           1        False    Grey       True    0.500       Monster       Field             False      1.91      120.0          60    bipedal_tailed\n",
      "112     113      Chansey    Normal      None    450  250       5        5      35     105     50           1        False    Pink       True    0.000         Fairy        None             False      1.09       34.6          30    bipedal_tailed\n",
      "113     114      Tangela     Grass      None    435   65      55      115     100      40     60           1        False    Blue       True    0.500         Grass        None             False      0.99       35.0          45         head_legs\n",
      "114     115   Kangaskhan    Normal      None    490  105      95       80      40      80     90           1        False   Brown       True    0.000       Monster        None              True      2.21       80.0          45    bipedal_tailed\n",
      "115     116       Horsea     Water      None    295   30      40       70      70      25     60           1        False    Blue       True    0.500       Water_1      Dragon             False      0.41        8.0         225         head_base\n",
      "116     117       Seadra     Water      None    440   55      65       95      95      45     85           1        False    Blue       True    0.500       Water_1      Dragon             False      1.19       25.0          75         head_base\n",
      "117     118      Goldeen     Water      None    320   45      67       60      35      50     63           1        False     Red       True    0.500       Water_2        None             False      0.61       15.0         225         with_fins\n",
      "118     119      Seaking     Water      None    450   80      92       65      65      80     68           1        False     Red       True    0.500       Water_2        None             False      1.30       39.0          60         with_fins\n",
      "119     120       Staryu     Water      None    340   30      45       55      70      55     85           1        False   Brown      False      NaN       Water_3        None             False      0.79       34.5         225         head_base\n",
      "120     121      Starmie     Water   Psychic    520   60      75       85     100      85    115           1        False  Purple      False      NaN       Water_3        None             False      1.09       80.0          60         head_base\n",
      "121     122     Mr._Mime   Psychic     Fairy    460   40      45       65     100     120     90           1        False    Pink       True    0.500    Human-Like        None             False      1.30       54.5          45  bipedal_tailless\n",
      "122     123      Scyther       Bug    Flying    500   70     110       80      55      80    105           1        False   Green       True    0.500           Bug        None             False      1.50       56.0          45        four_wings\n",
      "123     124         Jynx       Ice   Psychic    455   65      50       35     115      95     95           1        False     Red       True    0.000    Human-Like        None             False      1.40       40.6          45  bipedal_tailless\n",
      "124     125   Electabuzz  Electric      None    490   65      83       57      95      85    105           1        False  Yellow       True    0.750    Human-Like        None             False      1.09       30.0          45    bipedal_tailed\n",
      "125     126       Magmar      Fire      None    495   65      95       57     100      85     93           1        False     Red       True    0.750    Human-Like        None             False      1.30       44.5          45    bipedal_tailed\n",
      "126     127       Pinsir       Bug      None    500   65     125      100      55      70     85           1        False   Brown       True    0.500           Bug        None              True      1.50       55.0          45  bipedal_tailless\n",
      "127     128       Tauros    Normal      None    490   75     100       95      40      70    110           1        False   Brown       True    1.000         Field        None             False      1.40       88.4          45         quadruped\n",
      "128     129     Magikarp     Water      None    200   20      10       55      15      20     80           1        False     Red       True    0.500       Water_2      Dragon             False      0.89       10.0         255         with_fins\n",
      "129     130     Gyarados     Water    Flying    540   95     125       79      60     100     81           1        False    Blue       True    0.500       Water_2      Dragon              True      6.50      235.0          45   serpentine_body\n",
      "130     131       Lapras     Water       Ice    535  130      85       80      85      95     60           1        False    Blue       True    0.500       Monster     Water_1             False      2.49      220.0          45         with_fins\n",
      "131     132        Ditto    Normal      None    288   48      48       48      48      48     48           1        False  Purple      False      NaN         Ditto        None             False      0.30        4.0          35         head_only\n",
      "132     133        Eevee    Normal      None    325   55      55       50      45      65     55           1        False   Brown       True    0.875         Field        None             False      0.30        6.5          45         quadruped\n",
      "133     134     Vaporeon     Water      None    525  130      65       60     110      95     65           1        False    Blue       True    0.875         Field        None             False      0.99       29.0          45         quadruped\n",
      "134     135      Jolteon  Electric      None    525   65      65       60     110      95    130           1        False  Yellow       True    0.875         Field        None             False      0.79       24.5          45         quadruped\n",
      "135     136      Flareon      Fire      None    525   65     130       60      95     110     65           1        False     Red       True    0.875         Field        None             False      0.89       25.0          45         quadruped\n",
      "136     137      Porygon    Normal      None    395   65      60       70      85      75     40           1        False    Pink      False      NaN       Mineral        None             False      0.79       36.5          45         head_legs\n",
      "137     138      Omanyte      Rock     Water    355   35      40      100      90      55     35           1        False    Blue       True    0.875       Water_1     Water_3             False      0.41        7.5          45     several_limbs\n",
      "138     139      Omastar      Rock     Water    495   70      60      125     115      70     55           1        False    Blue       True    0.875       Water_1     Water_3             False      0.99       35.0          45     several_limbs\n",
      "139     140       Kabuto      Rock     Water    355   30      80       90      55      45     55           1        False   Brown       True    0.875       Water_1     Water_3             False      0.51       11.5          45         insectoid\n",
      "140     141     Kabutops      Rock     Water    495   60     115      105      65      70     80           1        False   Brown       True    0.875       Water_1     Water_3             False      1.30       40.5          45    bipedal_tailed\n",
      "141     142   Aerodactyl      Rock    Flying    515   80     105       65      60      75    130           1        False  Purple       True    0.875        Flying        None              True      1.80       59.0          45         two_wings\n",
      "142     143      Snorlax    Normal      None    540  160     110       65      65     110     30           1        False   Black       True    0.875       Monster        None             False      2.11      460.0          25  bipedal_tailless\n",
      "143     144     Articuno       Ice    Flying    580   90      85      100      95     125     85           1         True    Blue      False      NaN  Undiscovered        None             False      1.70       55.4           3         two_wings\n",
      "144     145       Zapdos  Electric    Flying    580   90      90       85     125      90    100           1         True  Yellow      False      NaN  Undiscovered        None             False      1.60       52.6           3         two_wings\n",
      "145     146      Moltres      Fire    Flying    580   90     100       90     125      85     90           1         True  Yellow      False      NaN  Undiscovered        None             False      2.01       60.0           3         two_wings\n",
      "146     147      Dratini    Dragon      None    300   41      64       45      50      50     50           1        False    Blue       True    0.500       Water_1      Dragon             False      1.80        3.3          45   serpentine_body\n",
      "147     148    Dragonair    Dragon      None    420   61      84       65      70      70     70           1        False    Blue       True    0.500       Water_1      Dragon             False      3.99       16.5          45   serpentine_body\n",
      "148     149    Dragonite    Dragon    Flying    600   91     134       95     100     100     80           1        False   Brown       True    0.500       Water_1      Dragon             False      2.21      210.0          45    bipedal_tailed\n",
      "149     150       Mewtwo   Psychic      None    680  106     110       90     154      90    130           1         True  Purple      False      NaN  Undiscovered        None              True      2.01      122.0           3    bipedal_tailed\n",
      "150     151          Mew   Psychic      None    600  100     100      100     100     100    100           1        False    Pink      False      NaN  Undiscovered        None             False      0.41        4.0          45    bipedal_tailed\n",
      "151     152    Chikorita     Grass      None    318   45      49       65      49      65     45           2        False   Green       True    0.875       Monster       Grass             False      0.89        6.4          45         quadruped\n",
      "152     153      Bayleef     Grass      None    405   60      62       80      63      80     60           2        False   Green       True    0.875       Monster       Grass             False      1.19       15.8          45         quadruped\n",
      "153     154     Meganium     Grass      None    525   80      82      100      83     100     80           2        False   Green       True    0.875       Monster       Grass             False      1.80      100.5          45         quadruped\n",
      "154     155    Cyndaquil      Fire      None    309   39      52       43      60      50     65           2        False  Yellow       True    0.875         Field        None             False      0.51        7.9          45  bipedal_tailless\n",
      "155     156      Quilava      Fire      None    405   58      64       58      80      65     80           2        False  Yellow       True    0.875         Field        None             False      0.89       19.0          45         quadruped\n",
      "156     157   Typhlosion      Fire      None    534   78      84       78     109      85    100           2        False  Yellow       True    0.875         Field        None             False      1.70       79.5          45         quadruped\n",
      "157     158     Totodile     Water      None    314   50      65       64      44      48     43           2        False    Blue       True    0.875       Monster     Water_1             False      0.61        9.5          45    bipedal_tailed\n",
      "158     159     Croconaw     Water      None    405   65      80       80      59      63     58           2        False    Blue       True    0.875       Monster     Water_1             False      1.09       25.0          45    bipedal_tailed\n",
      "159     160   Feraligatr     Water      None    530   85     105      100      79      83     78           2        False    Blue       True    0.875       Monster     Water_1             False      2.31       88.8          45    bipedal_tailed\n",
      "160     161      Sentret    Normal      None    215   35      46       34      35      45     20           2        False   Brown       True    0.500         Field        None             False      0.79        6.0         255         quadruped\n",
      "161     162       Furret    Normal      None    415   85      76       64      45      55     90           2        False   Brown       True    0.500         Field        None             False      1.80       32.5          90         quadruped\n",
      "162     163     Hoothoot    Normal    Flying    262   60      30       30      36      56     50           2        False   Brown       True    0.500        Flying        None             False      0.71       21.2         255         two_wings\n",
      "163     164      Noctowl    Normal    Flying    442  100      50       50      76      96     70           2        False   Brown       True    0.500        Flying        None             False      1.60       40.8          90         two_wings\n",
      "164     165       Ledyba       Bug    Flying    265   40      20       30      40      80     55           2        False     Red       True    0.500           Bug        None             False      0.99       10.8         255         two_wings\n",
      "165     166       Ledian       Bug    Flying    390   55      35       50      55     110     85           2        False     Red       True    0.500           Bug        None             False      1.40       35.6          90         two_wings\n",
      "166     167     Spinarak       Bug    Poison    250   40      60       40      40      40     30           2        False   Green       True    0.500           Bug        None             False      0.51        8.5         255         insectoid\n",
      "167     168      Ariados       Bug    Poison    390   70      90       70      60      60     40           2        False     Red       True    0.500           Bug        None             False      1.09       33.5          90         insectoid\n",
      "168     169       Crobat    Poison    Flying    535   85      90       80      70      80    130           2        False  Purple       True    0.500        Flying        None             False      1.80       75.0          90        four_wings\n",
      "169     170     Chinchou     Water  Electric    330   75      38       38      56      56     67           2        False    Blue       True    0.500       Water_2        None             False      0.51       12.0         190         with_fins\n",
      "170     171      Lanturn     Water  Electric    460  125      58       58      76      76     67           2        False    Blue       True    0.500       Water_2        None             False      1.19       22.5          75         with_fins\n",
      "171     172        Pichu  Electric      None    205   20      40       15      35      35     60           2        False  Yellow       True    0.500  Undiscovered        None             False      0.30        2.0         190         quadruped\n",
      "172     173       Cleffa     Fairy      None    218   50      25       28      45      55     15           2        False    Pink       True    0.250  Undiscovered        None             False      0.30        3.0         150    bipedal_tailed\n",
      "173     174    Igglybuff    Normal     Fairy    210   90      30       15      40      20     15           2        False    Pink       True    0.250  Undiscovered        None             False      0.30        1.0         170  bipedal_tailless\n",
      "174     175       Togepi     Fairy      None    245   35      20       65      40      65     20           2        False   White       True    0.875  Undiscovered        None             False      0.30        1.5         190  bipedal_tailless\n",
      "175     176      Togetic     Fairy    Flying    405   55      40       85      80     105     40           2        False   White       True    0.875        Flying       Fairy             False      0.61        3.2          75  bipedal_tailless\n",
      "176     177         Natu   Psychic    Flying    320   40      50       45      70      45     70           2        False   Green       True    0.500        Flying        None             False      0.20        2.0         190         two_wings\n",
      "177     178         Xatu   Psychic    Flying    470   65      75       70      95      70     95           2        False   Green       True    0.500        Flying        None             False      1.50       15.0          75         two_wings\n",
      "178     179       Mareep  Electric      None    280   55      40       40      65      45     35           2        False   White       True    0.500       Monster       Field             False      0.61        7.8         235         quadruped\n",
      "179     180      Flaaffy  Electric      None    365   70      55       55      80      60     45           2        False    Pink       True    0.500       Monster       Field             False      0.79       13.3         120    bipedal_tailed\n",
      "180     181     Ampharos  Electric      None    510   90      75       85     115      90     55           2        False  Yellow       True    0.500       Monster       Field              True      1.40       61.5          45    bipedal_tailed\n",
      "181     182    Bellossom     Grass      None    490   75      80       95      90     100     50           2        False   Green       True    0.500         Grass        None             False      0.41        5.8          45  bipedal_tailless\n",
      "182     183       Marill     Water     Fairy    250   70      20       50      20      50     40           2        False    Blue       True    0.500       Water_1       Fairy             False      0.41        8.5         190    bipedal_tailed\n",
      "183     184    Azumarill     Water     Fairy    420  100      50       80      60      80     50           2        False    Blue       True    0.500       Water_1       Fairy             False      0.79       28.5          75    bipedal_tailed\n",
      "184     185    Sudowoodo      Rock      None    410   70     100      115      30      65     30           2        False   Brown       True    0.500       Mineral        None             False      1.19       38.0          65  bipedal_tailless\n",
      "185     186     Politoed     Water      None    500   90      75       75      90     100     70           2        False   Green       True    0.500       Water_1        None             False      1.09       33.9          45    bipedal_tailed\n",
      "186     187       Hoppip     Grass    Flying    250   35      35       40      35      55     50           2        False    Pink       True    0.500         Fairy       Grass             False      0.41        0.5         255    bipedal_tailed\n",
      "187     188     Skiploom     Grass    Flying    340   55      45       50      45      65     80           2        False   Green       True    0.500         Fairy       Grass             False      0.61        1.0         120    bipedal_tailed\n",
      "188     189     Jumpluff     Grass    Flying    460   75      55       70      55      95    110           2        False    Blue       True    0.500         Fairy       Grass             False      0.79        3.0          45    bipedal_tailed\n",
      "189     190        Aipom    Normal      None    360   55      70       55      40      55     85           2        False  Purple       True    0.500         Field        None             False      0.79       11.5          45    bipedal_tailed\n",
      "190     191      Sunkern     Grass      None    180   30      30       30      30      30     30           2        False  Yellow       True    0.500         Grass        None             False      0.30        1.8         235         head_only\n",
      "191     192     Sunflora     Grass      None    425   75      75       55     105      85     30           2        False  Yellow       True    0.500         Grass        None             False      0.79        8.5         120  bipedal_tailless\n",
      "192     193        Yanma       Bug    Flying    390   65      65       45      75      45     95           2        False     Red       True    0.500           Bug        None             False      1.19       38.0          75        four_wings\n",
      "193     194       Wooper     Water    Ground    210   55      45       45      25      25     15           2        False    Blue       True    0.500       Water_1       Field             False      0.41        8.5         255         head_legs\n",
      "194     195     Quagsire     Water    Ground    430   95      85       85      65      65     35           2        False    Blue       True    0.500       Water_1       Field             False      1.40       75.0          90    bipedal_tailed\n",
      "195     196       Espeon   Psychic      None    525   65      65       60     130      95    110           2        False  Purple       True    0.875         Field        None             False      0.89       26.5          45         quadruped\n",
      "196     197      Umbreon      Dark      None    525   95      65      110      60     130     65           2        False   Black       True    0.875         Field        None             False      0.99       27.0          45         quadruped\n",
      "197     198      Murkrow      Dark    Flying    405   60      85       42      85      42     91           2        False   Black       True    0.500        Flying        None             False      0.51        2.1          30         two_wings\n",
      "198     199     Slowking     Water   Psychic    490   95      75       80     100     110     30           2        False    Pink       True    0.500       Monster     Water_1             False      2.01       79.5          70    bipedal_tailed\n",
      "199     200   Misdreavus     Ghost      None    435   60      60       60      85      85     85           2        False  Purple       True    0.500     Amorphous        None             False      0.71        1.0          45         head_only\n",
      "200     201        Unown   Psychic      None    336   48      72       48      72      48     48           2        False   Black      False      NaN  Undiscovered        None             False      0.51        5.0         225         head_only\n",
      "201     202    Wobbuffet   Psychic      None    405  190      33       58      33      58     33           2        False    Blue       True    0.500     Amorphous        None             False      1.30       28.5          45         head_base\n",
      "202     203    Girafarig    Normal   Psychic    455   70      80       65      90      65     85           2        False  Yellow       True    0.500         Field        None             False      1.50       41.5          60         quadruped\n",
      "203     204       Pineco       Bug      None    290   50      65       90      35      35     15           2        False    Grey       True    0.500           Bug        None             False      0.61        7.2         190         head_only\n",
      "204     205   Forretress       Bug     Steel    465   75      90      140      60      60     40           2        False  Purple       True    0.500           Bug        None             False      1.19      125.8          75         head_only\n",
      "205     206    Dunsparce    Normal      None    415  100      70       70      65      65     45           2        False  Yellow       True    0.500         Field        None             False      1.50       14.0         190   serpentine_body\n",
      "206     207       Gligar    Ground    Flying    430   65      75      105      35      65     85           2        False  Purple       True    0.500           Bug        None             False      1.09       64.8          60         two_wings\n",
      "207     208      Steelix     Steel    Ground    510   75      85      200      55      65     30           2        False    Grey       True    0.500       Mineral        None              True      9.19      400.0          25   serpentine_body\n",
      "208     209     Snubbull     Fairy      None    300   60      80       50      40      40     30           2        False    Pink       True    0.250         Field       Fairy             False      0.61        7.8         190  bipedal_tailless\n",
      "209     210     Granbull     Fairy      None    450   90     120       75      60      60     45           2        False  Purple       True    0.250         Field       Fairy             False      1.40       48.7          75    bipedal_tailed\n",
      "210     211     Qwilfish     Water    Poison    430   65      95       75      55      55     85           2        False    Grey       True    0.500       Water_2        None             False      0.51        3.9          45         with_fins\n",
      "211     212       Scizor       Bug     Steel    500   70     130      100      55      80     65           2        False     Red       True    0.500           Bug        None              True      1.80      118.0          25        four_wings\n",
      "212     213      Shuckle       Bug      Rock    505   20      10      230      10     230      5           2        False  Yellow       True    0.500           Bug        None             False      0.61       20.5         190         insectoid\n",
      "213     214    Heracross       Bug  Fighting    500   80     125       75      40      95     85           2        False    Blue       True    0.500           Bug        None              True      1.50       54.0          45  bipedal_tailless\n",
      "214     215      Sneasel      Dark       Ice    430   55      95       55      35      75    115           2        False   Black       True    0.500         Field        None             False      0.89       28.0          60    bipedal_tailed\n",
      "215     216    Teddiursa    Normal      None    330   60      80       50      50      50     40           2        False   Brown       True    0.500         Field        None             False      0.61        8.8         120    bipedal_tailed\n",
      "216     217     Ursaring    Normal      None    500   90     130       75      75      75     55           2        False   Brown       True    0.500         Field        None             False      1.80      125.8          60    bipedal_tailed\n",
      "217     218       Slugma      Fire      None    250   40      40       40      70      40     20           2        False     Red       True    0.500     Amorphous        None             False      0.71       35.0         190   serpentine_body\n",
      "218     219     Magcargo      Fire      Rock    410   50      50      120      80      80     30           2        False     Red       True    0.500     Amorphous        None             False      0.79       55.0          75   serpentine_body\n",
      "219     220       Swinub       Ice    Ground    250   50      50       40      30      30     50           2        False   Brown       True    0.500         Field        None             False      0.41        6.5         225         quadruped\n",
      "220     221    Piloswine       Ice    Ground    450  100     100       80      60      60     50           2        False   Brown       True    0.500         Field        None             False      1.09       55.8          75         quadruped\n",
      "221     222      Corsola     Water      Rock    380   55      55       85      65      85     35           2        False    Pink       True    0.250       Water_1     Water_3             False      0.61        5.0          60         insectoid\n",
      "222     223     Remoraid     Water      None    300   35      65       35      65      35     65           2        False    Grey       True    0.500       Water_1     Water_2             False      0.61       12.0         190         with_fins\n",
      "223     224    Octillery     Water      None    480   75     105       75     105      75     45           2        False     Red       True    0.500       Water_1     Water_2             False      0.89       28.5          75     several_limbs\n",
      "224     225     Delibird       Ice    Flying    330   45      55       45      65      45     75           2        False     Red       True    0.500       Water_1       Field             False      0.89       16.0          45         two_wings\n",
      "225     226      Mantine     Water    Flying    465   65      40       70      80     140     70           2        False  Purple       True    0.500       Water_1        None             False      2.11      220.0          25         two_wings\n",
      "226     227     Skarmory     Steel    Flying    465   65      80      140      40      70     70           2        False    Grey       True    0.500        Flying        None             False      1.70       50.5          25         two_wings\n",
      "227     228     Houndour      Dark      Fire    330   45      60       30      80      50     65           2        False   Black       True    0.500         Field        None             False      0.61       10.8         120         quadruped\n",
      "228     229     Houndoom      Dark      Fire    500   75      90       50     110      80     95           2        False   Black       True    0.500         Field        None              True      1.40       35.0          45         quadruped\n",
      "229     230      Kingdra     Water    Dragon    540   75      95       95      95      95     85           2        False    Blue       True    0.500       Water_1      Dragon             False      1.80      152.0          45         head_base\n",
      "230     231       Phanpy    Ground      None    330   90      60       60      40      40     40           2        False    Blue       True    0.500         Field        None             False      0.51       33.5         120         quadruped\n",
      "231     232      Donphan    Ground      None    500   90     120      120      60      60     50           2        False    Grey       True    0.500         Field        None             False      1.09      120.0          60         quadruped\n",
      "232     233     Porygon2    Normal      None    515   85      80       90     105      95     60           2        False     Red      False      NaN       Mineral        None             False      0.61       32.5          45         head_legs\n",
      "233     234     Stantler    Normal      None    465   73      95       62      85      65     85           2        False   Brown       True    0.500         Field        None             False      1.40       71.2          45         quadruped\n",
      "234     235     Smeargle    Normal      None    250   55      20       35      20      45     75           2        False   White       True    0.500         Field        None             False      1.19       58.0          45    bipedal_tailed\n",
      "235     236      Tyrogue  Fighting      None    210   35      35       35      35      35     35           2        False  Purple       True    1.000  Undiscovered        None             False      0.71       21.0          75  bipedal_tailless\n",
      "236     237    Hitmontop  Fighting      None    455   50      95       95      35     110     70           2        False   Brown       True    1.000    Human-Like        None             False      1.40       48.0          45    bipedal_tailed\n",
      "237     238     Smoochum       Ice   Psychic    305   45      30       15      85      65     65           2        False    Pink       True    0.000  Undiscovered        None             False      0.41        6.0          45  bipedal_tailless\n",
      "238     239       Elekid  Electric      None    360   45      63       37      65      55     95           2        False  Yellow       True    0.750  Undiscovered        None             False      0.61       23.5          45  bipedal_tailless\n",
      "239     240        Magby      Fire      None    365   45      75       37      70      55     83           2        False     Red       True    0.750  Undiscovered        None             False      0.71       21.4          45    bipedal_tailed\n",
      "240     241      Miltank    Normal      None    490   95      80      105      40      70    100           2        False    Pink       True    0.000         Field        None             False      1.19       75.5          45    bipedal_tailed\n",
      "241     242      Blissey    Normal      None    540  255      10       10      75     135     55           2        False    Pink       True    0.000         Fairy        None             False      1.50       46.8          30  bipedal_tailless\n",
      "242     243       Raikou  Electric      None    580   90      85       75     115     100    115           2         True  Yellow      False      NaN  Undiscovered        None             False      1.91      178.0           3         quadruped\n",
      "243     244        Entei      Fire      None    580  115     115       85      90      75    100           2         True   Brown      False      NaN  Undiscovered        None             False      2.11      198.0           3         quadruped\n",
      "244     245      Suicune     Water      None    580  100      75      115      90     115     85           2         True    Blue      False      NaN  Undiscovered        None             False      2.01      187.0           3         quadruped\n",
      "245     246     Larvitar      Rock    Ground    300   50      64       50      45      50     41           2        False   Green       True    0.500       Monster        None             False      0.61       72.0          45    bipedal_tailed\n",
      "246     247      Pupitar      Rock    Ground    410   70      84       70      65      70     51           2        False    Grey       True    0.500       Monster        None             False      1.19      152.0          45   serpentine_body\n",
      "247     248    Tyranitar      Rock      Dark    600  100     134      110      95     100     61           2        False   Green       True    0.500       Monster        None              True      2.01      202.0          45    bipedal_tailed\n",
      "248     249        Lugia   Psychic    Flying    680  106      90      130      90     154    110           2         True   White      False      NaN  Undiscovered        None             False      5.21      216.0           3         two_wings\n",
      "249     250        Ho-Oh      Fire    Flying    680  106     130       90     110     154     90           2         True     Red      False      NaN  Undiscovered        None             False      3.81      199.0           3         two_wings\n",
      "250     251       Celebi   Psychic     Grass    600  100     100      100     100     100    100           2        False   Green      False      NaN  Undiscovered        None             False      0.61        5.0          45  bipedal_tailless\n",
      "251     252      Treecko     Grass      None    310   40      45       35      65      55     70           3        False   Green       True    0.875       Monster      Dragon             False      0.51        5.0          45    bipedal_tailed\n",
      "252     253      Grovyle     Grass      None    405   50      65       45      85      65     95           3        False   Green       True    0.875       Monster      Dragon             False      0.89       21.6          45    bipedal_tailed\n",
      "253     254     Sceptile     Grass      None    530   70      85       65     105      85    120           3        False   Green       True    0.875       Monster      Dragon              True      1.70       52.2          45    bipedal_tailed\n",
      "254     255      Torchic      Fire      None    310   45      60       40      70      50     45           3        False     Red       True    0.875         Field        None             False      0.41        2.5          45         head_legs\n",
      "255     256    Combusken      Fire  Fighting    405   60      85       60      85      60     55           3        False     Red       True    0.875         Field        None             False      0.89       19.5          45    bipedal_tailed\n",
      "256     257     Blaziken      Fire  Fighting    530   80     120       70     110      70     80           3        False     Red       True    0.875         Field        None              True      1.91       52.0          45    bipedal_tailed\n",
      "257     258       Mudkip     Water      None    310   50      70       50      50      50     40           3        False    Blue       True    0.875       Monster     Water_1             False      0.41        7.6          45         quadruped\n",
      "258     259    Marshtomp     Water    Ground    405   70      85       70      60      70     50           3        False    Blue       True    0.875       Monster     Water_1             False      0.71       28.0          45    bipedal_tailed\n",
      "259     260     Swampert     Water    Ground    535  100     110       90      85      90     60           3        False    Blue       True    0.875       Monster     Water_1              True      1.50       81.9          45    bipedal_tailed\n",
      "260     261    Poochyena      Dark      None    220   35      55       35      30      30     35           3        False    Grey       True    0.500         Field        None             False      0.51       13.6         255         quadruped\n",
      "261     262    Mightyena      Dark      None    420   70      90       70      60      60     70           3        False    Grey       True    0.500         Field        None             False      0.99       37.0         127         quadruped\n",
      "262     263    Zigzagoon    Normal      None    240   38      30       41      30      41     60           3        False   Brown       True    0.500         Field        None             False      0.41       17.5         255         quadruped\n",
      "263     264      Linoone    Normal      None    420   78      70       61      50      61    100           3        False   White       True    0.500         Field        None             False      0.51       32.5          90         quadruped\n",
      "264     265      Wurmple       Bug      None    195   45      45       35      20      30     20           3        False     Red       True    0.500           Bug        None             False      0.30        3.6         255   serpentine_body\n",
      "265     266      Silcoon       Bug      None    205   50      35       55      25      25     15           3        False   White       True    0.500           Bug        None             False      0.61       10.0         120         head_only\n",
      "266     267    Beautifly       Bug    Flying    395   60      70       50     100      50     65           3        False  Yellow       True    0.500           Bug        None             False      0.99       28.4          45        four_wings\n",
      "267     268      Cascoon       Bug      None    205   50      35       55      25      25     15           3        False  Purple       True    0.500           Bug        None             False      0.71       11.5         120         head_only\n",
      "268     269       Dustox       Bug    Poison    385   60      50       70      50      90     65           3        False   Green       True    0.500           Bug        None             False      1.19       31.6          45        four_wings\n",
      "269     270        Lotad     Water     Grass    220   40      30       30      40      50     30           3        False   Green       True    0.500       Water_1       Grass             False      0.51        2.6         255         insectoid\n",
      "270     271       Lombre     Water     Grass    340   60      50       50      60      70     50           3        False   Green       True    0.500       Water_1       Grass             False      1.19       32.5         120  bipedal_tailless\n",
      "271     272     Ludicolo     Water     Grass    480   80      70       70      90     100     70           3        False   Green       True    0.500       Water_1       Grass             False      1.50       55.0          45  bipedal_tailless\n",
      "272     273       Seedot     Grass      None    220   40      40       50      30      30     30           3        False   Brown       True    0.500         Field       Grass             False      0.51        4.0         255         head_legs\n",
      "273     274      Nuzleaf     Grass      Dark    340   70      70       40      60      40     60           3        False   Brown       True    0.500         Field       Grass             False      0.99       28.0         120  bipedal_tailless\n",
      "274     275      Shiftry     Grass      Dark    480   90     100       60      90      60     80           3        False   Brown       True    0.500         Field       Grass             False      1.30       59.6          45  bipedal_tailless\n",
      "275     276      Taillow    Normal    Flying    270   40      55       30      30      30     85           3        False    Blue       True    0.500        Flying        None             False      0.30        2.3         200         two_wings\n",
      "276     277      Swellow    Normal    Flying    430   60      85       60      50      50    125           3        False    Blue       True    0.500        Flying        None             False      0.71       19.8          45         two_wings\n",
      "277     278      Wingull     Water    Flying    270   40      30       30      55      30     85           3        False   White       True    0.500       Water_1      Flying             False      0.61        9.5         190         two_wings\n",
      "278     279     Pelipper     Water    Flying    430   60      50      100      85      70     65           3        False  Yellow       True    0.500       Water_1      Flying             False      1.19       28.0          45         two_wings\n",
      "279     280        Ralts   Psychic     Fairy    198   28      25       25      45      35     40           3        False   White       True    0.500     Amorphous        None             False      0.41        6.6         235  bipedal_tailless\n",
      "280     281       Kirlia   Psychic     Fairy    278   38      35       35      65      55     50           3        False   White       True    0.500     Amorphous        None             False      0.79       20.2         120  bipedal_tailless\n",
      "281     282    Gardevoir   Psychic     Fairy    518   68      65       65     125     115     80           3        False   White       True    0.500     Amorphous        None              True      1.60       48.4          45  bipedal_tailless\n",
      "282     283      Surskit       Bug     Water    269   40      30       32      50      52     65           3        False    Blue       True    0.500       Water_1         Bug             False      0.51        1.7         200         insectoid\n",
      "283     284   Masquerain       Bug    Flying    414   70      60       62      80      82     60           3        False    Blue       True    0.500       Water_1         Bug             False      0.79        3.6          75        four_wings\n",
      "284     285    Shroomish     Grass      None    295   60      40       60      40      60     35           3        False   Brown       True    0.500         Fairy       Grass             False      0.41        4.5         255         head_legs\n",
      "285     286      Breloom     Grass  Fighting    460   60     130       80      60      60     70           3        False   Green       True    0.500         Fairy       Grass             False      1.19       39.2          90    bipedal_tailed\n",
      "286     287      Slakoth    Normal      None    280   60      60       60      35      35     30           3        False   Brown       True    0.500         Field        None             False      0.79       24.0         255         quadruped\n",
      "287     288     Vigoroth    Normal      None    440   80      80       80      55      55     90           3        False   White       True    0.500         Field        None             False      1.40       46.5         120    bipedal_tailed\n",
      "288     289      Slaking    Normal      None    670  150     160      100      95      65    100           3        False   Brown       True    0.500         Field        None             False      2.01      130.5          45  bipedal_tailless\n",
      "289     290      Nincada       Bug    Ground    266   31      45       90      30      30     40           3        False    Grey       True    0.500           Bug        None             False      0.51        5.5         255         insectoid\n",
      "290     291      Ninjask       Bug    Flying    456   61      90       45      50      50    160           3        False  Yellow       True    0.500           Bug        None             False      0.79       12.0         120        four_wings\n",
      "291     292     Shedinja       Bug     Ghost    236    1      90       45      30      30     40           3        False   Brown      False      NaN       Mineral        None             False      0.79        1.2          45         head_base\n",
      "292     293      Whismur    Normal      None    240   64      51       23      51      23     28           3        False    Pink       True    0.500       Monster       Field             False      0.61       16.3         190    bipedal_tailed\n",
      "293     294      Loudred    Normal      None    360   84      71       43      71      43     48           3        False    Blue       True    0.500       Monster       Field             False      0.99       40.5         120    bipedal_tailed\n",
      "294     295      Exploud    Normal      None    490  104      91       63      91      73     68           3        False    Blue       True    0.500       Monster       Field             False      1.50       84.0          45    bipedal_tailed\n",
      "295     296     Makuhita  Fighting      None    237   72      60       30      20      30     25           3        False  Yellow       True    0.750    Human-Like        None             False      0.99       86.4         180  bipedal_tailless\n",
      "296     297     Hariyama  Fighting      None    474  144     120       60      40      60     50           3        False   Brown       True    0.750    Human-Like        None             False      2.31      253.8         200  bipedal_tailless\n",
      "297     298      Azurill    Normal     Fairy    190   50      20       40      20      40     20           3        False    Blue       True    0.250  Undiscovered        None             False      0.20        2.0         150         head_legs\n",
      "298     299     Nosepass      Rock      None    375   30      45      135      45      90     30           3        False    Grey       True    0.500       Mineral        None             False      0.99       97.0         255  bipedal_tailless\n",
      "299     300       Skitty    Normal      None    260   50      45       45      35      35     50           3        False    Pink       True    0.250         Field       Fairy             False      0.61       11.0         255         quadruped\n",
      "300     301     Delcatty    Normal      None    380   70      65       65      55      55     70           3        False  Purple       True    0.250         Field       Fairy             False      1.09       32.6          60         quadruped\n",
      "301     302      Sableye      Dark     Ghost    380   50      75       75      65      65     50           3        False  Purple       True    0.500    Human-Like        None              True      0.51       11.0          45  bipedal_tailless\n",
      "302     303       Mawile     Steel     Fairy    380   50      85       85      55      55     50           3        False   Black       True    0.500         Field       Fairy              True      0.61       11.5          45  bipedal_tailless\n",
      "303     304         Aron     Steel      Rock    330   50      70      100      40      40     30           3        False    Grey       True    0.500       Monster        None             False      0.41       60.0         180         quadruped\n",
      "304     305       Lairon     Steel      Rock    430   60      90      140      50      50     40           3        False    Grey       True    0.500       Monster        None             False      0.89      120.0          90         quadruped\n",
      "305     306       Aggron     Steel      Rock    530   70     110      180      60      60     50           3        False    Grey       True    0.500       Monster        None              True      2.11      360.0          45    bipedal_tailed\n",
      "306     307     Meditite  Fighting   Psychic    280   30      40       55      40      55     60           3        False    Blue       True    0.500    Human-Like        None             False      0.61       11.2         180  bipedal_tailless\n",
      "307     308     Medicham  Fighting   Psychic    410   60      60       75      60      75     80           3        False     Red       True    0.500    Human-Like        None              True      1.30       31.5          90  bipedal_tailless\n",
      "308     309    Electrike  Electric      None    295   40      45       40      65      40     65           3        False   Green       True    0.500         Field        None             False      0.61       15.2         120         quadruped\n",
      "309     310    Manectric  Electric      None    475   70      75       60     105      60    105           3        False  Yellow       True    0.500         Field        None              True      1.50       40.2          45         quadruped\n",
      "310     311       Plusle  Electric      None    405   60      50       40      85      75     95           3        False  Yellow       True    0.500         Fairy        None             False      0.41        4.2         200    bipedal_tailed\n",
      "311     312        Minun  Electric      None    405   60      40       50      75      85     95           3        False  Yellow       True    0.500         Fairy        None             False      0.41        4.2         200    bipedal_tailed\n",
      "312     313      Volbeat       Bug      None    400   65      73       55      47      75     85           3        False    Grey       True    1.000           Bug  Human-Like             False      0.71       17.7         150    bipedal_tailed\n",
      "313     314     Illumise       Bug      None    400   65      47       55      73      75     85           3        False  Purple       True    0.000           Bug  Human-Like             False      0.61       17.7         150  bipedal_tailless\n",
      "314     315      Roselia     Grass    Poison    400   50      60       45     100      80     65           3        False   Green       True    0.500         Fairy       Grass             False      0.30        2.0         150  bipedal_tailless\n",
      "315     316       Gulpin    Poison      None    302   70      43       53      43      53     40           3        False   Green       True    0.500     Amorphous        None             False      0.41       10.3         225         head_arms\n",
      "316     317       Swalot    Poison      None    467  100      73       83      73      83     55           3        False  Purple       True    0.500     Amorphous        None             False      1.70       80.0          75         head_arms\n",
      "317     318     Carvanha     Water      Dark    305   45      90       20      65      20     65           3        False     Red       True    0.500       Water_2        None             False      0.79       20.8         225         with_fins\n",
      "318     319     Sharpedo     Water      Dark    460   70     120       40      95      40     95           3        False    Blue       True    0.500       Water_2        None              True      1.80       88.8          60         with_fins\n",
      "319     320      Wailmer     Water      None    400  130      70       35      70      35     60           3        False    Blue       True    0.500         Field     Water_2             False      2.01      130.0         125         with_fins\n",
      "320     321      Wailord     Water      None    500  170      90       45      90      45     60           3        False    Blue       True    0.500         Field     Water_2             False     14.50      398.0          60         with_fins\n",
      "321     322        Numel      Fire    Ground    305   60      60       40      65      45     35           3        False  Yellow       True    0.500         Field        None             False      0.71       24.0         255         quadruped\n",
      "322     323     Camerupt      Fire    Ground    460   70     100       70     105      75     40           3        False     Red       True    0.500         Field        None              True      1.91      220.0         150         quadruped\n",
      "323     324      Torkoal      Fire      None    470   70      85      140      85      70     20           3        False   Brown       True    0.500         Field        None             False      0.51       80.4          90         quadruped\n",
      "324     325       Spoink   Psychic      None    330   60      25       35      70      80     60           3        False   Black       True    0.500         Field        None             False      0.71       30.6         255         head_arms\n",
      "325     326      Grumpig   Psychic      None    470   80      45       65      90     110     80           3        False  Purple       True    0.500         Field        None             False      0.89       71.5          60    bipedal_tailed\n",
      "326     327       Spinda    Normal      None    360   60      60       60      60      60     60           3        False   Brown       True    0.500         Field  Human-Like             False      1.09        5.0         255    bipedal_tailed\n",
      "327     328     Trapinch    Ground      None    290   45     100       45      45      45     10           3        False   Brown       True    0.500           Bug        None             False      0.71       15.0         255         insectoid\n",
      "328     329      Vibrava    Ground    Dragon    340   50      70       50      50      50     70           3        False   Green       True    0.500           Bug        None             False      1.09       15.3         120        four_wings\n",
      "329     330       Flygon    Ground    Dragon    520   80     100       80      80      80    100           3        False   Green       True    0.500           Bug        None             False      2.01       82.0          45         two_wings\n",
      "330     331       Cacnea     Grass      None    335   50      85       40      85      40     35           3        False   Green       True    0.500         Grass  Human-Like             False      0.41       51.3         190  bipedal_tailless\n",
      "331     332     Cacturne     Grass      Dark    475   70     115       60     115      60     55           3        False   Green       True    0.500         Grass  Human-Like             False      1.30       77.4          60  bipedal_tailless\n",
      "332     333       Swablu    Normal    Flying    310   45      40       60      40      75     50           3        False    Blue       True    0.500        Flying      Dragon             False      0.41        1.2         255         two_wings\n",
      "333     334      Altaria    Dragon    Flying    490   75      70       90      70     105     80           3        False    Blue       True    0.500        Flying      Dragon              True      1.09       20.6          45         two_wings\n",
      "334     335     Zangoose    Normal      None    458   73     115       60      60      60     90           3        False   White       True    0.500         Field        None             False      1.30       40.3          90    bipedal_tailed\n",
      "335     336      Seviper    Poison      None    458   73     100       60     100      60     65           3        False   Black       True    0.500         Field      Dragon             False      2.69       52.5          90   serpentine_body\n",
      "336     337     Lunatone      Rock   Psychic    440   70      55       65      95      85     70           3        False  Yellow      False      NaN       Mineral        None             False      0.99      168.0          45         head_only\n",
      "337     338      Solrock      Rock   Psychic    440   70      95       85      55      65     70           3        False     Red      False      NaN       Mineral        None             False      1.19      154.0          45         head_only\n",
      "338     339     Barboach     Water    Ground    288   50      48       43      46      41     60           3        False    Grey       True    0.500       Water_2        None             False      0.41        1.9         190         with_fins\n",
      "339     340     Whiscash     Water    Ground    468  110      78       73      76      71     60           3        False    Blue       True    0.500       Water_2        None             False      0.89       23.6          75         with_fins\n",
      "340     341     Corphish     Water      None    308   43      80       65      50      35     35           3        False     Red       True    0.500       Water_1     Water_3             False      0.61       11.5         205         insectoid\n",
      "341     342    Crawdaunt     Water      Dark    468   63     120       85      90      55     55           3        False     Red       True    0.500       Water_1     Water_3             False      1.09       32.8         155         insectoid\n",
      "342     343       Baltoy    Ground   Psychic    300   40      40       55      40      70     55           3        False   Brown      False      NaN       Mineral        None             False      0.51       21.5         255         head_arms\n",
      "343     344      Claydol    Ground   Psychic    500   60      70      105      70     120     75           3        False   Black      False      NaN       Mineral        None             False      1.50      108.0          90         head_arms\n",
      "344     345       Lileep      Rock     Grass    355   66      41       77      61      87     23           3        False  Purple       True    0.875       Water_3        None             False      0.99       23.8          45         head_base\n",
      "345     346      Cradily      Rock     Grass    495   86      81       97      81     107     43           3        False   Green       True    0.875       Water_3        None             False      1.50       60.4          45         head_base\n",
      "346     347      Anorith      Rock       Bug    355   45      95       50      40      50     75           3        False    Grey       True    0.875       Water_3        None             False      0.71       12.5          45         insectoid\n",
      "347     348      Armaldo      Rock       Bug    495   75     125      100      70      80     45           3        False    Grey       True    0.875       Water_3        None             False      1.50       68.2          45    bipedal_tailed\n",
      "348     349       Feebas     Water      None    200   20      15       20      10      55     80           3        False   Brown       True    0.500       Water_1      Dragon             False      0.61        7.4         255         with_fins\n",
      "349     350      Milotic     Water      None    540   95      60       79     100     125     81           3        False    Pink       True    0.500       Water_1      Dragon             False      6.20      162.0          60   serpentine_body\n",
      "350     351     Castform    Normal      None    420   70      70       70      70      70     70           3        False   White       True    0.500         Fairy   Amorphous             False      0.30        0.8          45         head_only\n",
      "351     352      Kecleon    Normal      None    440   60      90       70      60     120     40           3        False   Green       True    0.500         Field        None             False      0.99       22.0         200    bipedal_tailed\n",
      "352     353      Shuppet     Ghost      None    295   44      75       35      63      33     45           3        False   Black       True    0.500     Amorphous        None             False      0.61        2.3         225         head_only\n",
      "353     354      Banette     Ghost      None    455   64     115       65      83      63     65           3        False   Black       True    0.500     Amorphous        None              True      1.09       12.5          45    bipedal_tailed\n",
      "354     355      Duskull     Ghost      None    295   20      40       90      30      90     25           3        False   Black       True    0.500     Amorphous        None             False      0.79       15.0         190         head_arms\n",
      "355     356     Dusclops     Ghost      None    455   40      70      130      60     130     25           3        False   Black       True    0.500     Amorphous        None             False      1.60       30.6          90  bipedal_tailless\n",
      "356     357      Tropius     Grass    Flying    460   99      68       83      72      87     51           3        False   Green       True    0.500       Monster       Grass             False      2.01      100.0         200         quadruped\n",
      "357     358     Chimecho   Psychic      None    425   65      50       70      95      80     65           3        False    Blue       True    0.500     Amorphous        None             False      0.61        1.0          45         head_arms\n",
      "358     359        Absol      Dark      None    465   65     130       60      75      60     75           3        False   White       True    0.500         Field        None              True      1.19       47.0          30         quadruped\n",
      "359     360       Wynaut   Psychic      None    260   95      23       48      23      48     23           3        False    Blue       True    0.500  Undiscovered        None             False      0.61       14.0         125    bipedal_tailed\n",
      "360     361      Snorunt       Ice      None    300   50      50       50      50      50     50           3        False    Grey       True    0.500         Fairy     Mineral             False      0.71       16.8         190  bipedal_tailless\n",
      "361     362       Glalie       Ice      None    480   80      80       80      80      80     80           3        False    Grey       True    0.500         Fairy     Mineral              True      1.50      256.5          75         head_only\n",
      "362     363       Spheal       Ice     Water    290   70      40       50      55      50     25           3        False    Blue       True    0.500       Water_1       Field             False      0.79       39.5         255         with_fins\n",
      "363     364       Sealeo       Ice     Water    410   90      60       70      75      70     45           3        False    Blue       True    0.500       Water_1       Field             False      1.09       87.6         120         with_fins\n",
      "364     365      Walrein       Ice     Water    530  110      80       90      95      90     65           3        False    Blue       True    0.500       Water_1       Field             False      1.40      150.6          45         quadruped\n",
      "365     366     Clamperl     Water      None    345   35      64       85      74      55     32           3        False    Blue       True    0.500       Water_1        None             False      0.41       52.5         255         head_only\n",
      "366     367      Huntail     Water      None    485   55     104      105      94      75     52           3        False    Blue       True    0.500       Water_1        None             False      1.70       27.0          60   serpentine_body\n",
      "367     368     Gorebyss     Water      None    485   55      84      105     114      75     52           3        False    Pink       True    0.500       Water_1        None             False      1.80       22.6          60   serpentine_body\n",
      "368     369    Relicanth     Water      Rock    485  100      90      130      45      65     55           3        False    Grey       True    0.875       Water_1     Water_2             False      0.99       23.4          25         with_fins\n",
      "369     370      Luvdisc     Water      None    330   43      30       55      40      65     97           3        False    Pink       True    0.250       Water_2        None             False      0.61        8.7         225         with_fins\n",
      "370     371        Bagon    Dragon      None    300   45      75       60      40      30     50           3        False    Blue       True    0.500        Dragon        None             False      0.61       42.1          45  bipedal_tailless\n",
      "371     372      Shelgon    Dragon      None    420   65      95      100      60      50     50           3        False   White       True    0.500        Dragon        None             False      1.09      110.5          45         quadruped\n",
      "372     373    Salamence    Dragon    Flying    600   95     135       80     110      80    100           3        False    Blue       True    0.500        Dragon        None              True      1.50      102.6          45         quadruped\n",
      "373     374       Beldum     Steel   Psychic    300   40      55       80      35      60     30           3        False    Blue      False      NaN       Mineral        None             False      0.61       95.2           3         head_base\n",
      "374     375       Metang     Steel   Psychic    420   60      75      100      55      80     50           3        False    Blue      False      NaN       Mineral        None             False      1.19      202.5           3         head_arms\n",
      "375     376    Metagross     Steel   Psychic    600   80     135      130      95      90     70           3        False    Blue      False      NaN       Mineral        None              True      1.60      550.0           3   multiple_bodies\n",
      "376     377     Regirock      Rock      None    580   80     100      200      50     100     50           3         True   Brown      False      NaN  Undiscovered        None             False      1.70      230.0           3  bipedal_tailless\n",
      "377     378       Regice       Ice      None    580   80      50      100     100     200     50           3         True    Blue      False      NaN  Undiscovered        None             False      1.80      175.0           3  bipedal_tailless\n",
      "378     379    Registeel     Steel      None    580   80      75      150      75     150     50           3         True    Grey      False      NaN  Undiscovered        None             False      1.91      205.0           3  bipedal_tailless\n",
      "379     380       Latias    Dragon   Psychic    600   80      80       90     110     130    110           3         True     Red       True    0.000  Undiscovered        None              True      1.40       40.0           3         two_wings\n",
      "380     381       Latios    Dragon   Psychic    600   80      90       80     130     110    110           3         True    Blue       True    1.000  Undiscovered        None              True      2.01       60.0           3         two_wings\n",
      "381     382       Kyogre     Water      None    670  100     100       90     150     140     90           3         True    Blue      False      NaN  Undiscovered        None             False      4.50      352.0           3         with_fins\n",
      "382     383      Groudon    Ground      None    670  100     150      140     100      90     90           3         True     Red      False      NaN  Undiscovered        None             False      3.51      950.0           3    bipedal_tailed\n",
      "383     384     Rayquaza    Dragon    Flying    680  105     150       90     150      90     95           3         True   Green      False      NaN  Undiscovered        None              True      7.01      206.5          45   serpentine_body\n",
      "384     385      Jirachi     Steel   Psychic    600  100     100      100     100     100    100           3         True  Yellow      False      NaN  Undiscovered        None             False      0.30        1.1           3  bipedal_tailless\n",
      "385     386       Deoxys   Psychic      None    600   50     150       50     150      50    150           3         True     Red      False      NaN  Undiscovered        None             False      1.70       60.8           3  bipedal_tailless\n",
      "386     387      Turtwig     Grass      None    318   55      68       64      45      55     31           4        False   Green       True    0.875       Monster       Grass             False      0.41       10.2          45         quadruped\n",
      "387     388       Grotle     Grass      None    405   75      89       85      55      65     36           4        False   Green       True    0.875       Monster       Grass             False      1.09       97.0          45         quadruped\n",
      "388     389     Torterra     Grass    Ground    525   95     109      105      75      85     56           4        False   Green       True    0.875       Monster       Grass             False      2.21      310.0          45         quadruped\n",
      "389     390     Chimchar      Fire      None    309   44      58       44      58      44     61           4        False   Brown       True    0.875         Field  Human-Like             False      0.51        6.2          45    bipedal_tailed\n",
      "390     391     Monferno      Fire  Fighting    405   64      78       52      78      52     81           4        False   Brown       True    0.875         Field  Human-Like             False      0.89       22.0          45    bipedal_tailed\n",
      "391     392    Infernape      Fire  Fighting    534   76     104       71     104      71    108           4        False   Brown       True    0.875         Field  Human-Like             False      1.19       55.0          45    bipedal_tailed\n",
      "392     393       Piplup     Water      None    314   53      51       53      61      56     40           4        False    Blue       True    0.875       Water_1       Field             False      0.41        5.2          45  bipedal_tailless\n",
      "393     394     Prinplup     Water      None    405   64      66       68      81      76     50           4        False    Blue       True    0.875       Water_1       Field             False      0.79       23.0          45    bipedal_tailed\n",
      "394     395     Empoleon     Water     Steel    530   84      86       88     111     101     60           4        False    Blue       True    0.875       Water_1       Field             False      1.70       84.5          45    bipedal_tailed\n",
      "395     396       Starly    Normal    Flying    245   40      55       30      30      30     60           4        False   Brown       True    0.500        Flying        None             False      0.30        2.0         255         two_wings\n",
      "396     397     Staravia    Normal    Flying    340   55      75       50      40      40     80           4        False   Brown       True    0.500        Flying        None             False      0.61       15.5         120         two_wings\n",
      "397     398    Staraptor    Normal    Flying    485   85     120       70      50      60    100           4        False   Brown       True    0.500        Flying        None             False      1.19       24.9          45         two_wings\n",
      "398     399       Bidoof    Normal      None    250   59      45       40      35      40     31           4        False   Brown       True    0.500       Water_1       Field             False      0.51       20.0         255         quadruped\n",
      "399     400      Bibarel    Normal     Water    410   79      85       60      55      60     71           4        False   Brown       True    0.500       Water_1       Field             False      0.99       31.5         127    bipedal_tailed\n",
      "400     401    Kricketot       Bug      None    194   37      25       41      25      41     25           4        False     Red       True    0.500           Bug        None             False      0.30        2.2         255  bipedal_tailless\n",
      "401     402   Kricketune       Bug      None    384   77      85       51      55      51     65           4        False     Red       True    0.500           Bug        None             False      0.99       25.5          45        four_wings\n",
      "402     403        Shinx  Electric      None    263   45      65       34      40      34     45           4        False    Blue       True    0.500         Field        None             False      0.51        9.5         235         quadruped\n",
      "403     404        Luxio  Electric      None    363   60      85       49      60      49     60           4        False    Blue       True    0.500         Field        None             False      0.89       30.5         120         quadruped\n",
      "404     405       Luxray  Electric      None    523   80     120       79      95      79     70           4        False    Blue       True    0.500         Field        None             False      1.40       42.0          45         quadruped\n",
      "405     406        Budew     Grass    Poison    280   40      30       35      50      70     55           4        False   Green       True    0.500  Undiscovered        None             False      0.20        1.2         255  bipedal_tailless\n",
      "406     407     Roserade     Grass    Poison    515   60      70       65     125     105     90           4        False   Green       True    0.500         Fairy       Grass             False      0.89       14.5          75  bipedal_tailless\n",
      "407     408     Cranidos      Rock      None    350   67     125       40      30      30     58           4        False    Blue       True    0.875       Monster        None             False      0.89       31.5          45    bipedal_tailed\n",
      "408     409    Rampardos      Rock      None    495   97     165       60      65      50     58           4        False    Blue       True    0.875       Monster        None             False      1.60      102.5          45    bipedal_tailed\n",
      "409     410     Shieldon      Rock     Steel    350   30      42      118      42      88     30           4        False    Grey       True    0.875       Monster        None             False      0.51       57.0          45         quadruped\n",
      "410     411    Bastiodon      Rock     Steel    495   60      52      168      47     138     30           4        False    Grey       True    0.875       Monster        None             False      1.30      149.5          45         quadruped\n",
      "411     412        Burmy       Bug      None    224   40      29       45      29      45     36           4        False    Grey       True    0.500           Bug        None             False      0.20        3.4         120         head_base\n",
      "412     413     Wormadam       Bug     Grass    424   60      59       85      79     105     36           4        False    Grey       True    0.000           Bug        None             False      0.51        6.5          45         head_base\n",
      "413     414       Mothim       Bug    Flying    424   70      94       50      94      50     66           4        False  Yellow       True    1.000           Bug        None             False      0.89       23.3          45        four_wings\n",
      "414     415       Combee       Bug    Flying    244   30      30       42      30      42     70           4        False  Yellow       True    0.875           Bug        None             False      0.30        5.5         120   multiple_bodies\n",
      "415     416    Vespiquen       Bug    Flying    474   70      80      102      80     102     40           4        False  Yellow       True    0.000           Bug        None             False      1.19       38.5          45        four_wings\n",
      "416     417    Pachirisu  Electric      None    405   60      45       70      45      90     95           4        False   White       True    0.500         Field       Fairy             False      0.41        3.9         200         quadruped\n",
      "417     418       Buizel     Water      None    330   55      65       35      60      30     85           4        False   Brown       True    0.500       Water_1       Field             False      0.71       29.5         190         quadruped\n",
      "418     419     Floatzel     Water      None    495   85     105       55      85      50    115           4        False   Brown       True    0.500       Water_1       Field             False      1.09       33.5          75         quadruped\n",
      "419     420      Cherubi     Grass      None    275   45      35       45      62      53     35           4        False    Pink       True    0.500         Fairy       Grass             False      0.41        3.3         190   multiple_bodies\n",
      "420     421      Cherrim     Grass      None    450   70      60       70      87      78     85           4        False    Pink       True    0.500         Fairy       Grass             False      0.51        9.3          75         head_legs\n",
      "421     422      Shellos     Water      None    325   76      48       48      57      62     34           4        False  Purple       True    0.500       Water_1   Amorphous             False      0.30        6.3         190   serpentine_body\n",
      "422     423    Gastrodon     Water    Ground    475  111      83       68      92      82     39           4        False  Purple       True    0.500       Water_1   Amorphous             False      0.89       29.9          75   serpentine_body\n",
      "423     424      Ambipom    Normal      None    482   75     100       66      60      66    115           4        False  Purple       True    0.500         Field        None             False      1.19       20.3          45    bipedal_tailed\n",
      "424     425     Drifloon     Ghost    Flying    348   90      50       34      60      44     70           4        False  Purple       True    0.500     Amorphous        None             False      0.41        1.2         125         head_arms\n",
      "425     426     Drifblim     Ghost    Flying    498  150      80       44      90      54     80           4        False  Purple       True    0.500     Amorphous        None             False      1.19       15.0          60         head_arms\n",
      "426     427      Buneary    Normal      None    350   55      66       44      44      56     85           4        False   Brown       True    0.500         Field  Human-Like             False      0.41        5.5         190    bipedal_tailed\n",
      "427     428      Lopunny    Normal      None    480   65      76       84      54      96    105           4        False   Brown       True    0.500         Field  Human-Like              True      1.19       33.3          60    bipedal_tailed\n",
      "428     429    Mismagius     Ghost      None    495   60      60       60     105     105    105           4        False  Purple       True    0.500     Amorphous        None             False      0.89        4.4          45         head_only\n",
      "429     430    Honchkrow      Dark    Flying    505  100     125       52     105      52     71           4        False   Black       True    0.500        Flying        None             False      0.89       27.3          30         two_wings\n",
      "430     431      Glameow    Normal      None    310   49      55       42      42      37     85           4        False    Grey       True    0.250         Field        None             False      0.51        3.9         190         quadruped\n",
      "431     432      Purugly    Normal      None    452   71      82       64      64      59    112           4        False    Grey       True    0.250         Field        None             False      0.99       43.8          75         quadruped\n",
      "432     433    Chingling   Psychic      None    285   45      30       50      65      50     45           4        False  Yellow       True    0.500  Undiscovered        None             False      0.20        0.6         120  bipedal_tailless\n",
      "433     434       Stunky    Poison      Dark    329   63      63       47      41      41     74           4        False  Purple       True    0.500         Field        None             False      0.41       19.2         225         quadruped\n",
      "434     435     Skuntank    Poison      Dark    479  103      93       67      71      61     84           4        False  Purple       True    0.500         Field        None             False      0.99       38.0          60         quadruped\n",
      "435     436      Bronzor     Steel   Psychic    300   57      24       86      24      86     23           4        False   Green      False      NaN       Mineral        None             False      0.51       60.5         255         head_only\n",
      "436     437     Bronzong     Steel   Psychic    500   67      89      116      79     116     33           4        False   Green      False      NaN       Mineral        None             False      1.30      187.0          90         head_arms\n",
      "437     438       Bonsly      Rock      None    290   50      80       95      10      45     10           4        False   Brown       True    0.500  Undiscovered        None             False      0.51       15.0         255         head_legs\n",
      "438     439     Mime_Jr.   Psychic     Fairy    310   20      25       45      70      90     60           4        False    Pink       True    0.500  Undiscovered        None             False      0.61       13.0         145  bipedal_tailless\n",
      "439     440      Happiny    Normal      None    220  100       5        5      15      65     30           4        False    Pink       True    0.000  Undiscovered        None             False      0.61       24.4         130  bipedal_tailless\n",
      "440     441       Chatot    Normal    Flying    411   76      65       45      92      42     91           4        False   Black       True    0.500        Flying        None             False      0.51        1.9          30         two_wings\n",
      "441     442    Spiritomb     Ghost      Dark    485   50      92      108      92     108     35           4        False  Purple       True    0.500     Amorphous        None             False      0.99      108.0         100         head_base\n",
      "442     443        Gible    Dragon    Ground    300   58      70       45      40      45     42           4        False    Blue       True    0.500       Monster      Dragon             False      0.71       20.5          45    bipedal_tailed\n",
      "443     444       Gabite    Dragon    Ground    410   68      90       65      50      55     82           4        False    Blue       True    0.500       Monster      Dragon             False      1.40       56.0          45    bipedal_tailed\n",
      "444     445     Garchomp    Dragon    Ground    600  108     130       95      80      85    102           4        False    Blue       True    0.500       Monster      Dragon              True      1.91       95.0          45    bipedal_tailed\n",
      "445     446     Munchlax    Normal      None    390  135      85       40      40      85      5           4        False   Black       True    0.875  Undiscovered        None             False      0.61      105.0          50  bipedal_tailless\n",
      "446     447        Riolu  Fighting      None    285   40      70       40      35      40     60           4        False    Blue       True    0.875  Undiscovered        None             False      0.71       20.2          75    bipedal_tailed\n",
      "447     448      Lucario  Fighting     Steel    525   70     110       70     115      70     90           4        False    Blue       True    0.875         Field  Human-Like              True      1.19       54.0          45    bipedal_tailed\n",
      "448     449   Hippopotas    Ground      None    330   68      72       78      38      42     32           4        False   Brown       True    0.500         Field        None             False      0.79       49.5         140         quadruped\n",
      "449     450    Hippowdon    Ground      None    525  108     112      118      68      72     47           4        False   Brown       True    0.500         Field        None             False      2.01      300.0          60         quadruped\n",
      "450     451      Skorupi    Poison       Bug    330   40      50       90      30      55     65           4        False  Purple       True    0.500           Bug     Water_3             False      0.79       12.0         120         insectoid\n",
      "451     452      Drapion    Poison      Dark    500   70      90      110      60      75     95           4        False  Purple       True    0.500           Bug     Water_3             False      1.30       61.5          45         insectoid\n",
      "452     453     Croagunk    Poison  Fighting    300   48      61       40      61      40     50           4        False    Blue       True    0.500    Human-Like        None             False      0.71       23.0         140  bipedal_tailless\n",
      "453     454    Toxicroak    Poison  Fighting    490   83     106       65      86      65     85           4        False    Blue       True    0.500    Human-Like        None             False      1.30       44.4          75  bipedal_tailless\n",
      "454     455    Carnivine     Grass      None    454   74     100       72      90      72     46           4        False   Green       True    0.500         Grass        None             False      1.40       27.0         200     several_limbs\n",
      "455     456      Finneon     Water      None    330   49      49       56      49      61     66           4        False    Blue       True    0.500       Water_2        None             False      0.41        7.0         190         with_fins\n",
      "456     457     Lumineon     Water      None    460   69      69       76      69      86     91           4        False    Blue       True    0.500       Water_2        None             False      1.19       24.0          75         with_fins\n",
      "457     458      Mantyke     Water    Flying    345   45      20       50      60     120     50           4        False    Blue       True    0.500  Undiscovered        None             False      0.99       65.0          25         two_wings\n",
      "458     459       Snover     Grass       Ice    334   60      62       50      62      60     40           4        False   White       True    0.500       Monster       Grass             False      0.99       50.5         120    bipedal_tailed\n",
      "459     460    Abomasnow     Grass       Ice    494   90      92       75      92      85     60           4        False   White       True    0.500       Monster       Grass              True      2.21      135.5          60    bipedal_tailed\n",
      "460     461      Weavile      Dark       Ice    510   70     120       65      45      85    125           4        False   Black       True    0.500         Field        None             False      1.09       34.0          45    bipedal_tailed\n",
      "461     462    Magnezone  Electric     Steel    535   70      70      115     130      90     60           4        False    Grey      False      NaN       Mineral        None             False      1.19      180.0          30         head_arms\n",
      "462     463   Lickilicky    Normal      None    515  110      85       95      80      95     50           4        False    Pink       True    0.500       Monster        None             False      1.70      140.0          30  bipedal_tailless\n",
      "463     464    Rhyperior    Ground      Rock    535  115     140      130      55      55     40           4        False    Grey       True    0.500       Monster       Field             False      2.39      282.8          30    bipedal_tailed\n",
      "464     465    Tangrowth     Grass      None    535  100     100      125     110      50     50           4        False    Blue       True    0.500         Grass        None             False      2.01      128.6          30  bipedal_tailless\n",
      "465     466   Electivire  Electric      None    540   75     123       67      95      85     95           4        False  Yellow       True    0.750    Human-Like        None             False      1.80      138.6          30    bipedal_tailed\n",
      "466     467    Magmortar      Fire      None    540   75      95       67     125      95     83           4        False     Red       True    0.750    Human-Like        None             False      1.60       68.0          30    bipedal_tailed\n",
      "467     468     Togekiss     Fairy    Flying    545   85      50       95     120     115     80           4        False   White       True    0.875        Flying       Fairy             False      1.50       38.0          30         two_wings\n",
      "468     469      Yanmega       Bug    Flying    515   86      76       86     116      56     95           4        False   Green       True    0.500           Bug        None             False      1.91       51.5          30        four_wings\n",
      "469     470      Leafeon     Grass      None    525   65     110      130      60      65     95           4        False   Green       True    0.875         Field        None             False      0.99       25.5          45         quadruped\n",
      "470     471      Glaceon       Ice      None    525   65      60      110     130      95     65           4        False    Blue       True    0.875         Field        None             False      0.79       25.9          45         quadruped\n",
      "471     472      Gliscor    Ground    Flying    510   75      95      125      45      75     95           4        False  Purple       True    0.500           Bug        None             False      2.01       42.5          30         two_wings\n",
      "472     473    Mamoswine       Ice    Ground    530  110     130       80      70      60     80           4        False   Brown       True    0.500         Field        None             False      2.49      291.0          50         quadruped\n",
      "473     474    Porygon-Z    Normal      None    535   85      80       70     135      75     90           4        False     Red      False      NaN       Mineral        None             False      0.89       34.0          30         head_arms\n",
      "474     475      Gallade   Psychic  Fighting    518   68     125       65      65     115     80           4        False   White       True    1.000     Amorphous        None              True      1.60       52.0          45  bipedal_tailless\n",
      "475     476    Probopass      Rock     Steel    525   60      55      145      75     150     40           4        False    Grey       True    0.500       Mineral        None             False      1.40      340.0          60   multiple_bodies\n",
      "476     477     Dusknoir     Ghost      None    525   45     100      135      65     135     45           4        False   Black       True    0.500     Amorphous        None             False      2.21      106.6          45         head_arms\n",
      "477     478     Froslass       Ice     Ghost    480   70      80       70      80      70    110           4        False   White       True    0.000         Fairy     Mineral             False      1.30       26.6          75         head_arms\n",
      "478     479        Rotom  Electric     Ghost    440   50      50       77      95      77     91           4        False     Red      False      NaN     Amorphous        None             False      0.30        0.3          45         head_only\n",
      "479     480         Uxie   Psychic      None    580   75      75      130      75     130     95           4         True  Yellow      False      NaN  Undiscovered        None             False      0.30        0.3           3    bipedal_tailed\n",
      "480     481      Mesprit   Psychic      None    580   80     105      105     105     105     80           4         True    Pink      False      NaN  Undiscovered        None             False      0.30        0.3           3    bipedal_tailed\n",
      "481     482        Azelf   Psychic      None    580   75     125       70     125      70    115           4         True    Blue      False      NaN  Undiscovered        None             False      0.30        0.3           3    bipedal_tailed\n",
      "482     483       Dialga     Steel    Dragon    680  100     120      120     150     100     90           4         True   White      False      NaN  Undiscovered        None             False      5.41      683.0           3         quadruped\n",
      "483     484       Palkia     Water    Dragon    680   90     120      100     150     120    100           4         True  Purple      False      NaN  Undiscovered        None             False      4.19      336.0           3    bipedal_tailed\n",
      "484     485      Heatran      Fire     Steel    600   91      90      106     130     106     77           4         True   Brown       True    0.500  Undiscovered        None             False      1.70      430.0           3         quadruped\n",
      "485     486    Regigigas    Normal      None    670  110     160      110      80     110    100           4         True   White      False      NaN  Undiscovered        None             False      3.71      420.0           3  bipedal_tailless\n",
      "486     487     Giratina     Ghost    Dragon    680  150     120      100     120     100     90           4         True   Black      False      NaN  Undiscovered        None             False      6.91      650.0           3   serpentine_body\n",
      "487     488    Cresselia   Psychic      None    600  120      70      120      75     130     85           4        False  Yellow       True    0.000  Undiscovered        None             False      1.50       85.6           3   serpentine_body\n",
      "488     489       Phione     Water      None    480   80      80       80      80      80     80           4        False    Blue      False      NaN       Water_1       Fairy             False      0.41        3.1          30         head_arms\n",
      "489     490      Manaphy     Water      None    600  100     100      100     100     100    100           4        False    Blue      False      NaN       Water_1       Fairy             False      0.30        1.4           3  bipedal_tailless\n",
      "490     491      Darkrai      Dark      None    600   70      90       90     135      90    125           4         True   Black      False      NaN  Undiscovered        None             False      1.50       50.5           3  bipedal_tailless\n",
      "491     492      Shaymin     Grass      None    600  100     100      100     100     100    100           4         True   Green      False      NaN  Undiscovered        None             False      0.20        2.1          45         quadruped\n",
      "492     493       Arceus    Normal      None    720  120     120      120     120     120    120           4         True    Grey      False      NaN  Undiscovered        None             False      3.20      320.0           3         quadruped\n",
      "493     494      Victini   Psychic      Fire    600  100     100      100     100     100    100           5         True  Yellow      False      NaN  Undiscovered        None             False      0.41        4.0           3  bipedal_tailless\n",
      "494     495        Snivy     Grass      None    308   45      45       55      45      55     63           5        False   Green       True    0.875         Field       Grass             False      0.61        8.1          45    bipedal_tailed\n",
      "495     496      Servine     Grass      None    413   60      60       75      60      75     83           5        False   Green       True    0.875         Field       Grass             False      0.79       16.0          45    bipedal_tailed\n",
      "496     497    Serperior     Grass      None    528   75      75       95      75      95    113           5        False   Green       True    0.875         Field       Grass             False      3.30       63.0          45   serpentine_body\n",
      "497     498        Tepig      Fire      None    308   65      63       45      45      45     45           5        False     Red       True    0.875         Field        None             False      0.51        9.9          45         quadruped\n",
      "498     499      Pignite      Fire  Fighting    418   90      93       55      70      55     55           5        False     Red       True    0.875         Field        None             False      0.99       55.5          45    bipedal_tailed\n",
      "499     500       Emboar      Fire  Fighting    528  110     123       65     100      65     65           5        False     Red       True    0.875         Field        None             False      1.60      150.0          45    bipedal_tailed\n",
      "500     501     Oshawott     Water      None    308   55      55       45      63      45     45           5        False    Blue       True    0.875         Field        None             False      0.51        5.9          45    bipedal_tailed\n",
      "501     502       Dewott     Water      None    413   75      75       60      83      60     60           5        False    Blue       True    0.875         Field        None             False      0.79       24.5          45    bipedal_tailed\n",
      "502     503     Samurott     Water      None    528   95     100       85     108      70     70           5        False    Blue       True    0.875         Field        None             False      1.50       94.6          45         quadruped\n",
      "503     504       Patrat    Normal      None    255   45      55       39      35      39     42           5        False   Brown       True    0.500         Field        None             False      0.51       11.6         255         quadruped\n",
      "504     505      Watchog    Normal      None    420   60      85       69      60      69     77           5        False   Brown       True    0.500         Field        None             False      1.09       27.0         255    bipedal_tailed\n",
      "505     506     Lillipup    Normal      None    275   45      60       45      25      45     55           5        False   Brown       True    0.500         Field        None             False      0.41        4.1         255         quadruped\n",
      "506     507      Herdier    Normal      None    370   65      80       65      35      65     60           5        False    Grey       True    0.500         Field        None             False      0.89       14.7         120         quadruped\n",
      "507     508    Stoutland    Normal      None    500   85     110       90      45      90     80           5        False    Grey       True    0.500         Field        None             False      1.19       61.0          45         quadruped\n",
      "508     509     Purrloin      Dark      None    281   41      50       37      50      37     66           5        False  Purple       True    0.500         Field        None             False      0.41       10.1         255         quadruped\n",
      "509     510      Liepard      Dark      None    446   64      88       50      88      50    106           5        False  Purple       True    0.500         Field        None             False      1.09       37.5          90         quadruped\n",
      "510     511      Pansage     Grass      None    316   50      53       48      53      48     64           5        False   Green       True    0.875         Field        None             False      0.61       10.5         190    bipedal_tailed\n",
      "511     512     Simisage     Grass      None    498   75      98       63      98      63    101           5        False   Green       True    0.875         Field        None             False      1.09       30.5          75    bipedal_tailed\n",
      "512     513      Pansear      Fire      None    316   50      53       48      53      48     64           5        False     Red       True    0.875         Field        None             False      0.61       11.0         190    bipedal_tailed\n",
      "513     514     Simisear      Fire      None    498   75      98       63      98      63    101           5        False     Red       True    0.875         Field        None             False      0.99       28.0          75    bipedal_tailed\n",
      "514     515      Panpour     Water      None    316   50      53       48      53      48     64           5        False    Blue       True    0.875         Field        None             False      0.61       13.5         190    bipedal_tailed\n",
      "515     516     Simipour     Water      None    498   75      98       63      98      63    101           5        False    Blue       True    0.875         Field        None             False      0.99       29.0          75    bipedal_tailed\n",
      "516     517        Munna   Psychic      None    292   76      25       45      67      55     24           5        False    Pink       True    0.500         Field        None             False      0.61       23.3         190         quadruped\n",
      "517     518     Musharna   Psychic      None    487  116      55       85     107      95     29           5        False    Pink       True    0.500         Field        None             False      1.09       60.5          75  bipedal_tailless\n",
      "518     519       Pidove    Normal    Flying    264   50      55       50      36      30     43           5        False    Grey       True    0.500        Flying        None             False      0.30        2.1         255         two_wings\n",
      "519     520    Tranquill    Normal    Flying    358   62      77       62      50      42     65           5        False    Grey       True    0.500        Flying        None             False      0.61       15.0         120         two_wings\n",
      "520     521     Unfezant    Normal    Flying    488   80     115       80      65      55     93           5        False    Grey       True    0.500        Flying        None             False      1.19       29.0          45         two_wings\n",
      "521     522      Blitzle  Electric      None    295   45      60       32      50      32     76           5        False   Black       True    0.500         Field        None             False      0.79       29.8         190         quadruped\n",
      "522     523    Zebstrika  Electric      None    497   75     100       63      80      63    116           5        False   Black       True    0.500         Field        None             False      1.60       79.5          75         quadruped\n",
      "523     524   Roggenrola      Rock      None    280   55      75       85      25      25     15           5        False    Blue       True    0.500       Mineral        None             False      0.41       18.0         255         head_legs\n",
      "524     525      Boldore      Rock      None    390   70     105      105      50      40     20           5        False    Blue       True    0.500       Mineral        None             False      0.89      102.0         120     several_limbs\n",
      "525     526     Gigalith      Rock      None    515   85     135      130      60      80     25           5        False    Blue       True    0.500       Mineral        None             False      1.70      260.0          45     several_limbs\n",
      "526     527       Woobat   Psychic    Flying    313   55      45       43      55      43     72           5        False    Blue       True    0.500         Field      Flying             False      0.41        2.1         190         two_wings\n",
      "527     528      Swoobat   Psychic    Flying    425   67      57       55      77      55    114           5        False    Blue       True    0.500         Field      Flying             False      0.89       10.5          45         two_wings\n",
      "528     529      Drilbur    Ground      None    328   60      85       40      30      45     68           5        False    Grey       True    0.500         Field        None             False      0.30        8.5         120    bipedal_tailed\n",
      "529     530    Excadrill    Ground     Steel    508  110     135       60      50      65     88           5        False    Grey       True    0.500         Field        None             False      0.71       40.4          60  bipedal_tailless\n",
      "530     531       Audino    Normal      None    445  103      60       86      60      86     50           5        False    Pink       True    0.500         Fairy        None              True      1.09       31.0         255    bipedal_tailed\n",
      "531     532      Timburr  Fighting      None    305   75      80       55      25      35     35           5        False    Grey       True    0.750    Human-Like        None             False      0.61       12.5         180  bipedal_tailless\n",
      "532     533      Gurdurr  Fighting      None    405   85     105       85      40      50     40           5        False    Grey       True    0.750    Human-Like        None             False      1.19       40.0          90  bipedal_tailless\n",
      "533     534   Conkeldurr  Fighting      None    505  105     140       95      55      65     45           5        False    Grey       True    0.750    Human-Like        None             False      1.40       87.0          45  bipedal_tailless\n",
      "534     535      Tympole     Water      None    294   50      50       40      50      40     64           5        False    Blue       True    0.500       Water_1        None             False      0.51        4.5         255         with_fins\n",
      "535     536    Palpitoad     Water    Ground    384   75      65       55      65      55     69           5        False    Blue       True    0.500       Water_1        None             False      0.79       17.0         120    bipedal_tailed\n",
      "536     537   Seismitoad     Water    Ground    509  105      95       75      85      75     74           5        False    Blue       True    0.500       Water_1        None             False      1.50       62.0          45  bipedal_tailless\n",
      "537     538        Throh  Fighting      None    465  120     100       85      30      85     45           5        False     Red       True    1.000    Human-Like        None             False      1.30       55.5          45  bipedal_tailless\n",
      "538     539         Sawk  Fighting      None    465   75     125       75      30      75     85           5        False    Blue       True    1.000    Human-Like        None             False      1.40       51.0          45  bipedal_tailless\n",
      "539     540     Sewaddle       Bug     Grass    310   45      53       70      40      60     42           5        False  Yellow       True    0.500           Bug        None             False      0.30        2.5         255         insectoid\n",
      "540     541     Swadloon       Bug     Grass    380   55      63       90      50      80     42           5        False   Green       True    0.500           Bug        None             False      0.51        7.3         120         head_arms\n",
      "541     542     Leavanny       Bug     Grass    500   75     103       80      70      80     92           5        False  Yellow       True    0.500           Bug        None             False      1.19       20.5          45  bipedal_tailless\n",
      "542     543     Venipede       Bug    Poison    260   30      45       59      30      39     57           5        False     Red       True    0.500           Bug        None             False      0.41        5.3         255         insectoid\n",
      "543     544   Whirlipede       Bug    Poison    360   40      55       99      40      79     47           5        False    Grey       True    0.500           Bug        None             False      1.19       58.5         120         head_only\n",
      "544     545    Scolipede       Bug    Poison    485   60     100       89      55      69    112           5        False     Red       True    0.500           Bug        None             False      2.49      200.5          45         insectoid\n",
      "545     546     Cottonee     Grass     Fairy    280   40      27       60      37      50     66           5        False   Green       True    0.500         Grass       Fairy             False      0.30        0.6         190         head_only\n",
      "546     547   Whimsicott     Grass     Fairy    480   60      67       85      77      75    116           5        False   Green       True    0.500         Grass       Fairy             False      0.71        6.6          75  bipedal_tailless\n",
      "547     548      Petilil     Grass      None    280   45      35       50      70      50     30           5        False   Green       True    0.000         Grass        None             False      0.51        6.6         190         head_base\n",
      "548     549    Lilligant     Grass      None    480   70      60       75     110      75     90           5        False   Green       True    0.000         Grass        None             False      1.09       16.3          75         head_base\n",
      "549     550     Basculin     Water      None    460   70      92       65      80      55     98           5        False   Green       True    0.500       Water_2        None             False      0.99       18.0          25         with_fins\n",
      "550     551      Sandile    Ground      Dark    292   50      72       35      35      35     65           5        False   Brown       True    0.500         Field        None             False      0.71       15.2         180         quadruped\n",
      "551     552     Krokorok    Ground      Dark    351   60      82       45      45      45     74           5        False   Brown       True    0.500         Field        None             False      0.99       33.4          90         quadruped\n",
      "552     553   Krookodile    Ground      Dark    519   95     117       80      65      70     92           5        False     Red       True    0.500         Field        None             False      1.50       96.3          45    bipedal_tailed\n",
      "553     554     Darumaka      Fire      None    315   70      90       45      15      45     50           5        False     Red       True    0.500         Field        None             False      0.61       37.5         120  bipedal_tailless\n",
      "554     555   Darmanitan      Fire      None    480  105     140       55      30      55     95           5        False     Red       True    0.500         Field        None             False      1.30       92.9          60         quadruped\n",
      "555     556     Maractus     Grass      None    461   75      86       67     106      67     60           5        False   Green       True    0.500         Grass        None             False      0.99       28.0         255         head_base\n",
      "556     557      Dwebble       Bug      Rock    325   50      65       85      35      35     55           5        False     Red       True    0.500           Bug     Mineral             False      0.30       14.5         190         insectoid\n",
      "557     558      Crustle       Bug      Rock    475   70      95      125      65      75     45           5        False     Red       True    0.500           Bug     Mineral             False      1.40      200.0          75         insectoid\n",
      "558     559      Scraggy      Dark  Fighting    348   50      75       70      35      70     48           5        False  Yellow       True    0.500         Field      Dragon             False      0.61       11.8         180    bipedal_tailed\n",
      "559     560      Scrafty      Dark  Fighting    488   65      90      115      45     115     58           5        False     Red       True    0.500         Field      Dragon             False      1.09       30.0          90    bipedal_tailed\n",
      "560     561     Sigilyph   Psychic    Flying    490   72      58       80     103      80     97           5        False   Black       True    0.500        Flying        None             False      1.40       14.0          45         two_wings\n",
      "561     562       Yamask     Ghost      None    303   38      30       85      55      65     30           5        False   Black       True    0.500       Mineral   Amorphous             False      0.51        1.5         190         head_arms\n",
      "562     563   Cofagrigus     Ghost      None    483   58      50      145      95     105     30           5        False  Yellow       True    0.500       Mineral   Amorphous             False      1.70       76.5          90         head_base\n",
      "563     564     Tirtouga     Water      Rock    355   54      78      103      53      45     22           5        False    Blue       True    0.875       Water_1     Water_3             False      0.71       16.5          45         quadruped\n",
      "564     565   Carracosta     Water      Rock    495   74     108      133      83      65     32           5        False    Blue       True    0.875       Water_1     Water_3             False      1.19       81.0          45    bipedal_tailed\n",
      "565     566       Archen      Rock    Flying    401   55     112       45      74      45     70           5        False  Yellow       True    0.875        Flying     Water_3             False      0.51        9.5          45         two_wings\n",
      "566     567     Archeops      Rock    Flying    567   75     140       65     112      65    110           5        False  Yellow       True    0.875        Flying     Water_3             False      1.40       32.0          45         two_wings\n",
      "567     568     Trubbish    Poison      None    329   50      50       62      40      62     65           5        False   Green       True    0.500       Mineral        None             False      0.61       31.0         190  bipedal_tailless\n",
      "568     569     Garbodor    Poison      None    474   80      95       82      60      82     75           5        False   Green       True    0.500       Mineral        None             False      1.91      107.3          60  bipedal_tailless\n",
      "569     570        Zorua      Dark      None    330   40      65       40      80      40     65           5        False    Grey       True    0.875         Field        None             False      0.71       12.5          75         quadruped\n",
      "570     571      Zoroark      Dark      None    510   60     105       60     120      60    105           5        False    Grey       True    0.875         Field        None             False      1.60       81.1          45    bipedal_tailed\n",
      "571     572     Minccino    Normal      None    300   55      50       40      40      40     75           5        False    Grey       True    0.250         Field        None             False      0.41        5.8         255         quadruped\n",
      "572     573     Cinccino    Normal      None    470   75      95       60      65      60    115           5        False    Grey       True    0.250         Field        None             False      0.51        7.5          60         quadruped\n",
      "573     574      Gothita   Psychic      None    290   45      30       50      55      65     45           5        False  Purple       True    0.250    Human-Like        None             False      0.41        5.8         200  bipedal_tailless\n",
      "574     575    Gothorita   Psychic      None    390   60      45       70      75      85     55           5        False  Purple       True    0.250    Human-Like        None             False      0.71       18.0         100  bipedal_tailless\n",
      "575     576   Gothitelle   Psychic      None    490   70      55       95      95     110     65           5        False  Purple       True    0.250    Human-Like        None             False      1.50       44.0          50  bipedal_tailless\n",
      "576     577      Solosis   Psychic      None    290   45      30       40     105      50     20           5        False   Green       True    0.500     Amorphous        None             False      0.30        1.0         200         head_only\n",
      "577     578      Duosion   Psychic      None    370   65      40       50     125      60     30           5        False   Green       True    0.500     Amorphous        None             False      0.61        8.0         100         head_only\n",
      "578     579    Reuniclus   Psychic      None    490  110      65       75     125      85     30           5        False   Green       True    0.500     Amorphous        None             False      0.99       20.1          50         head_arms\n",
      "579     580     Ducklett     Water    Flying    305   62      44       50      44      50     55           5        False    Blue       True    0.500       Water_1      Flying             False      0.51        5.5         190         two_wings\n",
      "580     581       Swanna     Water    Flying    473   75      87       63      87      63     98           5        False   White       True    0.500       Water_1      Flying             False      1.30       24.2          45         two_wings\n",
      "581     582    Vanillite       Ice      None    305   36      50       50      65      60     44           5        False   White       True    0.500       Mineral        None             False      0.41        5.7         255         head_base\n",
      "582     583    Vanillish       Ice      None    395   51      65       65      80      75     59           5        False   White       True    0.500       Mineral        None             False      1.09       41.0         120         head_base\n",
      "583     584    Vanilluxe       Ice      None    535   71      95       85     110      95     79           5        False   White       True    0.500       Mineral        None             False      1.30       57.5          45   multiple_bodies\n",
      "584     585     Deerling    Normal     Grass    335   60      60       50      40      50     75           5        False  Yellow       True    0.500         Field        None             False      0.61       19.5         190         quadruped\n",
      "585     586     Sawsbuck    Normal     Grass    475   80     100       70      60      70     95           5        False   Brown       True    0.500         Field        None             False      1.91       92.5          75         quadruped\n",
      "586     587       Emolga  Electric    Flying    428   55      75       60      75      60    103           5        False   White       True    0.500         Field        None             False      0.41        5.0         200         quadruped\n",
      "587     588   Karrablast       Bug      None    315   50      75       45      40      45     60           5        False    Blue       True    0.500           Bug        None             False      0.51        5.9         200  bipedal_tailless\n",
      "588     589   Escavalier       Bug     Steel    495   70     135      105      60     105     20           5        False    Grey       True    0.500           Bug        None             False      0.99       33.0          75         head_arms\n",
      "589     590      Foongus     Grass    Poison    294   69      55       45      55      55     15           5        False   White       True    0.500         Grass        None             False      0.20        1.0         190         head_arms\n",
      "590     591    Amoonguss     Grass    Poison    464  114      85       70      85      80     30           5        False    Grey       True    0.500         Grass        None             False      0.61       10.5          75         head_arms\n",
      "591     592     Frillish     Water     Ghost    335   55      40       50      65      85     40           5        False   White       True    0.500     Amorphous        None             False      1.19       33.0         190     several_limbs\n",
      "592     593    Jellicent     Water     Ghost    480  100      60       70      85     105     60           5        False   White       True    0.500     Amorphous        None             False      2.21      135.0          60     several_limbs\n",
      "593     594    Alomomola     Water      None    470  165      75       80      40      45     65           5        False    Pink       True    0.500       Water_1     Water_2             False      1.19       31.6          75         with_fins\n",
      "594     595       Joltik       Bug  Electric    319   50      47       50      57      50     65           5        False  Yellow       True    0.500           Bug        None             False      0.10        0.6         190         insectoid\n",
      "595     596   Galvantula       Bug  Electric    472   70      77       60      97      60    108           5        False  Yellow       True    0.500           Bug        None             False      0.79       14.3          75         insectoid\n",
      "596     597    Ferroseed     Grass     Steel    305   44      50       91      24      86     10           5        False    Grey       True    0.500         Grass     Mineral             False      0.61       18.8         255         head_only\n",
      "597     598   Ferrothorn     Grass     Steel    489   74      94      131      54     116     20           5        False    Grey       True    0.500         Grass     Mineral             False      0.99      110.0          90     several_limbs\n",
      "598     599        Klink     Steel      None    300   40      55       70      45      60     30           5        False    Grey      False      NaN       Mineral        None             False      0.30       21.0         130   multiple_bodies\n",
      "599     600        Klang     Steel      None    440   60      80       95      70      85     50           5        False    Grey      False      NaN       Mineral        None             False      0.61       51.0          60   multiple_bodies\n",
      "600     601    Klinklang     Steel      None    520   60     100      115      70      85     90           5        False    Grey      False      NaN       Mineral        None             False      0.61       81.0          30   multiple_bodies\n",
      "601     602       Tynamo  Electric      None    275   35      55       40      45      40     60           5        False   White       True    0.500     Amorphous        None             False      0.20        0.3         190         with_fins\n",
      "602     603    Eelektrik  Electric      None    405   65      85       70      75      70     40           5        False    Blue       True    0.500     Amorphous        None             False      1.19       22.0          60         with_fins\n",
      "603     604   Eelektross  Electric      None    515   85     115       80     105      80     50           5        False    Blue       True    0.500     Amorphous        None             False      2.11       80.5          30         with_fins\n",
      "604     605       Elgyem   Psychic      None    335   55      55       55      85      55     30           5        False    Grey       True    0.500    Human-Like        None             False      0.51        9.0         255    bipedal_tailed\n",
      "605     606     Beheeyem   Psychic      None    485   75      75       75     125      95     40           5        False   Brown       True    0.500    Human-Like        None             False      0.99       34.5          90  bipedal_tailless\n",
      "606     607      Litwick     Ghost      Fire    275   50      30       55      65      55     20           5        False   White       True    0.500     Amorphous        None             False      0.30        3.1         190         head_base\n",
      "607     608      Lampent     Ghost      Fire    370   60      40       60      95      60     55           5        False   Black       True    0.500     Amorphous        None             False      0.61       13.0          90         head_arms\n",
      "608     609   Chandelure     Ghost      Fire    520   60      55       90     145      90     80           5        False   Black       True    0.500     Amorphous        None             False      0.99       34.3          45         head_arms\n",
      "609     610         Axew    Dragon      None    320   46      87       60      30      40     57           5        False   Green       True    0.500       Monster      Dragon             False      0.61       18.0          75    bipedal_tailed\n",
      "610     611      Fraxure    Dragon      None    410   66     117       70      40      50     67           5        False   Green       True    0.500       Monster      Dragon             False      0.99       36.0          60    bipedal_tailed\n",
      "611     612      Haxorus    Dragon      None    540   76     147       90      60      70     97           5        False  Yellow       True    0.500       Monster      Dragon             False      1.80      105.5          45    bipedal_tailed\n",
      "612     613      Cubchoo       Ice      None    305   55      70       40      60      40     40           5        False    Blue       True    0.500         Field        None             False      0.51        8.5         120    bipedal_tailed\n",
      "613     614      Beartic       Ice      None    485   95     110       80      70      80     50           5        False   White       True    0.500         Field        None             False      2.59      260.0          60         quadruped\n",
      "614     615    Cryogonal       Ice      None    485   70      50       30      95     135    105           5        False    Blue      False      NaN       Mineral        None             False      1.09      148.0          25         head_only\n",
      "615     616      Shelmet       Bug      None    305   50      40       85      40      65     25           5        False     Red       True    0.500           Bug        None             False      0.41        7.7         200         head_only\n",
      "616     617     Accelgor       Bug      None    495   80      70       40     100      60    145           5        False     Red       True    0.500           Bug        None             False      0.79       25.3          75         head_arms\n",
      "617     618     Stunfisk    Ground  Electric    471  109      66       84      81      99     32           5        False   Brown       True    0.500       Water_1   Amorphous             False      0.71       11.0          75         with_fins\n",
      "618     619      Mienfoo  Fighting      None    350   45      85       50      55      50     65           5        False  Yellow       True    0.500         Field  Human-Like             False      0.89       20.0         180    bipedal_tailed\n",
      "619     620     Mienshao  Fighting      None    510   65     125       60      95      60    105           5        False  Purple       True    0.500         Field  Human-Like             False      1.40       35.5          45    bipedal_tailed\n",
      "620     621    Druddigon    Dragon      None    485   77     120       90      60      90     48           5        False     Red       True    0.500        Dragon     Monster             False      1.60      139.0          45    bipedal_tailed\n",
      "621     622       Golett    Ground     Ghost    303   59      74       50      35      50     35           5        False   Green      False      NaN       Mineral        None             False      0.99       92.0         190  bipedal_tailless\n",
      "622     623       Golurk    Ground     Ghost    483   89     124       80      55      80     55           5        False   Green      False      NaN       Mineral        None             False      2.79      330.0          90  bipedal_tailless\n",
      "623     624     Pawniard      Dark     Steel    340   45      85       70      40      40     60           5        False     Red       True    0.500    Human-Like        None             False      0.51       10.2         120  bipedal_tailless\n",
      "624     625      Bisharp      Dark     Steel    490   65     125      100      60      70     70           5        False     Red       True    0.500    Human-Like        None             False      1.60       70.0          45  bipedal_tailless\n",
      "625     626   Bouffalant    Normal      None    490   95     110       95      40      95     55           5        False   Brown       True    0.500         Field        None             False      1.60       94.6          45         quadruped\n",
      "626     627      Rufflet    Normal    Flying    350   70      83       50      37      50     60           5        False   White       True    1.000        Flying        None             False      0.51       10.5         190         two_wings\n",
      "627     628     Braviary    Normal    Flying    510  100     123       75      57      75     80           5        False     Red       True    1.000        Flying        None             False      1.50       41.0          60         two_wings\n",
      "628     629      Vullaby      Dark    Flying    370   70      55       75      45      65     60           5        False   Brown       True    0.000        Flying        None             False      0.51        9.0         190         two_wings\n",
      "629     630    Mandibuzz      Dark    Flying    510  110      65      105      55      95     80           5        False   Brown       True    0.000        Flying        None             False      1.19       39.5          60         two_wings\n",
      "630     631      Heatmor      Fire      None    484   85      97       66     105      66     65           5        False     Red       True    0.500         Field        None             False      1.40       58.0          90    bipedal_tailed\n",
      "631     632       Durant       Bug     Steel    484   58     109      112      48      48    109           5        False    Grey       True    0.500           Bug        None             False      0.30       33.0          90         insectoid\n",
      "632     633        Deino      Dark    Dragon    300   52      65       50      45      50     38           5        False    Blue       True    0.500        Dragon        None             False      0.79       17.3          45         quadruped\n",
      "633     634     Zweilous      Dark    Dragon    420   72      85       70      65      70     58           5        False    Blue       True    0.500        Dragon        None             False      1.40       50.0          45         quadruped\n",
      "634     635    Hydreigon      Dark    Dragon    600   92     105       90     125      90     98           5        False    Blue       True    0.500        Dragon        None             False      1.80      160.0          45    bipedal_tailed\n",
      "635     636     Larvesta       Bug      Fire    360   55      85       55      50      55     60           5        False   White       True    0.500           Bug        None             False      1.09       28.8          45         insectoid\n",
      "636     637    Volcarona       Bug      Fire    550   85      60       65     135     105    100           5        False   White       True    0.500           Bug        None             False      1.60       46.0          15        four_wings\n",
      "637     638     Cobalion     Steel  Fighting    580   91      90      129      90      72    108           5         True    Blue      False      NaN  Undiscovered        None             False      2.11      250.0           3         quadruped\n",
      "638     639    Terrakion      Rock  Fighting    580   91     129       90      72      90    108           5         True    Grey      False      NaN  Undiscovered        None             False      1.91      260.0           3         quadruped\n",
      "639     640     Virizion     Grass  Fighting    580   91      90       72      90     129    108           5         True   Green      False      NaN  Undiscovered        None             False      2.01      200.0           3         quadruped\n",
      "640     641     Tornadus    Flying      None    580   79     115       70     125      80    111           5         True   Green       True    1.000  Undiscovered        None             False      1.50       63.0           3         head_arms\n",
      "641     642    Thundurus  Electric    Flying    580   79     115       70     125      80    111           5         True    Blue       True    1.000  Undiscovered        None             False      1.50       61.0           3         head_arms\n",
      "642     643     Reshiram    Dragon      Fire    680  100     120      100     150     120     90           5         True   White      False      NaN  Undiscovered        None             False      3.20      330.0           3         two_wings\n",
      "643     644       Zekrom    Dragon  Electric    680  100     150      120     120     100     90           5         True   Black      False      NaN  Undiscovered        None             False      2.90      345.0           3    bipedal_tailed\n",
      "644     645     Landorus    Ground    Flying    600   89     125       90     115      80    101           5         True   Brown       True    1.000  Undiscovered        None             False      1.50       68.0           3         head_arms\n",
      "645     646       Kyurem    Dragon       Ice    660  125     130       90     130      90     95           5         True    Grey      False      NaN  Undiscovered        None             False      3.00      325.0           3    bipedal_tailed\n",
      "646     647       Keldeo     Water  Fighting    580   91      72       90     129      90    108           5        False  Yellow      False      NaN  Undiscovered        None             False      1.40       48.5           3         quadruped\n",
      "647     648     Meloetta    Normal   Psychic    600  100      77       77     128     128     90           5        False   White      False      NaN  Undiscovered        None             False      0.61        6.5           3  bipedal_tailless\n",
      "648     649     Genesect       Bug     Steel    600   71     120       95     120      95     99           5        False  Purple      False      NaN  Undiscovered        None             False      1.50       82.5           3  bipedal_tailless\n",
      "649     650      Chespin     Grass      None    313   56      61       65      48      45     38           6        False   Green       True    0.875         Field        None             False      0.41        9.0          45    bipedal_tailed\n",
      "650     651    Quilladin     Grass      None    405   61      78       95      56      58     57           6        False   Green       True    0.875         Field        None             False      0.71       29.0          45    bipedal_tailed\n",
      "651     652   Chesnaught     Grass  Fighting    530   88     107      122      74      75     64           6        False   Green       True    0.875         Field        None             False      1.60       90.0          45    bipedal_tailed\n",
      "652     653     Fennekin      Fire      None    307   40      45       40      62      60     60           6        False     Red       True    0.875         Field        None             False      0.41        9.4          45         quadruped\n",
      "653     654      Braixen      Fire      None    409   59      59       58      90      70     73           6        False     Red       True    0.875         Field        None             False      0.99       14.5          45    bipedal_tailed\n",
      "654     655      Delphox      Fire   Psychic    534   75      69       72     114     100    104           6        False     Red       True    0.875         Field        None             False      1.50       39.0          45    bipedal_tailed\n",
      "655     656      Froakie     Water      None    314   41      56       40      62      44     71           6        False    Blue       True    0.875       Water_1        None             False      0.30        7.0          45         quadruped\n",
      "656     657    Frogadier     Water      None    405   54      63       52      83      56     97           6        False    Blue       True    0.875       Water_1        None             False      0.61       10.9          45  bipedal_tailless\n",
      "657     658     Greninja     Water      Dark    530   72      95       67     103      71    122           6        False    Blue       True    0.875       Water_1        None             False      1.50       40.0          45  bipedal_tailless\n",
      "658     659     Bunnelby    Normal      None    237   38      36       38      32      36     57           6        False   Brown       True    0.500         Field        None             False      0.41        5.0         255    bipedal_tailed\n",
      "659     660    Diggersby    Normal    Ground    423   85      56       77      50      77     78           6        False   Brown       True    0.500         Field        None             False      0.99       42.4         127    bipedal_tailed\n",
      "660     661   Fletchling    Normal    Flying    278   45      50       43      40      38     62           6        False     Red       True    0.500        Flying        None             False      0.30        1.7         255         two_wings\n",
      "661     662  Fletchinder      Fire    Flying    382   62      73       55      56      52     84           6        False     Red       True    0.500        Flying        None             False      0.71       16.0         120         two_wings\n",
      "662     663   Talonflame      Fire    Flying    499   78      81       71      74      69    126           6        False     Red       True    0.500        Flying        None             False      1.19       24.5          45         two_wings\n",
      "663     664   Scatterbug       Bug      None    200   38      35       40      27      25     35           6        False   Black       True    0.500           Bug        None             False      0.30        2.5         255         insectoid\n",
      "664     665       Spewpa       Bug      None    213   45      22       60      27      30     29           6        False   Black       True    0.500           Bug        None             False      0.30        8.4         120         head_base\n",
      "665     666     Vivillon       Bug    Flying    411   80      52       50      90      50     89           6        False   Black       True    0.500           Bug        None             False      1.19       17.0          45        four_wings\n",
      "666     667       Litleo      Fire    Normal    369   62      50       58      73      54     72           6        False   Brown       True    0.125         Field        None             False      0.61       13.5         220         quadruped\n",
      "667     668       Pyroar      Fire    Normal    507   86      68       72     109      66    106           6        False   Brown       True    0.125         Field        None             False      1.50       81.5          65         quadruped\n",
      "668     669      Flabébé     Fairy      None    303   44      38       39      61      79     42           6        False   White       True    0.000         Fairy        None             False      0.10        0.1         225         head_arms\n",
      "669     670      Floette     Fairy      None    371   54      45       47      75      98     52           6        False   White       True    0.000         Fairy        None             False      0.20        0.9         120         head_arms\n",
      "670     671      Florges     Fairy      None    552   78      65       68     112     154     75           6        False   White       True    0.000         Fairy        None             False      1.09       10.0          45         head_arms\n",
      "671     672       Skiddo     Grass      None    350   66      65       48      62      57     52           6        False   Brown       True    0.500         Field        None             False      0.89       31.0         200         quadruped\n",
      "672     673       Gogoat     Grass      None    531  123     100       62      97      81     68           6        False   Brown       True    0.500         Field        None             False      1.70       91.0          45         quadruped\n",
      "673     674      Pancham  Fighting      None    348   67      82       62      46      48     43           6        False   White       True    0.500         Field  Human-Like             False      0.61        8.0         220    bipedal_tailed\n",
      "674     675      Pangoro  Fighting      Dark    495   95     124       78      69      71     58           6        False   White       True    0.500         Field  Human-Like             False      2.11      136.0          65  bipedal_tailless\n",
      "675     676      Furfrou    Normal      None    472   75      80       60      65      90    102           6        False   White       True    0.500         Field        None             False      1.19       28.0         160         quadruped\n",
      "676     677       Espurr   Psychic      None    355   62      48       54      63      60     68           6        False    Grey       True    0.500         Field        None             False      0.30        3.5         190    bipedal_tailed\n",
      "677     678     Meowstic   Psychic      None    466   74      48       76      83      81    104           6        False   White       True    0.500         Field        None             False      0.61        8.5          75    bipedal_tailed\n",
      "678     679      Honedge     Steel     Ghost    325   45      80      100      35      37     28           6        False   Brown       True    0.500       Mineral        None             False      0.79        2.0         180         head_base\n",
      "679     680     Doublade     Steel     Ghost    448   59     110      150      45      49     35           6        False   Brown       True    0.500       Mineral        None             False      0.84        4.5          90   multiple_bodies\n",
      "680     681    Aegislash     Steel     Ghost    520   60      50      150      50     150     60           6        False   Brown       True    0.500       Mineral        None             False      1.70       53.0          45         head_base\n",
      "681     682     Spritzee     Fairy      None    341   78      52       60      63      65     23           6        False    Pink       True    0.500         Fairy        None             False      0.20        0.5         200         head_arms\n",
      "682     683   Aromatisse     Fairy      None    462  101      72       72      99      89     29           6        False    Pink       True    0.500         Fairy        None             False      0.79       15.5         140  bipedal_tailless\n",
      "683     684      Swirlix     Fairy      None    341   62      48       66      59      57     49           6        False   White       True    0.500         Fairy        None             False      0.41        3.5         200         head_legs\n",
      "684     685     Slurpuff     Fairy      None    480   82      80       86      85      75     72           6        False   White       True    0.500         Fairy        None             False      0.79        5.0         140  bipedal_tailless\n",
      "685     686        Inkay      Dark   Psychic    288   53      54       53      37      46     45           6        False    Blue       True    0.500       Water_1     Water_2             False      0.41        3.5         190     several_limbs\n",
      "686     687      Malamar      Dark   Psychic    482   86      92       88      68      75     73           6        False    Blue       True    0.500       Water_1     Water_2             False      1.50       47.0          80         head_base\n",
      "687     688      Binacle      Rock     Water    306   42      52       67      39      56     50           6        False   Brown       True    0.500       Water_3        None             False      0.51       31.0         120   multiple_bodies\n",
      "688     689   Barbaracle      Rock     Water    500   72     105      115      54      86     68           6        False   Brown       True    0.500       Water_3        None             False      1.30       96.0          45   multiple_bodies\n",
      "689     690       Skrelp    Poison     Water    320   50      60       60      60      60     30           6        False   Brown       True    0.500       Water_1      Dragon             False      0.51        7.3         225         head_base\n",
      "690     691     Dragalge    Poison    Dragon    494   65      75       90      97     123     44           6        False   Brown       True    0.500       Water_1      Dragon             False      1.80       81.5          55         head_base\n",
      "691     692    Clauncher     Water      None    330   50      53       62      58      63     44           6        False    Blue       True    0.500       Water_1     Water_3             False      0.51        8.3         225         insectoid\n",
      "692     693    Clawitzer     Water      None    500   71      73       88     120      89     59           6        False    Blue       True    0.500       Water_1     Water_3             False      1.30       35.3          55   serpentine_body\n",
      "693     694   Helioptile  Electric    Normal    289   44      38       33      61      43     70           6        False  Yellow       True    0.500       Monster      Dragon             False      0.51        6.0         190    bipedal_tailed\n",
      "694     695    Heliolisk  Electric    Normal    481   62      55       52     109      94    109           6        False  Yellow       True    0.500       Monster      Dragon             False      0.99       21.0          75    bipedal_tailed\n",
      "695     696       Tyrunt      Rock    Dragon    362   58      89       77      45      45     48           6        False   Brown       True    0.875       Monster      Dragon             False      0.79       26.0          45    bipedal_tailed\n",
      "696     697    Tyrantrum      Rock    Dragon    521   82     121      119      69      59     71           6        False     Red       True    0.875       Monster      Dragon             False      2.49      270.0          45    bipedal_tailed\n",
      "697     698       Amaura      Rock       Ice    362   77      59       50      67      63     46           6        False    Blue       True    0.875       Monster        None             False      1.30       25.2          45         quadruped\n",
      "698     699      Aurorus      Rock       Ice    521  123      77       72      99      92     58           6        False    Blue       True    0.875       Monster        None             False      2.69      225.0          45         quadruped\n",
      "699     700      Sylveon     Fairy      None    525   95      65       65     110     130     60           6        False    Pink       True    0.875         Field        None             False      0.99       23.5          45         quadruped\n",
      "700     701     Hawlucha  Fighting    Flying    500   78      92       75      74      63    118           6        False   Green       True    0.500    Human-Like        None             False      0.79       21.5         100  bipedal_tailless\n",
      "701     702      Dedenne  Electric     Fairy    431   67      58       57      81      67    101           6        False  Yellow       True    0.500         Field       Fairy             False      0.20        2.2         180    bipedal_tailed\n",
      "702     703      Carbink      Rock     Fairy    500   50      50      150      50     150     50           6        False    Grey      False      NaN         Fairy     Mineral             False      0.30        5.7          60         head_only\n",
      "703     704        Goomy    Dragon      None    300   45      50       35      55      75     40           6        False  Purple       True    0.500        Dragon        None             False      0.30        2.8          45   serpentine_body\n",
      "704     705      Sliggoo    Dragon      None    452   68      75       53      83     113     60           6        False  Purple       True    0.500        Dragon        None             False      0.79       17.5          45   serpentine_body\n",
      "705     706       Goodra    Dragon      None    600   90     100       70     110     150     80           6        False  Purple       True    0.500        Dragon        None             False      2.01      150.5          45    bipedal_tailed\n",
      "706     707       Klefki     Steel     Fairy    470   57      80       91      80      87     75           6        False    Grey       True    0.500       Mineral        None             False      0.20        3.0          75         head_only\n",
      "707     708     Phantump     Ghost     Grass    309   43      70       48      50      60     38           6        False   Brown       True    0.500         Grass   Amorphous             False      0.41        7.0         120         head_arms\n",
      "708     709    Trevenant     Ghost     Grass    474   85     110       76      65      82     56           6        False   Brown       True    0.500         Grass   Amorphous             False      1.50       71.0          60     several_limbs\n",
      "709     710    Pumpkaboo     Ghost     Grass    335   49      66       70      44      55     51           6        False   Brown       True    0.500     Amorphous        None             False      0.41        5.0         120         head_only\n",
      "710     711    Gourgeist     Ghost     Grass    494   65      90      122      58      75     84           6        False   Brown       True    0.500     Amorphous        None             False      1.70       39.0          60         head_base\n",
      "711     712     Bergmite       Ice      None    304   55      69       85      32      35     28           6        False    Blue       True    0.500       Monster        None             False      0.99       99.5         190         quadruped\n",
      "712     713      Avalugg       Ice      None    514   95     117      184      44      46     28           6        False    Blue       True    0.500       Monster        None             False      2.01      505.0          55         quadruped\n",
      "713     714       Noibat    Flying    Dragon    245   40      30       35      45      40     55           6        False  Purple       True    0.500        Flying        None             False      0.51        8.0         190         two_wings\n",
      "714     715      Noivern    Flying    Dragon    535   85      70       80      97      80    123           6        False  Purple       True    0.500        Flying        None             False      1.50       85.0          45         two_wings\n",
      "715     716      Xerneas     Fairy      None    680  126     131       95     131      98     99           6         True    Blue      False      NaN  Undiscovered        None             False      3.00      215.0          45         quadruped\n",
      "716     717      Yveltal      Dark    Flying    680  126     131       95     131      98     99           6         True     Red      False      NaN  Undiscovered        None             False      5.79      203.0          45         two_wings\n",
      "717     718      Zygarde    Dragon    Ground    600  108     100      121      81      95     95           6         True   Green      False      NaN  Undiscovered        None             False      5.00      305.0           3   serpentine_body\n",
      "718     719      Diancie      Rock     Fairy    600   50     100      150     100     150     50           6         True    Pink      False      NaN  Undiscovered        None              True      0.71        8.8           3         head_arms\n",
      "719     720        Hoopa   Psychic     Ghost    600   80     110       60     150     130     70           6         True  Purple      False      NaN  Undiscovered        None             False      0.51        9.0           3         head_only\n",
      "720     721    Volcanion      Fire     Water    600   80     110      120     130      90     70           6         True   Brown      False      NaN  Undiscovered        None             False      1.70      195.0           3         quadruped\n"
     ]
    }
   ],
   "source": [
    "import pandas as pd\n",
    "import json\n",
    "\n",
    "# Ouvrir le fichier JSON (par exemple \"data.json\")\n",
    "df = pd.read_json(\"/home/uspn/Téléchargements/pokemons.json\")\n",
    "\n",
    "# Afficher le contenu du DataFrame au format string\n",
    "print(df.to_string())\n"
   ]
  },
  {
   "cell_type": "markdown",
   "metadata": {},
   "source": [
    "#### ![programming(3).png](data:image/png;base64,iVBORw0KGgoAAAANSUhEUgAAACAAAAAgCAYAAABzenr0AAAABHNCSVQICAgIfAhkiAAAAAlwSFlzAAAA3QAAAN0BcFOiBwAAABl0RVh0U29mdHdhcmUAd3d3Lmlua3NjYXBlLm9yZ5vuPBoAAAR7SURBVFiFtZdvaFVlHMc/z3PPuefuz825XWV3m5mWU1MLSVEyRoqKk2iLWBCT2uyFpTSIoCCHL0SDXkgUavhKCU3EpGmlorYSShtWig6M1M25gVPb3da2e6/3z3l6cf9u996d42pfOC/O8+/3+f2e5/f8EUopbKnplEHEtwpFDYj5gDf+AdyNfeo6guNoxa18Xv3QzrDCEmDTQS8OuQ1FPeC2R8sQgkNEze3s23B3YgCNB1y49GYQ7wH5Ng2PlR/UpwTDO9jfELQPsOVoKSrUghLLJmh4rJU2hLOWPXW91gCbDi1CipNAxf9iPKUeTLWeffXXcgNsOVqKGb40CcZTEFJfmh4JmaxqPOBChVom0ThABSrUQuMBV6JAS1a59Ob0OQ8J+MsYP0MUMDgwOL5JE5ZINy6XI95JLIstbpohMQWbDnqR8iZpq/1vB3xYalq6dPHXS5Ztzv4xl/K1UyBPJIr8mOZT7NtwNzYFDrmNCabawvmV6Jo2fqMBBd8GIJCMaH7cJpKmU0Z8k7GlaUVu1ixdAIBT19n6/mZ0Xefl6tWUTvfk7ugzR0Mo6mk6ZUgivlXY3OGmFblpqluDkLFQTvNM5f6DPvyBAFIKtn3wrjXEiSSEm4hvlYzt7faN/3LtBmfa2gGY7imho6sbgJbvz3Lu/AVriP40CEWNjB8slsp3OTGcGgPD/mTZdE8xnXEAgP7+QQzDoKDAYjklIIZ5VpI60cZVV28fu7/+gVeqnmP5wieTAB23YwArX1hO/Ws17Ny1l1udd6wH7Dfhu8Bi2wAAd+71sfvYOcpKitA1jalTHqOzqweAGeVePt61l47bNown9I9pWORPprrv+ei+50PXNc6cv8iIPzYlXx755lGHAimUJHaZeGSFwxH+vNExka4puYhocYA5Y+sK8gxerywHp4YyNNA1lFMDZ+r4UAqenjMr1UmBDEaQIxFkIIz0R3CMhHG3DUAgnAlgyIAG6jqIqgw4p8bzLy23dMI7u9La0cOHgSwABaJHIjhuOcJkyS2OaGjFrYT7hxi7GwYjaMduQDDzRAzNcBOa6SZUWsBgTz+uwQiFD4IU3s9660KOZPFeEwpX4Wex03DzV1+geDujUXcUTgcgOrq48/B6hlbGrg1tV28CUPGbj+qPrthwO65ZjnY63loUW1FRczvgz2g0wwHr8iB+lEdXlhP8qRbPkmJmmmEeJ8LiMi+Ly7x4187j5slahqvKrY1rQJHYAOlXsncO7QCxNWuHeCSUJx/zmZJksdIEgYejpyivvQ/tfqYvozRbu8CtjSsSLDEFwzvI01dnvQnHIyFO+3GcHT243YdCUiVyGC/rEr+ppN7fEEQ4a4GerB3HTMeE5BImFc4qft44lAkAsKeuF1OtnxSIAhFlnnyVK29cTi+e2MMkR3bkVJHw84S+gssNGWkis7VnT10vgfCLoHZiIztySgPm6q0scJRmMw7/9XGaKxKGUJQ52il0NHL1zd/HG94aIKFcz/M7UQc/BnUK5TCFohunOIFHfZK+0MbTvx9ltLez/h/sAAAAAElFTkSuQmCC) **TODO!**"
   ]
  },
  {
   "cell_type": "markdown",
   "metadata": {},
   "source": [
    "Connectez-vous à la base données à partir de son URL. Inspirez-vous de l'exemple initial mais faites le en plus simple, sans accéder aux arguments ni à la variable d'environnement."
   ]
  },
  {
   "cell_type": "code",
   "execution_count": 11,
   "metadata": {},
   "outputs": [
    {
     "name": "stdout",
     "output_type": "stream",
     "text": [
      "Connexion réussie ✅ - Heure actuelle : 2025-10-21 10:00:16.932790+00:00\n"
     ]
    }
   ],
   "source": [
    "import psycopg\n",
    "\n",
    "# URL de connexion à la base de données\n",
    "DATABASE_URL = \"postgresql://root@localhost:26257/defaultdb?sslmode=disable\"\n",
    "\n",
    "# Connexion à la base de données\n",
    "with psycopg.connect(DATABASE_URL) as conn:\n",
    "    with conn.cursor() as cur:\n",
    "        # Exemple de requête simple\n",
    "        cur.execute(\"SELECT now();\")\n",
    "        result = cur.fetchone()\n",
    "        print(\"Connexion réussie ✅ - Heure actuelle :\", result[0])\n"
   ]
  },
  {
   "cell_type": "markdown",
   "metadata": {},
   "source": [
    "#### ![programming(3).png](data:image/png;base64,iVBORw0KGgoAAAANSUhEUgAAACAAAAAgCAYAAABzenr0AAAABHNCSVQICAgIfAhkiAAAAAlwSFlzAAAA3QAAAN0BcFOiBwAAABl0RVh0U29mdHdhcmUAd3d3Lmlua3NjYXBlLm9yZ5vuPBoAAAR7SURBVFiFtZdvaFVlHMc/z3PPuefuz825XWV3m5mWU1MLSVEyRoqKk2iLWBCT2uyFpTSIoCCHL0SDXkgUavhKCU3EpGmlorYSShtWig6M1M25gVPb3da2e6/3z3l6cf9u996d42pfOC/O8+/3+f2e5/f8EUopbKnplEHEtwpFDYj5gDf+AdyNfeo6guNoxa18Xv3QzrDCEmDTQS8OuQ1FPeC2R8sQgkNEze3s23B3YgCNB1y49GYQ7wH5Ng2PlR/UpwTDO9jfELQPsOVoKSrUghLLJmh4rJU2hLOWPXW91gCbDi1CipNAxf9iPKUeTLWeffXXcgNsOVqKGb40CcZTEFJfmh4JmaxqPOBChVom0ThABSrUQuMBV6JAS1a59Ob0OQ8J+MsYP0MUMDgwOL5JE5ZINy6XI95JLIstbpohMQWbDnqR8iZpq/1vB3xYalq6dPHXS5Ztzv4xl/K1UyBPJIr8mOZT7NtwNzYFDrmNCabawvmV6Jo2fqMBBd8GIJCMaH7cJpKmU0Z8k7GlaUVu1ixdAIBT19n6/mZ0Xefl6tWUTvfk7ugzR0Mo6mk6ZUgivlXY3OGmFblpqluDkLFQTvNM5f6DPvyBAFIKtn3wrjXEiSSEm4hvlYzt7faN/3LtBmfa2gGY7imho6sbgJbvz3Lu/AVriP40CEWNjB8slsp3OTGcGgPD/mTZdE8xnXEAgP7+QQzDoKDAYjklIIZ5VpI60cZVV28fu7/+gVeqnmP5wieTAB23YwArX1hO/Ws17Ny1l1udd6wH7Dfhu8Bi2wAAd+71sfvYOcpKitA1jalTHqOzqweAGeVePt61l47bNown9I9pWORPprrv+ei+50PXNc6cv8iIPzYlXx755lGHAimUJHaZeGSFwxH+vNExka4puYhocYA5Y+sK8gxerywHp4YyNNA1lFMDZ+r4UAqenjMr1UmBDEaQIxFkIIz0R3CMhHG3DUAgnAlgyIAG6jqIqgw4p8bzLy23dMI7u9La0cOHgSwABaJHIjhuOcJkyS2OaGjFrYT7hxi7GwYjaMduQDDzRAzNcBOa6SZUWsBgTz+uwQiFD4IU3s9660KOZPFeEwpX4Wex03DzV1+geDujUXcUTgcgOrq48/B6hlbGrg1tV28CUPGbj+qPrthwO65ZjnY63loUW1FRczvgz2g0wwHr8iB+lEdXlhP8qRbPkmJmmmEeJ8LiMi+Ly7x4187j5slahqvKrY1rQJHYAOlXsncO7QCxNWuHeCSUJx/zmZJksdIEgYejpyivvQ/tfqYvozRbu8CtjSsSLDEFwzvI01dnvQnHIyFO+3GcHT243YdCUiVyGC/rEr+ppN7fEEQ4a4GerB3HTMeE5BImFc4qft44lAkAsKeuF1OtnxSIAhFlnnyVK29cTi+e2MMkR3bkVJHw84S+gssNGWkis7VnT10vgfCLoHZiIztySgPm6q0scJRmMw7/9XGaKxKGUJQ52il0NHL1zd/HG94aIKFcz/M7UQc/BnUK5TCFohunOIFHfZK+0MbTvx9ltLez/h/sAAAAAElFTkSuQmCC) **TODO!**"
   ]
  },
  {
   "cell_type": "markdown",
   "metadata": {
    "tags": [
     "parameters"
    ]
   },
   "source": [
    "Créez un cursor à l'aide de la connexion et executez la commande adéquate pour créer une base de données nommée `madb`. Gérer la suppression de la base de données si elle existe déjà.\n",
    "\n",
    "Astuce :\n",
    "- `.execute()` peut vous intéresser"
   ]
  },
  {
   "cell_type": "code",
   "execution_count": null,
   "metadata": {},
   "outputs": [],
   "source": [
    "# code moi steupléé \n"
   ]
  },
  {
   "cell_type": "markdown",
   "metadata": {},
   "source": [
    "#### ![programming(3).png](data:image/png;base64,iVBORw0KGgoAAAANSUhEUgAAACAAAAAgCAYAAABzenr0AAAABHNCSVQICAgIfAhkiAAAAAlwSFlzAAAA3QAAAN0BcFOiBwAAABl0RVh0U29mdHdhcmUAd3d3Lmlua3NjYXBlLm9yZ5vuPBoAAAR7SURBVFiFtZdvaFVlHMc/z3PPuefuz825XWV3m5mWU1MLSVEyRoqKk2iLWBCT2uyFpTSIoCCHL0SDXkgUavhKCU3EpGmlorYSShtWig6M1M25gVPb3da2e6/3z3l6cf9u996d42pfOC/O8+/3+f2e5/f8EUopbKnplEHEtwpFDYj5gDf+AdyNfeo6guNoxa18Xv3QzrDCEmDTQS8OuQ1FPeC2R8sQgkNEze3s23B3YgCNB1y49GYQ7wH5Ng2PlR/UpwTDO9jfELQPsOVoKSrUghLLJmh4rJU2hLOWPXW91gCbDi1CipNAxf9iPKUeTLWeffXXcgNsOVqKGb40CcZTEFJfmh4JmaxqPOBChVom0ThABSrUQuMBV6JAS1a59Ob0OQ8J+MsYP0MUMDgwOL5JE5ZINy6XI95JLIstbpohMQWbDnqR8iZpq/1vB3xYalq6dPHXS5Ztzv4xl/K1UyBPJIr8mOZT7NtwNzYFDrmNCabawvmV6Jo2fqMBBd8GIJCMaH7cJpKmU0Z8k7GlaUVu1ixdAIBT19n6/mZ0Xefl6tWUTvfk7ugzR0Mo6mk6ZUgivlXY3OGmFblpqluDkLFQTvNM5f6DPvyBAFIKtn3wrjXEiSSEm4hvlYzt7faN/3LtBmfa2gGY7imho6sbgJbvz3Lu/AVriP40CEWNjB8slsp3OTGcGgPD/mTZdE8xnXEAgP7+QQzDoKDAYjklIIZ5VpI60cZVV28fu7/+gVeqnmP5wieTAB23YwArX1hO/Ws17Ny1l1udd6wH7Dfhu8Bi2wAAd+71sfvYOcpKitA1jalTHqOzqweAGeVePt61l47bNown9I9pWORPprrv+ei+50PXNc6cv8iIPzYlXx755lGHAimUJHaZeGSFwxH+vNExka4puYhocYA5Y+sK8gxerywHp4YyNNA1lFMDZ+r4UAqenjMr1UmBDEaQIxFkIIz0R3CMhHG3DUAgnAlgyIAG6jqIqgw4p8bzLy23dMI7u9La0cOHgSwABaJHIjhuOcJkyS2OaGjFrYT7hxi7GwYjaMduQDDzRAzNcBOa6SZUWsBgTz+uwQiFD4IU3s9660KOZPFeEwpX4Wex03DzV1+geDujUXcUTgcgOrq48/B6hlbGrg1tV28CUPGbj+qPrthwO65ZjnY63loUW1FRczvgz2g0wwHr8iB+lEdXlhP8qRbPkmJmmmEeJ8LiMi+Ly7x4187j5slahqvKrY1rQJHYAOlXsncO7QCxNWuHeCSUJx/zmZJksdIEgYejpyivvQ/tfqYvozRbu8CtjSsSLDEFwzvI01dnvQnHIyFO+3GcHT243YdCUiVyGC/rEr+ppN7fEEQ4a4GerB3HTMeE5BImFc4qft44lAkAsKeuF1OtnxSIAhFlnnyVK29cTi+e2MMkR3bkVJHw84S+gssNGWkis7VnT10vgfCLoHZiIztySgPm6q0scJRmMw7/9XGaKxKGUJQ52il0NHL1zd/HG94aIKFcz/M7UQc/BnUK5TCFohunOIFHfZK+0MbTvx9ltLez/h/sAAAAAElFTkSuQmCC) **TODO!**"
   ]
  },
  {
   "cell_type": "markdown",
   "metadata": {},
   "source": [
    "Créez la table `pokemons` avec le bon schéma, dans la base de données `madb`."
   ]
  },
  {
   "cell_type": "code",
   "execution_count": null,
   "metadata": {},
   "outputs": [],
   "source": [
    "# code moi steupléé 🥺\n"
   ]
  },
  {
   "cell_type": "markdown",
   "metadata": {},
   "source": [
    "#### ![programming(3).png](data:image/png;base64,iVBORw0KGgoAAAANSUhEUgAAACAAAAAgCAYAAABzenr0AAAABHNCSVQICAgIfAhkiAAAAAlwSFlzAAAA3QAAAN0BcFOiBwAAABl0RVh0U29mdHdhcmUAd3d3Lmlua3NjYXBlLm9yZ5vuPBoAAAR7SURBVFiFtZdvaFVlHMc/z3PPuefuz825XWV3m5mWU1MLSVEyRoqKk2iLWBCT2uyFpTSIoCCHL0SDXkgUavhKCU3EpGmlorYSShtWig6M1M25gVPb3da2e6/3z3l6cf9u996d42pfOC/O8+/3+f2e5/f8EUopbKnplEHEtwpFDYj5gDf+AdyNfeo6guNoxa18Xv3QzrDCEmDTQS8OuQ1FPeC2R8sQgkNEze3s23B3YgCNB1y49GYQ7wH5Ng2PlR/UpwTDO9jfELQPsOVoKSrUghLLJmh4rJU2hLOWPXW91gCbDi1CipNAxf9iPKUeTLWeffXXcgNsOVqKGb40CcZTEFJfmh4JmaxqPOBChVom0ThABSrUQuMBV6JAS1a59Ob0OQ8J+MsYP0MUMDgwOL5JE5ZINy6XI95JLIstbpohMQWbDnqR8iZpq/1vB3xYalq6dPHXS5Ztzv4xl/K1UyBPJIr8mOZT7NtwNzYFDrmNCabawvmV6Jo2fqMBBd8GIJCMaH7cJpKmU0Z8k7GlaUVu1ixdAIBT19n6/mZ0Xefl6tWUTvfk7ugzR0Mo6mk6ZUgivlXY3OGmFblpqluDkLFQTvNM5f6DPvyBAFIKtn3wrjXEiSSEm4hvlYzt7faN/3LtBmfa2gGY7imho6sbgJbvz3Lu/AVriP40CEWNjB8slsp3OTGcGgPD/mTZdE8xnXEAgP7+QQzDoKDAYjklIIZ5VpI60cZVV28fu7/+gVeqnmP5wieTAB23YwArX1hO/Ws17Ny1l1udd6wH7Dfhu8Bi2wAAd+71sfvYOcpKitA1jalTHqOzqweAGeVePt61l47bNown9I9pWORPprrv+ei+50PXNc6cv8iIPzYlXx755lGHAimUJHaZeGSFwxH+vNExka4puYhocYA5Y+sK8gxerywHp4YyNNA1lFMDZ+r4UAqenjMr1UmBDEaQIxFkIIz0R3CMhHG3DUAgnAlgyIAG6jqIqgw4p8bzLy23dMI7u9La0cOHgSwABaJHIjhuOcJkyS2OaGjFrYT7hxi7GwYjaMduQDDzRAzNcBOa6SZUWsBgTz+uwQiFD4IU3s9660KOZPFeEwpX4Wex03DzV1+geDujUXcUTgcgOrq48/B6hlbGrg1tV28CUPGbj+qPrthwO65ZjnY63loUW1FRczvgz2g0wwHr8iB+lEdXlhP8qRbPkmJmmmEeJ8LiMi+Ly7x4187j5slahqvKrY1rQJHYAOlXsncO7QCxNWuHeCSUJx/zmZJksdIEgYejpyivvQ/tfqYvozRbu8CtjSsSLDEFwzvI01dnvQnHIyFO+3GcHT243YdCUiVyGC/rEr+ppN7fEEQ4a4GerB3HTMeE5BImFc4qft44lAkAsKeuF1OtnxSIAhFlnnyVK29cTi+e2MMkR3bkVJHw84S+gssNGWkis7VnT10vgfCLoHZiIztySgPm6q0scJRmMw7/9XGaKxKGUJQ52il0NHL1zd/HG94aIKFcz/M7UQc/BnUK5TCFohunOIFHfZK+0MbTvx9ltLez/h/sAAAAAElFTkSuQmCC) **TODO!**"
   ]
  },
  {
   "cell_type": "markdown",
   "metadata": {},
   "source": [
    "Rendez-vous dans l'interface graphique et regardez le script de création de la table pokemons.\n",
    "\n",
    "Voyez-vous des différences ?"
   ]
  },
  {
   "cell_type": "code",
   "execution_count": 22,
   "metadata": {},
   "outputs": [
    {
     "name": "stdout",
     "output_type": "stream",
     "text": [
      "Les types ne sont pas les mêmes, avec un type float, int8 et string déjà considéré dans cockroachDB. Il s'agit donc bien d'une correspondance de syntaxe (i.e. un mapping)\n"
     ]
    }
   ],
   "source": [
    "# code moi steupléé 🥺"
   ]
  },
  {
   "cell_type": "markdown",
   "metadata": {},
   "source": [
    "#### ![programming(3).png](data:image/png;base64,iVBORw0KGgoAAAANSUhEUgAAACAAAAAgCAYAAABzenr0AAAABHNCSVQICAgIfAhkiAAAAAlwSFlzAAAA3QAAAN0BcFOiBwAAABl0RVh0U29mdHdhcmUAd3d3Lmlua3NjYXBlLm9yZ5vuPBoAAAR7SURBVFiFtZdvaFVlHMc/z3PPuefuz825XWV3m5mWU1MLSVEyRoqKk2iLWBCT2uyFpTSIoCCHL0SDXkgUavhKCU3EpGmlorYSShtWig6M1M25gVPb3da2e6/3z3l6cf9u996d42pfOC/O8+/3+f2e5/f8EUopbKnplEHEtwpFDYj5gDf+AdyNfeo6guNoxa18Xv3QzrDCEmDTQS8OuQ1FPeC2R8sQgkNEze3s23B3YgCNB1y49GYQ7wH5Ng2PlR/UpwTDO9jfELQPsOVoKSrUghLLJmh4rJU2hLOWPXW91gCbDi1CipNAxf9iPKUeTLWeffXXcgNsOVqKGb40CcZTEFJfmh4JmaxqPOBChVom0ThABSrUQuMBV6JAS1a59Ob0OQ8J+MsYP0MUMDgwOL5JE5ZINy6XI95JLIstbpohMQWbDnqR8iZpq/1vB3xYalq6dPHXS5Ztzv4xl/K1UyBPJIr8mOZT7NtwNzYFDrmNCabawvmV6Jo2fqMBBd8GIJCMaH7cJpKmU0Z8k7GlaUVu1ixdAIBT19n6/mZ0Xefl6tWUTvfk7ugzR0Mo6mk6ZUgivlXY3OGmFblpqluDkLFQTvNM5f6DPvyBAFIKtn3wrjXEiSSEm4hvlYzt7faN/3LtBmfa2gGY7imho6sbgJbvz3Lu/AVriP40CEWNjB8slsp3OTGcGgPD/mTZdE8xnXEAgP7+QQzDoKDAYjklIIZ5VpI60cZVV28fu7/+gVeqnmP5wieTAB23YwArX1hO/Ws17Ny1l1udd6wH7Dfhu8Bi2wAAd+71sfvYOcpKitA1jalTHqOzqweAGeVePt61l47bNown9I9pWORPprrv+ei+50PXNc6cv8iIPzYlXx755lGHAimUJHaZeGSFwxH+vNExka4puYhocYA5Y+sK8gxerywHp4YyNNA1lFMDZ+r4UAqenjMr1UmBDEaQIxFkIIz0R3CMhHG3DUAgnAlgyIAG6jqIqgw4p8bzLy23dMI7u9La0cOHgSwABaJHIjhuOcJkyS2OaGjFrYT7hxi7GwYjaMduQDDzRAzNcBOa6SZUWsBgTz+uwQiFD4IU3s9660KOZPFeEwpX4Wex03DzV1+geDujUXcUTgcgOrq48/B6hlbGrg1tV28CUPGbj+qPrthwO65ZjnY63loUW1FRczvgz2g0wwHr8iB+lEdXlhP8qRbPkmJmmmEeJ8LiMi+Ly7x4187j5slahqvKrY1rQJHYAOlXsncO7QCxNWuHeCSUJx/zmZJksdIEgYejpyivvQ/tfqYvozRbu8CtjSsSLDEFwzvI01dnvQnHIyFO+3GcHT243YdCUiVyGC/rEr+ppN7fEEQ4a4GerB3HTMeE5BImFc4qft44lAkAsKeuF1OtnxSIAhFlnnyVK29cTi+e2MMkR3bkVJHw84S+gssNGWkis7VnT10vgfCLoHZiIztySgPm6q0scJRmMw7/9XGaKxKGUJQ52il0NHL1zd/HG94aIKFcz/M7UQc/BnUK5TCFohunOIFHfZK+0MbTvx9ltLez/h/sAAAAAElFTkSuQmCC) **TODO!**"
   ]
  },
  {
   "cell_type": "markdown",
   "metadata": {},
   "source": [
    "Remplissez la table `pokemons` avec tous les pokémons. Si un pokémon existe déjà, le mettre à jour automatiquement.\n",
    "\n",
    "Astuces :\n",
    "- Une commande spécifique existe pour faire un INSERT ou un UPDATE automatiquement si l'élément existe. Regardez l'exemple initial."
   ]
  },
  {
   "cell_type": "code",
   "execution_count": 15,
   "metadata": {},
   "outputs": [],
   "source": [
    "# code moi steupléé 🥺"
   ]
  },
  {
   "cell_type": "markdown",
   "metadata": {},
   "source": [
    "#### ![programming(3).png](data:image/png;base64,iVBORw0KGgoAAAANSUhEUgAAACAAAAAgCAYAAABzenr0AAAABHNCSVQICAgIfAhkiAAAAAlwSFlzAAAA3QAAAN0BcFOiBwAAABl0RVh0U29mdHdhcmUAd3d3Lmlua3NjYXBlLm9yZ5vuPBoAAAR7SURBVFiFtZdvaFVlHMc/z3PPuefuz825XWV3m5mWU1MLSVEyRoqKk2iLWBCT2uyFpTSIoCCHL0SDXkgUavhKCU3EpGmlorYSShtWig6M1M25gVPb3da2e6/3z3l6cf9u996d42pfOC/O8+/3+f2e5/f8EUopbKnplEHEtwpFDYj5gDf+AdyNfeo6guNoxa18Xv3QzrDCEmDTQS8OuQ1FPeC2R8sQgkNEze3s23B3YgCNB1y49GYQ7wH5Ng2PlR/UpwTDO9jfELQPsOVoKSrUghLLJmh4rJU2hLOWPXW91gCbDi1CipNAxf9iPKUeTLWeffXXcgNsOVqKGb40CcZTEFJfmh4JmaxqPOBChVom0ThABSrUQuMBV6JAS1a59Ob0OQ8J+MsYP0MUMDgwOL5JE5ZINy6XI95JLIstbpohMQWbDnqR8iZpq/1vB3xYalq6dPHXS5Ztzv4xl/K1UyBPJIr8mOZT7NtwNzYFDrmNCabawvmV6Jo2fqMBBd8GIJCMaH7cJpKmU0Z8k7GlaUVu1ixdAIBT19n6/mZ0Xefl6tWUTvfk7ugzR0Mo6mk6ZUgivlXY3OGmFblpqluDkLFQTvNM5f6DPvyBAFIKtn3wrjXEiSSEm4hvlYzt7faN/3LtBmfa2gGY7imho6sbgJbvz3Lu/AVriP40CEWNjB8slsp3OTGcGgPD/mTZdE8xnXEAgP7+QQzDoKDAYjklIIZ5VpI60cZVV28fu7/+gVeqnmP5wieTAB23YwArX1hO/Ws17Ny1l1udd6wH7Dfhu8Bi2wAAd+71sfvYOcpKitA1jalTHqOzqweAGeVePt61l47bNown9I9pWORPprrv+ei+50PXNc6cv8iIPzYlXx755lGHAimUJHaZeGSFwxH+vNExka4puYhocYA5Y+sK8gxerywHp4YyNNA1lFMDZ+r4UAqenjMr1UmBDEaQIxFkIIz0R3CMhHG3DUAgnAlgyIAG6jqIqgw4p8bzLy23dMI7u9La0cOHgSwABaJHIjhuOcJkyS2OaGjFrYT7hxi7GwYjaMduQDDzRAzNcBOa6SZUWsBgTz+uwQiFD4IU3s9660KOZPFeEwpX4Wex03DzV1+geDujUXcUTgcgOrq48/B6hlbGrg1tV28CUPGbj+qPrthwO65ZjnY63loUW1FRczvgz2g0wwHr8iB+lEdXlhP8qRbPkmJmmmEeJ8LiMi+Ly7x4187j5slahqvKrY1rQJHYAOlXsncO7QCxNWuHeCSUJx/zmZJksdIEgYejpyivvQ/tfqYvozRbu8CtjSsSLDEFwzvI01dnvQnHIyFO+3GcHT243YdCUiVyGC/rEr+ppN7fEEQ4a4GerB3HTMeE5BImFc4qft44lAkAsKeuF1OtnxSIAhFlnnyVK29cTi+e2MMkR3bkVJHw84S+gssNGWkis7VnT10vgfCLoHZiIztySgPm6q0scJRmMw7/9XGaKxKGUJQ52il0NHL1zd/HG94aIKFcz/M7UQc/BnUK5TCFohunOIFHfZK+0MbTvx9ltLez/h/sAAAAAElFTkSuQmCC) **TODO!**"
   ]
  },
  {
   "cell_type": "markdown",
   "metadata": {},
   "source": [
    "Selectionnez tous les pokemons et visualisez les. Affichez chaque pokémon un par ligne"
   ]
  },
  {
   "cell_type": "code",
   "execution_count": null,
   "metadata": {},
   "outputs": [],
   "source": [
    "# code moi steupléé 🥺"
   ]
  },
  {
   "cell_type": "markdown",
   "metadata": {},
   "source": [
    "#### ![programming(3).png](data:image/png;base64,iVBORw0KGgoAAAANSUhEUgAAACAAAAAgCAYAAABzenr0AAAABHNCSVQICAgIfAhkiAAAAAlwSFlzAAAA3QAAAN0BcFOiBwAAABl0RVh0U29mdHdhcmUAd3d3Lmlua3NjYXBlLm9yZ5vuPBoAAAR7SURBVFiFtZdvaFVlHMc/z3PPuefuz825XWV3m5mWU1MLSVEyRoqKk2iLWBCT2uyFpTSIoCCHL0SDXkgUavhKCU3EpGmlorYSShtWig6M1M25gVPb3da2e6/3z3l6cf9u996d42pfOC/O8+/3+f2e5/f8EUopbKnplEHEtwpFDYj5gDf+AdyNfeo6guNoxa18Xv3QzrDCEmDTQS8OuQ1FPeC2R8sQgkNEze3s23B3YgCNB1y49GYQ7wH5Ng2PlR/UpwTDO9jfELQPsOVoKSrUghLLJmh4rJU2hLOWPXW91gCbDi1CipNAxf9iPKUeTLWeffXXcgNsOVqKGb40CcZTEFJfmh4JmaxqPOBChVom0ThABSrUQuMBV6JAS1a59Ob0OQ8J+MsYP0MUMDgwOL5JE5ZINy6XI95JLIstbpohMQWbDnqR8iZpq/1vB3xYalq6dPHXS5Ztzv4xl/K1UyBPJIr8mOZT7NtwNzYFDrmNCabawvmV6Jo2fqMBBd8GIJCMaH7cJpKmU0Z8k7GlaUVu1ixdAIBT19n6/mZ0Xefl6tWUTvfk7ugzR0Mo6mk6ZUgivlXY3OGmFblpqluDkLFQTvNM5f6DPvyBAFIKtn3wrjXEiSSEm4hvlYzt7faN/3LtBmfa2gGY7imho6sbgJbvz3Lu/AVriP40CEWNjB8slsp3OTGcGgPD/mTZdE8xnXEAgP7+QQzDoKDAYjklIIZ5VpI60cZVV28fu7/+gVeqnmP5wieTAB23YwArX1hO/Ws17Ny1l1udd6wH7Dfhu8Bi2wAAd+71sfvYOcpKitA1jalTHqOzqweAGeVePt61l47bNown9I9pWORPprrv+ei+50PXNc6cv8iIPzYlXx755lGHAimUJHaZeGSFwxH+vNExka4puYhocYA5Y+sK8gxerywHp4YyNNA1lFMDZ+r4UAqenjMr1UmBDEaQIxFkIIz0R3CMhHG3DUAgnAlgyIAG6jqIqgw4p8bzLy23dMI7u9La0cOHgSwABaJHIjhuOcJkyS2OaGjFrYT7hxi7GwYjaMduQDDzRAzNcBOa6SZUWsBgTz+uwQiFD4IU3s9660KOZPFeEwpX4Wex03DzV1+geDujUXcUTgcgOrq48/B6hlbGrg1tV28CUPGbj+qPrthwO65ZjnY63loUW1FRczvgz2g0wwHr8iB+lEdXlhP8qRbPkmJmmmEeJ8LiMi+Ly7x4187j5slahqvKrY1rQJHYAOlXsncO7QCxNWuHeCSUJx/zmZJksdIEgYejpyivvQ/tfqYvozRbu8CtjSsSLDEFwzvI01dnvQnHIyFO+3GcHT243YdCUiVyGC/rEr+ppN7fEEQ4a4GerB3HTMeE5BImFc4qft44lAkAsKeuF1OtnxSIAhFlnnyVK29cTi+e2MMkR3bkVJHw84S+gssNGWkis7VnT10vgfCLoHZiIztySgPm6q0scJRmMw7/9XGaKxKGUJQ52il0NHL1zd/HG94aIKFcz/M7UQc/BnUK5TCFohunOIFHfZK+0MbTvx9ltLez/h/sAAAAAElFTkSuQmCC) **TODO!**"
   ]
  },
  {
   "cell_type": "markdown",
   "metadata": {},
   "source": [
    "Affichez le nombre de pokémons."
   ]
  },
  {
   "cell_type": "code",
   "execution_count": 17,
   "metadata": {},
   "outputs": [
    {
     "name": "stdout",
     "output_type": "stream",
     "text": [
      "[Row(count=721)]\n"
     ]
    }
   ],
   "source": [
    "# code moi steupléé 🥺"
   ]
  },
  {
   "cell_type": "markdown",
   "metadata": {},
   "source": [
    "#### ![programming(3).png](data:image/png;base64,iVBORw0KGgoAAAANSUhEUgAAACAAAAAgCAYAAABzenr0AAAABHNCSVQICAgIfAhkiAAAAAlwSFlzAAAA3QAAAN0BcFOiBwAAABl0RVh0U29mdHdhcmUAd3d3Lmlua3NjYXBlLm9yZ5vuPBoAAAR7SURBVFiFtZdvaFVlHMc/z3PPuefuz825XWV3m5mWU1MLSVEyRoqKk2iLWBCT2uyFpTSIoCCHL0SDXkgUavhKCU3EpGmlorYSShtWig6M1M25gVPb3da2e6/3z3l6cf9u996d42pfOC/O8+/3+f2e5/f8EUopbKnplEHEtwpFDYj5gDf+AdyNfeo6guNoxa18Xv3QzrDCEmDTQS8OuQ1FPeC2R8sQgkNEze3s23B3YgCNB1y49GYQ7wH5Ng2PlR/UpwTDO9jfELQPsOVoKSrUghLLJmh4rJU2hLOWPXW91gCbDi1CipNAxf9iPKUeTLWeffXXcgNsOVqKGb40CcZTEFJfmh4JmaxqPOBChVom0ThABSrUQuMBV6JAS1a59Ob0OQ8J+MsYP0MUMDgwOL5JE5ZINy6XI95JLIstbpohMQWbDnqR8iZpq/1vB3xYalq6dPHXS5Ztzv4xl/K1UyBPJIr8mOZT7NtwNzYFDrmNCabawvmV6Jo2fqMBBd8GIJCMaH7cJpKmU0Z8k7GlaUVu1ixdAIBT19n6/mZ0Xefl6tWUTvfk7ugzR0Mo6mk6ZUgivlXY3OGmFblpqluDkLFQTvNM5f6DPvyBAFIKtn3wrjXEiSSEm4hvlYzt7faN/3LtBmfa2gGY7imho6sbgJbvz3Lu/AVriP40CEWNjB8slsp3OTGcGgPD/mTZdE8xnXEAgP7+QQzDoKDAYjklIIZ5VpI60cZVV28fu7/+gVeqnmP5wieTAB23YwArX1hO/Ws17Ny1l1udd6wH7Dfhu8Bi2wAAd+71sfvYOcpKitA1jalTHqOzqweAGeVePt61l47bNown9I9pWORPprrv+ei+50PXNc6cv8iIPzYlXx755lGHAimUJHaZeGSFwxH+vNExka4puYhocYA5Y+sK8gxerywHp4YyNNA1lFMDZ+r4UAqenjMr1UmBDEaQIxFkIIz0R3CMhHG3DUAgnAlgyIAG6jqIqgw4p8bzLy23dMI7u9La0cOHgSwABaJHIjhuOcJkyS2OaGjFrYT7hxi7GwYjaMduQDDzRAzNcBOa6SZUWsBgTz+uwQiFD4IU3s9660KOZPFeEwpX4Wex03DzV1+geDujUXcUTgcgOrq48/B6hlbGrg1tV28CUPGbj+qPrthwO65ZjnY63loUW1FRczvgz2g0wwHr8iB+lEdXlhP8qRbPkmJmmmEeJ8LiMi+Ly7x4187j5slahqvKrY1rQJHYAOlXsncO7QCxNWuHeCSUJx/zmZJksdIEgYejpyivvQ/tfqYvozRbu8CtjSsSLDEFwzvI01dnvQnHIyFO+3GcHT243YdCUiVyGC/rEr+ppN7fEEQ4a4GerB3HTMeE5BImFc4qft44lAkAsKeuF1OtnxSIAhFlnnyVK29cTi+e2MMkR3bkVJHw84S+gssNGWkis7VnT10vgfCLoHZiIztySgPm6q0scJRmMw7/9XGaKxKGUJQ52il0NHL1zd/HG94aIKFcz/M7UQc/BnUK5TCFohunOIFHfZK+0MbTvx9ltLez/h/sAAAAAElFTkSuQmCC) **TODO!**"
   ]
  },
  {
   "cell_type": "markdown",
   "metadata": {},
   "source": [
    "Créer un index sur les couleurs."
   ]
  },
  {
   "cell_type": "code",
   "execution_count": null,
   "metadata": {},
   "outputs": [],
   "source": [
    "# code moi steupléé 🥺"
   ]
  },
  {
   "cell_type": "markdown",
   "metadata": {},
   "source": [
    "#### ![programming(3).png](data:image/png;base64,iVBORw0KGgoAAAANSUhEUgAAACAAAAAgCAYAAABzenr0AAAABHNCSVQICAgIfAhkiAAAAAlwSFlzAAAA3QAAAN0BcFOiBwAAABl0RVh0U29mdHdhcmUAd3d3Lmlua3NjYXBlLm9yZ5vuPBoAAAR7SURBVFiFtZdvaFVlHMc/z3PPuefuz825XWV3m5mWU1MLSVEyRoqKk2iLWBCT2uyFpTSIoCCHL0SDXkgUavhKCU3EpGmlorYSShtWig6M1M25gVPb3da2e6/3z3l6cf9u996d42pfOC/O8+/3+f2e5/f8EUopbKnplEHEtwpFDYj5gDf+AdyNfeo6guNoxa18Xv3QzrDCEmDTQS8OuQ1FPeC2R8sQgkNEze3s23B3YgCNB1y49GYQ7wH5Ng2PlR/UpwTDO9jfELQPsOVoKSrUghLLJmh4rJU2hLOWPXW91gCbDi1CipNAxf9iPKUeTLWeffXXcgNsOVqKGb40CcZTEFJfmh4JmaxqPOBChVom0ThABSrUQuMBV6JAS1a59Ob0OQ8J+MsYP0MUMDgwOL5JE5ZINy6XI95JLIstbpohMQWbDnqR8iZpq/1vB3xYalq6dPHXS5Ztzv4xl/K1UyBPJIr8mOZT7NtwNzYFDrmNCabawvmV6Jo2fqMBBd8GIJCMaH7cJpKmU0Z8k7GlaUVu1ixdAIBT19n6/mZ0Xefl6tWUTvfk7ugzR0Mo6mk6ZUgivlXY3OGmFblpqluDkLFQTvNM5f6DPvyBAFIKtn3wrjXEiSSEm4hvlYzt7faN/3LtBmfa2gGY7imho6sbgJbvz3Lu/AVriP40CEWNjB8slsp3OTGcGgPD/mTZdE8xnXEAgP7+QQzDoKDAYjklIIZ5VpI60cZVV28fu7/+gVeqnmP5wieTAB23YwArX1hO/Ws17Ny1l1udd6wH7Dfhu8Bi2wAAd+71sfvYOcpKitA1jalTHqOzqweAGeVePt61l47bNown9I9pWORPprrv+ei+50PXNc6cv8iIPzYlXx755lGHAimUJHaZeGSFwxH+vNExka4puYhocYA5Y+sK8gxerywHp4YyNNA1lFMDZ+r4UAqenjMr1UmBDEaQIxFkIIz0R3CMhHG3DUAgnAlgyIAG6jqIqgw4p8bzLy23dMI7u9La0cOHgSwABaJHIjhuOcJkyS2OaGjFrYT7hxi7GwYjaMduQDDzRAzNcBOa6SZUWsBgTz+uwQiFD4IU3s9660KOZPFeEwpX4Wex03DzV1+geDujUXcUTgcgOrq48/B6hlbGrg1tV28CUPGbj+qPrthwO65ZjnY63loUW1FRczvgz2g0wwHr8iB+lEdXlhP8qRbPkmJmmmEeJ8LiMi+Ly7x4187j5slahqvKrY1rQJHYAOlXsncO7QCxNWuHeCSUJx/zmZJksdIEgYejpyivvQ/tfqYvozRbu8CtjSsSLDEFwzvI01dnvQnHIyFO+3GcHT243YdCUiVyGC/rEr+ppN7fEEQ4a4GerB3HTMeE5BImFc4qft44lAkAsKeuF1OtnxSIAhFlnnyVK29cTi+e2MMkR3bkVJHw84S+gssNGWkis7VnT10vgfCLoHZiIztySgPm6q0scJRmMw7/9XGaKxKGUJQ52il0NHL1zd/HG94aIKFcz/M7UQc/BnUK5TCFohunOIFHfZK+0MbTvx9ltLez/h/sAAAAAElFTkSuQmCC) **TODO!**"
   ]
  },
  {
   "cell_type": "markdown",
   "metadata": {},
   "source": [
    "Affichez les index de la table."
   ]
  },
  {
   "cell_type": "code",
   "execution_count": null,
   "metadata": {},
   "outputs": [],
   "source": [
    "# code moi steupléé 🥺"
   ]
  },
  {
   "cell_type": "markdown",
   "metadata": {},
   "source": [
    "#### ![programming(3).png](data:image/png;base64,iVBORw0KGgoAAAANSUhEUgAAACAAAAAgCAYAAABzenr0AAAABHNCSVQICAgIfAhkiAAAAAlwSFlzAAAA3QAAAN0BcFOiBwAAABl0RVh0U29mdHdhcmUAd3d3Lmlua3NjYXBlLm9yZ5vuPBoAAAR7SURBVFiFtZdvaFVlHMc/z3PPuefuz825XWV3m5mWU1MLSVEyRoqKk2iLWBCT2uyFpTSIoCCHL0SDXkgUavhKCU3EpGmlorYSShtWig6M1M25gVPb3da2e6/3z3l6cf9u996d42pfOC/O8+/3+f2e5/f8EUopbKnplEHEtwpFDYj5gDf+AdyNfeo6guNoxa18Xv3QzrDCEmDTQS8OuQ1FPeC2R8sQgkNEze3s23B3YgCNB1y49GYQ7wH5Ng2PlR/UpwTDO9jfELQPsOVoKSrUghLLJmh4rJU2hLOWPXW91gCbDi1CipNAxf9iPKUeTLWeffXXcgNsOVqKGb40CcZTEFJfmh4JmaxqPOBChVom0ThABSrUQuMBV6JAS1a59Ob0OQ8J+MsYP0MUMDgwOL5JE5ZINy6XI95JLIstbpohMQWbDnqR8iZpq/1vB3xYalq6dPHXS5Ztzv4xl/K1UyBPJIr8mOZT7NtwNzYFDrmNCabawvmV6Jo2fqMBBd8GIJCMaH7cJpKmU0Z8k7GlaUVu1ixdAIBT19n6/mZ0Xefl6tWUTvfk7ugzR0Mo6mk6ZUgivlXY3OGmFblpqluDkLFQTvNM5f6DPvyBAFIKtn3wrjXEiSSEm4hvlYzt7faN/3LtBmfa2gGY7imho6sbgJbvz3Lu/AVriP40CEWNjB8slsp3OTGcGgPD/mTZdE8xnXEAgP7+QQzDoKDAYjklIIZ5VpI60cZVV28fu7/+gVeqnmP5wieTAB23YwArX1hO/Ws17Ny1l1udd6wH7Dfhu8Bi2wAAd+71sfvYOcpKitA1jalTHqOzqweAGeVePt61l47bNown9I9pWORPprrv+ei+50PXNc6cv8iIPzYlXx755lGHAimUJHaZeGSFwxH+vNExka4puYhocYA5Y+sK8gxerywHp4YyNNA1lFMDZ+r4UAqenjMr1UmBDEaQIxFkIIz0R3CMhHG3DUAgnAlgyIAG6jqIqgw4p8bzLy23dMI7u9La0cOHgSwABaJHIjhuOcJkyS2OaGjFrYT7hxi7GwYjaMduQDDzRAzNcBOa6SZUWsBgTz+uwQiFD4IU3s9660KOZPFeEwpX4Wex03DzV1+geDujUXcUTgcgOrq48/B6hlbGrg1tV28CUPGbj+qPrthwO65ZjnY63loUW1FRczvgz2g0wwHr8iB+lEdXlhP8qRbPkmJmmmEeJ8LiMi+Ly7x4187j5slahqvKrY1rQJHYAOlXsncO7QCxNWuHeCSUJx/zmZJksdIEgYejpyivvQ/tfqYvozRbu8CtjSsSLDEFwzvI01dnvQnHIyFO+3GcHT243YdCUiVyGC/rEr+ppN7fEEQ4a4GerB3HTMeE5BImFc4qft44lAkAsKeuF1OtnxSIAhFlnnyVK29cTi+e2MMkR3bkVJHw84S+gssNGWkis7VnT10vgfCLoHZiIztySgPm6q0scJRmMw7/9XGaKxKGUJQ52il0NHL1zd/HG94aIKFcz/M7UQc/BnUK5TCFohunOIFHfZK+0MbTvx9ltLez/h/sAAAAAElFTkSuQmCC) **TODO!**"
   ]
  },
  {
   "cell_type": "markdown",
   "metadata": {},
   "source": [
    "Utilisez cet index pour récupérer les noms de tous les pokémons violets."
   ]
  },
  {
   "cell_type": "code",
   "execution_count": null,
   "metadata": {},
   "outputs": [],
   "source": [
    "# code moi steupléé 🥺\n"
   ]
  },
  {
   "cell_type": "markdown",
   "metadata": {},
   "source": [
    "#### ![programming(3).png](data:image/png;base64,iVBORw0KGgoAAAANSUhEUgAAACAAAAAgCAYAAABzenr0AAAABHNCSVQICAgIfAhkiAAAAAlwSFlzAAAA3QAAAN0BcFOiBwAAABl0RVh0U29mdHdhcmUAd3d3Lmlua3NjYXBlLm9yZ5vuPBoAAAR7SURBVFiFtZdvaFVlHMc/z3PPuefuz825XWV3m5mWU1MLSVEyRoqKk2iLWBCT2uyFpTSIoCCHL0SDXkgUavhKCU3EpGmlorYSShtWig6M1M25gVPb3da2e6/3z3l6cf9u996d42pfOC/O8+/3+f2e5/f8EUopbKnplEHEtwpFDYj5gDf+AdyNfeo6guNoxa18Xv3QzrDCEmDTQS8OuQ1FPeC2R8sQgkNEze3s23B3YgCNB1y49GYQ7wH5Ng2PlR/UpwTDO9jfELQPsOVoKSrUghLLJmh4rJU2hLOWPXW91gCbDi1CipNAxf9iPKUeTLWeffXXcgNsOVqKGb40CcZTEFJfmh4JmaxqPOBChVom0ThABSrUQuMBV6JAS1a59Ob0OQ8J+MsYP0MUMDgwOL5JE5ZINy6XI95JLIstbpohMQWbDnqR8iZpq/1vB3xYalq6dPHXS5Ztzv4xl/K1UyBPJIr8mOZT7NtwNzYFDrmNCabawvmV6Jo2fqMBBd8GIJCMaH7cJpKmU0Z8k7GlaUVu1ixdAIBT19n6/mZ0Xefl6tWUTvfk7ugzR0Mo6mk6ZUgivlXY3OGmFblpqluDkLFQTvNM5f6DPvyBAFIKtn3wrjXEiSSEm4hvlYzt7faN/3LtBmfa2gGY7imho6sbgJbvz3Lu/AVriP40CEWNjB8slsp3OTGcGgPD/mTZdE8xnXEAgP7+QQzDoKDAYjklIIZ5VpI60cZVV28fu7/+gVeqnmP5wieTAB23YwArX1hO/Ws17Ny1l1udd6wH7Dfhu8Bi2wAAd+71sfvYOcpKitA1jalTHqOzqweAGeVePt61l47bNown9I9pWORPprrv+ei+50PXNc6cv8iIPzYlXx755lGHAimUJHaZeGSFwxH+vNExka4puYhocYA5Y+sK8gxerywHp4YyNNA1lFMDZ+r4UAqenjMr1UmBDEaQIxFkIIz0R3CMhHG3DUAgnAlgyIAG6jqIqgw4p8bzLy23dMI7u9La0cOHgSwABaJHIjhuOcJkyS2OaGjFrYT7hxi7GwYjaMduQDDzRAzNcBOa6SZUWsBgTz+uwQiFD4IU3s9660KOZPFeEwpX4Wex03DzV1+geDujUXcUTgcgOrq48/B6hlbGrg1tV28CUPGbj+qPrthwO65ZjnY63loUW1FRczvgz2g0wwHr8iB+lEdXlhP8qRbPkmJmmmEeJ8LiMi+Ly7x4187j5slahqvKrY1rQJHYAOlXsncO7QCxNWuHeCSUJx/zmZJksdIEgYejpyivvQ/tfqYvozRbu8CtjSsSLDEFwzvI01dnvQnHIyFO+3GcHT243YdCUiVyGC/rEr+ppN7fEEQ4a4GerB3HTMeE5BImFc4qft44lAkAsKeuF1OtnxSIAhFlnnyVK29cTi+e2MMkR3bkVJHw84S+gssNGWkis7VnT10vgfCLoHZiIztySgPm6q0scJRmMw7/9XGaKxKGUJQ52il0NHL1zd/HG94aIKFcz/M7UQc/BnUK5TCFohunOIFHfZK+0MbTvx9ltLez/h/sAAAAAElFTkSuQmCC) **TODO!**"
   ]
  },
  {
   "cell_type": "markdown",
   "metadata": {},
   "source": [
    "Vérifiez quel index une requête va utiliser avec `EXPLAIN` et `ANALYZE`.\n",
    "\n",
    "Astuce :\n",
    "- L'explication officielle d'EXPLAIN : https://www.cockroachlabs.com/docs/v24.2/explain\n"
   ]
  },
  {
   "cell_type": "code",
   "execution_count": null,
   "metadata": {},
   "outputs": [],
   "source": [
    "# code moi steupléé 🥺"
   ]
  },
  {
   "cell_type": "markdown",
   "metadata": {},
   "source": [
    "#### ![programming(3).png](data:image/png;base64,iVBORw0KGgoAAAANSUhEUgAAACAAAAAgCAYAAABzenr0AAAABHNCSVQICAgIfAhkiAAAAAlwSFlzAAAA3QAAAN0BcFOiBwAAABl0RVh0U29mdHdhcmUAd3d3Lmlua3NjYXBlLm9yZ5vuPBoAAAR7SURBVFiFtZdvaFVlHMc/z3PPuefuz825XWV3m5mWU1MLSVEyRoqKk2iLWBCT2uyFpTSIoCCHL0SDXkgUavhKCU3EpGmlorYSShtWig6M1M25gVPb3da2e6/3z3l6cf9u996d42pfOC/O8+/3+f2e5/f8EUopbKnplEHEtwpFDYj5gDf+AdyNfeo6guNoxa18Xv3QzrDCEmDTQS8OuQ1FPeC2R8sQgkNEze3s23B3YgCNB1y49GYQ7wH5Ng2PlR/UpwTDO9jfELQPsOVoKSrUghLLJmh4rJU2hLOWPXW91gCbDi1CipNAxf9iPKUeTLWeffXXcgNsOVqKGb40CcZTEFJfmh4JmaxqPOBChVom0ThABSrUQuMBV6JAS1a59Ob0OQ8J+MsYP0MUMDgwOL5JE5ZINy6XI95JLIstbpohMQWbDnqR8iZpq/1vB3xYalq6dPHXS5Ztzv4xl/K1UyBPJIr8mOZT7NtwNzYFDrmNCabawvmV6Jo2fqMBBd8GIJCMaH7cJpKmU0Z8k7GlaUVu1ixdAIBT19n6/mZ0Xefl6tWUTvfk7ugzR0Mo6mk6ZUgivlXY3OGmFblpqluDkLFQTvNM5f6DPvyBAFIKtn3wrjXEiSSEm4hvlYzt7faN/3LtBmfa2gGY7imho6sbgJbvz3Lu/AVriP40CEWNjB8slsp3OTGcGgPD/mTZdE8xnXEAgP7+QQzDoKDAYjklIIZ5VpI60cZVV28fu7/+gVeqnmP5wieTAB23YwArX1hO/Ws17Ny1l1udd6wH7Dfhu8Bi2wAAd+71sfvYOcpKitA1jalTHqOzqweAGeVePt61l47bNown9I9pWORPprrv+ei+50PXNc6cv8iIPzYlXx755lGHAimUJHaZeGSFwxH+vNExka4puYhocYA5Y+sK8gxerywHp4YyNNA1lFMDZ+r4UAqenjMr1UmBDEaQIxFkIIz0R3CMhHG3DUAgnAlgyIAG6jqIqgw4p8bzLy23dMI7u9La0cOHgSwABaJHIjhuOcJkyS2OaGjFrYT7hxi7GwYjaMduQDDzRAzNcBOa6SZUWsBgTz+uwQiFD4IU3s9660KOZPFeEwpX4Wex03DzV1+geDujUXcUTgcgOrq48/B6hlbGrg1tV28CUPGbj+qPrthwO65ZjnY63loUW1FRczvgz2g0wwHr8iB+lEdXlhP8qRbPkmJmmmEeJ8LiMi+Ly7x4187j5slahqvKrY1rQJHYAOlXsncO7QCxNWuHeCSUJx/zmZJksdIEgYejpyivvQ/tfqYvozRbu8CtjSsSLDEFwzvI01dnvQnHIyFO+3GcHT243YdCUiVyGC/rEr+ppN7fEEQ4a4GerB3HTMeE5BImFc4qft44lAkAsKeuF1OtnxSIAhFlnnyVK29cTi+e2MMkR3bkVJHw84S+gssNGWkis7VnT10vgfCLoHZiIztySgPm6q0scJRmMw7/9XGaKxKGUJQ52il0NHL1zd/HG94aIKFcz/M7UQc/BnUK5TCFohunOIFHfZK+0MbTvx9ltLez/h/sAAAAAElFTkSuQmCC) **TODO!**"
   ]
  },
  {
   "cell_type": "markdown",
   "metadata": {},
   "source": [
    "Comparez une requête contenant `EXPLAIN`et `ANALYZE` sur une requête avec et sans un index.\n",
    "\n",
    "Que constatez-vous ?"
   ]
  },
  {
   "cell_type": "code",
   "execution_count": null,
   "metadata": {},
   "outputs": [],
   "source": [
    "# code moi steupléé 🥺"
   ]
  },
  {
   "cell_type": "markdown",
   "metadata": {},
   "source": [
    "#### ![programming(3).png](data:image/png;base64,iVBORw0KGgoAAAANSUhEUgAAACAAAAAgCAYAAABzenr0AAAABHNCSVQICAgIfAhkiAAAAAlwSFlzAAAA3QAAAN0BcFOiBwAAABl0RVh0U29mdHdhcmUAd3d3Lmlua3NjYXBlLm9yZ5vuPBoAAAR7SURBVFiFtZdvaFVlHMc/z3PPuefuz825XWV3m5mWU1MLSVEyRoqKk2iLWBCT2uyFpTSIoCCHL0SDXkgUavhKCU3EpGmlorYSShtWig6M1M25gVPb3da2e6/3z3l6cf9u996d42pfOC/O8+/3+f2e5/f8EUopbKnplEHEtwpFDYj5gDf+AdyNfeo6guNoxa18Xv3QzrDCEmDTQS8OuQ1FPeC2R8sQgkNEze3s23B3YgCNB1y49GYQ7wH5Ng2PlR/UpwTDO9jfELQPsOVoKSrUghLLJmh4rJU2hLOWPXW91gCbDi1CipNAxf9iPKUeTLWeffXXcgNsOVqKGb40CcZTEFJfmh4JmaxqPOBChVom0ThABSrUQuMBV6JAS1a59Ob0OQ8J+MsYP0MUMDgwOL5JE5ZINy6XI95JLIstbpohMQWbDnqR8iZpq/1vB3xYalq6dPHXS5Ztzv4xl/K1UyBPJIr8mOZT7NtwNzYFDrmNCabawvmV6Jo2fqMBBd8GIJCMaH7cJpKmU0Z8k7GlaUVu1ixdAIBT19n6/mZ0Xefl6tWUTvfk7ugzR0Mo6mk6ZUgivlXY3OGmFblpqluDkLFQTvNM5f6DPvyBAFIKtn3wrjXEiSSEm4hvlYzt7faN/3LtBmfa2gGY7imho6sbgJbvz3Lu/AVriP40CEWNjB8slsp3OTGcGgPD/mTZdE8xnXEAgP7+QQzDoKDAYjklIIZ5VpI60cZVV28fu7/+gVeqnmP5wieTAB23YwArX1hO/Ws17Ny1l1udd6wH7Dfhu8Bi2wAAd+71sfvYOcpKitA1jalTHqOzqweAGeVePt61l47bNown9I9pWORPprrv+ei+50PXNc6cv8iIPzYlXx755lGHAimUJHaZeGSFwxH+vNExka4puYhocYA5Y+sK8gxerywHp4YyNNA1lFMDZ+r4UAqenjMr1UmBDEaQIxFkIIz0R3CMhHG3DUAgnAlgyIAG6jqIqgw4p8bzLy23dMI7u9La0cOHgSwABaJHIjhuOcJkyS2OaGjFrYT7hxi7GwYjaMduQDDzRAzNcBOa6SZUWsBgTz+uwQiFD4IU3s9660KOZPFeEwpX4Wex03DzV1+geDujUXcUTgcgOrq48/B6hlbGrg1tV28CUPGbj+qPrthwO65ZjnY63loUW1FRczvgz2g0wwHr8iB+lEdXlhP8qRbPkmJmmmEeJ8LiMi+Ly7x4187j5slahqvKrY1rQJHYAOlXsncO7QCxNWuHeCSUJx/zmZJksdIEgYejpyivvQ/tfqYvozRbu8CtjSsSLDEFwzvI01dnvQnHIyFO+3GcHT243YdCUiVyGC/rEr+ppN7fEEQ4a4GerB3HTMeE5BImFc4qft44lAkAsKeuF1OtnxSIAhFlnnyVK29cTi+e2MMkR3bkVJHw84S+gssNGWkis7VnT10vgfCLoHZiIztySgPm6q0scJRmMw7/9XGaKxKGUJQ52il0NHL1zd/HG94aIKFcz/M7UQc/BnUK5TCFohunOIFHfZK+0MbTvx9ltLez/h/sAAAAAElFTkSuQmCC) **TODO!**"
   ]
  },
  {
   "cell_type": "markdown",
   "metadata": {},
   "source": [
    "Pour aller plus loin et essayer des transactions.\n",
    "\n",
    "Voici un exercice officiel pour effectuer des transactions distribuées : https://www.cockroachlabs.com/docs/stable/demo-serializable#step-5-run-the-scenario-on-cockroachdb\n",
    "\n",
    "Suivez et faites cet exercice directement dans le terminal."
   ]
  },
  {
   "cell_type": "code",
   "execution_count": 30,
   "metadata": {},
   "outputs": [],
   "source": [
    "# à faire dans le terminal\n"
   ]
  }
 ],
 "metadata": {
  "kernelspec": {
   "display_name": "Python 3",
   "language": "python",
   "name": "python3"
  },
  "language_info": {
   "codemirror_mode": {
    "name": "ipython",
    "version": 3
   },
   "file_extension": ".py",
   "mimetype": "text/x-python",
   "name": "python",
   "nbconvert_exporter": "python",
   "pygments_lexer": "ipython3",
   "version": "3.12.3"
  }
 },
 "nbformat": 4,
 "nbformat_minor": 2
}
