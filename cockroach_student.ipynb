{
 "cells": [
  {
   "cell_type": "markdown",
   "metadata": {},
   "source": [
    "<center>\n",
    "\n",
    "<img src=\"data:image/png;base64,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\" />\n",
    "\n",
    "</center>"
   ]
  },
  {
   "cell_type": "markdown",
   "metadata": {},
   "source": [
    "<h1><center><strong style=\"color: #293358\">Nouvelles Bases de données<br/> BUT 3 - IUT Villetaneuse <br/> CockroachDB</strong></center></h1>\n",
    "\n",
    "<center>\n",
    "<h3 style=\"color: #8b7d6d\"><a href=\"https://gguibon.github.io/\">Gaël Guibon</a></h3>\n",
    "<email>gael.guibon@sorbonne-paris-nord.fr</email>\n",
    "<br/>\n",
    "Year 2025-2026\n",
    "\n",
    "Original Content\n",
    "\n",
    "Licenced under Affero GNU3\n",
    "</center>"
   ]
  },
  {
   "cell_type": "markdown",
   "metadata": {},
   "source": [
    "# <strong style=\"color: #8b7d6d\">Installation</strong>"
   ]
  },
  {
   "cell_type": "code",
   "execution_count": null,
   "metadata": {},
   "outputs": [],
   "source": [
    "! wget https://binaries.cockroachdb.com/cockroach-v24.2.3.linux-amd64.tgz\n",
    "! tar -xvzf cockroach-v24.2.3.linux-amd64.tgz \n",
    "! mkdir -p /usr/local/lib/cockroach\n",
    "! cp -i cockroach-v24.2.3.linux-amd64/lib/libgeos.so /usr/local/lib/cockroach/\n",
    "! cp -i cockroach-v24.2.3.linux-amd64/lib/libgeos_c.so /usr/local/lib/cockroach/"
   ]
  },
  {
   "cell_type": "markdown",
   "metadata": {},
   "source": [
    "micro est une alternative à nano"
   ]
  },
  {
   "cell_type": "code",
   "execution_count": null,
   "metadata": {},
   "outputs": [],
   "source": [
    "# sudo apt install micro ; apt update\n",
    "! sudo micro /etc/profile \n",
    "# ajouter la ligne suivante en fin de fichier (adapter le chemin du dossier)\n",
    "export PATH=\"/home/gael/Documents/cockroach-v24.2.3.linux-amd64:$PATH\""
   ]
  },
  {
   "cell_type": "markdown",
   "metadata": {},
   "source": [
    "Vérifier que la commande `cockroach` est bien trouvée et où elle est prise en compte.\n",
    "\n",
    "Vous verrez une vision d'ensemble de cette commande ici : https://www.cockroachlabs.com/docs/stable/cockroach-commands"
   ]
  },
  {
   "cell_type": "code",
   "execution_count": null,
   "metadata": {},
   "outputs": [],
   "source": [
    "! which cockroach"
   ]
  },
  {
   "cell_type": "markdown",
   "metadata": {},
   "source": [
    "Lancer cockroach DB en node unique, en localhost et en mode insecure (pas besoin de login etc.)"
   ]
  },
  {
   "cell_type": "code",
   "execution_count": null,
   "metadata": {},
   "outputs": [],
   "source": [
    "! cockroach start-single-node --advertise-addr 'localhost' --insecure"
   ]
  },
  {
   "cell_type": "markdown",
   "metadata": {},
   "source": [
    "Ouvrir le navigateur au localhost avec le port 8080 pour voir la joooolie interface graphique !"
   ]
  },
  {
   "cell_type": "code",
   "execution_count": null,
   "metadata": {},
   "outputs": [],
   "source": [
    "! firefox http://localhost:8080"
   ]
  },
  {
   "cell_type": "markdown",
   "metadata": {},
   "source": [
    "# <strong style=\"color: #8b7d6d\">Cockroach SQL en terminal</strong>"
   ]
  },
  {
   "cell_type": "markdown",
   "metadata": {},
   "source": [
    "#### ![programming(3).png](data:image/png;base64,iVBORw0KGgoAAAANSUhEUgAAACAAAAAgCAYAAABzenr0AAAABHNCSVQICAgIfAhkiAAAAAlwSFlzAAAA3QAAAN0BcFOiBwAAABl0RVh0U29mdHdhcmUAd3d3Lmlua3NjYXBlLm9yZ5vuPBoAAAR7SURBVFiFtZdvaFVlHMc/z3PPuefuz825XWV3m5mWU1MLSVEyRoqKk2iLWBCT2uyFpTSIoCCHL0SDXkgUavhKCU3EpGmlorYSShtWig6M1M25gVPb3da2e6/3z3l6cf9u996d42pfOC/O8+/3+f2e5/f8EUopbKnplEHEtwpFDYj5gDf+AdyNfeo6guNoxa18Xv3QzrDCEmDTQS8OuQ1FPeC2R8sQgkNEze3s23B3YgCNB1y49GYQ7wH5Ng2PlR/UpwTDO9jfELQPsOVoKSrUghLLJmh4rJU2hLOWPXW91gCbDi1CipNAxf9iPKUeTLWeffXXcgNsOVqKGb40CcZTEFJfmh4JmaxqPOBChVom0ThABSrUQuMBV6JAS1a59Ob0OQ8J+MsYP0MUMDgwOL5JE5ZINy6XI95JLIstbpohMQWbDnqR8iZpq/1vB3xYalq6dPHXS5Ztzv4xl/K1UyBPJIr8mOZT7NtwNzYFDrmNCabawvmV6Jo2fqMBBd8GIJCMaH7cJpKmU0Z8k7GlaUVu1ixdAIBT19n6/mZ0Xefl6tWUTvfk7ugzR0Mo6mk6ZUgivlXY3OGmFblpqluDkLFQTvNM5f6DPvyBAFIKtn3wrjXEiSSEm4hvlYzt7faN/3LtBmfa2gGY7imho6sbgJbvz3Lu/AVriP40CEWNjB8slsp3OTGcGgPD/mTZdE8xnXEAgP7+QQzDoKDAYjklIIZ5VpI60cZVV28fu7/+gVeqnmP5wieTAB23YwArX1hO/Ws17Ny1l1udd6wH7Dfhu8Bi2wAAd+71sfvYOcpKitA1jalTHqOzqweAGeVePt61l47bNown9I9pWORPprrv+ei+50PXNc6cv8iIPzYlXx755lGHAimUJHaZeGSFwxH+vNExka4puYhocYA5Y+sK8gxerywHp4YyNNA1lFMDZ+r4UAqenjMr1UmBDEaQIxFkIIz0R3CMhHG3DUAgnAlgyIAG6jqIqgw4p8bzLy23dMI7u9La0cOHgSwABaJHIjhuOcJkyS2OaGjFrYT7hxi7GwYjaMduQDDzRAzNcBOa6SZUWsBgTz+uwQiFD4IU3s9660KOZPFeEwpX4Wex03DzV1+geDujUXcUTgcgOrq48/B6hlbGrg1tV28CUPGbj+qPrthwO65ZjnY63loUW1FRczvgz2g0wwHr8iB+lEdXlhP8qRbPkmJmmmEeJ8LiMi+Ly7x4187j5slahqvKrY1rQJHYAOlXsncO7QCxNWuHeCSUJx/zmZJksdIEgYejpyivvQ/tfqYvozRbu8CtjSsSLDEFwzvI01dnvQnHIyFO+3GcHT243YdCUiVyGC/rEr+ppN7fEEQ4a4GerB3HTMeE5BImFc4qft44lAkAsKeuF1OtnxSIAhFlnnyVK29cTi+e2MMkR3bkVJHw84S+gssNGWkis7VnT10vgfCLoHZiIztySgPm6q0scJRmMw7/9XGaKxKGUJQ52il0NHL1zd/HG94aIKFcz/M7UQc/BnUK5TCFohunOIFHfZK+0MbTvx9ltLez/h/sAAAAAElFTkSuQmCC) **TODO!**"
   ]
  },
  {
   "cell_type": "markdown",
   "metadata": {},
   "source": [
    "Suivez le tutoriel disponible ici : https://www.cockroachlabs.com/docs/cockroachcloud/learn-cockroachdb-sql\n",
    "\n",
    "Regardez les différences de CockroachDB résumées ici :\n",
    "https://www.cockroachlabs.com/docs/stable/cockroachdb-in-comparison"
   ]
  },
  {
   "cell_type": "code",
   "execution_count": null,
   "metadata": {},
   "outputs": [],
   "source": [
    "# pour lancer l'invite de commande cockroach dans le terminal : https://www.cockroachlabs.com/docs/stable/cockroach-sql\n",
    "! cockroach sql --insecure"
   ]
  },
  {
   "cell_type": "markdown",
   "metadata": {},
   "source": [
    "# <strong style=\"color: #8b7d6d\">CRUD (Create Read Update Delete) en CockroachDB</strong>"
   ]
  },
  {
   "cell_type": "markdown",
   "metadata": {},
   "source": [
    "Récupérer l'exemple officiel de cockroach en Python. Utilisez git et installez psycopg3 avec ses dépendances avec les commandes suivantes.\n",
    "\n",
    "Psycopg (https://www.psycopg.org/) est un driver postgreSQL en python"
   ]
  },
  {
   "cell_type": "code",
   "execution_count": null,
   "metadata": {},
   "outputs": [],
   "source": [
    "! git clone https://github.com/cockroachdb/example-app-python-psycopg3\n",
    "! pip install --upgrade pip --break-system-packages\n",
    "! pip install \"psycopg[binary,pool]\" --break-system-packages"
   ]
  },
  {
   "cell_type": "markdown",
   "metadata": {},
   "source": [
    "Ici on met l'URL de la base de données dans la variable d'environnement. L'exemple officiel utilise cette valeur String pour se connecter au cluster et exécuter le code."
   ]
  },
  {
   "cell_type": "code",
   "execution_count": null,
   "metadata": {},
   "outputs": [],
   "source": [
    "! export DATABASE_URL=\"postgresql://root@localhost:26257/defaultdb?sslmode=disable\""
   ]
  },
  {
   "cell_type": "code",
   "execution_count": null,
   "metadata": {},
   "outputs": [],
   "source": [
    "! cd example-app-python-psycopg3"
   ]
  },
  {
   "cell_type": "markdown",
   "metadata": {},
   "source": [
    "#### ![programming(3).png](data:image/png;base64,iVBORw0KGgoAAAANSUhEUgAAACAAAAAgCAYAAABzenr0AAAABHNCSVQICAgIfAhkiAAAAAlwSFlzAAAA3QAAAN0BcFOiBwAAABl0RVh0U29mdHdhcmUAd3d3Lmlua3NjYXBlLm9yZ5vuPBoAAAR7SURBVFiFtZdvaFVlHMc/z3PPuefuz825XWV3m5mWU1MLSVEyRoqKk2iLWBCT2uyFpTSIoCCHL0SDXkgUavhKCU3EpGmlorYSShtWig6M1M25gVPb3da2e6/3z3l6cf9u996d42pfOC/O8+/3+f2e5/f8EUopbKnplEHEtwpFDYj5gDf+AdyNfeo6guNoxa18Xv3QzrDCEmDTQS8OuQ1FPeC2R8sQgkNEze3s23B3YgCNB1y49GYQ7wH5Ng2PlR/UpwTDO9jfELQPsOVoKSrUghLLJmh4rJU2hLOWPXW91gCbDi1CipNAxf9iPKUeTLWeffXXcgNsOVqKGb40CcZTEFJfmh4JmaxqPOBChVom0ThABSrUQuMBV6JAS1a59Ob0OQ8J+MsYP0MUMDgwOL5JE5ZINy6XI95JLIstbpohMQWbDnqR8iZpq/1vB3xYalq6dPHXS5Ztzv4xl/K1UyBPJIr8mOZT7NtwNzYFDrmNCabawvmV6Jo2fqMBBd8GIJCMaH7cJpKmU0Z8k7GlaUVu1ixdAIBT19n6/mZ0Xefl6tWUTvfk7ugzR0Mo6mk6ZUgivlXY3OGmFblpqluDkLFQTvNM5f6DPvyBAFIKtn3wrjXEiSSEm4hvlYzt7faN/3LtBmfa2gGY7imho6sbgJbvz3Lu/AVriP40CEWNjB8slsp3OTGcGgPD/mTZdE8xnXEAgP7+QQzDoKDAYjklIIZ5VpI60cZVV28fu7/+gVeqnmP5wieTAB23YwArX1hO/Ws17Ny1l1udd6wH7Dfhu8Bi2wAAd+71sfvYOcpKitA1jalTHqOzqweAGeVePt61l47bNown9I9pWORPprrv+ei+50PXNc6cv8iIPzYlXx755lGHAimUJHaZeGSFwxH+vNExka4puYhocYA5Y+sK8gxerywHp4YyNNA1lFMDZ+r4UAqenjMr1UmBDEaQIxFkIIz0R3CMhHG3DUAgnAlgyIAG6jqIqgw4p8bzLy23dMI7u9La0cOHgSwABaJHIjhuOcJkyS2OaGjFrYT7hxi7GwYjaMduQDDzRAzNcBOa6SZUWsBgTz+uwQiFD4IU3s9660KOZPFeEwpX4Wex03DzV1+geDujUXcUTgcgOrq48/B6hlbGrg1tV28CUPGbj+qPrthwO65ZjnY63loUW1FRczvgz2g0wwHr8iB+lEdXlhP8qRbPkmJmmmEeJ8LiMi+Ly7x4187j5slahqvKrY1rQJHYAOlXsncO7QCxNWuHeCSUJx/zmZJksdIEgYejpyivvQ/tfqYvozRbu8CtjSsSLDEFwzvI01dnvQnHIyFO+3GcHT243YdCUiVyGC/rEr+ppN7fEEQ4a4GerB3HTMeE5BImFc4qft44lAkAsKeuF1OtnxSIAhFlnnyVK29cTi+e2MMkR3bkVJHw84S+gssNGWkis7VnT10vgfCLoHZiIztySgPm6q0scJRmMw7/9XGaKxKGUJQ52il0NHL1zd/HG94aIKFcz/M7UQc/BnUK5TCFohunOIFHfZK+0MbTvx9ltLez/h/sAAAAAElFTkSuQmCC) **TODO!**"
   ]
  },
  {
   "cell_type": "markdown",
   "metadata": {},
   "source": [
    "Lancez le code et examinez le."
   ]
  },
  {
   "cell_type": "code",
   "execution_count": null,
   "metadata": {},
   "outputs": [],
   "source": [
    "! python3 example.py"
   ]
  },
  {
   "cell_type": "markdown",
   "metadata": {},
   "source": [
    "#### ![programming(3).png](data:image/png;base64,iVBORw0KGgoAAAANSUhEUgAAACAAAAAgCAYAAABzenr0AAAABHNCSVQICAgIfAhkiAAAAAlwSFlzAAAA3QAAAN0BcFOiBwAAABl0RVh0U29mdHdhcmUAd3d3Lmlua3NjYXBlLm9yZ5vuPBoAAAR7SURBVFiFtZdvaFVlHMc/z3PPuefuz825XWV3m5mWU1MLSVEyRoqKk2iLWBCT2uyFpTSIoCCHL0SDXkgUavhKCU3EpGmlorYSShtWig6M1M25gVPb3da2e6/3z3l6cf9u996d42pfOC/O8+/3+f2e5/f8EUopbKnplEHEtwpFDYj5gDf+AdyNfeo6guNoxa18Xv3QzrDCEmDTQS8OuQ1FPeC2R8sQgkNEze3s23B3YgCNB1y49GYQ7wH5Ng2PlR/UpwTDO9jfELQPsOVoKSrUghLLJmh4rJU2hLOWPXW91gCbDi1CipNAxf9iPKUeTLWeffXXcgNsOVqKGb40CcZTEFJfmh4JmaxqPOBChVom0ThABSrUQuMBV6JAS1a59Ob0OQ8J+MsYP0MUMDgwOL5JE5ZINy6XI95JLIstbpohMQWbDnqR8iZpq/1vB3xYalq6dPHXS5Ztzv4xl/K1UyBPJIr8mOZT7NtwNzYFDrmNCabawvmV6Jo2fqMBBd8GIJCMaH7cJpKmU0Z8k7GlaUVu1ixdAIBT19n6/mZ0Xefl6tWUTvfk7ugzR0Mo6mk6ZUgivlXY3OGmFblpqluDkLFQTvNM5f6DPvyBAFIKtn3wrjXEiSSEm4hvlYzt7faN/3LtBmfa2gGY7imho6sbgJbvz3Lu/AVriP40CEWNjB8slsp3OTGcGgPD/mTZdE8xnXEAgP7+QQzDoKDAYjklIIZ5VpI60cZVV28fu7/+gVeqnmP5wieTAB23YwArX1hO/Ws17Ny1l1udd6wH7Dfhu8Bi2wAAd+71sfvYOcpKitA1jalTHqOzqweAGeVePt61l47bNown9I9pWORPprrv+ei+50PXNc6cv8iIPzYlXx755lGHAimUJHaZeGSFwxH+vNExka4puYhocYA5Y+sK8gxerywHp4YyNNA1lFMDZ+r4UAqenjMr1UmBDEaQIxFkIIz0R3CMhHG3DUAgnAlgyIAG6jqIqgw4p8bzLy23dMI7u9La0cOHgSwABaJHIjhuOcJkyS2OaGjFrYT7hxi7GwYjaMduQDDzRAzNcBOa6SZUWsBgTz+uwQiFD4IU3s9660KOZPFeEwpX4Wex03DzV1+geDujUXcUTgcgOrq48/B6hlbGrg1tV28CUPGbj+qPrthwO65ZjnY63loUW1FRczvgz2g0wwHr8iB+lEdXlhP8qRbPkmJmmmEeJ8LiMi+Ly7x4187j5slahqvKrY1rQJHYAOlXsncO7QCxNWuHeCSUJx/zmZJksdIEgYejpyivvQ/tfqYvozRbu8CtjSsSLDEFwzvI01dnvQnHIyFO+3GcHT243YdCUiVyGC/rEr+ppN7fEEQ4a4GerB3HTMeE5BImFc4qft44lAkAsKeuF1OtnxSIAhFlnnyVK29cTi+e2MMkR3bkVJHw84S+gssNGWkis7VnT10vgfCLoHZiIztySgPm6q0scJRmMw7/9XGaKxKGUJQ52il0NHL1zd/HG94aIKFcz/M7UQc/BnUK5TCFohunOIFHfZK+0MbTvx9ltLez/h/sAAAAAElFTkSuQmCC) **TODO!**"
   ]
  },
  {
   "cell_type": "markdown",
   "metadata": {},
   "source": [
    "Regardez ~/cockroach-data, qu'y voyez-vous ?"
   ]
  },
  {
   "cell_type": "markdown",
   "metadata": {},
   "source": [
    "#### ![programming(3).png](data:image/png;base64,iVBORw0KGgoAAAANSUhEUgAAACAAAAAgCAYAAABzenr0AAAABHNCSVQICAgIfAhkiAAAAAlwSFlzAAAA3QAAAN0BcFOiBwAAABl0RVh0U29mdHdhcmUAd3d3Lmlua3NjYXBlLm9yZ5vuPBoAAAR7SURBVFiFtZdvaFVlHMc/z3PPuefuz825XWV3m5mWU1MLSVEyRoqKk2iLWBCT2uyFpTSIoCCHL0SDXkgUavhKCU3EpGmlorYSShtWig6M1M25gVPb3da2e6/3z3l6cf9u996d42pfOC/O8+/3+f2e5/f8EUopbKnplEHEtwpFDYj5gDf+AdyNfeo6guNoxa18Xv3QzrDCEmDTQS8OuQ1FPeC2R8sQgkNEze3s23B3YgCNB1y49GYQ7wH5Ng2PlR/UpwTDO9jfELQPsOVoKSrUghLLJmh4rJU2hLOWPXW91gCbDi1CipNAxf9iPKUeTLWeffXXcgNsOVqKGb40CcZTEFJfmh4JmaxqPOBChVom0ThABSrUQuMBV6JAS1a59Ob0OQ8J+MsYP0MUMDgwOL5JE5ZINy6XI95JLIstbpohMQWbDnqR8iZpq/1vB3xYalq6dPHXS5Ztzv4xl/K1UyBPJIr8mOZT7NtwNzYFDrmNCabawvmV6Jo2fqMBBd8GIJCMaH7cJpKmU0Z8k7GlaUVu1ixdAIBT19n6/mZ0Xefl6tWUTvfk7ugzR0Mo6mk6ZUgivlXY3OGmFblpqluDkLFQTvNM5f6DPvyBAFIKtn3wrjXEiSSEm4hvlYzt7faN/3LtBmfa2gGY7imho6sbgJbvz3Lu/AVriP40CEWNjB8slsp3OTGcGgPD/mTZdE8xnXEAgP7+QQzDoKDAYjklIIZ5VpI60cZVV28fu7/+gVeqnmP5wieTAB23YwArX1hO/Ws17Ny1l1udd6wH7Dfhu8Bi2wAAd+71sfvYOcpKitA1jalTHqOzqweAGeVePt61l47bNown9I9pWORPprrv+ei+50PXNc6cv8iIPzYlXx755lGHAimUJHaZeGSFwxH+vNExka4puYhocYA5Y+sK8gxerywHp4YyNNA1lFMDZ+r4UAqenjMr1UmBDEaQIxFkIIz0R3CMhHG3DUAgnAlgyIAG6jqIqgw4p8bzLy23dMI7u9La0cOHgSwABaJHIjhuOcJkyS2OaGjFrYT7hxi7GwYjaMduQDDzRAzNcBOa6SZUWsBgTz+uwQiFD4IU3s9660KOZPFeEwpX4Wex03DzV1+geDujUXcUTgcgOrq48/B6hlbGrg1tV28CUPGbj+qPrthwO65ZjnY63loUW1FRczvgz2g0wwHr8iB+lEdXlhP8qRbPkmJmmmEeJ8LiMi+Ly7x4187j5slahqvKrY1rQJHYAOlXsncO7QCxNWuHeCSUJx/zmZJksdIEgYejpyivvQ/tfqYvozRbu8CtjSsSLDEFwzvI01dnvQnHIyFO+3GcHT243YdCUiVyGC/rEr+ppN7fEEQ4a4GerB3HTMeE5BImFc4qft44lAkAsKeuF1OtnxSIAhFlnnyVK29cTi+e2MMkR3bkVJHw84S+gssNGWkis7VnT10vgfCLoHZiIztySgPm6q0scJRmMw7/9XGaKxKGUJQ52il0NHL1zd/HG94aIKFcz/M7UQc/BnUK5TCFohunOIFHfZK+0MbTvx9ltLez/h/sAAAAAElFTkSuQmCC) **TODO!**"
   ]
  },
  {
   "cell_type": "markdown",
   "metadata": {},
   "source": [
    "Regardez la web interface, qu'y voyez-vous ?"
   ]
  },
  {
   "cell_type": "markdown",
   "metadata": {},
   "source": [
    "Quelques liens utiles :\n",
    "\n",
    "Support de SQL dans CockroachDB : https://www.cockroachlabs.com/docs/stable/sql-feature-support\n",
    "\n",
    "LE lien de référence pour Psycopg 3 : https://www.psycopg.org/psycopg3/docs/basic/index.html\n",
    "\n",
    "Documentation synthétique de POSTGRESQL : https://www.w3schools.com/postgresql/index.php"
   ]
  },
  {
   "cell_type": "code",
   "execution_count": 2,
   "metadata": {},
   "outputs": [
    {
     "name": "stderr",
     "output_type": "stream",
     "text": [
      "/home/gael/.local/lib/python3.12/site-packages/pandas/core/arrays/masked.py:60: UserWarning: Pandas requires version '1.3.6' or newer of 'bottleneck' (version '1.3.5' currently installed).\n",
      "  from pandas.core import (\n"
     ]
    }
   ],
   "source": [
    "import uuid, psycopg, json\n",
    "import pandas as pd\n",
    "from psycopg.errors import SerializationFailure, Error\n",
    "from psycopg.rows import namedtuple_row"
   ]
  },
  {
   "cell_type": "markdown",
   "metadata": {},
   "source": [
    "#### ![programming(3).png](data:image/png;base64,iVBORw0KGgoAAAANSUhEUgAAACAAAAAgCAYAAABzenr0AAAABHNCSVQICAgIfAhkiAAAAAlwSFlzAAAA3QAAAN0BcFOiBwAAABl0RVh0U29mdHdhcmUAd3d3Lmlua3NjYXBlLm9yZ5vuPBoAAAR7SURBVFiFtZdvaFVlHMc/z3PPuefuz825XWV3m5mWU1MLSVEyRoqKk2iLWBCT2uyFpTSIoCCHL0SDXkgUavhKCU3EpGmlorYSShtWig6M1M25gVPb3da2e6/3z3l6cf9u996d42pfOC/O8+/3+f2e5/f8EUopbKnplEHEtwpFDYj5gDf+AdyNfeo6guNoxa18Xv3QzrDCEmDTQS8OuQ1FPeC2R8sQgkNEze3s23B3YgCNB1y49GYQ7wH5Ng2PlR/UpwTDO9jfELQPsOVoKSrUghLLJmh4rJU2hLOWPXW91gCbDi1CipNAxf9iPKUeTLWeffXXcgNsOVqKGb40CcZTEFJfmh4JmaxqPOBChVom0ThABSrUQuMBV6JAS1a59Ob0OQ8J+MsYP0MUMDgwOL5JE5ZINy6XI95JLIstbpohMQWbDnqR8iZpq/1vB3xYalq6dPHXS5Ztzv4xl/K1UyBPJIr8mOZT7NtwNzYFDrmNCabawvmV6Jo2fqMBBd8GIJCMaH7cJpKmU0Z8k7GlaUVu1ixdAIBT19n6/mZ0Xefl6tWUTvfk7ugzR0Mo6mk6ZUgivlXY3OGmFblpqluDkLFQTvNM5f6DPvyBAFIKtn3wrjXEiSSEm4hvlYzt7faN/3LtBmfa2gGY7imho6sbgJbvz3Lu/AVriP40CEWNjB8slsp3OTGcGgPD/mTZdE8xnXEAgP7+QQzDoKDAYjklIIZ5VpI60cZVV28fu7/+gVeqnmP5wieTAB23YwArX1hO/Ws17Ny1l1udd6wH7Dfhu8Bi2wAAd+71sfvYOcpKitA1jalTHqOzqweAGeVePt61l47bNown9I9pWORPprrv+ei+50PXNc6cv8iIPzYlXx755lGHAimUJHaZeGSFwxH+vNExka4puYhocYA5Y+sK8gxerywHp4YyNNA1lFMDZ+r4UAqenjMr1UmBDEaQIxFkIIz0R3CMhHG3DUAgnAlgyIAG6jqIqgw4p8bzLy23dMI7u9La0cOHgSwABaJHIjhuOcJkyS2OaGjFrYT7hxi7GwYjaMduQDDzRAzNcBOa6SZUWsBgTz+uwQiFD4IU3s9660KOZPFeEwpX4Wex03DzV1+geDujUXcUTgcgOrq48/B6hlbGrg1tV28CUPGbj+qPrthwO65ZjnY63loUW1FRczvgz2g0wwHr8iB+lEdXlhP8qRbPkmJmmmEeJ8LiMi+Ly7x4187j5slahqvKrY1rQJHYAOlXsncO7QCxNWuHeCSUJx/zmZJksdIEgYejpyivvQ/tfqYvozRbu8CtjSsSLDEFwzvI01dnvQnHIyFO+3GcHT243YdCUiVyGC/rEr+ppN7fEEQ4a4GerB3HTMeE5BImFc4qft44lAkAsKeuF1OtnxSIAhFlnnyVK29cTi+e2MMkR3bkVJHw84S+gssNGWkis7VnT10vgfCLoHZiIztySgPm6q0scJRmMw7/9XGaKxKGUJQ52il0NHL1zd/HG94aIKFcz/M7UQc/BnUK5TCFohunOIFHfZK+0MbTvx9ltLez/h/sAAAAAElFTkSuQmCC) **TODO!**"
   ]
  },
  {
   "cell_type": "markdown",
   "metadata": {},
   "source": [
    "Ouvrez le fichier JSON dans pandas et affichez le en format String."
   ]
  },
  {
   "cell_type": "code",
   "execution_count": null,
   "metadata": {},
   "outputs": [],
   "source": [
    "# code moi steupléé 🥺"
   ]
  },
  {
   "cell_type": "markdown",
   "metadata": {},
   "source": [
    "#### ![programming(3).png](data:image/png;base64,iVBORw0KGgoAAAANSUhEUgAAACAAAAAgCAYAAABzenr0AAAABHNCSVQICAgIfAhkiAAAAAlwSFlzAAAA3QAAAN0BcFOiBwAAABl0RVh0U29mdHdhcmUAd3d3Lmlua3NjYXBlLm9yZ5vuPBoAAAR7SURBVFiFtZdvaFVlHMc/z3PPuefuz825XWV3m5mWU1MLSVEyRoqKk2iLWBCT2uyFpTSIoCCHL0SDXkgUavhKCU3EpGmlorYSShtWig6M1M25gVPb3da2e6/3z3l6cf9u996d42pfOC/O8+/3+f2e5/f8EUopbKnplEHEtwpFDYj5gDf+AdyNfeo6guNoxa18Xv3QzrDCEmDTQS8OuQ1FPeC2R8sQgkNEze3s23B3YgCNB1y49GYQ7wH5Ng2PlR/UpwTDO9jfELQPsOVoKSrUghLLJmh4rJU2hLOWPXW91gCbDi1CipNAxf9iPKUeTLWeffXXcgNsOVqKGb40CcZTEFJfmh4JmaxqPOBChVom0ThABSrUQuMBV6JAS1a59Ob0OQ8J+MsYP0MUMDgwOL5JE5ZINy6XI95JLIstbpohMQWbDnqR8iZpq/1vB3xYalq6dPHXS5Ztzv4xl/K1UyBPJIr8mOZT7NtwNzYFDrmNCabawvmV6Jo2fqMBBd8GIJCMaH7cJpKmU0Z8k7GlaUVu1ixdAIBT19n6/mZ0Xefl6tWUTvfk7ugzR0Mo6mk6ZUgivlXY3OGmFblpqluDkLFQTvNM5f6DPvyBAFIKtn3wrjXEiSSEm4hvlYzt7faN/3LtBmfa2gGY7imho6sbgJbvz3Lu/AVriP40CEWNjB8slsp3OTGcGgPD/mTZdE8xnXEAgP7+QQzDoKDAYjklIIZ5VpI60cZVV28fu7/+gVeqnmP5wieTAB23YwArX1hO/Ws17Ny1l1udd6wH7Dfhu8Bi2wAAd+71sfvYOcpKitA1jalTHqOzqweAGeVePt61l47bNown9I9pWORPprrv+ei+50PXNc6cv8iIPzYlXx755lGHAimUJHaZeGSFwxH+vNExka4puYhocYA5Y+sK8gxerywHp4YyNNA1lFMDZ+r4UAqenjMr1UmBDEaQIxFkIIz0R3CMhHG3DUAgnAlgyIAG6jqIqgw4p8bzLy23dMI7u9La0cOHgSwABaJHIjhuOcJkyS2OaGjFrYT7hxi7GwYjaMduQDDzRAzNcBOa6SZUWsBgTz+uwQiFD4IU3s9660KOZPFeEwpX4Wex03DzV1+geDujUXcUTgcgOrq48/B6hlbGrg1tV28CUPGbj+qPrthwO65ZjnY63loUW1FRczvgz2g0wwHr8iB+lEdXlhP8qRbPkmJmmmEeJ8LiMi+Ly7x4187j5slahqvKrY1rQJHYAOlXsncO7QCxNWuHeCSUJx/zmZJksdIEgYejpyivvQ/tfqYvozRbu8CtjSsSLDEFwzvI01dnvQnHIyFO+3GcHT243YdCUiVyGC/rEr+ppN7fEEQ4a4GerB3HTMeE5BImFc4qft44lAkAsKeuF1OtnxSIAhFlnnyVK29cTi+e2MMkR3bkVJHw84S+gssNGWkis7VnT10vgfCLoHZiIztySgPm6q0scJRmMw7/9XGaKxKGUJQ52il0NHL1zd/HG94aIKFcz/M7UQc/BnUK5TCFohunOIFHfZK+0MbTvx9ltLez/h/sAAAAAElFTkSuQmCC) **TODO!**"
   ]
  },
  {
   "cell_type": "markdown",
   "metadata": {},
   "source": [
    "Connectez-vous à la base données à partir de son URL. Inspirez-vous de l'exemple initial mais faites le en plus simple, sans accéder aux arguments ni à la variable d'environnement."
   ]
  },
  {
   "cell_type": "code",
   "execution_count": 12,
   "metadata": {},
   "outputs": [],
   "source": [
    "# code moi steupléé 🥺\n"
   ]
  },
  {
   "cell_type": "markdown",
   "metadata": {},
   "source": [
    "#### ![programming(3).png](data:image/png;base64,iVBORw0KGgoAAAANSUhEUgAAACAAAAAgCAYAAABzenr0AAAABHNCSVQICAgIfAhkiAAAAAlwSFlzAAAA3QAAAN0BcFOiBwAAABl0RVh0U29mdHdhcmUAd3d3Lmlua3NjYXBlLm9yZ5vuPBoAAAR7SURBVFiFtZdvaFVlHMc/z3PPuefuz825XWV3m5mWU1MLSVEyRoqKk2iLWBCT2uyFpTSIoCCHL0SDXkgUavhKCU3EpGmlorYSShtWig6M1M25gVPb3da2e6/3z3l6cf9u996d42pfOC/O8+/3+f2e5/f8EUopbKnplEHEtwpFDYj5gDf+AdyNfeo6guNoxa18Xv3QzrDCEmDTQS8OuQ1FPeC2R8sQgkNEze3s23B3YgCNB1y49GYQ7wH5Ng2PlR/UpwTDO9jfELQPsOVoKSrUghLLJmh4rJU2hLOWPXW91gCbDi1CipNAxf9iPKUeTLWeffXXcgNsOVqKGb40CcZTEFJfmh4JmaxqPOBChVom0ThABSrUQuMBV6JAS1a59Ob0OQ8J+MsYP0MUMDgwOL5JE5ZINy6XI95JLIstbpohMQWbDnqR8iZpq/1vB3xYalq6dPHXS5Ztzv4xl/K1UyBPJIr8mOZT7NtwNzYFDrmNCabawvmV6Jo2fqMBBd8GIJCMaH7cJpKmU0Z8k7GlaUVu1ixdAIBT19n6/mZ0Xefl6tWUTvfk7ugzR0Mo6mk6ZUgivlXY3OGmFblpqluDkLFQTvNM5f6DPvyBAFIKtn3wrjXEiSSEm4hvlYzt7faN/3LtBmfa2gGY7imho6sbgJbvz3Lu/AVriP40CEWNjB8slsp3OTGcGgPD/mTZdE8xnXEAgP7+QQzDoKDAYjklIIZ5VpI60cZVV28fu7/+gVeqnmP5wieTAB23YwArX1hO/Ws17Ny1l1udd6wH7Dfhu8Bi2wAAd+71sfvYOcpKitA1jalTHqOzqweAGeVePt61l47bNown9I9pWORPprrv+ei+50PXNc6cv8iIPzYlXx755lGHAimUJHaZeGSFwxH+vNExka4puYhocYA5Y+sK8gxerywHp4YyNNA1lFMDZ+r4UAqenjMr1UmBDEaQIxFkIIz0R3CMhHG3DUAgnAlgyIAG6jqIqgw4p8bzLy23dMI7u9La0cOHgSwABaJHIjhuOcJkyS2OaGjFrYT7hxi7GwYjaMduQDDzRAzNcBOa6SZUWsBgTz+uwQiFD4IU3s9660KOZPFeEwpX4Wex03DzV1+geDujUXcUTgcgOrq48/B6hlbGrg1tV28CUPGbj+qPrthwO65ZjnY63loUW1FRczvgz2g0wwHr8iB+lEdXlhP8qRbPkmJmmmEeJ8LiMi+Ly7x4187j5slahqvKrY1rQJHYAOlXsncO7QCxNWuHeCSUJx/zmZJksdIEgYejpyivvQ/tfqYvozRbu8CtjSsSLDEFwzvI01dnvQnHIyFO+3GcHT243YdCUiVyGC/rEr+ppN7fEEQ4a4GerB3HTMeE5BImFc4qft44lAkAsKeuF1OtnxSIAhFlnnyVK29cTi+e2MMkR3bkVJHw84S+gssNGWkis7VnT10vgfCLoHZiIztySgPm6q0scJRmMw7/9XGaKxKGUJQ52il0NHL1zd/HG94aIKFcz/M7UQc/BnUK5TCFohunOIFHfZK+0MbTvx9ltLez/h/sAAAAAElFTkSuQmCC) **TODO!**"
   ]
  },
  {
   "cell_type": "markdown",
   "metadata": {
    "tags": [
     "parameters"
    ]
   },
   "source": [
    "Créez un cursor à l'aide de la connexion et executez la commande adéquate pour créer une base de données nommée `madb`. Gérer la suppression de la base de données si elle existe déjà.\n",
    "\n",
    "Astuce :\n",
    "- `.execute()` peut vous intéresser"
   ]
  },
  {
   "cell_type": "code",
   "execution_count": null,
   "metadata": {},
   "outputs": [],
   "source": [
    "# code moi steupléé 🥺\n"
   ]
  },
  {
   "cell_type": "markdown",
   "metadata": {},
   "source": [
    "#### ![programming(3).png](data:image/png;base64,iVBORw0KGgoAAAANSUhEUgAAACAAAAAgCAYAAABzenr0AAAABHNCSVQICAgIfAhkiAAAAAlwSFlzAAAA3QAAAN0BcFOiBwAAABl0RVh0U29mdHdhcmUAd3d3Lmlua3NjYXBlLm9yZ5vuPBoAAAR7SURBVFiFtZdvaFVlHMc/z3PPuefuz825XWV3m5mWU1MLSVEyRoqKk2iLWBCT2uyFpTSIoCCHL0SDXkgUavhKCU3EpGmlorYSShtWig6M1M25gVPb3da2e6/3z3l6cf9u996d42pfOC/O8+/3+f2e5/f8EUopbKnplEHEtwpFDYj5gDf+AdyNfeo6guNoxa18Xv3QzrDCEmDTQS8OuQ1FPeC2R8sQgkNEze3s23B3YgCNB1y49GYQ7wH5Ng2PlR/UpwTDO9jfELQPsOVoKSrUghLLJmh4rJU2hLOWPXW91gCbDi1CipNAxf9iPKUeTLWeffXXcgNsOVqKGb40CcZTEFJfmh4JmaxqPOBChVom0ThABSrUQuMBV6JAS1a59Ob0OQ8J+MsYP0MUMDgwOL5JE5ZINy6XI95JLIstbpohMQWbDnqR8iZpq/1vB3xYalq6dPHXS5Ztzv4xl/K1UyBPJIr8mOZT7NtwNzYFDrmNCabawvmV6Jo2fqMBBd8GIJCMaH7cJpKmU0Z8k7GlaUVu1ixdAIBT19n6/mZ0Xefl6tWUTvfk7ugzR0Mo6mk6ZUgivlXY3OGmFblpqluDkLFQTvNM5f6DPvyBAFIKtn3wrjXEiSSEm4hvlYzt7faN/3LtBmfa2gGY7imho6sbgJbvz3Lu/AVriP40CEWNjB8slsp3OTGcGgPD/mTZdE8xnXEAgP7+QQzDoKDAYjklIIZ5VpI60cZVV28fu7/+gVeqnmP5wieTAB23YwArX1hO/Ws17Ny1l1udd6wH7Dfhu8Bi2wAAd+71sfvYOcpKitA1jalTHqOzqweAGeVePt61l47bNown9I9pWORPprrv+ei+50PXNc6cv8iIPzYlXx755lGHAimUJHaZeGSFwxH+vNExka4puYhocYA5Y+sK8gxerywHp4YyNNA1lFMDZ+r4UAqenjMr1UmBDEaQIxFkIIz0R3CMhHG3DUAgnAlgyIAG6jqIqgw4p8bzLy23dMI7u9La0cOHgSwABaJHIjhuOcJkyS2OaGjFrYT7hxi7GwYjaMduQDDzRAzNcBOa6SZUWsBgTz+uwQiFD4IU3s9660KOZPFeEwpX4Wex03DzV1+geDujUXcUTgcgOrq48/B6hlbGrg1tV28CUPGbj+qPrthwO65ZjnY63loUW1FRczvgz2g0wwHr8iB+lEdXlhP8qRbPkmJmmmEeJ8LiMi+Ly7x4187j5slahqvKrY1rQJHYAOlXsncO7QCxNWuHeCSUJx/zmZJksdIEgYejpyivvQ/tfqYvozRbu8CtjSsSLDEFwzvI01dnvQnHIyFO+3GcHT243YdCUiVyGC/rEr+ppN7fEEQ4a4GerB3HTMeE5BImFc4qft44lAkAsKeuF1OtnxSIAhFlnnyVK29cTi+e2MMkR3bkVJHw84S+gssNGWkis7VnT10vgfCLoHZiIztySgPm6q0scJRmMw7/9XGaKxKGUJQ52il0NHL1zd/HG94aIKFcz/M7UQc/BnUK5TCFohunOIFHfZK+0MbTvx9ltLez/h/sAAAAAElFTkSuQmCC) **TODO!**"
   ]
  },
  {
   "cell_type": "markdown",
   "metadata": {},
   "source": [
    "Créez la table `pokemons` avec le bon schéma, dans la base de données `madb`."
   ]
  },
  {
   "cell_type": "code",
   "execution_count": null,
   "metadata": {},
   "outputs": [],
   "source": [
    "# code moi steupléé 🥺\n"
   ]
  },
  {
   "cell_type": "markdown",
   "metadata": {},
   "source": [
    "#### ![programming(3).png](data:image/png;base64,iVBORw0KGgoAAAANSUhEUgAAACAAAAAgCAYAAABzenr0AAAABHNCSVQICAgIfAhkiAAAAAlwSFlzAAAA3QAAAN0BcFOiBwAAABl0RVh0U29mdHdhcmUAd3d3Lmlua3NjYXBlLm9yZ5vuPBoAAAR7SURBVFiFtZdvaFVlHMc/z3PPuefuz825XWV3m5mWU1MLSVEyRoqKk2iLWBCT2uyFpTSIoCCHL0SDXkgUavhKCU3EpGmlorYSShtWig6M1M25gVPb3da2e6/3z3l6cf9u996d42pfOC/O8+/3+f2e5/f8EUopbKnplEHEtwpFDYj5gDf+AdyNfeo6guNoxa18Xv3QzrDCEmDTQS8OuQ1FPeC2R8sQgkNEze3s23B3YgCNB1y49GYQ7wH5Ng2PlR/UpwTDO9jfELQPsOVoKSrUghLLJmh4rJU2hLOWPXW91gCbDi1CipNAxf9iPKUeTLWeffXXcgNsOVqKGb40CcZTEFJfmh4JmaxqPOBChVom0ThABSrUQuMBV6JAS1a59Ob0OQ8J+MsYP0MUMDgwOL5JE5ZINy6XI95JLIstbpohMQWbDnqR8iZpq/1vB3xYalq6dPHXS5Ztzv4xl/K1UyBPJIr8mOZT7NtwNzYFDrmNCabawvmV6Jo2fqMBBd8GIJCMaH7cJpKmU0Z8k7GlaUVu1ixdAIBT19n6/mZ0Xefl6tWUTvfk7ugzR0Mo6mk6ZUgivlXY3OGmFblpqluDkLFQTvNM5f6DPvyBAFIKtn3wrjXEiSSEm4hvlYzt7faN/3LtBmfa2gGY7imho6sbgJbvz3Lu/AVriP40CEWNjB8slsp3OTGcGgPD/mTZdE8xnXEAgP7+QQzDoKDAYjklIIZ5VpI60cZVV28fu7/+gVeqnmP5wieTAB23YwArX1hO/Ws17Ny1l1udd6wH7Dfhu8Bi2wAAd+71sfvYOcpKitA1jalTHqOzqweAGeVePt61l47bNown9I9pWORPprrv+ei+50PXNc6cv8iIPzYlXx755lGHAimUJHaZeGSFwxH+vNExka4puYhocYA5Y+sK8gxerywHp4YyNNA1lFMDZ+r4UAqenjMr1UmBDEaQIxFkIIz0R3CMhHG3DUAgnAlgyIAG6jqIqgw4p8bzLy23dMI7u9La0cOHgSwABaJHIjhuOcJkyS2OaGjFrYT7hxi7GwYjaMduQDDzRAzNcBOa6SZUWsBgTz+uwQiFD4IU3s9660KOZPFeEwpX4Wex03DzV1+geDujUXcUTgcgOrq48/B6hlbGrg1tV28CUPGbj+qPrthwO65ZjnY63loUW1FRczvgz2g0wwHr8iB+lEdXlhP8qRbPkmJmmmEeJ8LiMi+Ly7x4187j5slahqvKrY1rQJHYAOlXsncO7QCxNWuHeCSUJx/zmZJksdIEgYejpyivvQ/tfqYvozRbu8CtjSsSLDEFwzvI01dnvQnHIyFO+3GcHT243YdCUiVyGC/rEr+ppN7fEEQ4a4GerB3HTMeE5BImFc4qft44lAkAsKeuF1OtnxSIAhFlnnyVK29cTi+e2MMkR3bkVJHw84S+gssNGWkis7VnT10vgfCLoHZiIztySgPm6q0scJRmMw7/9XGaKxKGUJQ52il0NHL1zd/HG94aIKFcz/M7UQc/BnUK5TCFohunOIFHfZK+0MbTvx9ltLez/h/sAAAAAElFTkSuQmCC) **TODO!**"
   ]
  },
  {
   "cell_type": "markdown",
   "metadata": {},
   "source": [
    "Rendez-vous dans l'interface graphique et regardez le script de création de la table pokemons.\n",
    "\n",
    "Voyez-vous des différences ?"
   ]
  },
  {
   "cell_type": "code",
   "execution_count": 22,
   "metadata": {},
   "outputs": [
    {
     "name": "stdout",
     "output_type": "stream",
     "text": [
      "Les types ne sont pas les mêmes, avec un type float, int8 et string déjà considéré dans cockroachDB. Il s'agit donc bien d'une correspondance de syntaxe (i.e. un mapping)\n"
     ]
    }
   ],
   "source": [
    "# code moi steupléé 🥺"
   ]
  },
  {
   "cell_type": "markdown",
   "metadata": {},
   "source": [
    "#### ![programming(3).png](data:image/png;base64,iVBORw0KGgoAAAANSUhEUgAAACAAAAAgCAYAAABzenr0AAAABHNCSVQICAgIfAhkiAAAAAlwSFlzAAAA3QAAAN0BcFOiBwAAABl0RVh0U29mdHdhcmUAd3d3Lmlua3NjYXBlLm9yZ5vuPBoAAAR7SURBVFiFtZdvaFVlHMc/z3PPuefuz825XWV3m5mWU1MLSVEyRoqKk2iLWBCT2uyFpTSIoCCHL0SDXkgUavhKCU3EpGmlorYSShtWig6M1M25gVPb3da2e6/3z3l6cf9u996d42pfOC/O8+/3+f2e5/f8EUopbKnplEHEtwpFDYj5gDf+AdyNfeo6guNoxa18Xv3QzrDCEmDTQS8OuQ1FPeC2R8sQgkNEze3s23B3YgCNB1y49GYQ7wH5Ng2PlR/UpwTDO9jfELQPsOVoKSrUghLLJmh4rJU2hLOWPXW91gCbDi1CipNAxf9iPKUeTLWeffXXcgNsOVqKGb40CcZTEFJfmh4JmaxqPOBChVom0ThABSrUQuMBV6JAS1a59Ob0OQ8J+MsYP0MUMDgwOL5JE5ZINy6XI95JLIstbpohMQWbDnqR8iZpq/1vB3xYalq6dPHXS5Ztzv4xl/K1UyBPJIr8mOZT7NtwNzYFDrmNCabawvmV6Jo2fqMBBd8GIJCMaH7cJpKmU0Z8k7GlaUVu1ixdAIBT19n6/mZ0Xefl6tWUTvfk7ugzR0Mo6mk6ZUgivlXY3OGmFblpqluDkLFQTvNM5f6DPvyBAFIKtn3wrjXEiSSEm4hvlYzt7faN/3LtBmfa2gGY7imho6sbgJbvz3Lu/AVriP40CEWNjB8slsp3OTGcGgPD/mTZdE8xnXEAgP7+QQzDoKDAYjklIIZ5VpI60cZVV28fu7/+gVeqnmP5wieTAB23YwArX1hO/Ws17Ny1l1udd6wH7Dfhu8Bi2wAAd+71sfvYOcpKitA1jalTHqOzqweAGeVePt61l47bNown9I9pWORPprrv+ei+50PXNc6cv8iIPzYlXx755lGHAimUJHaZeGSFwxH+vNExka4puYhocYA5Y+sK8gxerywHp4YyNNA1lFMDZ+r4UAqenjMr1UmBDEaQIxFkIIz0R3CMhHG3DUAgnAlgyIAG6jqIqgw4p8bzLy23dMI7u9La0cOHgSwABaJHIjhuOcJkyS2OaGjFrYT7hxi7GwYjaMduQDDzRAzNcBOa6SZUWsBgTz+uwQiFD4IU3s9660KOZPFeEwpX4Wex03DzV1+geDujUXcUTgcgOrq48/B6hlbGrg1tV28CUPGbj+qPrthwO65ZjnY63loUW1FRczvgz2g0wwHr8iB+lEdXlhP8qRbPkmJmmmEeJ8LiMi+Ly7x4187j5slahqvKrY1rQJHYAOlXsncO7QCxNWuHeCSUJx/zmZJksdIEgYejpyivvQ/tfqYvozRbu8CtjSsSLDEFwzvI01dnvQnHIyFO+3GcHT243YdCUiVyGC/rEr+ppN7fEEQ4a4GerB3HTMeE5BImFc4qft44lAkAsKeuF1OtnxSIAhFlnnyVK29cTi+e2MMkR3bkVJHw84S+gssNGWkis7VnT10vgfCLoHZiIztySgPm6q0scJRmMw7/9XGaKxKGUJQ52il0NHL1zd/HG94aIKFcz/M7UQc/BnUK5TCFohunOIFHfZK+0MbTvx9ltLez/h/sAAAAAElFTkSuQmCC) **TODO!**"
   ]
  },
  {
   "cell_type": "markdown",
   "metadata": {},
   "source": [
    "Remplissez la table `pokemons` avec tous les pokémons. Si un pokémon existe déjà, le mettre à jour automatiquement.\n",
    "\n",
    "Astuces :\n",
    "- Une commande spécifique existe pour faire un INSERT ou un UPDATE automatiquement si l'élément existe. Regardez l'exemple initial."
   ]
  },
  {
   "cell_type": "code",
   "execution_count": 15,
   "metadata": {},
   "outputs": [],
   "source": [
    "# code moi steupléé 🥺"
   ]
  },
  {
   "cell_type": "markdown",
   "metadata": {},
   "source": [
    "#### ![programming(3).png](data:image/png;base64,iVBORw0KGgoAAAANSUhEUgAAACAAAAAgCAYAAABzenr0AAAABHNCSVQICAgIfAhkiAAAAAlwSFlzAAAA3QAAAN0BcFOiBwAAABl0RVh0U29mdHdhcmUAd3d3Lmlua3NjYXBlLm9yZ5vuPBoAAAR7SURBVFiFtZdvaFVlHMc/z3PPuefuz825XWV3m5mWU1MLSVEyRoqKk2iLWBCT2uyFpTSIoCCHL0SDXkgUavhKCU3EpGmlorYSShtWig6M1M25gVPb3da2e6/3z3l6cf9u996d42pfOC/O8+/3+f2e5/f8EUopbKnplEHEtwpFDYj5gDf+AdyNfeo6guNoxa18Xv3QzrDCEmDTQS8OuQ1FPeC2R8sQgkNEze3s23B3YgCNB1y49GYQ7wH5Ng2PlR/UpwTDO9jfELQPsOVoKSrUghLLJmh4rJU2hLOWPXW91gCbDi1CipNAxf9iPKUeTLWeffXXcgNsOVqKGb40CcZTEFJfmh4JmaxqPOBChVom0ThABSrUQuMBV6JAS1a59Ob0OQ8J+MsYP0MUMDgwOL5JE5ZINy6XI95JLIstbpohMQWbDnqR8iZpq/1vB3xYalq6dPHXS5Ztzv4xl/K1UyBPJIr8mOZT7NtwNzYFDrmNCabawvmV6Jo2fqMBBd8GIJCMaH7cJpKmU0Z8k7GlaUVu1ixdAIBT19n6/mZ0Xefl6tWUTvfk7ugzR0Mo6mk6ZUgivlXY3OGmFblpqluDkLFQTvNM5f6DPvyBAFIKtn3wrjXEiSSEm4hvlYzt7faN/3LtBmfa2gGY7imho6sbgJbvz3Lu/AVriP40CEWNjB8slsp3OTGcGgPD/mTZdE8xnXEAgP7+QQzDoKDAYjklIIZ5VpI60cZVV28fu7/+gVeqnmP5wieTAB23YwArX1hO/Ws17Ny1l1udd6wH7Dfhu8Bi2wAAd+71sfvYOcpKitA1jalTHqOzqweAGeVePt61l47bNown9I9pWORPprrv+ei+50PXNc6cv8iIPzYlXx755lGHAimUJHaZeGSFwxH+vNExka4puYhocYA5Y+sK8gxerywHp4YyNNA1lFMDZ+r4UAqenjMr1UmBDEaQIxFkIIz0R3CMhHG3DUAgnAlgyIAG6jqIqgw4p8bzLy23dMI7u9La0cOHgSwABaJHIjhuOcJkyS2OaGjFrYT7hxi7GwYjaMduQDDzRAzNcBOa6SZUWsBgTz+uwQiFD4IU3s9660KOZPFeEwpX4Wex03DzV1+geDujUXcUTgcgOrq48/B6hlbGrg1tV28CUPGbj+qPrthwO65ZjnY63loUW1FRczvgz2g0wwHr8iB+lEdXlhP8qRbPkmJmmmEeJ8LiMi+Ly7x4187j5slahqvKrY1rQJHYAOlXsncO7QCxNWuHeCSUJx/zmZJksdIEgYejpyivvQ/tfqYvozRbu8CtjSsSLDEFwzvI01dnvQnHIyFO+3GcHT243YdCUiVyGC/rEr+ppN7fEEQ4a4GerB3HTMeE5BImFc4qft44lAkAsKeuF1OtnxSIAhFlnnyVK29cTi+e2MMkR3bkVJHw84S+gssNGWkis7VnT10vgfCLoHZiIztySgPm6q0scJRmMw7/9XGaKxKGUJQ52il0NHL1zd/HG94aIKFcz/M7UQc/BnUK5TCFohunOIFHfZK+0MbTvx9ltLez/h/sAAAAAElFTkSuQmCC) **TODO!**"
   ]
  },
  {
   "cell_type": "markdown",
   "metadata": {},
   "source": [
    "Selectionnez tous les pokemons et visualisez les. Affichez chaque pokémon un par ligne"
   ]
  },
  {
   "cell_type": "code",
   "execution_count": null,
   "metadata": {},
   "outputs": [],
   "source": [
    "# code moi steupléé 🥺"
   ]
  },
  {
   "cell_type": "markdown",
   "metadata": {},
   "source": [
    "#### ![programming(3).png](data:image/png;base64,iVBORw0KGgoAAAANSUhEUgAAACAAAAAgCAYAAABzenr0AAAABHNCSVQICAgIfAhkiAAAAAlwSFlzAAAA3QAAAN0BcFOiBwAAABl0RVh0U29mdHdhcmUAd3d3Lmlua3NjYXBlLm9yZ5vuPBoAAAR7SURBVFiFtZdvaFVlHMc/z3PPuefuz825XWV3m5mWU1MLSVEyRoqKk2iLWBCT2uyFpTSIoCCHL0SDXkgUavhKCU3EpGmlorYSShtWig6M1M25gVPb3da2e6/3z3l6cf9u996d42pfOC/O8+/3+f2e5/f8EUopbKnplEHEtwpFDYj5gDf+AdyNfeo6guNoxa18Xv3QzrDCEmDTQS8OuQ1FPeC2R8sQgkNEze3s23B3YgCNB1y49GYQ7wH5Ng2PlR/UpwTDO9jfELQPsOVoKSrUghLLJmh4rJU2hLOWPXW91gCbDi1CipNAxf9iPKUeTLWeffXXcgNsOVqKGb40CcZTEFJfmh4JmaxqPOBChVom0ThABSrUQuMBV6JAS1a59Ob0OQ8J+MsYP0MUMDgwOL5JE5ZINy6XI95JLIstbpohMQWbDnqR8iZpq/1vB3xYalq6dPHXS5Ztzv4xl/K1UyBPJIr8mOZT7NtwNzYFDrmNCabawvmV6Jo2fqMBBd8GIJCMaH7cJpKmU0Z8k7GlaUVu1ixdAIBT19n6/mZ0Xefl6tWUTvfk7ugzR0Mo6mk6ZUgivlXY3OGmFblpqluDkLFQTvNM5f6DPvyBAFIKtn3wrjXEiSSEm4hvlYzt7faN/3LtBmfa2gGY7imho6sbgJbvz3Lu/AVriP40CEWNjB8slsp3OTGcGgPD/mTZdE8xnXEAgP7+QQzDoKDAYjklIIZ5VpI60cZVV28fu7/+gVeqnmP5wieTAB23YwArX1hO/Ws17Ny1l1udd6wH7Dfhu8Bi2wAAd+71sfvYOcpKitA1jalTHqOzqweAGeVePt61l47bNown9I9pWORPprrv+ei+50PXNc6cv8iIPzYlXx755lGHAimUJHaZeGSFwxH+vNExka4puYhocYA5Y+sK8gxerywHp4YyNNA1lFMDZ+r4UAqenjMr1UmBDEaQIxFkIIz0R3CMhHG3DUAgnAlgyIAG6jqIqgw4p8bzLy23dMI7u9La0cOHgSwABaJHIjhuOcJkyS2OaGjFrYT7hxi7GwYjaMduQDDzRAzNcBOa6SZUWsBgTz+uwQiFD4IU3s9660KOZPFeEwpX4Wex03DzV1+geDujUXcUTgcgOrq48/B6hlbGrg1tV28CUPGbj+qPrthwO65ZjnY63loUW1FRczvgz2g0wwHr8iB+lEdXlhP8qRbPkmJmmmEeJ8LiMi+Ly7x4187j5slahqvKrY1rQJHYAOlXsncO7QCxNWuHeCSUJx/zmZJksdIEgYejpyivvQ/tfqYvozRbu8CtjSsSLDEFwzvI01dnvQnHIyFO+3GcHT243YdCUiVyGC/rEr+ppN7fEEQ4a4GerB3HTMeE5BImFc4qft44lAkAsKeuF1OtnxSIAhFlnnyVK29cTi+e2MMkR3bkVJHw84S+gssNGWkis7VnT10vgfCLoHZiIztySgPm6q0scJRmMw7/9XGaKxKGUJQ52il0NHL1zd/HG94aIKFcz/M7UQc/BnUK5TCFohunOIFHfZK+0MbTvx9ltLez/h/sAAAAAElFTkSuQmCC) **TODO!**"
   ]
  },
  {
   "cell_type": "markdown",
   "metadata": {},
   "source": [
    "Affichez le nombre de pokémons."
   ]
  },
  {
   "cell_type": "code",
   "execution_count": 17,
   "metadata": {},
   "outputs": [
    {
     "name": "stdout",
     "output_type": "stream",
     "text": [
      "[Row(count=721)]\n"
     ]
    }
   ],
   "source": [
    "# code moi steupléé 🥺"
   ]
  },
  {
   "cell_type": "markdown",
   "metadata": {},
   "source": [
    "#### ![programming(3).png](data:image/png;base64,iVBORw0KGgoAAAANSUhEUgAAACAAAAAgCAYAAABzenr0AAAABHNCSVQICAgIfAhkiAAAAAlwSFlzAAAA3QAAAN0BcFOiBwAAABl0RVh0U29mdHdhcmUAd3d3Lmlua3NjYXBlLm9yZ5vuPBoAAAR7SURBVFiFtZdvaFVlHMc/z3PPuefuz825XWV3m5mWU1MLSVEyRoqKk2iLWBCT2uyFpTSIoCCHL0SDXkgUavhKCU3EpGmlorYSShtWig6M1M25gVPb3da2e6/3z3l6cf9u996d42pfOC/O8+/3+f2e5/f8EUopbKnplEHEtwpFDYj5gDf+AdyNfeo6guNoxa18Xv3QzrDCEmDTQS8OuQ1FPeC2R8sQgkNEze3s23B3YgCNB1y49GYQ7wH5Ng2PlR/UpwTDO9jfELQPsOVoKSrUghLLJmh4rJU2hLOWPXW91gCbDi1CipNAxf9iPKUeTLWeffXXcgNsOVqKGb40CcZTEFJfmh4JmaxqPOBChVom0ThABSrUQuMBV6JAS1a59Ob0OQ8J+MsYP0MUMDgwOL5JE5ZINy6XI95JLIstbpohMQWbDnqR8iZpq/1vB3xYalq6dPHXS5Ztzv4xl/K1UyBPJIr8mOZT7NtwNzYFDrmNCabawvmV6Jo2fqMBBd8GIJCMaH7cJpKmU0Z8k7GlaUVu1ixdAIBT19n6/mZ0Xefl6tWUTvfk7ugzR0Mo6mk6ZUgivlXY3OGmFblpqluDkLFQTvNM5f6DPvyBAFIKtn3wrjXEiSSEm4hvlYzt7faN/3LtBmfa2gGY7imho6sbgJbvz3Lu/AVriP40CEWNjB8slsp3OTGcGgPD/mTZdE8xnXEAgP7+QQzDoKDAYjklIIZ5VpI60cZVV28fu7/+gVeqnmP5wieTAB23YwArX1hO/Ws17Ny1l1udd6wH7Dfhu8Bi2wAAd+71sfvYOcpKitA1jalTHqOzqweAGeVePt61l47bNown9I9pWORPprrv+ei+50PXNc6cv8iIPzYlXx755lGHAimUJHaZeGSFwxH+vNExka4puYhocYA5Y+sK8gxerywHp4YyNNA1lFMDZ+r4UAqenjMr1UmBDEaQIxFkIIz0R3CMhHG3DUAgnAlgyIAG6jqIqgw4p8bzLy23dMI7u9La0cOHgSwABaJHIjhuOcJkyS2OaGjFrYT7hxi7GwYjaMduQDDzRAzNcBOa6SZUWsBgTz+uwQiFD4IU3s9660KOZPFeEwpX4Wex03DzV1+geDujUXcUTgcgOrq48/B6hlbGrg1tV28CUPGbj+qPrthwO65ZjnY63loUW1FRczvgz2g0wwHr8iB+lEdXlhP8qRbPkmJmmmEeJ8LiMi+Ly7x4187j5slahqvKrY1rQJHYAOlXsncO7QCxNWuHeCSUJx/zmZJksdIEgYejpyivvQ/tfqYvozRbu8CtjSsSLDEFwzvI01dnvQnHIyFO+3GcHT243YdCUiVyGC/rEr+ppN7fEEQ4a4GerB3HTMeE5BImFc4qft44lAkAsKeuF1OtnxSIAhFlnnyVK29cTi+e2MMkR3bkVJHw84S+gssNGWkis7VnT10vgfCLoHZiIztySgPm6q0scJRmMw7/9XGaKxKGUJQ52il0NHL1zd/HG94aIKFcz/M7UQc/BnUK5TCFohunOIFHfZK+0MbTvx9ltLez/h/sAAAAAElFTkSuQmCC) **TODO!**"
   ]
  },
  {
   "cell_type": "markdown",
   "metadata": {},
   "source": [
    "Créer un index sur les couleurs."
   ]
  },
  {
   "cell_type": "code",
   "execution_count": null,
   "metadata": {},
   "outputs": [],
   "source": [
    "# code moi steupléé 🥺"
   ]
  },
  {
   "cell_type": "markdown",
   "metadata": {},
   "source": [
    "#### ![programming(3).png](data:image/png;base64,iVBORw0KGgoAAAANSUhEUgAAACAAAAAgCAYAAABzenr0AAAABHNCSVQICAgIfAhkiAAAAAlwSFlzAAAA3QAAAN0BcFOiBwAAABl0RVh0U29mdHdhcmUAd3d3Lmlua3NjYXBlLm9yZ5vuPBoAAAR7SURBVFiFtZdvaFVlHMc/z3PPuefuz825XWV3m5mWU1MLSVEyRoqKk2iLWBCT2uyFpTSIoCCHL0SDXkgUavhKCU3EpGmlorYSShtWig6M1M25gVPb3da2e6/3z3l6cf9u996d42pfOC/O8+/3+f2e5/f8EUopbKnplEHEtwpFDYj5gDf+AdyNfeo6guNoxa18Xv3QzrDCEmDTQS8OuQ1FPeC2R8sQgkNEze3s23B3YgCNB1y49GYQ7wH5Ng2PlR/UpwTDO9jfELQPsOVoKSrUghLLJmh4rJU2hLOWPXW91gCbDi1CipNAxf9iPKUeTLWeffXXcgNsOVqKGb40CcZTEFJfmh4JmaxqPOBChVom0ThABSrUQuMBV6JAS1a59Ob0OQ8J+MsYP0MUMDgwOL5JE5ZINy6XI95JLIstbpohMQWbDnqR8iZpq/1vB3xYalq6dPHXS5Ztzv4xl/K1UyBPJIr8mOZT7NtwNzYFDrmNCabawvmV6Jo2fqMBBd8GIJCMaH7cJpKmU0Z8k7GlaUVu1ixdAIBT19n6/mZ0Xefl6tWUTvfk7ugzR0Mo6mk6ZUgivlXY3OGmFblpqluDkLFQTvNM5f6DPvyBAFIKtn3wrjXEiSSEm4hvlYzt7faN/3LtBmfa2gGY7imho6sbgJbvz3Lu/AVriP40CEWNjB8slsp3OTGcGgPD/mTZdE8xnXEAgP7+QQzDoKDAYjklIIZ5VpI60cZVV28fu7/+gVeqnmP5wieTAB23YwArX1hO/Ws17Ny1l1udd6wH7Dfhu8Bi2wAAd+71sfvYOcpKitA1jalTHqOzqweAGeVePt61l47bNown9I9pWORPprrv+ei+50PXNc6cv8iIPzYlXx755lGHAimUJHaZeGSFwxH+vNExka4puYhocYA5Y+sK8gxerywHp4YyNNA1lFMDZ+r4UAqenjMr1UmBDEaQIxFkIIz0R3CMhHG3DUAgnAlgyIAG6jqIqgw4p8bzLy23dMI7u9La0cOHgSwABaJHIjhuOcJkyS2OaGjFrYT7hxi7GwYjaMduQDDzRAzNcBOa6SZUWsBgTz+uwQiFD4IU3s9660KOZPFeEwpX4Wex03DzV1+geDujUXcUTgcgOrq48/B6hlbGrg1tV28CUPGbj+qPrthwO65ZjnY63loUW1FRczvgz2g0wwHr8iB+lEdXlhP8qRbPkmJmmmEeJ8LiMi+Ly7x4187j5slahqvKrY1rQJHYAOlXsncO7QCxNWuHeCSUJx/zmZJksdIEgYejpyivvQ/tfqYvozRbu8CtjSsSLDEFwzvI01dnvQnHIyFO+3GcHT243YdCUiVyGC/rEr+ppN7fEEQ4a4GerB3HTMeE5BImFc4qft44lAkAsKeuF1OtnxSIAhFlnnyVK29cTi+e2MMkR3bkVJHw84S+gssNGWkis7VnT10vgfCLoHZiIztySgPm6q0scJRmMw7/9XGaKxKGUJQ52il0NHL1zd/HG94aIKFcz/M7UQc/BnUK5TCFohunOIFHfZK+0MbTvx9ltLez/h/sAAAAAElFTkSuQmCC) **TODO!**"
   ]
  },
  {
   "cell_type": "markdown",
   "metadata": {},
   "source": [
    "Affichez les index de la table."
   ]
  },
  {
   "cell_type": "code",
   "execution_count": null,
   "metadata": {},
   "outputs": [],
   "source": [
    "# code moi steupléé 🥺"
   ]
  },
  {
   "cell_type": "markdown",
   "metadata": {},
   "source": [
    "#### ![programming(3).png](data:image/png;base64,iVBORw0KGgoAAAANSUhEUgAAACAAAAAgCAYAAABzenr0AAAABHNCSVQICAgIfAhkiAAAAAlwSFlzAAAA3QAAAN0BcFOiBwAAABl0RVh0U29mdHdhcmUAd3d3Lmlua3NjYXBlLm9yZ5vuPBoAAAR7SURBVFiFtZdvaFVlHMc/z3PPuefuz825XWV3m5mWU1MLSVEyRoqKk2iLWBCT2uyFpTSIoCCHL0SDXkgUavhKCU3EpGmlorYSShtWig6M1M25gVPb3da2e6/3z3l6cf9u996d42pfOC/O8+/3+f2e5/f8EUopbKnplEHEtwpFDYj5gDf+AdyNfeo6guNoxa18Xv3QzrDCEmDTQS8OuQ1FPeC2R8sQgkNEze3s23B3YgCNB1y49GYQ7wH5Ng2PlR/UpwTDO9jfELQPsOVoKSrUghLLJmh4rJU2hLOWPXW91gCbDi1CipNAxf9iPKUeTLWeffXXcgNsOVqKGb40CcZTEFJfmh4JmaxqPOBChVom0ThABSrUQuMBV6JAS1a59Ob0OQ8J+MsYP0MUMDgwOL5JE5ZINy6XI95JLIstbpohMQWbDnqR8iZpq/1vB3xYalq6dPHXS5Ztzv4xl/K1UyBPJIr8mOZT7NtwNzYFDrmNCabawvmV6Jo2fqMBBd8GIJCMaH7cJpKmU0Z8k7GlaUVu1ixdAIBT19n6/mZ0Xefl6tWUTvfk7ugzR0Mo6mk6ZUgivlXY3OGmFblpqluDkLFQTvNM5f6DPvyBAFIKtn3wrjXEiSSEm4hvlYzt7faN/3LtBmfa2gGY7imho6sbgJbvz3Lu/AVriP40CEWNjB8slsp3OTGcGgPD/mTZdE8xnXEAgP7+QQzDoKDAYjklIIZ5VpI60cZVV28fu7/+gVeqnmP5wieTAB23YwArX1hO/Ws17Ny1l1udd6wH7Dfhu8Bi2wAAd+71sfvYOcpKitA1jalTHqOzqweAGeVePt61l47bNown9I9pWORPprrv+ei+50PXNc6cv8iIPzYlXx755lGHAimUJHaZeGSFwxH+vNExka4puYhocYA5Y+sK8gxerywHp4YyNNA1lFMDZ+r4UAqenjMr1UmBDEaQIxFkIIz0R3CMhHG3DUAgnAlgyIAG6jqIqgw4p8bzLy23dMI7u9La0cOHgSwABaJHIjhuOcJkyS2OaGjFrYT7hxi7GwYjaMduQDDzRAzNcBOa6SZUWsBgTz+uwQiFD4IU3s9660KOZPFeEwpX4Wex03DzV1+geDujUXcUTgcgOrq48/B6hlbGrg1tV28CUPGbj+qPrthwO65ZjnY63loUW1FRczvgz2g0wwHr8iB+lEdXlhP8qRbPkmJmmmEeJ8LiMi+Ly7x4187j5slahqvKrY1rQJHYAOlXsncO7QCxNWuHeCSUJx/zmZJksdIEgYejpyivvQ/tfqYvozRbu8CtjSsSLDEFwzvI01dnvQnHIyFO+3GcHT243YdCUiVyGC/rEr+ppN7fEEQ4a4GerB3HTMeE5BImFc4qft44lAkAsKeuF1OtnxSIAhFlnnyVK29cTi+e2MMkR3bkVJHw84S+gssNGWkis7VnT10vgfCLoHZiIztySgPm6q0scJRmMw7/9XGaKxKGUJQ52il0NHL1zd/HG94aIKFcz/M7UQc/BnUK5TCFohunOIFHfZK+0MbTvx9ltLez/h/sAAAAAElFTkSuQmCC) **TODO!**"
   ]
  },
  {
   "cell_type": "markdown",
   "metadata": {},
   "source": [
    "Utilisez cet index pour récupérer les noms de tous les pokémons violets."
   ]
  },
  {
   "cell_type": "code",
   "execution_count": null,
   "metadata": {},
   "outputs": [],
   "source": [
    "# code moi steupléé 🥺\n"
   ]
  },
  {
   "cell_type": "markdown",
   "metadata": {},
   "source": [
    "#### ![programming(3).png](data:image/png;base64,iVBORw0KGgoAAAANSUhEUgAAACAAAAAgCAYAAABzenr0AAAABHNCSVQICAgIfAhkiAAAAAlwSFlzAAAA3QAAAN0BcFOiBwAAABl0RVh0U29mdHdhcmUAd3d3Lmlua3NjYXBlLm9yZ5vuPBoAAAR7SURBVFiFtZdvaFVlHMc/z3PPuefuz825XWV3m5mWU1MLSVEyRoqKk2iLWBCT2uyFpTSIoCCHL0SDXkgUavhKCU3EpGmlorYSShtWig6M1M25gVPb3da2e6/3z3l6cf9u996d42pfOC/O8+/3+f2e5/f8EUopbKnplEHEtwpFDYj5gDf+AdyNfeo6guNoxa18Xv3QzrDCEmDTQS8OuQ1FPeC2R8sQgkNEze3s23B3YgCNB1y49GYQ7wH5Ng2PlR/UpwTDO9jfELQPsOVoKSrUghLLJmh4rJU2hLOWPXW91gCbDi1CipNAxf9iPKUeTLWeffXXcgNsOVqKGb40CcZTEFJfmh4JmaxqPOBChVom0ThABSrUQuMBV6JAS1a59Ob0OQ8J+MsYP0MUMDgwOL5JE5ZINy6XI95JLIstbpohMQWbDnqR8iZpq/1vB3xYalq6dPHXS5Ztzv4xl/K1UyBPJIr8mOZT7NtwNzYFDrmNCabawvmV6Jo2fqMBBd8GIJCMaH7cJpKmU0Z8k7GlaUVu1ixdAIBT19n6/mZ0Xefl6tWUTvfk7ugzR0Mo6mk6ZUgivlXY3OGmFblpqluDkLFQTvNM5f6DPvyBAFIKtn3wrjXEiSSEm4hvlYzt7faN/3LtBmfa2gGY7imho6sbgJbvz3Lu/AVriP40CEWNjB8slsp3OTGcGgPD/mTZdE8xnXEAgP7+QQzDoKDAYjklIIZ5VpI60cZVV28fu7/+gVeqnmP5wieTAB23YwArX1hO/Ws17Ny1l1udd6wH7Dfhu8Bi2wAAd+71sfvYOcpKitA1jalTHqOzqweAGeVePt61l47bNown9I9pWORPprrv+ei+50PXNc6cv8iIPzYlXx755lGHAimUJHaZeGSFwxH+vNExka4puYhocYA5Y+sK8gxerywHp4YyNNA1lFMDZ+r4UAqenjMr1UmBDEaQIxFkIIz0R3CMhHG3DUAgnAlgyIAG6jqIqgw4p8bzLy23dMI7u9La0cOHgSwABaJHIjhuOcJkyS2OaGjFrYT7hxi7GwYjaMduQDDzRAzNcBOa6SZUWsBgTz+uwQiFD4IU3s9660KOZPFeEwpX4Wex03DzV1+geDujUXcUTgcgOrq48/B6hlbGrg1tV28CUPGbj+qPrthwO65ZjnY63loUW1FRczvgz2g0wwHr8iB+lEdXlhP8qRbPkmJmmmEeJ8LiMi+Ly7x4187j5slahqvKrY1rQJHYAOlXsncO7QCxNWuHeCSUJx/zmZJksdIEgYejpyivvQ/tfqYvozRbu8CtjSsSLDEFwzvI01dnvQnHIyFO+3GcHT243YdCUiVyGC/rEr+ppN7fEEQ4a4GerB3HTMeE5BImFc4qft44lAkAsKeuF1OtnxSIAhFlnnyVK29cTi+e2MMkR3bkVJHw84S+gssNGWkis7VnT10vgfCLoHZiIztySgPm6q0scJRmMw7/9XGaKxKGUJQ52il0NHL1zd/HG94aIKFcz/M7UQc/BnUK5TCFohunOIFHfZK+0MbTvx9ltLez/h/sAAAAAElFTkSuQmCC) **TODO!**"
   ]
  },
  {
   "cell_type": "markdown",
   "metadata": {},
   "source": [
    "Vérifiez quel index une requête va utiliser avec `EXPLAIN` et `ANALYZE`.\n",
    "\n",
    "Astuce :\n",
    "- L'explication officielle d'EXPLAIN : https://www.cockroachlabs.com/docs/v24.2/explain\n"
   ]
  },
  {
   "cell_type": "code",
   "execution_count": null,
   "metadata": {},
   "outputs": [],
   "source": [
    "# code moi steupléé 🥺"
   ]
  },
  {
   "cell_type": "markdown",
   "metadata": {},
   "source": [
    "#### ![programming(3).png](data:image/png;base64,iVBORw0KGgoAAAANSUhEUgAAACAAAAAgCAYAAABzenr0AAAABHNCSVQICAgIfAhkiAAAAAlwSFlzAAAA3QAAAN0BcFOiBwAAABl0RVh0U29mdHdhcmUAd3d3Lmlua3NjYXBlLm9yZ5vuPBoAAAR7SURBVFiFtZdvaFVlHMc/z3PPuefuz825XWV3m5mWU1MLSVEyRoqKk2iLWBCT2uyFpTSIoCCHL0SDXkgUavhKCU3EpGmlorYSShtWig6M1M25gVPb3da2e6/3z3l6cf9u996d42pfOC/O8+/3+f2e5/f8EUopbKnplEHEtwpFDYj5gDf+AdyNfeo6guNoxa18Xv3QzrDCEmDTQS8OuQ1FPeC2R8sQgkNEze3s23B3YgCNB1y49GYQ7wH5Ng2PlR/UpwTDO9jfELQPsOVoKSrUghLLJmh4rJU2hLOWPXW91gCbDi1CipNAxf9iPKUeTLWeffXXcgNsOVqKGb40CcZTEFJfmh4JmaxqPOBChVom0ThABSrUQuMBV6JAS1a59Ob0OQ8J+MsYP0MUMDgwOL5JE5ZINy6XI95JLIstbpohMQWbDnqR8iZpq/1vB3xYalq6dPHXS5Ztzv4xl/K1UyBPJIr8mOZT7NtwNzYFDrmNCabawvmV6Jo2fqMBBd8GIJCMaH7cJpKmU0Z8k7GlaUVu1ixdAIBT19n6/mZ0Xefl6tWUTvfk7ugzR0Mo6mk6ZUgivlXY3OGmFblpqluDkLFQTvNM5f6DPvyBAFIKtn3wrjXEiSSEm4hvlYzt7faN/3LtBmfa2gGY7imho6sbgJbvz3Lu/AVriP40CEWNjB8slsp3OTGcGgPD/mTZdE8xnXEAgP7+QQzDoKDAYjklIIZ5VpI60cZVV28fu7/+gVeqnmP5wieTAB23YwArX1hO/Ws17Ny1l1udd6wH7Dfhu8Bi2wAAd+71sfvYOcpKitA1jalTHqOzqweAGeVePt61l47bNown9I9pWORPprrv+ei+50PXNc6cv8iIPzYlXx755lGHAimUJHaZeGSFwxH+vNExka4puYhocYA5Y+sK8gxerywHp4YyNNA1lFMDZ+r4UAqenjMr1UmBDEaQIxFkIIz0R3CMhHG3DUAgnAlgyIAG6jqIqgw4p8bzLy23dMI7u9La0cOHgSwABaJHIjhuOcJkyS2OaGjFrYT7hxi7GwYjaMduQDDzRAzNcBOa6SZUWsBgTz+uwQiFD4IU3s9660KOZPFeEwpX4Wex03DzV1+geDujUXcUTgcgOrq48/B6hlbGrg1tV28CUPGbj+qPrthwO65ZjnY63loUW1FRczvgz2g0wwHr8iB+lEdXlhP8qRbPkmJmmmEeJ8LiMi+Ly7x4187j5slahqvKrY1rQJHYAOlXsncO7QCxNWuHeCSUJx/zmZJksdIEgYejpyivvQ/tfqYvozRbu8CtjSsSLDEFwzvI01dnvQnHIyFO+3GcHT243YdCUiVyGC/rEr+ppN7fEEQ4a4GerB3HTMeE5BImFc4qft44lAkAsKeuF1OtnxSIAhFlnnyVK29cTi+e2MMkR3bkVJHw84S+gssNGWkis7VnT10vgfCLoHZiIztySgPm6q0scJRmMw7/9XGaKxKGUJQ52il0NHL1zd/HG94aIKFcz/M7UQc/BnUK5TCFohunOIFHfZK+0MbTvx9ltLez/h/sAAAAAElFTkSuQmCC) **TODO!**"
   ]
  },
  {
   "cell_type": "markdown",
   "metadata": {},
   "source": [
    "Comparez une requête contenant `EXPLAIN`et `ANALYZE` sur une requête avec et sans un index.\n",
    "\n",
    "Que constatez-vous ?"
   ]
  },
  {
   "cell_type": "code",
   "execution_count": null,
   "metadata": {},
   "outputs": [],
   "source": [
    "# code moi steupléé 🥺"
   ]
  },
  {
   "cell_type": "markdown",
   "metadata": {},
   "source": [
    "#### ![programming(3).png](data:image/png;base64,iVBORw0KGgoAAAANSUhEUgAAACAAAAAgCAYAAABzenr0AAAABHNCSVQICAgIfAhkiAAAAAlwSFlzAAAA3QAAAN0BcFOiBwAAABl0RVh0U29mdHdhcmUAd3d3Lmlua3NjYXBlLm9yZ5vuPBoAAAR7SURBVFiFtZdvaFVlHMc/z3PPuefuz825XWV3m5mWU1MLSVEyRoqKk2iLWBCT2uyFpTSIoCCHL0SDXkgUavhKCU3EpGmlorYSShtWig6M1M25gVPb3da2e6/3z3l6cf9u996d42pfOC/O8+/3+f2e5/f8EUopbKnplEHEtwpFDYj5gDf+AdyNfeo6guNoxa18Xv3QzrDCEmDTQS8OuQ1FPeC2R8sQgkNEze3s23B3YgCNB1y49GYQ7wH5Ng2PlR/UpwTDO9jfELQPsOVoKSrUghLLJmh4rJU2hLOWPXW91gCbDi1CipNAxf9iPKUeTLWeffXXcgNsOVqKGb40CcZTEFJfmh4JmaxqPOBChVom0ThABSrUQuMBV6JAS1a59Ob0OQ8J+MsYP0MUMDgwOL5JE5ZINy6XI95JLIstbpohMQWbDnqR8iZpq/1vB3xYalq6dPHXS5Ztzv4xl/K1UyBPJIr8mOZT7NtwNzYFDrmNCabawvmV6Jo2fqMBBd8GIJCMaH7cJpKmU0Z8k7GlaUVu1ixdAIBT19n6/mZ0Xefl6tWUTvfk7ugzR0Mo6mk6ZUgivlXY3OGmFblpqluDkLFQTvNM5f6DPvyBAFIKtn3wrjXEiSSEm4hvlYzt7faN/3LtBmfa2gGY7imho6sbgJbvz3Lu/AVriP40CEWNjB8slsp3OTGcGgPD/mTZdE8xnXEAgP7+QQzDoKDAYjklIIZ5VpI60cZVV28fu7/+gVeqnmP5wieTAB23YwArX1hO/Ws17Ny1l1udd6wH7Dfhu8Bi2wAAd+71sfvYOcpKitA1jalTHqOzqweAGeVePt61l47bNown9I9pWORPprrv+ei+50PXNc6cv8iIPzYlXx755lGHAimUJHaZeGSFwxH+vNExka4puYhocYA5Y+sK8gxerywHp4YyNNA1lFMDZ+r4UAqenjMr1UmBDEaQIxFkIIz0R3CMhHG3DUAgnAlgyIAG6jqIqgw4p8bzLy23dMI7u9La0cOHgSwABaJHIjhuOcJkyS2OaGjFrYT7hxi7GwYjaMduQDDzRAzNcBOa6SZUWsBgTz+uwQiFD4IU3s9660KOZPFeEwpX4Wex03DzV1+geDujUXcUTgcgOrq48/B6hlbGrg1tV28CUPGbj+qPrthwO65ZjnY63loUW1FRczvgz2g0wwHr8iB+lEdXlhP8qRbPkmJmmmEeJ8LiMi+Ly7x4187j5slahqvKrY1rQJHYAOlXsncO7QCxNWuHeCSUJx/zmZJksdIEgYejpyivvQ/tfqYvozRbu8CtjSsSLDEFwzvI01dnvQnHIyFO+3GcHT243YdCUiVyGC/rEr+ppN7fEEQ4a4GerB3HTMeE5BImFc4qft44lAkAsKeuF1OtnxSIAhFlnnyVK29cTi+e2MMkR3bkVJHw84S+gssNGWkis7VnT10vgfCLoHZiIztySgPm6q0scJRmMw7/9XGaKxKGUJQ52il0NHL1zd/HG94aIKFcz/M7UQc/BnUK5TCFohunOIFHfZK+0MbTvx9ltLez/h/sAAAAAElFTkSuQmCC) **TODO!**"
   ]
  },
  {
   "cell_type": "markdown",
   "metadata": {},
   "source": [
    "Pour aller plus loin et essayer des transactions.\n",
    "\n",
    "Voici un exercice officiel pour effectuer des transactions distribuées : https://www.cockroachlabs.com/docs/stable/demo-serializable#step-5-run-the-scenario-on-cockroachdb\n",
    "\n",
    "Suivez et faites cet exercice directement dans le terminal."
   ]
  },
  {
   "cell_type": "code",
   "execution_count": 30,
   "metadata": {},
   "outputs": [],
   "source": [
    "# à faire dans le terminal\n"
   ]
  }
 ],
 "metadata": {
  "kernelspec": {
   "display_name": "Python 3",
   "language": "python",
   "name": "python3"
  },
  "language_info": {
   "codemirror_mode": {
    "name": "ipython",
    "version": 3
   },
   "file_extension": ".py",
   "mimetype": "text/x-python",
   "name": "python",
   "nbconvert_exporter": "python",
   "pygments_lexer": "ipython3",
   "version": "3.12.3"
  }
 },
 "nbformat": 4,
 "nbformat_minor": 2
}
